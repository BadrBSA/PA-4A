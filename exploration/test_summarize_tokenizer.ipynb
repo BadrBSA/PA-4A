{
 "cells": [
  {
   "cell_type": "markdown",
   "source": [
    "## imports"
   ],
   "metadata": {
    "collapsed": false
   }
  },
  {
   "cell_type": "code",
   "execution_count": 34,
   "outputs": [],
   "source": [
    "import torch\n",
    "from transformers import AutoModelForCausalLM, AutoTokenizer, BitsAndBytesConfig, AutoConfig, TrainingArguments, Trainer,AutoModelForSeq2SeqLM\n",
    "from peft import LoraConfig, PeftModel, PeftConfig\n",
    "from datetime import datetime\n",
    "import os\n"
   ],
   "metadata": {
    "collapsed": false,
    "ExecuteTime": {
     "end_time": "2024-07-14T16:58:19.814132100Z",
     "start_time": "2024-07-14T16:58:19.810769900Z"
    }
   }
  },
  {
   "cell_type": "code",
   "execution_count": 2,
   "outputs": [],
   "source": [
    "device = torch.device(\"cuda\" if torch.cuda.is_available() else \"cpu\")"
   ],
   "metadata": {
    "collapsed": false,
    "ExecuteTime": {
     "end_time": "2024-07-14T16:49:13.685160700Z",
     "start_time": "2024-07-14T16:49:13.677571Z"
    }
   }
  },
  {
   "cell_type": "code",
   "execution_count": 3,
   "outputs": [],
   "source": [
    "quantization_config = BitsAndBytesConfig(\n",
    "        load_in_4bit=True,\n",
    "        bnb_4bit_quant_type=\"nf4\",\n",
    "        bnb_4bit_compute_dtype=\"float16\"\n",
    ")"
   ],
   "metadata": {
    "collapsed": false,
    "ExecuteTime": {
     "end_time": "2024-07-14T16:49:13.686168100Z",
     "start_time": "2024-07-14T16:49:13.680653600Z"
    }
   }
  },
  {
   "cell_type": "code",
   "execution_count": 4,
   "outputs": [
    {
     "data": {
      "text/plain": "Loading checkpoint shards:   0%|          | 0/3 [00:00<?, ?it/s]",
      "application/vnd.jupyter.widget-view+json": {
       "version_major": 2,
       "version_minor": 0,
       "model_id": "959ea30a17e046968b7fdbd91c92d0dd"
      }
     },
     "metadata": {},
     "output_type": "display_data"
    }
   ],
   "source": [
    "base_model = AutoModelForCausalLM.from_pretrained(\"mistralai/Mistral-7B-Instruct-v0.2\", quantization_config=quantization_config, device_map=\"auto\")"
   ],
   "metadata": {
    "collapsed": false,
    "ExecuteTime": {
     "end_time": "2024-07-14T16:49:32.952406200Z",
     "start_time": "2024-07-14T16:49:13.687171100Z"
    }
   }
  },
  {
   "cell_type": "code",
   "execution_count": 5,
   "outputs": [],
   "source": [
    "model = PeftModel.from_pretrained(base_model, \"data/model/first_model\").to(device)"
   ],
   "metadata": {
    "collapsed": false,
    "ExecuteTime": {
     "end_time": "2024-07-14T16:49:33.214456500Z",
     "start_time": "2024-07-14T16:49:32.955916800Z"
    }
   }
  },
  {
   "cell_type": "code",
   "execution_count": 6,
   "outputs": [],
   "source": [
    "tokenizer = AutoTokenizer.from_pretrained(\"mistralai/Mistral-7B-Instruct-v0.2\")\n",
    "tokenizer.pad_token = tokenizer.eos_token"
   ],
   "metadata": {
    "collapsed": false,
    "ExecuteTime": {
     "end_time": "2024-07-14T16:49:33.565442700Z",
     "start_time": "2024-07-14T16:49:33.214456500Z"
    }
   }
  },
  {
   "cell_type": "code",
   "execution_count": 7,
   "outputs": [],
   "source": [
    "#from datasets import load_dataset\n",
    "#dataset = load_dataset(\"pszemraj/booksum-short\")"
   ],
   "metadata": {
    "collapsed": false,
    "ExecuteTime": {
     "end_time": "2024-07-14T16:49:33.575881800Z",
     "start_time": "2024-07-14T16:49:33.566442500Z"
    }
   }
  },
  {
   "cell_type": "code",
   "execution_count": 8,
   "outputs": [],
   "source": [
    "#text = dataset['train']['chapter'][0]"
   ],
   "metadata": {
    "collapsed": false,
    "ExecuteTime": {
     "end_time": "2024-07-14T16:49:33.575881800Z",
     "start_time": "2024-07-14T16:49:33.569346600Z"
    }
   }
  },
  {
   "cell_type": "code",
   "execution_count": 9,
   "outputs": [],
   "source": [
    "# with open(\"data/books/la_guerre_de_la_faille.txt\", \"r\", encoding=\"utf-8\") as f:\n",
    "#     text = f.read()"
   ],
   "metadata": {
    "collapsed": false,
    "ExecuteTime": {
     "end_time": "2024-07-14T16:49:33.577882200Z",
     "start_time": "2024-07-14T16:49:33.573846400Z"
    }
   }
  },
  {
   "cell_type": "code",
   "execution_count": 10,
   "outputs": [],
   "source": [
    "with open(\"data/books/first_chapter\", \"r\", encoding=\"utf-8\") as f:\n",
    "    text = f.read()"
   ],
   "metadata": {
    "collapsed": false,
    "ExecuteTime": {
     "end_time": "2024-07-14T16:49:33.589099200Z",
     "start_time": "2024-07-14T16:49:33.576881300Z"
    }
   }
  },
  {
   "cell_type": "markdown",
   "source": [
    "## Fonctions"
   ],
   "metadata": {
    "collapsed": false
   }
  },
  {
   "cell_type": "code",
   "execution_count": 11,
   "outputs": [],
   "source": [
    "def enlever_inst(contenu):\n",
    "    # Trouver la position de la balise [/INST]\n",
    "    fin_inst = contenu.find('[/INST]')\n",
    "\n",
    "    # Vérifier si la balise [/INST] a été trouvée\n",
    "    if fin_inst != -1:\n",
    "        # Supprimer tout le texte avant et y compris la balise [/INST]\n",
    "        resultat = contenu[fin_inst + len('[/INST]'):]\n",
    "        return resultat\n",
    "    else:\n",
    "        # Si la balise [/INST] n'a pas été trouvée, retourner le contenu original\n",
    "        return contenu\n"
   ],
   "metadata": {
    "collapsed": false,
    "ExecuteTime": {
     "end_time": "2024-07-14T16:49:33.589697800Z",
     "start_time": "2024-07-14T16:49:33.582081600Z"
    }
   }
  },
  {
   "cell_type": "code",
   "execution_count": 12,
   "outputs": [],
   "source": [
    "# Diviser le texte en segments de 500 caractères ou moins\n",
    "# mettre 8000\n",
    "def split_text_into_token_segments(text, token_amount=5000):\n",
    "    segments = []\n",
    "\n",
    "    encoded_text = tokenizer.encode(text=text, return_tensors='pt')\n",
    "\n",
    "    sequence=[]\n",
    "    for tensor in encoded_text[0]:\n",
    "        sequence.append(tensor)\n",
    "\n",
    "        if len(sequence) == token_amount:\n",
    "            segments.append(sequence)\n",
    "            sequence = []\n",
    "\n",
    "    if sequence :\n",
    "        segments.append(sequence)\n",
    "\n",
    "    return segments"
   ],
   "metadata": {
    "collapsed": false,
    "ExecuteTime": {
     "end_time": "2024-07-14T16:49:33.591211100Z",
     "start_time": "2024-07-14T16:49:33.586093900Z"
    }
   }
  },
  {
   "cell_type": "code",
   "execution_count": 13,
   "outputs": [],
   "source": [
    "def summarize_token_segment(segments, instructions = 'make me a summary of the following text: '):\n",
    "\n",
    "    summaries = []\n",
    "    for segment in segments:\n",
    "        text_to_summarize = tokenizer.decode(segment, skip_special_tokens=True)\n",
    "        message = [\n",
    "            {\n",
    "                \"role\":\"user\",\n",
    "                \"content\": f\"{instructions}\"\n",
    "                           f\"{text_to_summarize}\"\n",
    "            }\n",
    "        ]\n",
    "\n",
    "        encodeds = tokenizer.apply_chat_template(message, return_tensors=\"pt\").to(device)\n",
    "\n",
    "        generated_ids = model.generate(encodeds, do_sample=True, max_new_tokens=1000, pad_token_id=tokenizer.pad_token_id)\n",
    "        decoded = tokenizer.batch_decode(generated_ids)\n",
    "\n",
    "        summaries.append([enlever_inst(decoded[0])])\n",
    "\n",
    "    return summaries"
   ],
   "metadata": {
    "collapsed": false,
    "ExecuteTime": {
     "end_time": "2024-07-14T16:49:33.616954800Z",
     "start_time": "2024-07-14T16:49:33.593210400Z"
    }
   }
  },
  {
   "cell_type": "code",
   "execution_count": 14,
   "outputs": [],
   "source": [
    "def group_summaries(summaries):\n",
    "    grouped_summaries = ''.join([item for sublist in summaries for item in sublist])\n",
    "    return split_text_into_token_segments(grouped_summaries)"
   ],
   "metadata": {
    "collapsed": false,
    "ExecuteTime": {
     "end_time": "2024-07-14T16:49:33.617954200Z",
     "start_time": "2024-07-14T16:49:33.599515800Z"
    }
   }
  },
  {
   "cell_type": "code",
   "execution_count": 15,
   "outputs": [],
   "source": [
    "def full_process(text):\n",
    "    token_segments = split_text_into_token_segments(text)\n",
    "    while True:\n",
    "        print(token_segments)\n",
    "        summary = summarize_token_segment(token_segments, 'Your job is to summarize very long texts. Your task is to generate an appropriate summary based on the following given text.')\n",
    "        grouped_summaries = group_summaries(summary)\n",
    "        if len(grouped_summaries) == 1:\n",
    "            return summarize_token_segment(grouped_summaries, 'Your job is to summarize very long texts. Your task is to generate an appropriate summary based on the following given text.')\n",
    "        else:\n",
    "            token_segments = grouped_summaries"
   ],
   "metadata": {
    "collapsed": false,
    "ExecuteTime": {
     "end_time": "2024-07-14T16:49:33.617954200Z",
     "start_time": "2024-07-14T16:49:33.603928600Z"
    }
   }
  },
  {
   "cell_type": "code",
   "execution_count": 16,
   "outputs": [
    {
     "name": "stderr",
     "output_type": "stream",
     "text": [
      "The attention mask is not set and cannot be inferred from input because pad token is same as eos token.As a consequence, you may observe unexpected behavior. Please pass your input's `attention_mask` to obtain reliable results.\n"
     ]
    },
    {
     "name": "stdout",
     "output_type": "stream",
     "text": [
      "[[tensor(1), tensor(16399), tensor(26071), tensor(13), tensor(13), tensor(25898), tensor(12070), tensor(28802), tensor(394), tensor(4104), tensor(393), tensor(6042), tensor(1906), tensor(13), tensor(13), tensor(18590), tensor(28723), tensor(304), tensor(7107), tensor(28723), tensor(384), tensor(1726), tensor(2047), tensor(28725), tensor(302), tensor(1474), tensor(2308), tensor(28725), tensor(15650), tensor(299), tensor(16857), tensor(28725), tensor(654), tensor(9393), tensor(298), tensor(1315), tensor(13), tensor(6087), tensor(590), tensor(654), tensor(9943), tensor(4123), tensor(28725), tensor(6979), tensor(368), tensor(1215), tensor(1188), tensor(28723), tensor(1306), tensor(654), tensor(272), tensor(1432), tensor(13), tensor(21721), tensor(368), tensor(28742), tensor(28715), tensor(1675), tensor(298), tensor(347), tensor(5290), tensor(297), tensor(2424), tensor(8708), tensor(442), tensor(21296), tensor(28725), tensor(13), tensor(20475), tensor(590), tensor(776), tensor(1539), tensor(28742), tensor(28707), tensor(2400), tensor(395), tensor(1259), tensor(27077), tensor(28723), tensor(13), tensor(13), tensor(18590), tensor(28723), tensor(384), tensor(1726), tensor(2047), tensor(403), tensor(272), tensor(6859), tensor(302), tensor(264), tensor(5799), tensor(1987), tensor(1778), tensor(5494), tensor(742), tensor(28725), tensor(690), tensor(1269), tensor(13), tensor(2922), tensor(2767), tensor(28723), tensor(650), tensor(403), tensor(264), tensor(2032), tensor(28725), tensor(21189), tensor(28724), tensor(676), tensor(395), tensor(10768), tensor(707), tensor(7215), tensor(28725), tensor(5432), tensor(400), tensor(863), tensor(13), tensor(15378), tensor(264), tensor(1215), tensor(2475), tensor(1580), tensor(1344), tensor(28723), tensor(7107), tensor(28723), tensor(384), tensor(1726), tensor(2047), tensor(403), tensor(9026), tensor(304), tensor(843), tensor(13985), tensor(304), tensor(553), tensor(13), tensor(485), tensor(1617), tensor(8660), tensor(272), tensor(8434), tensor(3558), tensor(302), tensor(7215), tensor(28725), tensor(690), tensor(1988), tensor(297), tensor(1215), tensor(5857), tensor(390), tensor(630), tensor(13), tensor(886), tensor(308), tensor(579), tensor(1188), tensor(302), tensor(559), tensor(727), tensor(1439), tensor(25388), tensor(754), tensor(8759), tensor(285), tensor(2119), tensor(28725), tensor(668), tensor(2983), tensor(356), tensor(272), tensor(13), tensor(485), tensor(956), tensor(28726), tensor(734), tensor(28723), tensor(415), tensor(384), tensor(1726), tensor(291), tensor(846), tensor(553), tensor(264), tensor(1741), tensor(1966), tensor(1987), tensor(384), tensor(554), tensor(2047), tensor(304), tensor(297), tensor(652), tensor(13), tensor(410), tensor(262), tensor(296), tensor(736), tensor(403), tensor(708), tensor(854), tensor(263), tensor(4531), tensor(9530), tensor(28723), tensor(13), tensor(13), tensor(1014), tensor(384), tensor(1726), tensor(291), tensor(846), tensor(553), tensor(2905), tensor(590), tensor(2613), tensor(28725), tensor(562), tensor(590), tensor(835), tensor(553), tensor(264), tensor(5169), tensor(28725), tensor(304), tensor(13), tensor(1237), tensor(361), tensor(9932), tensor(4813), tensor(403), tensor(369), tensor(12421), tensor(682), tensor(5191), tensor(378), tensor(28723), tensor(1306), tensor(1539), tensor(28742), tensor(28707), tensor(13), tensor(24036), tensor(590), tensor(829), tensor(9135), tensor(378), tensor(513), tensor(3637), tensor(1419), tensor(575), tensor(684), tensor(272), tensor(10650), tensor(1532), tensor(28723), tensor(7107), tensor(28723), tensor(13), tensor(28753), tensor(322), tensor(360), tensor(403), tensor(7107), tensor(28723), tensor(384), tensor(1726), tensor(2047), tensor(28742), tensor(28713), tensor(5668), tensor(28725), tensor(562), tensor(590), tensor(6003), tensor(28742), tensor(28707), tensor(1424), tensor(354), tensor(2856), tensor(1267), tensor(28745), tensor(13), tensor(262), tensor(1639), tensor(28725), tensor(7107), tensor(28723), tensor(384), tensor(1726), tensor(2047), tensor(9525), tensor(2508), tensor(630), tensor(1539), tensor(28742), tensor(28707), tensor(506), tensor(264), tensor(5668), tensor(28725), tensor(1096), tensor(559), tensor(13), tensor(28713), tensor(1330), tensor(304), tensor(559), tensor(1179), tensor(28733), tensor(1392), tensor(28733), tensor(28711), tensor(5182), tensor(5581), tensor(654), tensor(390), tensor(521), tensor(28757), tensor(1726), tensor(2047), tensor(789), tensor(390), tensor(378), tensor(403), tensor(13), tensor(7285), tensor(298), tensor(347), tensor(28723), tensor(415), tensor(384), tensor(1726), tensor(291), tensor(846), tensor(480), tensor(24646), tensor(286), tensor(298), tensor(1073), tensor(767), tensor(272), tensor(17014), tensor(682), tensor(13), tensor(21205), tensor(513), tensor(272), tensor(10650), tensor(1532), tensor(6792), tensor(297), tensor(272), tensor(5948), tensor(28723), tensor(415), tensor(384), tensor(1726), tensor(291), tensor(846), tensor(2580), tensor(369), tensor(272), tensor(13), tensor(28753), tensor(322), tensor(1532), tensor(553), tensor(264), tensor(1741), tensor(1966), tensor(28725), tensor(1368), tensor(28725), tensor(562), tensor(590), tensor(553), tensor(1484), tensor(1019), tensor(2598), tensor(713), tensor(28723), tensor(851), tensor(4531), tensor(13), tensor(9380), tensor(1698), tensor(1179), tensor(2611), tensor(354), tensor(7603), tensor(272), tensor(10650), tensor(1532), tensor(1753), tensor(28745), tensor(590), tensor(1539), tensor(28742), tensor(28707), tensor(947), tensor(13), tensor(28757), tensor(554), tensor(2047), tensor(18942), tensor(395), tensor(264), tensor(1502), tensor(737), tensor(369), tensor(28723), tensor(13), tensor(13), tensor(7477), tensor(2964), tensor(28723), tensor(304), tensor(7107), tensor(28723), tensor(384), tensor(1726), tensor(2047), tensor(19157), tensor(582), tensor(356), tensor(272), tensor(21287), tensor(28725), tensor(11870), tensor(11187), tensor(813), tensor(2838), tensor(13), tensor(2521), tensor(28713), tensor(28725), tensor(736), tensor(403), tensor(2511), tensor(684), tensor(272), tensor(6945), tensor(28724), tensor(7212), tensor(3536), tensor(298), tensor(3397), tensor(369), tensor(13), tensor(1042), tensor(909), tensor(304), tensor(21296), tensor(1722), tensor(682), tensor(3403), tensor(347), tensor(9615), tensor(544), tensor(754), tensor(272), tensor(13), tensor(16912), tensor(28723), tensor(2964), tensor(28723), tensor(384), tensor(1726), tensor(2047), tensor(1997), tensor(1591), tensor(390), tensor(400), tensor(7715), tensor(575), tensor(516), tensor(1080), tensor(19757), tensor(14628), tensor(354), tensor(13), tensor(1328), tensor(28725), tensor(304), tensor(7107), tensor(28723), tensor(384), tensor(1726), tensor(2047), tensor(319), tensor(24634), tensor(286), tensor(1753), tensor(24693), tensor(390), tensor(630), tensor(17619), tensor(1006), tensor(264), tensor(19455), tensor(13), tensor(28757), tensor(554), tensor(2047), tensor(778), tensor(516), tensor(1486), tensor(6225), tensor(28723), tensor(13), tensor(13), tensor(5364), tensor(302), tensor(706), tensor(8295), tensor(264), tensor(2475), tensor(28725), tensor(261), tensor(11646), tensor(28724), tensor(289), tensor(13982), tensor(972), tensor(10112), tensor(2609), tensor(272), tensor(2924), tensor(28723), tensor(13), tensor(13), tensor(3167), tensor(2795), tensor(2609), tensor(5435), tensor(28725), tensor(2964), tensor(28723), tensor(384), tensor(1726), tensor(2047), tensor(7715), tensor(582), tensor(516), tensor(6817), tensor(2210), tensor(28725), tensor(757), tensor(606), tensor(286), tensor(7107), tensor(28723), tensor(13), tensor(28757), tensor(1726), tensor(2047), tensor(356), tensor(272), tensor(10863), tensor(28725), tensor(304), tensor(3851), tensor(298), tensor(8374), tensor(384), tensor(554), tensor(2047), tensor(1179), tensor(28733), tensor(17664), tensor(562), tensor(10012), tensor(28725), tensor(13), tensor(20475), tensor(384), tensor(554), tensor(2047), tensor(403), tensor(1055), tensor(2461), tensor(264), tensor(12222), tensor(434), tensor(383), tensor(304), tensor(15832), tensor(516), tensor(23730), tensor(282), tensor(438), tensor(272), tensor(13), tensor(28727), tensor(6629), tensor(28723), tensor(345), tensor(28758), tensor(1490), tensor(13936), tensor(405), tensor(862), tensor(484), tensor(419), tensor(1006), tensor(2964), tensor(28723), tensor(384), tensor(1726), tensor(2047), tensor(390), tensor(400), tensor(1749), tensor(272), tensor(2134), tensor(28723), tensor(650), tensor(1433), tensor(13), tensor(9635), tensor(516), tensor(1253), tensor(304), tensor(17753), tensor(575), tensor(302), tensor(1474), tensor(2308), tensor(28742), tensor(28713), tensor(5009), tensor(28723), tensor(13), tensor(13), tensor(1313), tensor(403), tensor(356), tensor(272), tensor(6581), tensor(302), tensor(272), tensor(5948), tensor(369), tensor(400), tensor(8295), tensor(272), tensor(907), tensor(1492), tensor(302), tensor(13), tensor(24674), tensor(25876), tensor(1939), tensor(264), tensor(5255), tensor(4865), tensor(264), tensor(3341), tensor(28723), tensor(1263), tensor(264), tensor(1676), tensor(28725), tensor(2964), tensor(28723), tensor(384), tensor(1726), tensor(2047), tensor(13), tensor(18568), tensor(28711), tensor(28742), tensor(28707), tensor(8168), tensor(767), tensor(400), tensor(553), tensor(2598), tensor(1939), tensor(868), tensor(400), tensor(19748), tensor(286), tensor(516), tensor(1335), tensor(1401), tensor(298), tensor(13), tensor(5819), tensor(1076), tensor(28723), tensor(1387), tensor(403), tensor(264), tensor(7683), tensor(1403), tensor(5255), tensor(6328), tensor(356), tensor(272), tensor(6581), tensor(302), tensor(15650), tensor(299), tensor(13), tensor(28757), tensor(6016), tensor(28725), tensor(562), tensor(736), tensor(2723), tensor(28742), tensor(28707), tensor(264), tensor(3341), tensor(297), tensor(7739), tensor(28723), tensor(1824), tensor(829), tensor(400), tensor(506), tensor(750), tensor(4195), tensor(13), tensor(1009), tensor(28804), tensor(661), tensor(1580), tensor(506), tensor(750), tensor(264), tensor(10777), tensor(302), tensor(272), tensor(2061), tensor(28723), tensor(2964), tensor(28723), tensor(384), tensor(1726), tensor(2047), tensor(27800), tensor(304), tensor(13), tensor(303), tensor(1327), tensor(438), tensor(272), tensor(5255), tensor(28723), tensor(661), tensor(10138), tensor(852), tensor(28723), tensor(1136), tensor(2964), tensor(28723), tensor(384), tensor(1726), tensor(2047), tensor(11496), tensor(1401), tensor(272), tensor(13), tensor(4754), tensor(1079), tensor(304), tensor(582), tensor(272), tensor(3878), tensor(28725), tensor(400), tensor(6758), tensor(272), tensor(5255), tensor(297), tensor(516), tensor(12142), tensor(28723), tensor(661), tensor(403), tensor(1055), tensor(13), tensor(923), tensor(288), tensor(272), tensor(1492), tensor(369), tensor(773), tensor(15650), tensor(299), tensor(16857), tensor(1939), tensor(708), tensor(28725), tensor(2526), tensor(438), tensor(272), tensor(1492), tensor(28745), tensor(18097), tensor(13), tensor(25327), tensor(28711), tensor(28742), tensor(28707), tensor(1220), tensor(11745), tensor(442), tensor(10090), tensor(28723), tensor(2964), tensor(28723), tensor(384), tensor(1726), tensor(2047), tensor(3395), tensor(2722), tensor(264), tensor(1628), tensor(17138), tensor(304), tensor(13), tensor(759), tensor(272), tensor(5255), tensor(575), tensor(302), tensor(516), tensor(2273), tensor(28723), tensor(1136), tensor(400), tensor(11496), tensor(4112), tensor(3736), tensor(400), tensor(1654), tensor(302), tensor(13), tensor(28711), tensor(5182), tensor(3741), tensor(264), tensor(2475), tensor(1745), tensor(302), tensor(1605), tensor(2767), tensor(400), tensor(403), tensor(11114), tensor(298), tensor(625), tensor(369), tensor(1370), tensor(28723), tensor(13), tensor(13), tensor(2438), tensor(356), tensor(272), tensor(5358), tensor(302), tensor(3736), tensor(28725), tensor(1605), tensor(2767), tensor(654), tensor(12215), tensor(575), tensor(302), tensor(516), tensor(2273), tensor(486), tensor(1545), tensor(13), tensor(2013), tensor(28723), tensor(1136), tensor(400), tensor(2495), tensor(297), tensor(272), tensor(8434), tensor(3970), tensor(8475), tensor(15219), tensor(28725), tensor(400), tensor(3481), tensor(28742), tensor(28707), tensor(1316), tensor(13), tensor(1478), tensor(9065), tensor(369), tensor(736), tensor(3593), tensor(298), tensor(347), tensor(264), tensor(2055), tensor(302), tensor(26427), tensor(723), tensor(12452), tensor(905), tensor(13), tensor(14146), tensor(28723), tensor(5619), tensor(297), tensor(23390), tensor(9140), tensor(28723), tensor(2964), tensor(28723), tensor(384), tensor(1726), tensor(2047), tensor(3481), tensor(28742), tensor(28707), tensor(9135), tensor(905), tensor(693), tensor(12452), tensor(297), tensor(13), tensor(1755), tensor(1780), tensor(8155), tensor(1939), tensor(272), tensor(625), tensor(9023), tensor(368), tensor(2672), tensor(356), tensor(2518), tensor(905), tensor(28808), tensor(650), tensor(6495), tensor(456), tensor(13), tensor(9380), tensor(741), tensor(8710), tensor(633), tensor(8844), tensor(28723), tensor(650), tensor(16049), tensor(1591), tensor(516), tensor(7856), tensor(356), tensor(272), tensor(2710), tensor(2131), tensor(13), tensor(25952), tensor(304), tensor(516), tensor(2282), tensor(5970), tensor(356), tensor(264), tensor(295), tensor(12370), tensor(291), tensor(302), tensor(1167), tensor(10481), tensor(385), tensor(6328), tensor(3448), tensor(13), tensor(5336), tensor(486), tensor(28723), tensor(1306), tensor(654), tensor(9502), tensor(288), tensor(9534), tensor(346), tensor(2553), tensor(28723), tensor(2964), tensor(28723), tensor(384), tensor(1726), tensor(2047), tensor(403), tensor(13), tensor(269), tensor(28712), tensor(2569), tensor(298), tensor(1032), tensor(369), tensor(264), tensor(4308), tensor(302), tensor(706), tensor(8658), tensor(28742), tensor(28707), tensor(2518), tensor(438), tensor(544), tensor(28745), tensor(2079), tensor(28725), tensor(369), tensor(676), tensor(13), tensor(16449), tensor(298), tensor(347), tensor(6402), tensor(821), tensor(400), tensor(403), tensor(28725), tensor(304), tensor(8192), tensor(396), tensor(5177), tensor(3165), tensor(28733), tensor(13234), tensor(23390), tensor(491), tensor(28808), tensor(415), tensor(13), tensor(1079), tensor(333), tensor(302), tensor(713), tensor(28808), tensor(1092), tensor(868), tensor(378), tensor(11378), tensor(2964), tensor(28723), tensor(384), tensor(1726), tensor(2047), tensor(369), tensor(456), tensor(403), tensor(3049), tensor(741), tensor(13), tensor(28713), tensor(7915), tensor(341), tensor(2794), tensor(1939), tensor(1167), tensor(905), tensor(654), tensor(9589), tensor(22852), tensor(354), tensor(1545), tensor(1101), tensor(13), tensor(9780), tensor(28725), tensor(369), tensor(682), tensor(347), tensor(378), tensor(28723), tensor(415), tensor(8475), tensor(4142), tensor(356), tensor(304), tensor(264), tensor(1664), tensor(3486), tensor(2062), tensor(28725), tensor(2964), tensor(28723), tensor(13), tensor(28757), tensor(1726), tensor(2047), tensor(6792), tensor(297), tensor(272), tensor(1778), tensor(5494), tensor(742), tensor(12128), tensor(2055), tensor(28725), tensor(516), tensor(2273), tensor(852), tensor(356), tensor(1605), tensor(2767), tensor(28723), tensor(13), tensor(13), tensor(18590), tensor(28723), tensor(384), tensor(1726), tensor(2047), tensor(1743), tensor(2495), tensor(395), tensor(516), tensor(852), tensor(298), tensor(272), tensor(2924), tensor(297), tensor(516), tensor(4007), tensor(356), tensor(272), tensor(13), tensor(28711), tensor(18618), tensor(4366), tensor(28723), tensor(1047), tensor(400), tensor(6003), tensor(28742), tensor(28707), tensor(28725), tensor(400), tensor(1659), tensor(506), tensor(1419), tensor(378), tensor(11783), tensor(298), tensor(24539), tensor(13), tensor(266), tensor(1605), tensor(2767), tensor(369), tensor(3970), tensor(28723), tensor(650), tensor(1539), tensor(28742), tensor(28707), tensor(1032), tensor(272), tensor(289), tensor(28727), tensor(4911), tensor(20153), tensor(410), tensor(4155), tensor(2609), tensor(297), tensor(5841), tensor(13), tensor(1466), tensor(3646), tensor(28725), tensor(2070), tensor(905), tensor(1060), tensor(297), tensor(272), tensor(5948), tensor(863), tensor(28745), tensor(590), tensor(8563), tensor(304), tensor(14961), tensor(286), tensor(13), tensor(4124), tensor(28733), tensor(290), tensor(406), tensor(887), tensor(390), tensor(289), tensor(13982), tensor(1024), tensor(289), tensor(13982), tensor(668), tensor(286), tensor(20679), tensor(28723), tensor(4822), tensor(302), tensor(706), tensor(553), tensor(1484), tensor(13), tensor(18226), tensor(396), tensor(289), tensor(13982), tensor(1019), tensor(438), tensor(2125), tensor(1536), tensor(28723), tensor(2964), tensor(28723), tensor(384), tensor(1726), tensor(2047), tensor(28725), tensor(3545), tensor(28725), tensor(553), tensor(264), tensor(9943), tensor(13), tensor(8027), tensor(28725), tensor(289), tensor(13982), tensor(28733), tensor(3669), tensor(3970), tensor(28723), tensor(650), tensor(22884), tensor(438), tensor(3359), tensor(1581), tensor(905), tensor(28723), tensor(650), tensor(1269), tensor(13), tensor(331), tensor(343), tensor(282), tensor(2278), tensor(15429), tensor(6470), tensor(304), tensor(14726), tensor(264), tensor(2286), tensor(680), tensor(28723), tensor(650), tensor(403), tensor(297), tensor(264), tensor(13), tensor(646), tensor(1179), tensor(12247), tensor(1996), tensor(9957), tensor(1536), tensor(28725), tensor(739), tensor(400), tensor(1654), tensor(400), tensor(28742), tensor(28715), tensor(14742), tensor(516), tensor(7969), tensor(13), tensor(391), tensor(2338), tensor(2673), tensor(272), tensor(3878), tensor(298), tensor(3848), tensor(2722), tensor(264), tensor(287), tensor(370), tensor(477), tensor(272), tensor(287), tensor(491), tensor(1193), tensor(28723), tensor(13), tensor(13), tensor(2428), tensor(28742), tensor(28715), tensor(13652), tensor(544), tensor(684), tensor(272), tensor(905), tensor(297), tensor(23390), tensor(9140), tensor(1996), tensor(400), tensor(4568), tensor(264), tensor(2071), tensor(302), tensor(13), tensor(1237), tensor(28719), tensor(1679), tensor(298), tensor(272), tensor(287), tensor(4776), tensor(28742), tensor(28713), tensor(28723), tensor(650), tensor(1746), tensor(286), tensor(706), tensor(396), tensor(820), tensor(1106), tensor(390), tensor(400), tensor(4568), tensor(28723), tensor(650), tensor(1539), tensor(28742), tensor(28707), tensor(13), tensor(19726), tensor(2079), tensor(28725), tensor(562), tensor(590), tensor(1269), tensor(713), tensor(2219), tensor(5826), tensor(28723), tensor(851), tensor(11763), tensor(654), tensor(9502), tensor(288), tensor(13), tensor(25768), tensor(1345), tensor(346), tensor(28725), tensor(1368), tensor(28725), tensor(304), tensor(400), tensor(3481), tensor(28742), tensor(28707), tensor(1032), tensor(264), tensor(2692), tensor(22852), tensor(17089), tensor(28723), tensor(661), tensor(403), tensor(356), tensor(13), tensor(16355), tensor(1069), tensor(852), tensor(2609), tensor(706), tensor(28725), tensor(27883), tensor(288), tensor(264), tensor(2475), tensor(24511), tensor(17964), tensor(297), tensor(264), tensor(6635), tensor(28725), tensor(369), tensor(400), tensor(13), tensor(28717), tensor(4016), tensor(264), tensor(1664), tensor(3085), tensor(302), tensor(767), tensor(590), tensor(654), tensor(3677), tensor(28723), tensor(13), tensor(13), tensor(28739), tensor(1014), tensor(10650), tensor(1532), tensor(28725), tensor(369), tensor(28742), tensor(28713), tensor(1103), tensor(28725), tensor(369), tensor(28742), tensor(28713), tensor(767), tensor(315), tensor(3364), tensor(5081), tensor(28725), tensor(652), tensor(1966), tensor(28725), tensor(9726), tensor(28739), tensor(13), tensor(13), tensor(18590), tensor(28723), tensor(384), tensor(1726), tensor(2047), tensor(5426), tensor(3694), tensor(28723), tensor(401), tensor(644), tensor(2175), tensor(6546), tensor(713), tensor(28723), tensor(650), tensor(2382), tensor(852), tensor(438), tensor(272), tensor(13), tensor(1456), tensor(278), tensor(487), tensor(404), tensor(390), tensor(513), tensor(400), tensor(2613), tensor(298), tensor(1315), tensor(1545), tensor(298), tensor(706), tensor(28725), tensor(562), tensor(1654), tensor(1873), tensor(13), tensor(1009), tensor(378), tensor(28723), tensor(13), tensor(13), tensor(2428), tensor(26108), tensor(852), tensor(2673), tensor(272), tensor(3878), tensor(28725), tensor(21893), tensor(582), tensor(298), tensor(516), tensor(4007), tensor(28725), tensor(18190), tensor(438), tensor(516), tensor(13), tensor(16727), tensor(628), tensor(459), tensor(298), tensor(17199), tensor(713), tensor(28725), tensor(24564), tensor(516), tensor(15429), tensor(28725), tensor(304), tensor(553), tensor(2779), tensor(13), tensor(6159), tensor(14262), tensor(288), tensor(516), tensor(1611), tensor(1474), tensor(739), tensor(400), tensor(4648), tensor(516), tensor(2273), tensor(28723), tensor(650), tensor(1658), tensor(272), tensor(13), tensor(267), tensor(15237), tensor(852), tensor(1060), tensor(304), tensor(14680), tensor(13602), tensor(516), tensor(1580), tensor(1344), tensor(28725), tensor(4195), tensor(1101), tensor(708), tensor(28725), tensor(400), tensor(403), tensor(13), tensor(15823), tensor(8710), tensor(28723), tensor(10650), tensor(360), tensor(2723), tensor(28742), tensor(28707), tensor(1259), tensor(396), tensor(14614), tensor(1141), tensor(28723), tensor(650), tensor(403), tensor(1864), tensor(736), tensor(654), tensor(13), tensor(28714), tensor(1649), tensor(302), tensor(905), tensor(1987), tensor(10650), tensor(360), tensor(693), tensor(553), tensor(264), tensor(1966), tensor(1987), tensor(9726), tensor(28723), tensor(12578), tensor(298), tensor(1073), tensor(13), tensor(1009), tensor(378), tensor(28725), tensor(400), tensor(2723), tensor(28742), tensor(28707), tensor(1019), tensor(1864), tensor(516), tensor(22798), tensor(10345), tensor(403), tensor(1987), tensor(9726), tensor(28723), tensor(650), tensor(28742), tensor(28715), tensor(1484), tensor(1019), tensor(13), tensor(18226), tensor(272), tensor(4531), tensor(28723), tensor(661), tensor(1659), tensor(506), tensor(750), tensor(26101), tensor(28723), tensor(1667), tensor(24315), tensor(28723), tensor(1387), tensor(403), tensor(708), tensor(1305), tensor(13), tensor(262), tensor(27453), tensor(7107), tensor(28723), tensor(384), tensor(1726), tensor(2047), tensor(28745), tensor(630), tensor(1743), tensor(1433), tensor(579), tensor(13265), tensor(438), tensor(707), tensor(4389), tensor(302), tensor(559), tensor(13), tensor(28713), tensor(1330), tensor(28723), tensor(650), tensor(1539), tensor(28742), tensor(28707), tensor(13128), tensor(559), tensor(1939), tensor(513), tensor(400), tensor(28742), tensor(28715), tensor(553), tensor(264), tensor(5668), tensor(737), tensor(369), tensor(1101), tensor(562), tensor(544), tensor(13), tensor(1237), tensor(1348), tensor(28725), tensor(1395), tensor(905), tensor(297), tensor(23390), tensor(9140), tensor(1101), tensor(13), tensor(13), tensor(2428), tensor(1419), tensor(378), tensor(264), tensor(2055), tensor(11783), tensor(298), tensor(24539), tensor(356), tensor(1605), tensor(2767), tensor(369), tensor(8635), tensor(304), tensor(13), tensor(11233), tensor(400), tensor(1749), tensor(272), tensor(3667), tensor(438), tensor(3359), tensor(289), tensor(28742), tensor(10487), tensor(28725), tensor(400), tensor(403), tensor(1309), tensor(579), tensor(10728), tensor(369), tensor(13), tensor(265), tensor(5610), tensor(4855), tensor(778), tensor(2493), tensor(776), tensor(3536), tensor(272), tensor(2251), tensor(28723), tensor(13), tensor(13), tensor(28739), tensor(23166), tensor(862), tensor(400), tensor(847), tensor(15227), tensor(28725), tensor(390), tensor(272), tensor(8887), tensor(1571), tensor(676), tensor(27907), tensor(304), tensor(2779), tensor(5970), tensor(28723), tensor(661), tensor(13), tensor(9380), tensor(264), tensor(1664), tensor(7231), tensor(1159), tensor(2964), tensor(28723), tensor(384), tensor(1726), tensor(2047), tensor(7185), tensor(369), tensor(272), tensor(676), tensor(403), tensor(8192), tensor(264), tensor(13), tensor(28728), tensor(20346), tensor(23390), tensor(491), tensor(28723), tensor(650), tensor(1539), tensor(28742), tensor(28707), tensor(1709), tensor(438), tensor(544), tensor(13265), tensor(438), tensor(1250), tensor(2779), tensor(18625), tensor(298), tensor(272), tensor(13), tensor(2812), tensor(28723), tensor(1418), tensor(272), tensor(19909), tensor(28725), tensor(516), tensor(2105), tensor(7925), tensor(778), tensor(264), tensor(5335), tensor(6458), tensor(304), tensor(400), tensor(773), tensor(297), tensor(13), tensor(28708), tensor(11322), tensor(20996), tensor(3441), tensor(369), tensor(1269), tensor(1455), tensor(404), tensor(1403), tensor(19696), tensor(28725), tensor(345), tensor(6017), tensor(28742), tensor(28707), tensor(347), tensor(7371), tensor(28725), tensor(586), tensor(13095), tensor(10116), tensor(28725), tensor(13), tensor(1392), tensor(2511), tensor(829), tensor(13265), tensor(528), tensor(3154), tensor(28808), tensor(1298), tensor(4881), tensor(535), tensor(28725), tensor(354), tensor(995), tensor(28733), tensor(28796), tensor(3306), tensor(28733), tensor(11447), tensor(659), tensor(4214), tensor(438), tensor(13), tensor(4081), tensor(28808), tensor(4127), tensor(351), tensor(786), tensor(16984), tensor(737), tensor(3936), tensor(1023), tensor(347), tensor(5903), tensor(1077), tensor(28725), tensor(456), tensor(4610), tensor(28725), tensor(13), tensor(28716), tensor(9813), tensor(1370), tensor(2781), tensor(13), tensor(13), tensor(2467), tensor(272), tensor(1571), tensor(676), tensor(13620), tensor(2560), tensor(2964), tensor(28723), tensor(384), tensor(1726), tensor(2047), tensor(1401), tensor(272), tensor(4986), tensor(304), tensor(5610), tensor(805), tensor(28723), tensor(13), tensor(13), tensor(18590), tensor(28723), tensor(384), tensor(1726), tensor(2047), tensor(4857), tensor(712), tensor(4618), tensor(298), tensor(272), tensor(6297), tensor(28723), tensor(650), tensor(553), tensor(750), tensor(13620), tensor(2560), tensor(486), tensor(264), tensor(4160), tensor(13), tensor(1042), tensor(3689), tensor(28723), tensor(650), tensor(835), tensor(1654), tensor(400), tensor(553), tensor(750), tensor(1987), tensor(264), tensor(351), tensor(786), tensor(6277), tensor(28725), tensor(5681), tensor(369), tensor(13), tensor(9380), tensor(28723), tensor(650), tensor(403), tensor(408), tensor(1061), tensor(1006), tensor(28723), tensor(650), tensor(21893), tensor(298), tensor(516), tensor(1253), tensor(304), tensor(808), tensor(805), tensor(354), tensor(1611), tensor(28725), tensor(11114), tensor(13), tensor(265), tensor(403), tensor(3809), tensor(4038), tensor(1722), tensor(28725), tensor(690), tensor(400), tensor(553), tensor(1484), tensor(12431), tensor(1159), tensor(28725), tensor(1096), tensor(400), tensor(13), tensor(18568), tensor(28711), tensor(28742), tensor(28707), tensor(2151), tensor(333), tensor(302), tensor(16842), tensor(28723), tensor(13), tensor(13), tensor(2198), tensor(400), tensor(5822), tensor(778), tensor(272), tensor(5009), tensor(1128), tensor(302), tensor(1474), tensor(2308), tensor(28725), tensor(272), tensor(907), tensor(1970), tensor(400), tensor(2672), tensor(1939), tensor(13), tensor(391), tensor(378), tensor(1539), tensor(28742), tensor(28707), tensor(4916), tensor(516), tensor(12247), tensor(1939), tensor(403), tensor(272), tensor(7683), tensor(1403), tensor(5255), tensor(400), tensor(28742), tensor(28715), tensor(20958), tensor(369), tensor(13), tensor(21621), tensor(971), tensor(28723), tensor(661), tensor(403), tensor(1055), tensor(6398), tensor(356), tensor(516), tensor(8759), tensor(3500), tensor(28723), tensor(650), tensor(403), tensor(1864), tensor(378), tensor(403), tensor(272), tensor(13), tensor(21317), tensor(624), tensor(28745), tensor(378), tensor(553), tensor(272), tensor(1348), tensor(1716), tensor(742), tensor(1401), tensor(871), tensor(2282), tensor(28723), tensor(13), tensor(13), tensor(28739), tensor(1981), tensor(3464), tensor(2781), tensor(773), tensor(2964), tensor(28723), tensor(384), tensor(1726), tensor(2047), tensor(28003), tensor(28723), tensor(415), tensor(5255), tensor(1539), tensor(28742), tensor(28707), tensor(2318), tensor(28723), tensor(661), tensor(776), tensor(3395), tensor(713), tensor(264), tensor(13), tensor(303), tensor(1173), tensor(913), tensor(28723), tensor(7336), tensor(456), tensor(4123), tensor(5255), tensor(6174), tensor(28804), tensor(2964), tensor(28723), tensor(384), tensor(1726), tensor(2047), tensor(10662), tensor(28723), tensor(320), tensor(5125), tensor(13), tensor(532), tensor(3300), tensor(2722), tensor(2553), tensor(28725), tensor(400), tensor(1346), tensor(2722), tensor(778), tensor(272), tensor(2134), tensor(28723), tensor(650), tensor(403), tensor(1309), tensor(13), tensor(4701), tensor(858), tensor(1311), tensor(459), tensor(298), tensor(4389), tensor(2424), tensor(298), tensor(516), tensor(4285), tensor(28723), tensor(13), tensor(13), tensor(28755), tensor(4586), tensor(28723), tensor(384), tensor(1726), tensor(2047), tensor(553), tensor(553), tensor(264), tensor(5171), tensor(28725), tensor(4123), tensor(1370), tensor(28723), tensor(985), tensor(2240), tensor(713), tensor(754), tensor(7854), tensor(544), tensor(13), tensor(14146), tensor(7107), tensor(28723), tensor(8580), tensor(26519), tensor(28742), tensor(28713), tensor(4418), tensor(395), tensor(559), tensor(5690), tensor(304), tensor(910), tensor(384), tensor(554), tensor(2047), tensor(553), tensor(13), tensor(27082), tensor(286), tensor(264), tensor(633), tensor(1707), tensor(4734), tensor(28780), tensor(266), tensor(28742), tensor(28707), tensor(2781), tensor(609), tensor(2964), tensor(28723), tensor(384), tensor(1726), tensor(2047), tensor(3851), tensor(298), tensor(960), tensor(12336), tensor(28723), tensor(1684), tensor(13), tensor(28757), tensor(554), tensor(2047), tensor(553), tensor(750), tensor(1658), tensor(298), tensor(2855), tensor(28725), tensor(400), tensor(2068), tensor(778), tensor(272), tensor(3687), tensor(2003), tensor(297), tensor(727), tensor(298), tensor(13), tensor(12256), tensor(272), tensor(1432), tensor(2264), tensor(356), tensor(272), tensor(6856), tensor(4231), tensor(28747), tensor(13), tensor(13), tensor(28739), tensor(2467), tensor(4251), tensor(28725), tensor(7727), tensor(28733), tensor(10330), tensor(404), tensor(11321), tensor(506), tensor(5745), tensor(369), tensor(272), tensor(5878), tensor(28742), tensor(28713), tensor(13), tensor(336), tensor(4911), tensor(506), tensor(750), tensor(1833), tensor(1652), tensor(1215), tensor(12449), tensor(1323), tensor(3154), tensor(28723), tensor(5800), tensor(289), tensor(28727), tensor(4911), tensor(12336), tensor(13), tensor(28716), tensor(2794), tensor(438), tensor(2125), tensor(304), tensor(460), tensor(10768), tensor(2270), tensor(2598), tensor(297), tensor(1370), tensor(3646), tensor(28725), tensor(736), tensor(506), tensor(750), tensor(13), tensor(28716), tensor(4381), tensor(28713), tensor(302), tensor(7739), tensor(742), tensor(302), tensor(1167), tensor(12780), tensor(11470), tensor(297), tensor(1012), tensor(5007), tensor(1854), tensor(13), tensor(19875), tensor(24035), tensor(28723), tensor(11135), tensor(1074), tensor(460), tensor(9638), tensor(298), tensor(7282), tensor(2079), tensor(272), tensor(289), tensor(28727), tensor(4911), tensor(506), tensor(6914), tensor(13), tensor(11247), tensor(652), tensor(12863), tensor(5340), tensor(611), tensor(415), tensor(633), tensor(824), tensor(1993), tensor(4670), tensor(2722), tensor(264), tensor(17924), tensor(28723), tensor(13), tensor(28739), tensor(20928), tensor(21296), tensor(28723), tensor(1015), tensor(1055), tensor(28725), tensor(754), tensor(298), tensor(6715), tensor(18407), tensor(1292), tensor(262), tensor(395), tensor(272), tensor(8086), tensor(28723), tensor(25659), tensor(13), tensor(532), tensor(347), tensor(707), tensor(680), tensor(1347), tensor(404), tensor(302), tensor(289), tensor(28727), tensor(4911), tensor(11402), tensor(28725), tensor(6715), tensor(1110), tensor(13), tensor(13), tensor(28739), tensor(6824), tensor(28725), tensor(15268), tensor(862), tensor(773), tensor(272), tensor(478), tensor(498), tensor(9358), tensor(28725), tensor(345), tensor(28737), tensor(949), tensor(28742), tensor(28707), tensor(873), tensor(684), tensor(369), tensor(28725), tensor(562), tensor(378), tensor(28742), tensor(28713), tensor(459), tensor(13), tensor(5041), tensor(272), tensor(289), tensor(28727), tensor(4911), tensor(369), tensor(506), tensor(750), tensor(10601), tensor(6939), tensor(346), tensor(3154), tensor(28723), tensor(7022), tensor(404), tensor(390), tensor(2082), tensor(7413), tensor(390), tensor(13), tensor(28796), tensor(308), tensor(28725), tensor(2726), tensor(10359), tensor(28725), tensor(304), tensor(384), tensor(915), tensor(2443), tensor(506), tensor(750), tensor(1108), tensor(20392), tensor(297), tensor(298), tensor(1912), tensor(528), tensor(369), tensor(3519), tensor(13), tensor(1009), tensor(272), tensor(7296), tensor(315), tensor(13272), tensor(12091), tensor(28725), tensor(590), tensor(28742), tensor(333), tensor(553), tensor(264), tensor(1060), tensor(28720), tensor(423), tensor(302), tensor(11743), tensor(13), tensor(303), tensor(1168), tensor(28808), tensor(9447), tensor(905), tensor(506), tensor(750), tensor(5903), tensor(1077), tensor(8500), tensor(9257), tensor(10357), tensor(2935), tensor(1939), tensor(378), tensor(28742), tensor(28713), tensor(13), tensor(1478), tensor(1996), tensor(1679), tensor(1819), tensor(28725), tensor(13157), tensor(28808), tensor(1092), tensor(315), tensor(541), tensor(9081), tensor(264), tensor(7569), tensor(2125), tensor(11402), tensor(611), tensor(13), tensor(13), tensor(18590), tensor(28723), tensor(384), tensor(1726), tensor(2047), tensor(2495), tensor(15199), tensor(297), tensor(516), tensor(3648), tensor(22189), tensor(28723), tensor(1295), tensor(1541), tensor(288), tensor(7448), tensor(544), tensor(754), tensor(10174), tensor(28804), tensor(13), tensor(28762), tensor(28727), tensor(4911), tensor(11470), tensor(486), tensor(1370), tensor(3646), tensor(28804), tensor(22737), tensor(263), tensor(925), tensor(905), tensor(297), tensor(23390), tensor(9140), tensor(544), tensor(754), tensor(272), tensor(1633), tensor(28804), tensor(13), tensor(2467), tensor(264), tensor(9502), tensor(28725), tensor(264), tensor(9502), tensor(684), tensor(272), tensor(10650), tensor(1532), tensor(1101), tensor(13), tensor(13), tensor(28755), tensor(4586), tensor(28723), tensor(384), tensor(1726), tensor(2047), tensor(1988), tensor(778), tensor(272), tensor(3687), tensor(2003), tensor(10839), tensor(989), tensor(19646), tensor(302), tensor(9510), tensor(28723), tensor(661), tensor(403), tensor(13), tensor(1510), tensor(1179), tensor(28723), tensor(650), tensor(28742), tensor(28715), tensor(506), tensor(298), tensor(1315), tensor(1545), tensor(298), tensor(559), tensor(28723), tensor(650), tensor(15253), tensor(516), tensor(10807), tensor(13), tensor(28711), tensor(784), tensor(5019), tensor(28723), tensor(345), tensor(17900), tensor(1939), tensor(6728), tensor(370), tensor(515), tensor(28725), tensor(13095), tensor(1939), tensor(368), tensor(6253), tensor(28742), tensor(28707), tensor(3364), tensor(477), tensor(574), tensor(5668), tensor(13), tensor(28714), tensor(1999), tensor(28725), tensor(506), tensor(368), tensor(1110), tensor(13), tensor(13), tensor(2198), tensor(400), tensor(553), tensor(3349), tensor(28725), tensor(7107), tensor(28723), tensor(384), tensor(1726), tensor(2047), tensor(2382), tensor(18809), tensor(304), tensor(10545), tensor(28723), tensor(2530), tensor(544), tensor(28725), tensor(13), tensor(13260), tensor(12336), tensor(9525), tensor(2508), tensor(630), tensor(1539), tensor(28742), tensor(28707), tensor(506), tensor(264), tensor(5668), tensor(28723), tensor(13), tensor(13), tensor(28739), tensor(2501), tensor(862), tensor(630), tensor(773), tensor(26002), tensor(28723), tensor(345), tensor(7638), tensor(1110), tensor(13), tensor(13), tensor(28739), tensor(3369), tensor(1780), tensor(4705), tensor(356), tensor(272), tensor(4231), tensor(862), tensor(2964), tensor(28723), tensor(384), tensor(1726), tensor(2047), tensor(290), tensor(12802), tensor(28723), tensor(345), tensor(28762), tensor(28727), tensor(4911), tensor(1101), tensor(11743), tensor(13), tensor(303), tensor(1168), tensor(1101), tensor(304), tensor(736), tensor(654), tensor(264), tensor(2055), tensor(302), tensor(10032), tensor(28733), tensor(13377), tensor(905), tensor(297), tensor(3736), tensor(3154), tensor(7508), tensor(13), tensor(13), tensor(28739), tensor(5142), tensor(1110), tensor(18190), tensor(7107), tensor(28723), tensor(384), tensor(1726), tensor(2047), tensor(28723), tensor(13), tensor(13), tensor(28739), tensor(6824), tensor(28725), tensor(315), tensor(776), tensor(1654), tensor(1101), tensor(4357), tensor(1101), tensor(378), tensor(403), tensor(1545), tensor(298), tensor(511), tensor(395), tensor(1101), tensor(368), tensor(13), tensor(19726), tensor(1101), tensor(559), tensor(8954), tensor(611), tensor(13), tensor(13), tensor(28755), tensor(4586), tensor(28723), tensor(384), tensor(1726), tensor(2047), tensor(268), tensor(5885), tensor(559), tensor(9510), tensor(1059), tensor(7900), tensor(286), tensor(8852), tensor(28723), tensor(2964), tensor(28723), tensor(384), tensor(1726), tensor(2047), tensor(10662), tensor(13), tensor(15831), tensor(620), tensor(400), tensor(281), tensor(1327), tensor(1912), tensor(559), tensor(400), tensor(28742), tensor(28715), tensor(3364), tensor(272), tensor(1141), tensor(345), tensor(28753), tensor(322), tensor(360), tensor(611), tensor(650), tensor(4496), tensor(400), tensor(13), tensor(18568), tensor(28711), tensor(28742), tensor(28707), tensor(19402), tensor(28723), tensor(8162), tensor(400), tensor(773), tensor(28725), tensor(390), tensor(3274), tensor(1323), tensor(390), tensor(400), tensor(829), tensor(28725), tensor(345), tensor(1014), tensor(361), tensor(1966), tensor(1939), tensor(13), tensor(265), tensor(28742), tensor(28715), tensor(347), tensor(684), tensor(384), tensor(554), tensor(2047), tensor(28742), tensor(28713), tensor(3595), tensor(1055), tensor(28725), tensor(4048), tensor(28742), tensor(28707), tensor(400), tensor(1110), tensor(13), tensor(13), tensor(28739), tensor(28737), tensor(10361), tensor(579), tensor(862), tensor(773), tensor(7107), tensor(28723), tensor(384), tensor(1726), tensor(2047), tensor(16516), tensor(346), tensor(28723), tensor(13), tensor(13), tensor(28739), tensor(3195), tensor(28742), tensor(28713), tensor(516), tensor(1141), tensor(1076), tensor(28804), tensor(14907), tensor(28725), tensor(3157), tensor(28742), tensor(28707), tensor(378), tensor(1110), tensor(13), tensor(13), tensor(28739), tensor(28769), tensor(12255), tensor(28723), tensor(418), tensor(11136), tensor(28725), tensor(3298), tensor(1141), tensor(28725), tensor(513), tensor(368), tensor(1460), tensor(528), tensor(611), tensor(13), tensor(13), tensor(28739), tensor(6155), tensor(28725), tensor(5081), tensor(862), tensor(773), tensor(2964), tensor(28723), tensor(384), tensor(1726), tensor(2047), tensor(28725), tensor(516), tensor(3031), tensor(268), tensor(10593), tensor(3292), tensor(22780), tensor(28723), tensor(345), tensor(5613), tensor(28725), tensor(315), tensor(3448), tensor(13), tensor(357), tensor(688), tensor(611), tensor(13), tensor(13), tensor(2428), tensor(1539), tensor(28742), tensor(28707), tensor(1315), tensor(1698), tensor(1707), tensor(356), tensor(272), tensor(3817), tensor(390), tensor(590), tensor(2068), tensor(21855), tensor(298), tensor(2855), tensor(28723), tensor(13), tensor(23475), tensor(7107), tensor(28723), tensor(384), tensor(1726), tensor(2047), tensor(403), tensor(297), tensor(272), tensor(10629), tensor(28725), tensor(2964), tensor(28723), tensor(384), tensor(1726), tensor(2047), tensor(1317), tensor(447), tensor(298), tensor(272), tensor(9384), tensor(13), tensor(5147), tensor(304), tensor(757), tensor(2092), tensor(1060), tensor(778), tensor(272), tensor(2778), tensor(8759), tensor(28723), tensor(415), tensor(5255), tensor(403), tensor(1309), tensor(736), tensor(28723), tensor(13), tensor(1313), tensor(403), tensor(13144), tensor(1060), tensor(15650), tensor(299), tensor(16857), tensor(390), tensor(2070), tensor(378), tensor(654), tensor(5345), tensor(354), tensor(13), tensor(24674), tensor(28723), tensor(13), tensor(13), tensor(22648), tensor(400), tensor(3809), tensor(4038), tensor(1722), tensor(28804), tensor(13955), tensor(544), tensor(456), tensor(506), tensor(2424), tensor(298), tensor(511), tensor(395), tensor(272), tensor(13), tensor(28753), tensor(322), tensor(1532), tensor(28804), tensor(1047), tensor(378), tensor(863), tensor(1101), tensor(513), tensor(378), tensor(1433), tensor(575), tensor(369), tensor(590), tensor(654), tensor(5202), tensor(298), tensor(264), tensor(5964), tensor(302), tensor(13), tensor(376), tensor(1162), tensor(28725), tensor(400), tensor(1539), tensor(28742), tensor(28707), tensor(1073), tensor(400), tensor(829), tensor(9135), tensor(378), tensor(28723), tensor(13), tensor(13), tensor(1014), tensor(384), tensor(1726), tensor(291), tensor(846), tensor(1433), tensor(778), tensor(2855), tensor(28723), tensor(7107), tensor(28723), tensor(384), tensor(1726), tensor(2047), tensor(5970), tensor(15231), tensor(4377), tensor(562), tensor(2964), tensor(28723), tensor(13), tensor(28757), tensor(1726), tensor(2047), tensor(4897), tensor(20875), tensor(28725), tensor(8528), tensor(378), tensor(544), tensor(754), tensor(297), tensor(516), tensor(2273), tensor(28723), tensor(2354), tensor(1432), tensor(28725), tensor(5034), tensor(288), tensor(13), tensor(362), tensor(1322), tensor(1159), tensor(400), tensor(5970), tensor(15231), tensor(403), tensor(369), tensor(1019), tensor(513), tensor(272), tensor(10650), tensor(1532), tensor(654), tensor(13), tensor(262), tensor(3871), tensor(1800), tensor(28725), tensor(736), tensor(403), tensor(708), tensor(2611), tensor(354), tensor(706), tensor(298), tensor(1567), tensor(3065), tensor(713), tensor(304), tensor(7107), tensor(28723), tensor(13), tensor(28757), tensor(1726), tensor(2047), tensor(28723), tensor(415), tensor(10650), tensor(1532), tensor(2580), tensor(1215), tensor(1162), tensor(767), tensor(400), tensor(304), tensor(6728), tensor(370), tensor(515), tensor(1654), tensor(684), tensor(13), tensor(1237), tensor(28719), tensor(304), tensor(652), tensor(2112), tensor(3406), tensor(650), tensor(3481), tensor(28742), tensor(28707), tensor(1032), tensor(910), tensor(400), tensor(304), tensor(6728), tensor(370), tensor(515), tensor(829), tensor(625), tensor(13), tensor(28719), tensor(3162), tensor(582), tensor(297), tensor(2424), tensor(369), tensor(1659), tensor(347), tensor(1404), tensor(356), tensor(1939), tensor(400), tensor(10129), tensor(880), tensor(286), tensor(304), tensor(2897), tensor(754), tensor(13), tensor(376), tensor(378), tensor(3481), tensor(28742), tensor(28707), tensor(5197), tensor(706), tensor(3406), tensor(13), tensor(13), tensor(5660), tensor(1215), tensor(3544), tensor(400), tensor(403), tensor(28723), tensor(13), tensor(13), tensor(18590), tensor(28723), tensor(384), tensor(1726), tensor(2047), tensor(1659), tensor(506), tensor(750), tensor(1605), tensor(13120), tensor(778), tensor(396), tensor(2219), tensor(5826), tensor(4289), tensor(28725), tensor(562), tensor(272), tensor(5255), tensor(13), tensor(266), tensor(272), tensor(3500), tensor(3536), tensor(403), tensor(8102), tensor(708), tensor(1492), tensor(302), tensor(4289), tensor(1494), tensor(28723), tensor(661), tensor(403), tensor(6398), tensor(390), tensor(13), tensor(303), tensor(425), tensor(390), tensor(264), tensor(22594), tensor(28725), tensor(871), tensor(2282), tensor(6321), tensor(521), tensor(1231), tensor(655), tensor(7381), tensor(356), tensor(272), tensor(2082), tensor(6581), tensor(302), tensor(13), tensor(22548), tensor(299), tensor(16857), tensor(28723), tensor(661), tensor(1539), tensor(28742), tensor(28707), tensor(579), tensor(1188), tensor(390), tensor(526), tensor(2023), tensor(739), tensor(264), tensor(1253), tensor(2251), tensor(27165), tensor(356), tensor(272), tensor(13), tensor(3423), tensor(5948), tensor(28725), tensor(4678), tensor(739), tensor(989), tensor(289), tensor(28727), tensor(4911), tensor(20153), tensor(11416), tensor(20679), tensor(28723), tensor(560), tensor(1639), tensor(28725), tensor(378), tensor(403), tensor(5597), tensor(13), tensor(8041), tensor(6988), tensor(1159), tensor(272), tensor(5255), tensor(4142), tensor(438), tensor(544), tensor(28723), tensor(13), tensor(13), tensor(28741), tensor(676), tensor(6178), tensor(356), tensor(272), tensor(6581), tensor(272), tensor(5255), tensor(553), tensor(750), tensor(6265), tensor(28725), tensor(6178), tensor(579), tensor(13), tensor(28713), tensor(554), tensor(20357), tensor(304), tensor(24435), tensor(368), tensor(28742), tensor(28715), tensor(506), tensor(1654), tensor(400), tensor(28742), tensor(28715), tensor(776), tensor(28152), tensor(575), tensor(302), tensor(272), tensor(13), tensor(2812), tensor(28723), tensor(415), tensor(5255), tensor(28742), tensor(28713), tensor(8675), tensor(2323), tensor(14209), tensor(304), tensor(871), tensor(2282), tensor(8484), tensor(286), tensor(28723), tensor(13), tensor(13), tensor(20649), tensor(737), tensor(456), tensor(676), tensor(553), tensor(2270), tensor(750), tensor(2598), tensor(356), tensor(15650), tensor(299), tensor(16857), tensor(28723), tensor(650), tensor(403), tensor(9369), tensor(28725), tensor(13), tensor(362), tensor(262), tensor(28725), tensor(304), tensor(1215), tensor(1571), tensor(28725), tensor(4612), tensor(3080), tensor(486), tensor(272), tensor(9746), tensor(302), tensor(516), tensor(3691), tensor(304), tensor(25293), tensor(28725), tensor(690), tensor(13), tensor(27609), tensor(1560), tensor(1043), tensor(2066), tensor(298), tensor(261), tensor(1384), tensor(778), tensor(516), tensor(14857), tensor(28723), tensor(650), tensor(403), tensor(8192), tensor(1043), tensor(7006), tensor(274), tensor(28725), tensor(13), tensor(28708), tensor(19435), tensor(23390), tensor(491), tensor(369), tensor(20643), tensor(272), tensor(3414), tensor(28725), tensor(304), tensor(1486), tensor(28733), tensor(265), tensor(19691), tensor(28725), tensor(9918), tensor(1006), tensor(15674), tensor(28723), tensor(13), tensor(21860), tensor(5045), tensor(2282), tensor(654), tensor(2061), tensor(28725), tensor(6833), tensor(28725), tensor(304), tensor(14123), tensor(1905), tensor(2910), tensor(2795), tensor(28733), tensor(28719), tensor(4973), tensor(13), tensor(7002), tensor(14395), tensor(304), tensor(516), tensor(9948), tensor(403), tensor(1215), tensor(1043), tensor(304), tensor(7950), tensor(8641), tensor(28725), tensor(390), tensor(2070), tensor(378), tensor(553), tensor(750), tensor(13), tensor(5601), tensor(2314), tensor(438), tensor(2429), tensor(8660), tensor(28723), tensor(851), tensor(676), tensor(28742), tensor(28713), tensor(1141), tensor(403), tensor(976), tensor(6383), tensor(384), tensor(12802), tensor(431), tensor(28723), tensor(13), tensor(13), tensor(2707), tensor(6383), tensor(384), tensor(12802), tensor(431), tensor(1539), tensor(28742), tensor(28707), tensor(1709), tensor(298), tensor(8168), tensor(369), tensor(400), tensor(553), tensor(776), tensor(6792), tensor(297), tensor(264), tensor(13), tensor(12776), tensor(299), tensor(970), tensor(2905), tensor(477), tensor(516), tensor(1141), tensor(298), tensor(516), tensor(15674), tensor(403), tensor(12692), tensor(23079), tensor(28723), tensor(650), tensor(403), tensor(13), tensor(6383), tensor(28724), tensor(10203), tensor(28719), tensor(4054), tensor(297), tensor(516), tensor(23390), tensor(491), tensor(28725), tensor(2526), tensor(354), tensor(1545), tensor(28723), tensor(1092), tensor(400), tensor(863), tensor(1709), tensor(298), tensor(13), tensor(6487), tensor(653), tensor(400), tensor(403), tensor(1250), tensor(6758), tensor(28725), tensor(1096), tensor(400), tensor(2382), tensor(582), tensor(6914), tensor(438), tensor(272), tensor(5255), tensor(28725), tensor(13), tensor(6974), tensor(403), tensor(1309), tensor(13144), tensor(438), tensor(713), tensor(477), tensor(272), tensor(799), tensor(948), tensor(302), tensor(272), tensor(5948), tensor(28723), tensor(1263), tensor(13), tensor(11183), tensor(2611), tensor(28725), tensor(272), tensor(7739), tensor(302), tensor(272), tensor(5255), tensor(3593), tensor(298), tensor(837), tensor(1730), tensor(713), tensor(28723), tensor(650), tensor(21390), tensor(1006), tensor(304), tensor(13), tensor(3244), tensor(8308), tensor(28725), tensor(345), tensor(28737), tensor(1023), tensor(506), tensor(2651), tensor(611), tensor(13), tensor(13), tensor(2428), tensor(1419), tensor(767), tensor(400), tensor(403), tensor(2526), tensor(354), tensor(297), tensor(516), tensor(3416), tensor(10585), tensor(28723), tensor(661), tensor(3593), tensor(298), tensor(347), tensor(264), tensor(13), tensor(22585), tensor(343), tensor(19819), tensor(23645), tensor(28723), tensor(650), tensor(15850), tensor(286), tensor(378), tensor(1565), tensor(28725), tensor(3336), tensor(378), tensor(582), tensor(297), tensor(272), tensor(2423), tensor(28725), tensor(304), tensor(13), tensor(6650), tensor(286), tensor(378), tensor(28723), tensor(415), tensor(17403), tensor(5948), tensor(21157), tensor(2068), tensor(575), tensor(395), tensor(264), tensor(1628), tensor(1852), tensor(28723), tensor(650), tensor(13), tensor(6650), tensor(286), tensor(378), tensor(1076), tensor(1939), tensor(272), tensor(1679), tensor(21157), tensor(15850), tensor(2092), tensor(778), tensor(11691), tensor(28723), tensor(5852), tensor(11047), tensor(2421), tensor(13), tensor(265), tensor(26399), tensor(272), tensor(10331), tensor(28733), tensor(2919), tensor(263), tensor(28725), tensor(1996), tensor(272), tensor(865), tensor(9416), tensor(1749), tensor(356), tensor(272), tensor(2894), tensor(5948), tensor(13), tensor(27609), tensor(989), tensor(8887), tensor(9550), tensor(783), tensor(5446), tensor(297), tensor(272), tensor(5328), tensor(28725), tensor(690), tensor(654), tensor(272), tensor(2282), tensor(302), tensor(272), tensor(5255), tensor(13), tensor(10330), tensor(288), tensor(713), tensor(28723), tensor(1047), tensor(3637), tensor(2382), tensor(575), tensor(302), tensor(652), tensor(2924), tensor(1055), tensor(28725), tensor(1019), tensor(347), tensor(4425), tensor(28733), tensor(20732), tensor(13), tensor(28755), tensor(4586), tensor(28723), tensor(384), tensor(1726), tensor(2047), tensor(28725), tensor(590), tensor(4048), tensor(28742), tensor(28707), tensor(347), tensor(2358), tensor(298), tensor(1032), tensor(2424), tensor(369), tensor(403), tensor(9615), tensor(13), tensor(3254), tensor(356), tensor(272), tensor(284), tensor(458), tensor(466), tensor(28723), tensor(384), tensor(12802), tensor(431), tensor(15841), tensor(272), tensor(10331), tensor(28733), tensor(2919), tensor(263), tensor(852), tensor(3416), tensor(516), tensor(13), tensor(512), tensor(28709), tensor(491), tensor(304), tensor(808), tensor(805), tensor(1060), tensor(272), tensor(5948), tensor(4112), tensor(1474), tensor(2308), tensor(28725), tensor(970), tensor(400), tensor(2495), tensor(1060), tensor(13), tensor(266), tensor(272), tensor(3500), tensor(1679), tensor(298), tensor(272), tensor(5255), tensor(28723), tensor(650), tensor(1539), tensor(28742), tensor(28707), tensor(913), tensor(438), tensor(378), tensor(28725), tensor(562), tensor(1024), tensor(264), tensor(2470), tensor(400), tensor(13), tensor(886), tensor(2656), tensor(298), tensor(378), tensor(28723), tensor(13), tensor(13), tensor(28739), tensor(28765), tensor(5403), tensor(6252), tensor(368), tensor(1236), tensor(28725), tensor(11962), tensor(18407), tensor(266), tensor(357), tensor(455), tensor(611), tensor(13), tensor(13), tensor(2428), tensor(2897), tensor(298), tensor(6458), tensor(438), tensor(272), tensor(7683), tensor(1403), tensor(28725), tensor(562), tensor(378), tensor(553), tensor(4214), tensor(28723), tensor(8162), tensor(400), tensor(403), tensor(15603), tensor(13), tensor(270), tensor(264), tensor(3210), tensor(13645), tensor(28733), tensor(13377), tensor(2971), tensor(693), tensor(403), tensor(8192), tensor(7930), tensor(16014), tensor(4668), tensor(13), tensor(1237), tensor(5843), tensor(302), tensor(272), tensor(1716), tensor(742), tensor(272), tensor(5255), tensor(553), tensor(553), tensor(1401), tensor(871), tensor(2282), tensor(28723), tensor(985), tensor(28725), tensor(1368), tensor(28725), tensor(403), tensor(13), tensor(28727), tensor(12385), tensor(264), tensor(23390), tensor(491), tensor(28725), tensor(396), tensor(5177), tensor(3165), tensor(624), tensor(28723), tensor(2584), tensor(2687), tensor(3691), tensor(403), tensor(10421), tensor(778), tensor(264), tensor(6975), tensor(13), tensor(28726), tensor(370), tensor(28723), tensor(985), tensor(2382), tensor(9494), tensor(346), tensor(408), tensor(26545), tensor(28723), tensor(13), tensor(13), tensor(28739), tensor(5660), tensor(863), tensor(368), tensor(873), tensor(378), tensor(403), tensor(528), tensor(1110), tensor(630), tensor(2261), tensor(28723), tensor(13), tensor(13), tensor(28739), tensor(5183), tensor(13095), tensor(11962), tensor(28725), tensor(315), tensor(464), tensor(333), tensor(1484), tensor(2598), tensor(264), tensor(5255), tensor(1943), tensor(579), tensor(16516), tensor(346), tensor(611), tensor(13), tensor(13), tensor(28739), tensor(1976), tensor(28742), tensor(28715), tensor(347), tensor(16516), tensor(513), tensor(368), tensor(28742), tensor(28715), tensor(750), tensor(6398), tensor(356), tensor(264), tensor(18236), tensor(3500), tensor(544), tensor(1370), tensor(862), tensor(773), tensor(13), tensor(933), tensor(28722), tensor(409), tensor(271), tensor(18407), tensor(266), tensor(357), tensor(455), tensor(28723), tensor(13), tensor(13), tensor(28739), tensor(2595), tensor(1370), tensor(28804), tensor(1684), tensor(368), tensor(829), tensor(506), tensor(750), tensor(5903), tensor(1077), tensor(28804), tensor(315), tensor(1580), tensor(506), tensor(4568), tensor(264), tensor(13), tensor(2432), tensor(3039), tensor(701), tensor(10617), tensor(304), tensor(8209), tensor(356), tensor(586), tensor(1069), tensor(1236), tensor(611), tensor(13), tensor(13), tensor(933), tensor(28722), tensor(409), tensor(271), tensor(18407), tensor(266), tensor(357), tensor(455), tensor(27098), tensor(286), tensor(396), tensor(820), tensor(1106), tensor(28723), tensor(13), tensor(13), tensor(28739), tensor(6155), tensor(5081), tensor(28725), tensor(3376), tensor(28742), tensor(28713), tensor(5903), tensor(1077), tensor(28725), tensor(544), tensor(1103), tensor(862), tensor(630), tensor(773), tensor(24766), tensor(722), tensor(346), tensor(28723), tensor(13), tensor(28739), tensor(1976), tensor(28742), tensor(28715), tensor(1073), tensor(590), tensor(28742), tensor(28715), tensor(347), tensor(264), tensor(2286), tensor(680), tensor(11291), tensor(28725), tensor(562), tensor(708), tensor(1939), tensor(1019), tensor(272), tensor(351), tensor(786), tensor(16984), tensor(13), tensor(15378), tensor(8295), tensor(1545), tensor(28742), tensor(28713), tensor(1404), tensor(356), tensor(28723), tensor(661), tensor(403), tensor(356), tensor(652), tensor(4231), tensor(611), tensor(985), tensor(19748), tensor(286), tensor(559), tensor(13), tensor(1811), tensor(852), tensor(438), tensor(272), tensor(384), tensor(1726), tensor(291), tensor(846), tensor(28742), tensor(3199), tensor(3687), tensor(28733), tensor(3017), tensor(2924), tensor(28723), tensor(345), tensor(28737), tensor(3364), tensor(378), tensor(28723), tensor(401), tensor(1607), tensor(28713), tensor(13), tensor(1009), tensor(289), tensor(28727), tensor(4911), tensor(1101), tensor(11743), tensor(7448), tensor(3406), tensor(4673), tensor(28725), tensor(590), tensor(28742), tensor(267), tensor(459), tensor(4716), tensor(8710), tensor(28723), tensor(1306), tensor(13), tensor(27609), tensor(3585), tensor(298), tensor(5640), tensor(1545), tensor(28723), tensor(1295), tensor(1541), tensor(288), tensor(7448), tensor(1060), tensor(297), tensor(13043), tensor(1939), tensor(315), tensor(28742), tensor(584), tensor(924), tensor(13), tensor(6087), tensor(403), tensor(384), tensor(286), tensor(282), tensor(381), tensor(10104), tensor(6277), tensor(28723), tensor(650), tensor(1484), tensor(553), tensor(1188), tensor(3367), tensor(611), tensor(13), tensor(13), tensor(28739), tensor(1976), tensor(541), tensor(28742), tensor(28707), tensor(13128), tensor(706), tensor(862), tensor(773), tensor(384), tensor(12802), tensor(431), tensor(14259), tensor(28723), tensor(345), tensor(2324), tensor(28742), tensor(333), tensor(553), tensor(17967), tensor(13), tensor(28714), tensor(1490), tensor(298), tensor(16895), tensor(354), tensor(19806), tensor(1267), tensor(611), tensor(13), tensor(13), tensor(28739), tensor(28737), tensor(873), tensor(369), tensor(862), tensor(773), tensor(11962), tensor(18407), tensor(266), tensor(357), tensor(455), tensor(16418), tensor(1907), tensor(28723), tensor(345), tensor(2438), tensor(369), tensor(28742), tensor(28713), tensor(708), tensor(13), tensor(14991), tensor(298), tensor(6788), tensor(813), tensor(10478), tensor(28723), tensor(5619), tensor(460), tensor(1250), tensor(1060), tensor(1246), tensor(1656), tensor(1503), tensor(28725), tensor(575), tensor(356), tensor(13), tensor(1237), tensor(10468), tensor(297), tensor(5841), tensor(1370), tensor(3646), tensor(28725), tensor(459), tensor(1019), tensor(12452), tensor(297), tensor(351), tensor(786), tensor(6277), tensor(8155), tensor(28725), tensor(13), tensor(1616), tensor(3925), tensor(10203), tensor(734), tensor(611), tensor(13), tensor(13), tensor(4853), tensor(11915), tensor(264), tensor(10227), tensor(28725), tensor(2081), tensor(1504), tensor(15853), tensor(438), tensor(384), tensor(12802), tensor(431), tensor(1236), tensor(28725), tensor(390), tensor(2070), tensor(11114), tensor(13), tensor(265), tensor(403), tensor(1404), tensor(298), tensor(1912), tensor(559), tensor(1545), tensor(28725), tensor(562), tensor(400), tensor(1539), tensor(28742), tensor(28707), tensor(28725), tensor(579), tensor(630), tensor(2068), tensor(356), tensor(28723), tensor(345), tensor(28741), tensor(13), tensor(28722), tensor(473), tensor(1970), tensor(378), tensor(682), tensor(347), tensor(513), tensor(28725), tensor(356), tensor(272), tensor(1215), tensor(1370), tensor(995), tensor(28796), tensor(3306), tensor(28733), tensor(11447), tensor(3969), tensor(298), tensor(506), tensor(13), tensor(2021), tensor(6553), tensor(1327), tensor(438), tensor(1432), tensor(28725), tensor(272), tensor(351), tensor(786), tensor(16984), tensor(1419), tensor(575), tensor(684), tensor(592), tensor(544), tensor(28723), tensor(315), tensor(10361), tensor(400), tensor(13), tensor(267), tensor(578), tensor(659), tensor(4214), tensor(28725), tensor(384), tensor(12802), tensor(431), tensor(1110), tensor(13), tensor(13), tensor(28739), tensor(1313), tensor(5785), tensor(3969), tensor(579), tensor(862), tensor(773), tensor(384), tensor(12802), tensor(431), tensor(28723), tensor(345), tensor(2324), tensor(506), tensor(1188), tensor(298), tensor(347), tensor(6979), tensor(1007), tensor(13), tensor(1392), tensor(28723), tensor(11312), tensor(368), tensor(1656), tensor(354), tensor(264), tensor(23598), tensor(6088), tensor(1110), tensor(13), tensor(13), tensor(28739), tensor(28741), tensor(767), tensor(1110), tensor(13), tensor(13), tensor(28739), tensor(28741), tensor(23598), tensor(6088), tensor(28723), tensor(1306), tensor(28742), tensor(267), tensor(264), tensor(2112), tensor(302), tensor(351), tensor(786), tensor(6277), tensor(7221), tensor(315), tensor(28742), tensor(28719), tensor(3210), tensor(8987), tensor(302), tensor(28739), tensor(13), tensor(13), tensor(28739), tensor(2501), tensor(28725), tensor(6979), tensor(368), tensor(862), tensor(773), tensor(11962), tensor(18407), tensor(266), tensor(357), tensor(455), tensor(5256), tensor(346), tensor(28725), tensor(390), tensor(2070), tensor(630), tensor(1539), tensor(28742), tensor(28707), tensor(13), tensor(24036), tensor(456), tensor(403), tensor(272), tensor(2470), tensor(354), tensor(23598), tensor(17472), tensor(28723), tensor(345), tensor(2198), tensor(315), tensor(1315), tensor(28725), tensor(1019), tensor(513), tensor(13), tensor(1976), tensor(28733), tensor(28796), tensor(3306), tensor(28733), tensor(11447), tensor(659), tensor(4214), tensor(387), tensor(28739), tensor(13), tensor(13), tensor(28739), tensor(5183), tensor(13095), tensor(11962), tensor(28725), tensor(13836), tensor(264), tensor(26581), tensor(1338), tensor(737), tensor(3936), tensor(541), tensor(1034), tensor(713), tensor(13), tensor(1403), tensor(516), tensor(1141), tensor(28804), tensor(1682), tensor(456), tensor(464), tensor(1976), tensor(28733), tensor(11308), tensor(28733), tensor(11447), tensor(28742), tensor(27077), tensor(1939), tensor(354), tensor(19806), tensor(1267), tensor(315), tensor(13), tensor(15378), tensor(750), tensor(2942), tensor(298), tensor(14861), tensor(770), tensor(905), tensor(298), tensor(1034), tensor(713), tensor(486), tensor(516), tensor(4979), tensor(1141), tensor(28747), tensor(13), tensor(28790), tensor(738), tensor(366), tensor(419), tensor(611), tensor(11962), tensor(18407), tensor(266), tensor(357), tensor(455), tensor(972), tensor(262), tensor(1572), tensor(28725), tensor(562), tensor(384), tensor(12802), tensor(431), tensor(28725), tensor(693), tensor(403), tensor(13), tensor(12134), tensor(16402), tensor(989), tensor(23598), tensor(17472), tensor(28725), tensor(3593), tensor(459), tensor(298), tensor(5640), tensor(28723), tensor(345), tensor(1313), tensor(544), tensor(4739), tensor(579), tensor(13), tensor(5552), tensor(8521), tensor(513), tensor(478), tensor(1840), tensor(3677), tensor(464), tensor(1976), tensor(28733), tensor(28796), tensor(3306), tensor(28733), tensor(11447), tensor(1815), tensor(315), tensor(506), tensor(1484), tensor(2598), tensor(707), tensor(2611), tensor(13), tensor(532), tensor(347), tensor(23889), tensor(302), tensor(3677), tensor(550), tensor(738), tensor(366), tensor(419), tensor(28742), tensor(28713), tensor(1141), tensor(28723), tensor(13), tensor(13), tensor(28739), tensor(28737), tensor(873), tensor(368), tensor(6253), tensor(464), tensor(28707), tensor(28725), tensor(773), tensor(11962), tensor(18407), tensor(266), tensor(357), tensor(455), tensor(28725), tensor(2622), tensor(288), tensor(2795), tensor(13), tensor(720), tensor(25177), tensor(601), tensor(28725), tensor(2795), tensor(5055), tensor(5549), tensor(28723), tensor(345), tensor(2438), tensor(368), tensor(28742), tensor(267), tensor(1581), tensor(28723), tensor(11773), tensor(5960), tensor(368), tensor(28742), tensor(267), tensor(13), tensor(1237), tensor(865), tensor(624), tensor(995), tensor(28733), tensor(28796), tensor(3306), tensor(28733), tensor(11621), tensor(28725), tensor(544), tensor(1103), tensor(28725), tensor(550), tensor(738), tensor(366), tensor(419), tensor(28725), tensor(403), tensor(23889), tensor(302), tensor(611), tensor(13), tensor(13), tensor(28739), tensor(1976), tensor(972), tensor(2466), tensor(528), tensor(862), tensor(773), tensor(384), tensor(12802), tensor(431), tensor(10325), tensor(346), tensor(28723), tensor(345), tensor(28790), tensor(738), tensor(366), tensor(419), tensor(553), tensor(11750), tensor(315), tensor(622), tensor(13), tensor(8174), tensor(506), tensor(611), tensor(13), tensor(13), tensor(28739), tensor(8390), tensor(1096), tensor(368), tensor(28742), tensor(267), tensor(1368), tensor(1939), tensor(1162), tensor(1939), tensor(19343), tensor(298), tensor(938), tensor(706), tensor(611), tensor(13), tensor(13), tensor(28739), tensor(1313), tensor(28742), tensor(28713), tensor(11977), tensor(378), tensor(28742), tensor(28713), tensor(3199), tensor(28723), tensor(315), tensor(6253), tensor(28742), tensor(28707), tensor(843), tensor(5204), tensor(579), tensor(1188), tensor(1854), tensor(5311), tensor(314), tensor(19015), tensor(28722), tensor(6439), tensor(13), tensor(28707), tensor(738), tensor(528), tensor(630), tensor(8232), tensor(586), tensor(633), tensor(317), tensor(1785), tensor(27355), tensor(611), tensor(13), tensor(13), tensor(933), tensor(28722), tensor(409), tensor(271), tensor(18407), tensor(266), tensor(357), tensor(455), tensor(5180), tensor(264), tensor(10227), tensor(913), tensor(438), tensor(384), tensor(12802), tensor(431), tensor(304), tensor(773), tensor(28725), tensor(345), tensor(1014), tensor(289), tensor(28727), tensor(4911), tensor(13), tensor(492), tensor(2511), tensor(1679), tensor(298), tensor(272), tensor(10203), tensor(734), tensor(369), tensor(460), tensor(11470), tensor(1401), tensor(28723), tensor(995), tensor(873), tensor(767), tensor(13), tensor(19662), tensor(538), tensor(28742), tensor(28713), tensor(3677), tensor(28804), tensor(7634), tensor(2079), tensor(400), tensor(28742), tensor(28713), tensor(14746), tensor(28804), tensor(7634), tensor(767), tensor(4251), tensor(13), tensor(6898), tensor(1973), tensor(713), tensor(1110), tensor(13), tensor(13), tensor(1313), tensor(3593), tensor(369), tensor(11962), tensor(18407), tensor(266), tensor(357), tensor(455), tensor(553), tensor(5048), tensor(272), tensor(1305), tensor(630), tensor(403), tensor(1080), tensor(13), tensor(276), tensor(28744), tensor(925), tensor(298), tensor(3342), tensor(28725), tensor(272), tensor(1353), tensor(2611), tensor(630), tensor(553), tensor(750), tensor(5345), tensor(356), tensor(264), tensor(5256), tensor(28725), tensor(1856), tensor(13), tensor(11653), tensor(544), tensor(1370), tensor(28725), tensor(354), tensor(9159), tensor(390), tensor(264), tensor(5255), tensor(4678), tensor(390), tensor(264), tensor(2971), tensor(553), tensor(630), tensor(6321), tensor(13), tensor(28757), tensor(12802), tensor(431), tensor(395), tensor(1259), tensor(264), tensor(10833), tensor(4669), tensor(19696), tensor(390), tensor(630), tensor(863), tensor(1055), tensor(28723), tensor(661), tensor(403), tensor(10835), tensor(369), tensor(13), tensor(1456), tensor(4651), tensor(345), tensor(19662), tensor(538), tensor(28739), tensor(403), tensor(3677), tensor(28725), tensor(630), tensor(403), tensor(459), tensor(1404), tensor(298), tensor(3091), tensor(378), tensor(1996), tensor(13), tensor(28757), tensor(12802), tensor(431), tensor(2240), tensor(559), tensor(378), tensor(403), tensor(1132), tensor(28723), tensor(384), tensor(12802), tensor(431), tensor(28725), tensor(3545), tensor(28725), tensor(403), tensor(14517), tensor(13), tensor(276), tensor(1039), tensor(23598), tensor(6088), tensor(304), tensor(863), tensor(459), tensor(4372), tensor(28723), tensor(13), tensor(13), tensor(28739), tensor(3195), tensor(590), tensor(28742), tensor(267), tensor(3677), tensor(862), tensor(630), tensor(12263), tensor(356), tensor(28725), tensor(345), tensor(278), tensor(369), tensor(1432), tensor(2125), tensor(550), tensor(738), tensor(366), tensor(419), tensor(13), tensor(499), tensor(286), tensor(582), tensor(297), tensor(2499), tensor(1491), tensor(28742), tensor(28713), tensor(382), tensor(1257), tensor(28723), tensor(650), tensor(2068), tensor(298), tensor(1300), tensor(272), tensor(10650), tensor(1532), tensor(28723), tensor(415), tensor(10203), tensor(271), tensor(349), tensor(13), tensor(6087), tensor(25492), tensor(304), tensor(4797), tensor(10650), tensor(360), tensor(460), tensor(1939), tensor(460), tensor(1939), tensor(369), tensor(590), tensor(28742), tensor(267), tensor(1939), tensor(3694), tensor(28723), tensor(345), tensor(13), tensor(13), tensor(28757), tensor(12802), tensor(431), tensor(6447), tensor(286), tensor(516), tensor(1335), tensor(28723), tensor(11962), tensor(18407), tensor(266), tensor(357), tensor(455), tensor(5135), tensor(1973), tensor(28723), tensor(13), tensor(13), tensor(28739), tensor(28758), tensor(1106), tensor(304), tensor(4797), tensor(1101), tensor(315), tensor(541), tensor(28742), tensor(28707), tensor(3091), tensor(378), tensor(1101), tensor(315), tensor(1539), tensor(28742), tensor(28707), tensor(947), tensor(298)], [tensor(3091), tensor(378), tensor(1101), tensor(13), tensor(6155), tensor(28725), tensor(976), tensor(6383), tensor(7508), tensor(13), tensor(13), tensor(28757), tensor(12802), tensor(431), tensor(5048), tensor(575), tensor(304), tensor(284), tensor(11985), tensor(559), tensor(356), tensor(272), tensor(7793), tensor(28723), tensor(345), tensor(28737), tensor(873), tensor(1101), tensor(315), tensor(13), tensor(19726), tensor(7508), tensor(400), tensor(773), tensor(12759), tensor(28723), tensor(13), tensor(13), tensor(933), tensor(28722), tensor(409), tensor(271), tensor(18407), tensor(266), tensor(357), tensor(455), tensor(28742), tensor(28713), tensor(3441), tensor(11248), tensor(9704), tensor(390), tensor(630), tensor(2068), tensor(356), tensor(28723), tensor(345), tensor(3840), tensor(28742), tensor(28713), tensor(459), tensor(544), tensor(28723), tensor(13), tensor(6037), tensor(28742), tensor(267), tensor(3677), tensor(400), tensor(3851), tensor(298), tensor(4015), tensor(272), tensor(10650), tensor(360), tensor(28742), tensor(28713), tensor(1966), tensor(28725), tensor(9726), tensor(28723), tensor(1092), tensor(1939), tensor(400), tensor(13), tensor(25327), tensor(28711), tensor(28742), tensor(28707), tensor(28723), tensor(650), tensor(3481), tensor(28742), tensor(28707), tensor(4015), tensor(369), tensor(1628), tensor(4531), tensor(28723), tensor(1770), tensor(624), tensor(5960), tensor(2079), tensor(28725), tensor(442), tensor(910), tensor(28725), tensor(13), tensor(2391), tensor(590), tensor(28742), tensor(267), tensor(3677), tensor(369), tensor(739), tensor(400), tensor(3481), tensor(28742), tensor(28707), tensor(4015), tensor(9726), tensor(10650), tensor(360), tensor(28725), tensor(550), tensor(738), tensor(366), tensor(419), tensor(28742), tensor(28713), tensor(13), tensor(6468), tensor(9864), tensor(8845), tensor(1939), tensor(304), tensor(369), tensor(28742), tensor(28713), tensor(2079), tensor(400), tensor(28742), tensor(28713), tensor(4214), tensor(28723), tensor(13), tensor(13), tensor(28757), tensor(12802), tensor(431), tensor(7313), tensor(1272), tensor(383), tensor(346), tensor(28723), tensor(13), tensor(13), tensor(28739), tensor(1313), tensor(28742), tensor(28713), tensor(1939), tensor(378), tensor(28742), tensor(28713), tensor(1132), tensor(1110), tensor(15780), tensor(8308), tensor(11962), tensor(18407), tensor(266), tensor(357), tensor(455), tensor(28723), tensor(345), tensor(9169), tensor(544), tensor(400), tensor(28742), tensor(28713), tensor(13), tensor(10381), tensor(1101), tensor(544), tensor(272), tensor(905), tensor(400), tensor(28742), tensor(28713), tensor(5582), tensor(1101), tensor(400), tensor(3481), tensor(28742), tensor(28707), tensor(4015), tensor(264), tensor(1628), tensor(4531), tensor(28804), tensor(13), tensor(1313), tensor(28742), tensor(28713), tensor(776), tensor(9597), tensor(687), tensor(288), tensor(1101), tensor(302), tensor(544), tensor(272), tensor(1722), tensor(298), tensor(2115), tensor(713), tensor(1101), tensor(562), tensor(910), tensor(297), tensor(272), tensor(13), tensor(861), tensor(302), tensor(14591), tensor(863), tensor(9726), tensor(13145), tensor(1110), tensor(13), tensor(13), tensor(28739), tensor(2324), tensor(541), tensor(865), tensor(5102), tensor(862), tensor(773), tensor(384), tensor(12802), tensor(431), tensor(28723), tensor(345), tensor(2324), tensor(993), tensor(1484), tensor(873), tensor(611), tensor(13), tensor(13), tensor(933), tensor(28722), tensor(409), tensor(271), tensor(18407), tensor(266), tensor(357), tensor(455), tensor(5822), tensor(575), tensor(264), tensor(305), tensor(561), tensor(1021), tensor(5156), tensor(338), tensor(3417), tensor(304), tensor(281), tensor(375), tensor(3101), tensor(438), tensor(559), tensor(13), tensor(1437), tensor(274), tensor(10042), tensor(559), tensor(5203), tensor(14395), tensor(28723), tensor(384), tensor(12802), tensor(431), tensor(3395), tensor(264), tensor(1598), tensor(27098), tensor(390), tensor(400), tensor(2056), tensor(264), tensor(13), tensor(27783), tensor(269), tensor(3054), tensor(477), tensor(516), tensor(10585), tensor(304), tensor(21132), tensor(378), tensor(28723), tensor(661), tensor(403), tensor(264), tensor(1215), tensor(6939), tensor(3054), tensor(28723), tensor(13), tensor(1313), tensor(553), tensor(13153), tensor(3038), tensor(562), tensor(708), tensor(5551), tensor(28745), tensor(3519), tensor(28725), tensor(1628), tensor(28312), tensor(654), tensor(5272), tensor(13), tensor(20886), tensor(272), tensor(5358), tensor(28723), tensor(661), tensor(1580), tensor(506), tensor(1269), tensor(3367), tensor(298), tensor(384), tensor(12802), tensor(431), tensor(28725), tensor(2070), tensor(28725), tensor(1096), tensor(13), tensor(265), tensor(1658), tensor(378), tensor(852), tensor(297), tensor(516), tensor(10585), tensor(304), tensor(773), tensor(28725), tensor(345), tensor(28769), tensor(357), tensor(3361), tensor(28742), tensor(28713), tensor(3909), tensor(28723), tensor(315), tensor(10361), tensor(378), tensor(403), tensor(13), tensor(265), tensor(693), tensor(2240), tensor(368), tensor(315), tensor(28742), tensor(28715), tensor(347), tensor(1236), tensor(28725), tensor(486), tensor(272), tensor(1069), tensor(1110), tensor(13), tensor(13), tensor(28739), tensor(5613), tensor(862), tensor(773), tensor(11962), tensor(18407), tensor(266), tensor(357), tensor(455), tensor(28723), tensor(345), tensor(2467), tensor(315), tensor(949), tensor(28742), tensor(28707), tensor(10361), tensor(368), tensor(28742), tensor(267), tensor(1404), tensor(298), tensor(13), tensor(28707), tensor(479), tensor(528), tensor(2079), tensor(368), tensor(28742), tensor(267), tensor(1236), tensor(28725), tensor(302), tensor(544), tensor(5563), tensor(1110), tensor(13), tensor(13), tensor(28739), tensor(28737), tensor(28742), tensor(333), tensor(1567), tensor(298), tensor(2968), tensor(9726), tensor(298), tensor(516), tensor(23785), tensor(304), tensor(17380), tensor(28723), tensor(1306), tensor(28742), tensor(267), tensor(272), tensor(865), tensor(2005), tensor(13), tensor(265), tensor(659), tensor(1749), tensor(1055), tensor(611), tensor(13), tensor(13), tensor(28739), tensor(1976), tensor(949), tensor(28742), tensor(28707), tensor(2072), tensor(1939), tensor(368), tensor(541), tensor(28742), tensor(28707), tensor(2072), tensor(272), tensor(905), tensor(693), tensor(2943), tensor(1236), tensor(1110), tensor(13714), tensor(13), tensor(933), tensor(28722), tensor(409), tensor(271), tensor(18407), tensor(266), tensor(357), tensor(455), tensor(28725), tensor(23058), tensor(298), tensor(559), tensor(4051), tensor(304), tensor(14858), tensor(438), tensor(1474), tensor(2308), tensor(28723), tensor(13), tensor(28739), tensor(28757), tensor(12802), tensor(431), tensor(1939), tensor(368), tensor(541), tensor(28742), tensor(28707), tensor(28723), tensor(315), tensor(28742), tensor(333), tensor(750), tensor(6265), tensor(706), tensor(544), tensor(1370), tensor(28723), tensor(995), tensor(3481), tensor(28742), tensor(28707), tensor(13), tensor(3326), tensor(989), tensor(905), tensor(693), tensor(460), tensor(2108), tensor(737), tensor(592), tensor(28723), tensor(1015), tensor(590), tensor(28742), tensor(333), tensor(1433), tensor(456), tensor(1966), tensor(1939), tensor(315), tensor(2672), tensor(13), tensor(24669), tensor(28642), tensor(516), tensor(3057), tensor(544), tensor(272), tensor(1069), tensor(582), tensor(272), tensor(5948), tensor(28725), tensor(19455), tensor(354), tensor(4017), tensor(1468), tensor(28723), tensor(13), tensor(28769), tensor(12255), tensor(10650), tensor(360), tensor(1567), tensor(304), tensor(2943), tensor(1236), tensor(2781), tensor(13), tensor(13), tensor(28739), tensor(1313), tensor(28742), tensor(28713), tensor(272), tensor(1489), tensor(1633), tensor(354), tensor(713), tensor(862), tensor(773), tensor(384), tensor(12802), tensor(431), tensor(19321), tensor(28723), tensor(345), tensor(21860), tensor(23785), tensor(304), tensor(13), tensor(370), tensor(1812), tensor(622), tensor(347), tensor(2358), tensor(298), tensor(7282), tensor(2905), tensor(298), tensor(713), tensor(739), tensor(400), tensor(28742), tensor(28713), tensor(6402), tensor(28723), tensor(315), tensor(28742), tensor(333), tensor(13), tensor(15957), tensor(706), tensor(264), tensor(5498), tensor(611), tensor(13), tensor(13), tensor(28739), tensor(28741), tensor(5498), tensor(1110), tensor(9332), tensor(11962), tensor(18407), tensor(266), tensor(357), tensor(455), tensor(16603), tensor(346), tensor(28725), tensor(6398), tensor(852), tensor(1060), tensor(356), tensor(13), tensor(1237), tensor(3500), tensor(28723), tensor(345), tensor(1925), tensor(578), tensor(28725), tensor(384), tensor(12802), tensor(431), tensor(28725), tensor(368), tensor(1073), tensor(368), tensor(541), tensor(7282), tensor(544), tensor(456), tensor(297), tensor(264), tensor(13), tensor(15867), tensor(28804), tensor(2957), tensor(905), tensor(622), tensor(1484), tensor(2380), tensor(713), tensor(28808), tensor(650), tensor(28742), tensor(584), tensor(347), tensor(8376), tensor(1939), tensor(264), tensor(13), tensor(1946), tensor(416), tensor(1939), tensor(315), tensor(4048), tensor(28742), tensor(28707), tensor(347), tensor(8557), tensor(513), tensor(3154), tensor(403), tensor(2651), tensor(390), tensor(9726), tensor(10650), tensor(360), tensor(1370), tensor(13), tensor(262), tensor(272), tensor(3437), tensor(1939), tensor(736), tensor(622), tensor(347), tensor(4796), tensor(4241), tensor(684), tensor(9726), tensor(1939), tensor(1012), tensor(1502), tensor(13), tensor(262), tensor(813), tensor(1526), tensor(622), tensor(873), tensor(516), tensor(1141), tensor(2781), tensor(13), tensor(13), tensor(28739), tensor(966), tensor(19241), tensor(862), tensor(773), tensor(384), tensor(12802), tensor(431), tensor(28725), tensor(2526), tensor(1215), tensor(10160), tensor(754), tensor(272), tensor(1830), tensor(302), tensor(516), tensor(13), tensor(18582), tensor(28733), tensor(28719), tensor(4973), tensor(16014), tensor(28723), tensor(345), tensor(1313), tensor(682), tensor(347), tensor(2066), tensor(298), tensor(1527), tensor(707), tensor(4531), tensor(28742), tensor(28713), tensor(1335), tensor(28723), tensor(401), tensor(22226), tensor(13), tensor(12098), tensor(400), tensor(541), tensor(2338), tensor(304), tensor(1985), tensor(28808), tensor(401), tensor(22226), tensor(354), tensor(1545), tensor(400), tensor(1747), tensor(28742), tensor(28707), tensor(1019), tensor(13), tensor(1569), tensor(1314), tensor(28808), tensor(2364), tensor(28741), tensor(368), tensor(1032), tensor(910), tensor(1188), tensor(1873), tensor(805), tensor(400), tensor(28742), tensor(584), tensor(347), tensor(28725), tensor(6485), tensor(582), tensor(1753), tensor(13), tensor(3211), tensor(544), tensor(369), tensor(1996), tensor(400), tensor(28742), tensor(28713), tensor(4313), tensor(298), tensor(1388), tensor(378), tensor(1110), tensor(13), tensor(13), tensor(933), tensor(28722), tensor(409), tensor(271), tensor(18407), tensor(266), tensor(357), tensor(455), tensor(4923), tensor(559), tensor(5108), tensor(28725), tensor(4648), tensor(559), tensor(2273), tensor(28725), tensor(23946), tensor(28725), tensor(304), tensor(13), tensor(5863), tensor(773), tensor(28725), tensor(345), tensor(5613), tensor(1939), tensor(5081), tensor(28725), tensor(368), tensor(28742), tensor(267), tensor(1103), tensor(28725), tensor(302), tensor(2363), tensor(28723), tensor(1092), tensor(910), tensor(349), tensor(272), tensor(4531), tensor(13), tensor(527), tensor(1157), tensor(1236), tensor(28725), tensor(384), tensor(12802), tensor(431), tensor(1110), tensor(985), tensor(1746), tensor(286), tensor(516), tensor(23390), tensor(491), tensor(6914), tensor(390), tensor(2070), tensor(630), tensor(13), tensor(362), tensor(1322), tensor(400), tensor(1659), tensor(347), tensor(16622), tensor(9726), tensor(21901), tensor(378), tensor(28723), tensor(13), tensor(13), tensor(28739), tensor(28769), tensor(357), tensor(3361), tensor(28742), tensor(28713), tensor(10279), tensor(713), tensor(611), tensor(13), tensor(13), tensor(28739), tensor(1976), tensor(1073), tensor(378), tensor(1939), tensor(16446), tensor(1939), tensor(298), tensor(4893), tensor(382), tensor(357), tensor(3361), tensor(395), tensor(1545), tensor(390), tensor(2278), tensor(390), tensor(13), tensor(894), tensor(1110), tensor(13), tensor(13), tensor(28737), tensor(682), tensor(4893), tensor(382), tensor(357), tensor(3361), tensor(395), tensor(586), tensor(1411), tensor(862), tensor(773), tensor(384), tensor(12802), tensor(431), tensor(28723), tensor(13), tensor(13), tensor(28739), tensor(28737), tensor(28742), tensor(28719), tensor(459), tensor(3677), tensor(516), tensor(3031), tensor(3157), tensor(28742), tensor(28707), tensor(297), tensor(272), tensor(1103), tensor(1633), tensor(862), tensor(773), tensor(11962), tensor(13), tensor(28641), tensor(28777), tensor(266), tensor(357), tensor(455), tensor(24332), tensor(3080), tensor(346), tensor(28725), tensor(345), tensor(2391), tensor(368), tensor(541), tensor(28742), tensor(28707), tensor(19192), tensor(400), tensor(28742), tensor(28713), tensor(459), tensor(1656), tensor(1503), tensor(28723), tensor(650), tensor(1235), tensor(13), tensor(28707), tensor(416), tensor(298), tensor(1939), tensor(767), tensor(403), tensor(369), tensor(1110), tensor(13), tensor(13), tensor(28741), tensor(2859), tensor(10203), tensor(6357), tensor(2622), tensor(553), tensor(7098), tensor(272), tensor(9296), tensor(1401), tensor(706), tensor(28723), tensor(661), tensor(8108), tensor(13), tensor(28277), tensor(1106), tensor(20280), tensor(826), tensor(390), tensor(590), tensor(2382), tensor(582), tensor(304), tensor(1060), tensor(272), tensor(5948), tensor(354), tensor(741), tensor(1492), tensor(302), tensor(264), tensor(13), tensor(1811), tensor(3646), tensor(28745), tensor(378), tensor(1719), tensor(6099), tensor(298), tensor(264), tensor(712), tensor(283), tensor(390), tensor(590), tensor(1560), tensor(2382), tensor(582), tensor(438), tensor(272), tensor(7212), tensor(1939), tensor(304), tensor(13), tensor(28708), tensor(5401), tensor(8609), tensor(15660), tensor(5970), tensor(575), tensor(302), tensor(272), tensor(2423), tensor(304), tensor(16787), tensor(356), tensor(272), tensor(3878), tensor(297), tensor(2778), tensor(302), tensor(13), tensor(1237), tensor(28719), tensor(28723), tensor(13), tensor(13), tensor(3381), tensor(272), tensor(8609), tensor(15660), tensor(403), tensor(5401), tensor(28725), tensor(378), tensor(403), tensor(2511), tensor(298), tensor(272), tensor(676), tensor(6398), tensor(15311), tensor(547), tensor(13), tensor(279), tensor(28723), tensor(650), tensor(403), tensor(2779), tensor(8660), tensor(390), tensor(9369), tensor(390), tensor(264), tensor(4123), tensor(676), tensor(304), tensor(438), tensor(2429), tensor(3359), tensor(2421), tensor(13), tensor(293), tensor(5335), tensor(28723), tensor(650), tensor(2382), tensor(3768), tensor(1368), tensor(2032), tensor(298), tensor(347), tensor(4670), tensor(28725), tensor(304), tensor(579), tensor(6107), tensor(387), tensor(1043), tensor(13), tensor(28707), tensor(21744), tensor(302), tensor(25516), tensor(28724), tensor(2687), tensor(3691), tensor(304), tensor(25293), tensor(18750), tensor(1080), tensor(302), tensor(516), tensor(2105), tensor(28725), tensor(400), tensor(553), tensor(3038), tensor(13), tensor(1237), tensor(1669), tensor(302), tensor(17466), tensor(541), tensor(305), tensor(2298), tensor(28725), tensor(304), tensor(516), tensor(4051), tensor(297), tensor(652), tensor(13508), tensor(15674), tensor(654), tensor(13), tensor(4091), tensor(5982), tensor(13824), tensor(721), tensor(1126), tensor(28723), tensor(560), tensor(516), tensor(9555), tensor(28725), tensor(2009), tensor(12723), tensor(5574), tensor(400), tensor(403), tensor(6632), tensor(264), tensor(15484), tensor(13), tensor(1009), tensor(9522), tensor(1468), tensor(28723), tensor(13), tensor(13), tensor(28739), tensor(28769), tensor(357), tensor(3361), tensor(862), tensor(773), tensor(384), tensor(12802), tensor(431), tensor(28725), tensor(2622), tensor(288), tensor(23564), tensor(28723), tensor(345), tensor(3167), tensor(1432), tensor(28723), tensor(1015), tensor(970), tensor(863), tensor(13), tensor(7020), tensor(625), tensor(369), tensor(8609), tensor(15660), tensor(1110), tensor(13), tensor(13), tensor(28739), tensor(28760), tensor(6300), tensor(286), tensor(378), tensor(28725), tensor(11962), tensor(384), tensor(12802), tensor(431), tensor(28725), tensor(1943), tensor(862), tensor(773), tensor(272), tensor(12351), tensor(28725), tensor(20873), tensor(13), tensor(8001), tensor(3071), tensor(805), tensor(272), tensor(8609), tensor(15660), tensor(390), tensor(400), tensor(7310), tensor(28723), tensor(345), tensor(1976), tensor(817), tensor(8351), tensor(3170), tensor(4777), tensor(305), tensor(308), tensor(378), tensor(298), tensor(13), tensor(1127), tensor(28723), tensor(315), tensor(28742), tensor(333), tensor(1433), tensor(713), tensor(28725), tensor(10116), tensor(611), tensor(13), tensor(13), tensor(28739), tensor(2501), tensor(4418), tensor(28725), tensor(654), tensor(736), tensor(1110), tensor(13), tensor(13), tensor(28739), tensor(2501), tensor(28725), tensor(10116), tensor(1939), tensor(2134), tensor(403), tensor(2779), tensor(11575), tensor(28725), tensor(562), tensor(315), tensor(1433), tensor(713), tensor(575), tensor(544), tensor(1103), tensor(13), tensor(12098), tensor(272), tensor(351), tensor(786), tensor(16984), tensor(2774), tensor(1719), tensor(283), tensor(1240), tensor(28742), tensor(1401), tensor(28723), tensor(650), tensor(5970), tensor(15231), tensor(390), tensor(478), tensor(403), tensor(13), tensor(16210), tensor(262), tensor(28742), tensor(754), tensor(27628), tensor(328), tensor(611), tensor(13), tensor(13), tensor(28757), tensor(12802), tensor(431), tensor(304), tensor(11962), tensor(18407), tensor(266), tensor(357), tensor(455), tensor(16127), tensor(3814), tensor(754), tensor(272), tensor(15484), tensor(302), tensor(13), tensor(15387), tensor(1468), tensor(28723), tensor(20726), tensor(28725), tensor(776), tensor(9141), tensor(28725), tensor(403), tensor(264), tensor(5982), tensor(4531), tensor(28725), tensor(4102), tensor(15231), tensor(28723), tensor(6605), tensor(264), tensor(13), tensor(17512), tensor(632), tensor(302), tensor(14471), tensor(28733), tensor(10323), tensor(3691), tensor(754), tensor(516), tensor(18522), tensor(590), tensor(829), tensor(1032), tensor(264), tensor(1191), tensor(7990), tensor(13), tensor(21501), tensor(3119), tensor(28725), tensor(737), tensor(264), tensor(24610), tensor(302), tensor(25456), tensor(28723), tensor(13), tensor(13), tensor(28739), tensor(2301), tensor(369), tensor(970), tensor(387), tensor(1110), tensor(12916), tensor(11962), tensor(18407), tensor(266), tensor(357), tensor(455), tensor(28723), tensor(13), tensor(13), tensor(28739), tensor(5613), tensor(862), tensor(773), tensor(384), tensor(12802), tensor(431), tensor(28723), tensor(345), tensor(2428), tensor(28742), tensor(584), tensor(506), tensor(369), tensor(13356), tensor(10739), tensor(611), tensor(13), tensor(13), tensor(28739), tensor(17024), tensor(28711), tensor(28742), tensor(28707), tensor(368), tensor(511), tensor(1545), tensor(684), tensor(378), tensor(28725), tensor(384), tensor(12802), tensor(431), tensor(1110), tensor(13), tensor(13), tensor(28739), tensor(20520), tensor(513), tensor(315), tensor(829), tensor(28725), tensor(315), tensor(4048), tensor(28742), tensor(28707), tensor(28723), tensor(2522), tensor(1168), tensor(541), tensor(1567), tensor(297), tensor(26568), tensor(28723), tensor(315), tensor(506), tensor(624), tensor(3561), tensor(13), tensor(375), tensor(751), tensor(586), tensor(1749), tensor(16229), tensor(369), tensor(349), tensor(264), tensor(3659), tensor(3341), tensor(302), tensor(272), tensor(4222), tensor(6605), tensor(2812), tensor(28723), tensor(4673), tensor(13), tensor(376), tensor(2111), tensor(713), tensor(1236), tensor(28725), tensor(382), tensor(357), tensor(3361), tensor(1939), tensor(478), tensor(28742), tensor(28715), tensor(1873), tensor(625), tensor(456), tensor(754), tensor(395), tensor(611), tensor(13), tensor(13), tensor(28757), tensor(12802), tensor(431), tensor(2056), tensor(9726), tensor(297), tensor(516), tensor(5574), tensor(304), tensor(2897), tensor(4112), tensor(272), tensor(384), tensor(1726), tensor(291), tensor(846), tensor(28742), tensor(2134), tensor(28723), tensor(13), tensor(13), tensor(28739), tensor(17024), tensor(315), tensor(1939), tensor(829), tensor(315), tensor(1315), tensor(1179), tensor(28733), tensor(17664), tensor(298), tensor(713), tensor(28725), tensor(10116), tensor(1110), tensor(2261), tensor(382), tensor(357), tensor(3361), tensor(28723), tensor(650), tensor(16127), tensor(516), tensor(13), tensor(28721), tensor(836), tensor(28725), tensor(480), tensor(357), tensor(1495), tensor(1335), tensor(754), tensor(9726), tensor(304), tensor(3395), tensor(713), tensor(767), tensor(1580), tensor(506), tensor(750), tensor(264), tensor(1215), tensor(13), tensor(10426), tensor(855), tensor(28724), tensor(28725), tensor(26898), tensor(1193), tensor(8374), tensor(28723), tensor(2479), tensor(28725), tensor(6914), tensor(28725), tensor(382), tensor(357), tensor(3361), tensor(1346), tensor(575), tensor(264), tensor(910), tensor(28714), tensor(737), tensor(264), tensor(13), tensor(28727), tensor(687), tensor(286), tensor(3914), tensor(28723), tensor(13), tensor(13), tensor(28739), tensor(1981), tensor(12653), tensor(2781), tensor(516), tensor(10192), tensor(11962), tensor(18407), tensor(266), tensor(357), tensor(455), tensor(28725), tensor(345), tensor(7020), tensor(28742), tensor(584), tensor(11088), tensor(272), tensor(351), tensor(786), tensor(16984), tensor(2781), tensor(13), tensor(13), tensor(28739), tensor(28735), tensor(28733), tensor(28713), tensor(28733), tensor(6264), tensor(643), tensor(862), tensor(579), tensor(1754), tensor(286), tensor(382), tensor(357), tensor(3361), tensor(28725), tensor(3344), tensor(575), tensor(264), tensor(2475), tensor(28725), tensor(20958), tensor(1021), tensor(5156), tensor(338), tensor(3417), tensor(304), tensor(13), tensor(12272), tensor(288), tensor(516), tensor(2105), tensor(297), tensor(378), tensor(28723), tensor(345), tensor(2438), tensor(315), tensor(277), tensor(28733), tensor(28717), tensor(28733), tensor(4230), tensor(28742), tensor(28707), tensor(1876), tensor(378), tensor(1939), tensor(25492), tensor(396), tensor(28742), tensor(4797), tensor(3694), tensor(13), tensor(376), tensor(396), tensor(28742), tensor(5366), tensor(1628), tensor(9726), tensor(805), tensor(3636), tensor(2943), tensor(395), tensor(351), tensor(786), tensor(16984), tensor(387), tensor(28739), tensor(13), tensor(13), tensor(28739), tensor(5613), tensor(28725), tensor(5081), tensor(28725), tensor(378), tensor(28742), tensor(28713), tensor(544), tensor(1215), tensor(7456), tensor(28725), tensor(562), tensor(625), tensor(264), tensor(16593), tensor(356), tensor(3936), tensor(28725), tensor(382), tensor(357), tensor(3361), tensor(28725), tensor(442), tensor(13), tensor(769), tensor(28742), tensor(584), tensor(347), tensor(1419), tensor(862), tensor(11962), tensor(18407), tensor(266), tensor(357), tensor(455), tensor(12916), tensor(28725), tensor(284), tensor(14758), tensor(382), tensor(357), tensor(3361), tensor(319), tensor(4576), tensor(346), tensor(13), tensor(266), tensor(272), tensor(3648), tensor(390), tensor(384), tensor(12802), tensor(431), tensor(9593), tensor(754), tensor(272), tensor(2859), tensor(8759), tensor(3500), tensor(304), tensor(5610), tensor(298), tensor(13), tensor(1237), tensor(2778), tensor(2251), tensor(28723), tensor(650), tensor(10535), tensor(9726), tensor(14259), tensor(356), tensor(272), tensor(2251), tensor(7691), tensor(28725), tensor(2056), tensor(264), tensor(5498), tensor(575), tensor(13), tensor(1009), tensor(516), tensor(23390), tensor(491), tensor(28725), tensor(26391), tensor(378), tensor(3416), tensor(9726), tensor(28742), tensor(28713), tensor(9522), tensor(1468), tensor(28725), tensor(304), tensor(868), tensor(1988), tensor(852), tensor(298), tensor(13), tensor(1237), tensor(799), tensor(989), tensor(28723), tensor(1263), tensor(264), tensor(2173), tensor(7117), tensor(272), tensor(1712), tensor(302), tensor(706), tensor(4857), tensor(304), tensor(2382), tensor(438), tensor(13), tensor(1237), tensor(1628), tensor(15484), tensor(28745), tensor(382), tensor(357), tensor(3361), tensor(28742), tensor(28713), tensor(10693), tensor(7989), tensor(28725), tensor(11962), tensor(18407), tensor(266), tensor(357), tensor(455), tensor(13), tensor(1231), tensor(655), tensor(286), tensor(2982), tensor(7990), tensor(28725), tensor(304), tensor(272), tensor(2323), tensor(655), tensor(1905), tensor(2061), tensor(369), tensor(4312), tensor(480), tensor(538), tensor(477), tensor(13), tensor(28757), tensor(12802), tensor(431), tensor(28742), tensor(28713), tensor(2282), tensor(3593), tensor(298), tensor(506), tensor(4214), tensor(575), tensor(28723), tensor(13), tensor(13), tensor(28739), tensor(6824), tensor(862), tensor(773), tensor(384), tensor(12802), tensor(431), tensor(4251), tensor(28725), tensor(345), tensor(6087), tensor(28742), tensor(28713), tensor(369), tensor(28723), tensor(816), tensor(28742), tensor(333), tensor(708), tensor(1955), tensor(13465), tensor(13), tensor(7750), tensor(28723), tensor(816), tensor(993), tensor(390), tensor(1162), tensor(576), tensor(304), tensor(5175), tensor(272), tensor(5903), tensor(697), tensor(611), tensor(13), tensor(13), tensor(28739), tensor(12204), tensor(862), tensor(773), tensor(382), tensor(357), tensor(3361), tensor(297), tensor(264), tensor(1215), tensor(290), tensor(26545), tensor(3441), tensor(28725), tensor(345), tensor(28737), tensor(28742), tensor(584), tensor(347), tensor(10644), tensor(262), tensor(28742), tensor(8351), tensor(3170), tensor(516), tensor(13), tensor(28726), tensor(2474), tensor(852), tensor(28723), tensor(420), tensor(28742), tensor(6988), tensor(28725), tensor(11962), tensor(18407), tensor(266), tensor(357), tensor(455), tensor(1939), tensor(11962), tensor(384), tensor(12802), tensor(431), tensor(28725), tensor(10116), tensor(611), tensor(13), tensor(13), tensor(28780), tensor(508), tensor(288), tensor(516), tensor(18000), tensor(2282), tensor(356), tensor(516), tensor(15554), tensor(27685), tensor(28725), tensor(382), tensor(357), tensor(3361), tensor(21701), tensor(2722), tensor(13), tensor(10533), tensor(272), tensor(8609), tensor(15660), tensor(304), tensor(17444), tensor(272), tensor(4456), tensor(778), tensor(1411), tensor(28745), tensor(395), tensor(264), tensor(712), tensor(283), tensor(378), tensor(8536), tensor(13), tensor(9635), tensor(272), tensor(2423), tensor(304), tensor(805), tensor(778), tensor(272), tensor(2125), tensor(28723), tensor(13), tensor(13), tensor(28739), tensor(28737), tensor(4579), tensor(1032), tensor(368), tensor(3403), tensor(28725), tensor(315), tensor(1675), tensor(28725), tensor(11962), tensor(18407), tensor(266), tensor(357), tensor(455), tensor(862), tensor(773), tensor(384), tensor(12802), tensor(431), tensor(28725), tensor(13), tensor(26177), tensor(3202), tensor(298), tensor(559), tensor(28723), tensor(11962), tensor(18407), tensor(266), tensor(357), tensor(455), tensor(21798), tensor(559), tensor(9948), tensor(297), tensor(10071), tensor(28723), tensor(13), tensor(13), tensor(28757), tensor(12802), tensor(431), tensor(2897), tensor(304), tensor(5610), tensor(852), tensor(1060), tensor(272), tensor(5948), tensor(28723), tensor(1418), tensor(272), tensor(6581), tensor(400), tensor(13), tensor(6898), tensor(1973), tensor(304), tensor(2056), tensor(575), tensor(272), tensor(9746), tensor(10331), tensor(28733), tensor(2919), tensor(263), tensor(28723), tensor(650), tensor(26399), tensor(378), tensor(2327), tensor(28725), tensor(304), tensor(13), tensor(7307), tensor(11047), tensor(16852), tensor(302), tensor(2061), tensor(668), tensor(286), tensor(852), tensor(298), tensor(652), tensor(5948), tensor(305), tensor(10991), tensor(579), tensor(369), tensor(15650), tensor(299), tensor(13), tensor(28757), tensor(6016), tensor(1272), tensor(10552), tensor(6914), tensor(14545), tensor(304), tensor(400), tensor(829), tensor(1038), tensor(575), tensor(264), tensor(7683), tensor(1403), tensor(5255), tensor(1135), tensor(10593), tensor(13), tensor(20886), tensor(272), tensor(6581), tensor(438), tensor(272), tensor(799), tensor(948), tensor(302), tensor(272), tensor(5948), tensor(28723), tensor(650), tensor(829), tensor(776), tensor(1032), tensor(272), tensor(13), tensor(25023), tensor(302), tensor(9522), tensor(1468), tensor(356), tensor(272), tensor(3707), tensor(302), tensor(1474), tensor(2308), tensor(28723), tensor(13), tensor(13), tensor(28739), tensor(10604), tensor(6576), tensor(28725), tensor(9726), tensor(862), tensor(400), tensor(24683), tensor(28723), tensor(650), tensor(2897), tensor(356), tensor(516), tensor(400), tensor(301), tensor(304), tensor(395), tensor(264), tensor(1719), tensor(789), tensor(13), tensor(1009), tensor(516), tensor(23390), tensor(491), tensor(28725), tensor(400), tensor(403), tensor(4214), tensor(28723), tensor(13), tensor(13), tensor(28741), tensor(24284), tensor(408), tensor(26545), tensor(272), tensor(17730), tensor(23737), tensor(2711), tensor(302), tensor(15650), tensor(299), tensor(16857), tensor(28725), tensor(690), tensor(4897), tensor(10832), tensor(304), tensor(13), tensor(18294), tensor(28724), tensor(916), tensor(272), tensor(297), tensor(4845), tensor(7212), tensor(28725), tensor(272), tensor(1215), tensor(1432), tensor(1633), tensor(368), tensor(682), tensor(1675), tensor(13), tensor(529), tensor(266), tensor(5596), tensor(1722), tensor(298), tensor(4804), tensor(28723), tensor(9726), tensor(10650), tensor(360), tensor(12183), tensor(754), tensor(3416), tensor(516), tensor(13), tensor(15387), tensor(1468), tensor(1671), tensor(275), tensor(1288), tensor(582), tensor(28723), tensor(2387), tensor(1741), tensor(1021), tensor(5051), tensor(356), tensor(272), tensor(5498), tensor(9439), tensor(13), tensor(24669), tensor(304), tensor(400), tensor(18283), tensor(356), tensor(28725), tensor(459), tensor(8215), tensor(400), tensor(403), tensor(2841), tensor(28725), tensor(459), tensor(8215), tensor(400), tensor(403), tensor(13), tensor(28722), tensor(22226), tensor(28725), tensor(459), tensor(8215), tensor(400), tensor(682), tensor(347), tensor(275), tensor(2196), tensor(297), tensor(264), tensor(1664), tensor(3316), tensor(28742), tensor(727), tensor(486), tensor(7107), tensor(28723), tensor(13), tensor(28757), tensor(1726), tensor(2047), tensor(28742), tensor(28713), tensor(8933), tensor(390), tensor(630), tensor(4923), tensor(272), tensor(2778), tensor(2251), tensor(298), tensor(1658), tensor(575), tensor(272), tensor(10992), tensor(13), tensor(28726), tensor(1562), tensor(867), tensor(28725), tensor(4678), tensor(369), tensor(400), tensor(682), tensor(6305), tensor(272), tensor(1679), tensor(1664), tensor(4587), tensor(1250), tensor(430), tensor(1036), tensor(286), tensor(304), tensor(13), tensor(10002), tensor(1572), tensor(486), tensor(516), tensor(17022), tensor(384), tensor(554), tensor(2047), tensor(1101), tensor(650), tensor(3481), tensor(28742), tensor(28707), tensor(873), tensor(369), tensor(438), tensor(456), tensor(1215), tensor(13), tensor(26471), tensor(28725), tensor(905), tensor(5283), tensor(297), tensor(5169), tensor(544), tensor(754), tensor(272), tensor(2939), tensor(654), tensor(6632), tensor(582), tensor(13), tensor(1237), tensor(361), tensor(16014), tensor(304), tensor(3677), tensor(297), tensor(4946), tensor(887), tensor(14549), tensor(28747), tensor(345), tensor(1551), tensor(9726), tensor(10650), tensor(360), tensor(1939), tensor(272), tensor(4531), tensor(13), tensor(12938), tensor(6262), tensor(2781)]]\n"
     ]
    },
    {
     "name": "stderr",
     "output_type": "stream",
     "text": [
      "E:\\cours\\PA\\venv\\Lib\\site-packages\\transformers\\models\\mistral\\modeling_mistral.py:647: UserWarning: 1Torch was not compiled with flash attention. (Triggered internally at ..\\aten\\src\\ATen\\native\\transformers\\cuda\\sdp_utils.cpp:263.)\n",
      "  attn_output = torch.nn.functional.scaled_dot_product_attention(\n"
     ]
    }
   ],
   "source": [
    "# start = time.time()\n",
    "test = full_process(text)\n",
    "# end = time.time()\n"
   ],
   "metadata": {
    "collapsed": false,
    "ExecuteTime": {
     "end_time": "2024-07-14T16:51:05.176434Z",
     "start_time": "2024-07-14T16:49:33.607453Z"
    }
   }
  },
  {
   "cell_type": "code",
   "execution_count": 17,
   "outputs": [],
   "source": [
    "# print(\"The time of execution of above program is :\",\n",
    "#       (end-start) * 10**3, \"ms\")"
   ],
   "metadata": {
    "collapsed": false,
    "ExecuteTime": {
     "end_time": "2024-07-14T16:51:05.184544200Z",
     "start_time": "2024-07-14T16:51:05.176434Z"
    }
   }
  },
  {
   "cell_type": "code",
   "execution_count": 18,
   "outputs": [],
   "source": [
    "# end_all = time.time()\n",
    "# \n",
    "# print(\"The time of execution of the entire program is :\",\n",
    "#       (end_all-start_all) * 10**3, \"ms\")"
   ],
   "metadata": {
    "collapsed": false,
    "ExecuteTime": {
     "end_time": "2024-07-14T16:51:05.186050200Z",
     "start_time": "2024-07-14T16:51:05.182020600Z"
    }
   }
  },
  {
   "cell_type": "code",
   "execution_count": 19,
   "outputs": [
    {
     "data": {
      "text/plain": "[[\" In Privet Drive, Mr. and Mrs. Dursley lead a comfortable life, trying to avoid their nephew Harry and his mother, who they believe to be named Petunia. Unusual events start to take place, such as an owl arriving during the day and strange visitors. At work, Mr. Dursley is told that everyone is talking about the Potters' disappearance and the rumors of Lily and James' deaths. An owl brings him an invitation to a ceremony at the Ministry of Magic, making him uneasy about the Potters' mysterious connection. This event marks the beginning of a mysterious journey for young Harry Potter.</s>\"]]"
     },
     "execution_count": 19,
     "metadata": {},
     "output_type": "execute_result"
    }
   ],
   "source": [
    "test"
   ],
   "metadata": {
    "collapsed": false,
    "ExecuteTime": {
     "end_time": "2024-07-14T16:51:05.190657700Z",
     "start_time": "2024-07-14T16:51:05.186050200Z"
    }
   }
  },
  {
   "cell_type": "code",
   "execution_count": 20,
   "outputs": [
    {
     "data": {
      "text/plain": "7248547840"
     },
     "execution_count": 20,
     "metadata": {},
     "output_type": "execute_result"
    }
   ],
   "source": [
    "model.num_parameters()"
   ],
   "metadata": {
    "collapsed": false,
    "ExecuteTime": {
     "end_time": "2024-07-14T16:51:05.198916300Z",
     "start_time": "2024-07-14T16:51:05.189659600Z"
    }
   }
  },
  {
   "cell_type": "code",
   "execution_count": 21,
   "outputs": [
    {
     "data": {
      "text/plain": "<bound method MistralForCausalLM.get_input_embeddings of MistralForCausalLM(\n  (model): MistralModel(\n    (embed_tokens): Embedding(32000, 4096)\n    (layers): ModuleList(\n      (0-31): 32 x MistralDecoderLayer(\n        (self_attn): MistralSdpaAttention(\n          (q_proj): lora.Linear4bit(\n            (base_layer): Linear4bit(in_features=4096, out_features=4096, bias=False)\n            (lora_dropout): ModuleDict(\n              (default): Dropout(p=0.05, inplace=False)\n            )\n            (lora_A): ModuleDict(\n              (default): Linear(in_features=4096, out_features=16, bias=False)\n            )\n            (lora_B): ModuleDict(\n              (default): Linear(in_features=16, out_features=4096, bias=False)\n            )\n            (lora_embedding_A): ParameterDict()\n            (lora_embedding_B): ParameterDict()\n          )\n          (k_proj): Linear4bit(in_features=4096, out_features=1024, bias=False)\n          (v_proj): lora.Linear4bit(\n            (base_layer): Linear4bit(in_features=4096, out_features=1024, bias=False)\n            (lora_dropout): ModuleDict(\n              (default): Dropout(p=0.05, inplace=False)\n            )\n            (lora_A): ModuleDict(\n              (default): Linear(in_features=4096, out_features=16, bias=False)\n            )\n            (lora_B): ModuleDict(\n              (default): Linear(in_features=16, out_features=1024, bias=False)\n            )\n            (lora_embedding_A): ParameterDict()\n            (lora_embedding_B): ParameterDict()\n          )\n          (o_proj): Linear4bit(in_features=4096, out_features=4096, bias=False)\n          (rotary_emb): MistralRotaryEmbedding()\n        )\n        (mlp): MistralMLP(\n          (gate_proj): Linear4bit(in_features=4096, out_features=14336, bias=False)\n          (up_proj): Linear4bit(in_features=4096, out_features=14336, bias=False)\n          (down_proj): Linear4bit(in_features=14336, out_features=4096, bias=False)\n          (act_fn): SiLU()\n        )\n        (input_layernorm): MistralRMSNorm()\n        (post_attention_layernorm): MistralRMSNorm()\n      )\n    )\n    (norm): MistralRMSNorm()\n  )\n  (lm_head): Linear(in_features=4096, out_features=32000, bias=False)\n)>"
     },
     "execution_count": 21,
     "metadata": {},
     "output_type": "execute_result"
    }
   ],
   "source": [
    "model.get_input_embeddings"
   ],
   "metadata": {
    "collapsed": false,
    "ExecuteTime": {
     "end_time": "2024-07-14T16:51:05.208148600Z",
     "start_time": "2024-07-14T16:51:05.197914700Z"
    }
   }
  },
  {
   "cell_type": "code",
   "execution_count": 38,
   "outputs": [],
   "source": [
    "file_name = f\"summary_{datetime.now().strftime('%Y%m%d_%H%M%S')}\"\n",
    "directory = \"data/books/\"\n",
    "file_path = os.path.join(directory, file_name)"
   ],
   "metadata": {
    "collapsed": false,
    "ExecuteTime": {
     "end_time": "2024-07-14T16:59:08.047159800Z",
     "start_time": "2024-07-14T16:59:08.029646600Z"
    }
   }
  },
  {
   "cell_type": "code",
   "execution_count": 40,
   "outputs": [
    {
     "name": "stdout",
     "output_type": "stream",
     "text": [
      "summary_20240714_185908\n"
     ]
    }
   ],
   "source": [
    "print(file_name)"
   ],
   "metadata": {
    "collapsed": false,
    "ExecuteTime": {
     "end_time": "2024-07-14T16:59:24.761339200Z",
     "start_time": "2024-07-14T16:59:24.756867900Z"
    }
   }
  },
  {
   "cell_type": "code",
   "execution_count": 41,
   "outputs": [],
   "source": [
    "with open(file_path, 'w') as file:\n",
    "    file.write(test[0][0])"
   ],
   "metadata": {
    "collapsed": false,
    "ExecuteTime": {
     "end_time": "2024-07-14T16:59:24.989731700Z",
     "start_time": "2024-07-14T16:59:24.984625300Z"
    }
   }
  },
  {
   "cell_type": "code",
   "execution_count": null,
   "outputs": [],
   "source": [
    "# message = [\n",
    "#             {\n",
    "#                 \"role\":\"user\",\n",
    "#                 \"content\": f\"make me a short summary of the following text without being to precise :\"\n",
    "#                            f\"{test}\"\n",
    "#             }\n",
    "#         ]\n",
    "# \n",
    "# encodeds = tokenizer.apply_chat_template(message, return_tensors=\"pt\").to(device)\n",
    "# \n",
    "# generated_ids = model.generate(encodeds, do_sample=True, max_new_tokens=1000, pad_token_id=tokenizer.pad_token_id)\n",
    "# decoded = tokenizer.batch_decode(generated_ids)"
   ],
   "metadata": {
    "collapsed": false
   }
  },
  {
   "cell_type": "code",
   "execution_count": null,
   "outputs": [],
   "source": [
    "# enlever_inst(decoded[0])"
   ],
   "metadata": {
    "collapsed": false
   }
  },
  {
   "cell_type": "code",
   "execution_count": null,
   "outputs": [],
   "source": [],
   "metadata": {
    "collapsed": false
   }
  }
 ],
 "metadata": {
  "kernelspec": {
   "display_name": "Python 3",
   "language": "python",
   "name": "python3"
  },
  "language_info": {
   "codemirror_mode": {
    "name": "ipython",
    "version": 2
   },
   "file_extension": ".py",
   "mimetype": "text/x-python",
   "name": "python",
   "nbconvert_exporter": "python",
   "pygments_lexer": "ipython2",
   "version": "2.7.6"
  }
 },
 "nbformat": 4,
 "nbformat_minor": 0
}
