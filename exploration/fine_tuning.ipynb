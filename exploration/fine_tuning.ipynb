{
 "cells": [
  {
   "cell_type": "code",
   "execution_count": 2,
   "metadata": {
    "collapsed": true
   },
   "outputs": [],
   "source": [
    "import torch\n",
    "import os\n",
    "import sys\n",
    "import json\n",
    "import IPython\n",
    "from datetime import datetime\n",
    "from datasets import load_dataset\n",
    "from peft import LoraConfig, PeftModel, prepare_model_for_kbit_training, get_peft_model\n",
    "from transformers import (\n",
    "    AutoModelForCausalLM,\n",
    "    AutoTokenizer,\n",
    "    BitsAndBytesConfig,\n",
    "    AutoTokenizer,\n",
    "    TrainingArguments,\n",
    ")\n",
    "from trl import SFTTrainer"
   ]
  },
  {
   "cell_type": "code",
   "execution_count": 11,
   "outputs": [
    {
     "data": {
      "text/plain": "RepoUrl('https://huggingface.co/clementdevarieux/PA4A', endpoint='https://huggingface.co', repo_type='model', repo_id='clementdevarieux/PA4A')"
     },
     "execution_count": 11,
     "metadata": {},
     "output_type": "execute_result"
    }
   ],
   "source": [
    "from huggingface_hub import create_repo\n",
    "create_repo(\"clementdevarieux/PA4A\")"
   ],
   "metadata": {
    "collapsed": false
   }
  },
  {
   "cell_type": "code",
   "execution_count": 2,
   "outputs": [],
   "source": [
    "model_name = \"mistralai/Mistral-7B-Instruct-v0.2\"\n",
    "device = 'cuda'\n",
    "\n",
    "tokenizer = AutoTokenizer.from_pretrained(model_name, use_fast=True)\n",
    "tokenizer.pad_token = tokenizer.unk_token\n",
    "tokenizer.pad_token_id = tokenizer.unk_token_id"
   ],
   "metadata": {
    "collapsed": false
   }
  },
  {
   "cell_type": "code",
   "execution_count": 3,
   "outputs": [
    {
     "name": "stdout",
     "output_type": "stream",
     "text": [
      "torch.float16\n"
     ]
    }
   ],
   "source": [
    "compute_dtype = getattr(torch, \"float16\")\n",
    "print(compute_dtype)\n",
    "bnb_config = BitsAndBytesConfig(\n",
    "        load_in_4bit=True,\n",
    "        bnb_4bit_quant_type=\"nf4\",\n",
    "        bnb_4bit_compute_dtype=compute_dtype,\n",
    "        bnb_4bit_use_double_quant=True,\n",
    ")"
   ],
   "metadata": {
    "collapsed": false
   }
  },
  {
   "cell_type": "code",
   "execution_count": 4,
   "outputs": [
    {
     "data": {
      "text/plain": "Loading checkpoint shards:   0%|          | 0/3 [00:00<?, ?it/s]",
      "application/vnd.jupyter.widget-view+json": {
       "version_major": 2,
       "version_minor": 0,
       "model_id": "caa39065579d42e9b0e75c132ee8aaeb"
      }
     },
     "metadata": {},
     "output_type": "display_data"
    }
   ],
   "source": [
    "model = AutoModelForCausalLM.from_pretrained(\n",
    "          model_name,\n",
    "          quantization_config=bnb_config,\n",
    "          use_flash_attention_2 = False, #set to True you're using A100\n",
    "          device_map={\"\": 0}, #device_map=\"auto\" will cause a problem in the training\n",
    "\n",
    ")"
   ],
   "metadata": {
    "collapsed": false
   }
  },
  {
   "cell_type": "code",
   "execution_count": 5,
   "outputs": [
    {
     "name": "stdout",
     "output_type": "stream",
     "text": [
      "MistralForCausalLM(\n",
      "  (model): MistralModel(\n",
      "    (embed_tokens): Embedding(32000, 4096)\n",
      "    (layers): ModuleList(\n",
      "      (0-31): 32 x MistralDecoderLayer(\n",
      "        (self_attn): MistralSdpaAttention(\n",
      "          (q_proj): Linear4bit(in_features=4096, out_features=4096, bias=False)\n",
      "          (k_proj): Linear4bit(in_features=4096, out_features=1024, bias=False)\n",
      "          (v_proj): Linear4bit(in_features=4096, out_features=1024, bias=False)\n",
      "          (o_proj): Linear4bit(in_features=4096, out_features=4096, bias=False)\n",
      "          (rotary_emb): MistralRotaryEmbedding()\n",
      "        )\n",
      "        (mlp): MistralMLP(\n",
      "          (gate_proj): Linear4bit(in_features=4096, out_features=14336, bias=False)\n",
      "          (up_proj): Linear4bit(in_features=4096, out_features=14336, bias=False)\n",
      "          (down_proj): Linear4bit(in_features=14336, out_features=4096, bias=False)\n",
      "          (act_fn): SiLU()\n",
      "        )\n",
      "        (input_layernorm): MistralRMSNorm()\n",
      "        (post_attention_layernorm): MistralRMSNorm()\n",
      "      )\n",
      "    )\n",
      "    (norm): MistralRMSNorm()\n",
      "  )\n",
      "  (lm_head): Linear(in_features=4096, out_features=32000, bias=False)\n",
      ")\n"
     ]
    }
   ],
   "source": [
    "print(model)"
   ],
   "metadata": {
    "collapsed": false
   }
  },
  {
   "cell_type": "code",
   "execution_count": 6,
   "outputs": [],
   "source": [
    "peft_config = LoraConfig(\n",
    "        lora_alpha=16,\n",
    "        lora_dropout=0.05,\n",
    "        r=16,\n",
    "        bias=\"none\",\n",
    "        task_type=\"CAUSAL_LM\",\n",
    "        target_modules= ['k_proj', 'q_proj', 'v_proj', 'o_proj', \"gate_proj\", \"down_proj\", \"up_proj\", \"lm_head\",]\n",
    ")"
   ],
   "metadata": {
    "collapsed": false
   }
  },
  {
   "cell_type": "code",
   "execution_count": 7,
   "outputs": [],
   "source": [
    "#Cast some modules of the model to fp32\n",
    "model = prepare_model_for_kbit_training(model)\n",
    "#Configure the pad token in the model\n",
    "model.config.pad_token_id = tokenizer.pad_token_id\n",
    "model.config.use_cache = False # Gradient checkpointing is used by default but not compatible with caching"
   ],
   "metadata": {
    "collapsed": false
   }
  },
  {
   "cell_type": "code",
   "execution_count": 8,
   "outputs": [],
   "source": [
    "training_arguments = TrainingArguments(\n",
    "        output_dir=\"./results\", # directory in which the checkpoint will be saved.\n",
    "        evaluation_strategy=\"epoch\", # you can set it to 'steps' to eval it every eval_steps\n",
    "        optim=\"paged_adamw_8bit\", #used with QLoRA\n",
    "        per_device_train_batch_size=4, #batch size\n",
    "        per_device_eval_batch_size=4, #same but for evaluation\n",
    "        gradient_accumulation_steps=1, #number of lines to accumulate gradient, carefull because it changes the size of a \"step\".Therefore, logging, evaluation, save will be conducted every gradient_accumulation_steps * xxx_step training example\n",
    "        log_level=\"debug\", #you can set it to  ‘info’, ‘warning’, ‘error’ and ‘critical’\n",
    "        save_steps=500, #number of steps between checkpoints\n",
    "        logging_steps=20, #number of steps between logging of the loss for monitoring adapt it to your dataset size\n",
    "        learning_rate=4e-4, #you can try different value for this hyperparameter\n",
    "        num_train_epochs=1,\n",
    "        warmup_steps=100,\n",
    "        lr_scheduler_type=\"constant\",\n",
    ")"
   ],
   "metadata": {
    "collapsed": false
   }
  },
  {
   "cell_type": "code",
   "execution_count": 3,
   "outputs": [],
   "source": [
    "dataset = load_dataset(\"pszemraj/booksum-short\")"
   ],
   "metadata": {
    "collapsed": false
   }
  },
  {
   "cell_type": "code",
   "execution_count": 10,
   "outputs": [
    {
     "name": "stdout",
     "output_type": "stream",
     "text": [
      "DatasetDict({\n",
      "    train: Dataset({\n",
      "        features: ['bid', 'is_aggregate', 'source', 'chapter_path', 'summary_path', 'book_id', 'summary_id', 'content', 'summary', 'chapter', 'chapter_length', 'summary_name', 'summary_url', 'summary_text', 'summary_analysis', 'summary_length', 'analysis_length'],\n",
      "        num_rows: 5912\n",
      "    })\n",
      "    validation: Dataset({\n",
      "        features: ['bid', 'is_aggregate', 'source', 'chapter_path', 'summary_path', 'book_id', 'summary_id', 'content', 'summary', 'chapter', 'chapter_length', 'summary_name', 'summary_url', 'summary_text', 'summary_analysis', 'summary_length', 'analysis_length'],\n",
      "        num_rows: 1012\n",
      "    })\n",
      "    test: Dataset({\n",
      "        features: ['bid', 'is_aggregate', 'source', 'chapter_path', 'summary_path', 'book_id', 'summary_id', 'content', 'summary', 'chapter', 'chapter_length', 'summary_name', 'summary_url', 'summary_text', 'summary_analysis', 'summary_length', 'analysis_length'],\n",
      "        num_rows: 988\n",
      "    })\n",
      "})\n"
     ]
    }
   ],
   "source": [
    "print(dataset)"
   ],
   "metadata": {
    "collapsed": false
   }
  },
  {
   "cell_type": "code",
   "execution_count": 6,
   "outputs": [],
   "source": [
    "import pandas as pd\n",
    "train_data = dataset['train']\n",
    "chapters = train_data['chapter']\n",
    "summaries = train_data['summary_text']\n",
    "\n",
    "df = pd.DataFrame({'chapter': chapters, 'summary': summaries})"
   ],
   "metadata": {
    "collapsed": false
   }
  },
  {
   "cell_type": "code",
   "execution_count": 7,
   "outputs": [
    {
     "data": {
      "text/plain": "                                             chapter  \\\n0  \\n  \"Before these fields were shorn and tilled...   \n1  \\n  \"Well, go thy way: thou shalt not from thi...   \n2  \\n                      \"In such a night\\n  Di...   \n3  \\n  \"Those strains that once did sweet in Zion...   \n4  \\n                            \"Be gay securely...   \n\n                                             summary  \n0  In another part of the forest by the river a f...  \n1  When the mounted party from Fort Howard approa...  \n2  The pursuit of Magua is unsuccessful, but Hawk...  \n3  Heyward and the girls are uneasy and Gamut is ...  \n4  In the stillness that follows, Heyward finds i...  ",
      "text/html": "<div>\n<style scoped>\n    .dataframe tbody tr th:only-of-type {\n        vertical-align: middle;\n    }\n\n    .dataframe tbody tr th {\n        vertical-align: top;\n    }\n\n    .dataframe thead th {\n        text-align: right;\n    }\n</style>\n<table border=\"1\" class=\"dataframe\">\n  <thead>\n    <tr style=\"text-align: right;\">\n      <th></th>\n      <th>chapter</th>\n      <th>summary</th>\n    </tr>\n  </thead>\n  <tbody>\n    <tr>\n      <th>0</th>\n      <td>\\n  \"Before these fields were shorn and tilled...</td>\n      <td>In another part of the forest by the river a f...</td>\n    </tr>\n    <tr>\n      <th>1</th>\n      <td>\\n  \"Well, go thy way: thou shalt not from thi...</td>\n      <td>When the mounted party from Fort Howard approa...</td>\n    </tr>\n    <tr>\n      <th>2</th>\n      <td>\\n                      \"In such a night\\n  Di...</td>\n      <td>The pursuit of Magua is unsuccessful, but Hawk...</td>\n    </tr>\n    <tr>\n      <th>3</th>\n      <td>\\n  \"Those strains that once did sweet in Zion...</td>\n      <td>Heyward and the girls are uneasy and Gamut is ...</td>\n    </tr>\n    <tr>\n      <th>4</th>\n      <td>\\n                            \"Be gay securely...</td>\n      <td>In the stillness that follows, Heyward finds i...</td>\n    </tr>\n  </tbody>\n</table>\n</div>"
     },
     "execution_count": 7,
     "metadata": {},
     "output_type": "execute_result"
    }
   ],
   "source": [
    "df.head()"
   ],
   "metadata": {
    "collapsed": false
   }
  },
  {
   "cell_type": "code",
   "execution_count": 8,
   "outputs": [
    {
     "data": {
      "text/plain": "'\\n  \"Before these fields were shorn and tilled,\\n    Full to the brim our rivers flowed;\\n  The melody of waters filled\\n    The fresh and boundless wood;\\n  And torrents dashed, and rivulets played,\\n    And fountains spouted in the shade.\"\\n\\n  BRYANT.\\n\\n\\nLeaving the unsuspecting Heyward and his confiding companions to\\npenetrate still deeper into a forest that contained such treacherous\\ninmates, we must use an author\\'s privilege, and shift the scene a few\\nmiles to the westward of the place where we have last seen them.\\n\\nOn that day, two men were lingering on the banks of a small but rapid\\nstream, within an hour\\'s journey of the encampment of Webb, like those\\nwho awaited the appearance of an absent person, or the approach of some\\nexpected event. The vast canopy of woods spread itself to the margin of\\nthe river overhanging the water, and shadowing its dark current with a\\ndeeper hue. The rays of the sun were beginning to grow less fierce, and\\nthe intense heat of the day was lessened, as the cooler vapors of the\\nsprings and fountains rose above their leafy beds, and rested in the\\natmosphere. Still that breathing silence, which marks the drowsy\\nsultriness of an American landscape in July, pervaded the secluded spot,\\ninterrupted only by the low voices of the men, the occasional and lazy\\ntap of a woodpecker, the discordant cry of some gaudy jay, or a swelling\\non the ear, from the dull roar of a distant waterfall.\\n\\nThese feeble and broken sounds were, however, too familiar to the\\nforesters, to draw their attention from the more interesting matter of\\ntheir dialogue. While one of these loiterers showed the red skin and\\nwild accoutrements of a native of the woods, the other exhibited,\\nthrough the mask of his rude and nearly savage equipments, the brighter,\\nthough sunburnt and long-faded complexion of one who might claim descent\\nfrom a European parentage. The former was seated on the end of a mossy\\nlog, in a posture that permitted him to heighten the effect of his\\nearnest language, by the calm but expressive gestures of an Indian\\nengaged in debate. His body, which was nearly naked, presented a\\nterrific emblem of death, drawn in intermingled colors of white and\\nblack. His closely shaved head, on which no other hair than the well\\nknown and chivalrous scalping tuft[5] was preserved, was without\\nornament of any kind, with the exception of a solitary eagle\\'s plume,\\nthat crossed his crown, and depended over the left shoulder. A tomahawk\\nand scalping-knife, of English manufacture, were in his girdle; while a\\nshort military rifle, of that sort with which the policy of the whites\\narmed their savage allies, lay carelessly across his bare and sinewy\\nknee. The expanded chest, full formed limbs, and grave countenance of\\nthis warrior, would denote that he had reached the vigor of his days,\\nthough no symptoms of decay appeared to have yet weakened his manhood.\\n\\nThe frame of the white man, judging by such parts as were not concealed\\nby his clothes, was like that of one who had known hardships and\\nexertion from his earliest youth. His person, though muscular, was\\nrather attenuated than full; but every nerve and muscle appeared strung\\nand indurated by unremitted exposure and toil. He wore a hunting-shirt\\nof forest green, fringed with faded yellow[6], and a summer cap of skins\\nwhich had been shorn of their fur. He also bore a knife in a girdle of\\nwampum, like that which confined the scanty garments of the Indian, but\\nno tomahawk. His moccasins were ornamented after the gay fashion of the\\nnatives, while the only part of his under-dress which appeared below the\\nhunting-frock, was a pair of buckskin leggings, that laced at the sides,\\nand which were gartered above the knees with the sinews of a deer. A\\npouch and horn completed his personal accoutrements, though a rifle of\\ngreat length[7], which the theory of the more ingenious whites had\\ntaught them was the most dangerous of all fire-arms, leaned against a\\nneighboring sapling. The eye of the hunter, or scout, whichever he might\\nbe, was small, quick, keen, and restless, roving while he spoke, on\\nevery side of him, as if in quest of game, or distrusting the sudden\\napproach of some lurking enemy. Notwithstanding the symptoms of habitual\\nsuspicion, his countenance was not only without guile, but at the moment\\nat which he is introduced, it was charged with an expression of sturdy\\nhonesty.\\n\\n\"Even your traditions make the case in my favor, Chingachgook,\" he said,\\nspeaking in the tongue which was known to all the natives who formerly\\ninhabited the country between the Hudson and the Potomac, and of which\\nwe shall give a free translation for the benefit of the reader;\\nendeavoring, at the same time, to preserve some of the peculiarities,\\nboth of the individual and of the language. \"Your fathers came from the\\nsetting sun, crossed the big river,[8] fought the people of the country,\\nand took the land; and mine came from the red sky of the morning, over\\nthe salt lake, and did their work much after the fashion that had been\\nset them by yours; then let God judge the matter between us, and friends\\nspare their words!\"\\n\\n\"My fathers fought with the naked redmen!\" returned the Indian sternly,\\nin the same language. \"Is there no difference, Hawkeye, between the\\nstone-headed arrow of the warrior, and the leaden bullet with which you\\nkill?\"\\n\\n\"There is reason in an Indian, though nature has made him with a red\\nskin!\" said the white man, shaking his head like one on whom such an\\nappeal to his justice was not thrown away. For a moment he appeared to\\nbe conscious of having the worst of the argument, then, rallying again,\\nhe answered the objection of his antagonist in the best manner his\\nlimited information would allow: \"I am no scholar, and I care not who\\nknows it; but judging from what I have seen, at deer chases and squirrel\\nhunts, of the sparks below, I should think a rifle in the hands of their\\ngrandfathers was not so dangerous as a hickory bow and a good flint-head\\nmight be, if drawn with Indian judgment, and sent by an Indian eye.\"\\n\\n\"You have the story told by your fathers,\" returned the other, coldly\\nwaving his hand. \"What say your old men? do they tell the young\\nwarriors, that the pale-faces met the redmen, painted for war and armed\\nwith the stone hatchet and wooden gun?\"\\n\\n\"I am not a prejudiced man, nor one who vaunts himself on his natural\\nprivileges, though the worst enemy I have on earth, and he is an\\nIroquois, daren\\'t deny that I am genuine white,\" the scout replied,\\nsurveying, with secret satisfaction, the faded color of his bony and\\nsinewy hand; \"and I am willing to own that my people have many ways, of\\nwhich, as an honest man, I can\\'t approve. It is one of their customs to\\nwrite in books what they have done and seen, instead of telling them in\\ntheir villages, where the lie can be given to the face of a cowardly\\nboaster, and the brave soldier can call on his comrades to witness for\\nthe truth of his words. In consequence of this bad fashion, a man who is\\ntoo conscientious to misspend his days among the women, in learning the\\nnames of black marks, may never hear of the deeds of his fathers, nor\\nfeel a pride in striving to outdo them. For myself, I conclude the\\nBumppos could shoot, for I have a natural turn with a rifle, which must\\nhave been handed down from generation to generation, as, our holy\\ncommandments tell us, all good and evil gifts are bestowed; though I\\nshould be loth to answer for other people in such a matter. But every\\nstory has its two sides; so I ask you, Chingachgook, what passed,\\naccording to the traditions of the redmen, when our fathers first met?\"\\n\\nA silence of a minute succeeded, during which the Indian sat mute; then,\\nfull of the dignity of his office, he commenced his brief tale, with a\\nsolemnity that served to heighten its appearance of truth.\\n\\n\"Listen, Hawkeye, and your ear shall drink no lie. \\'Tis what my fathers\\nhave said, and what the Mohicans have done.\" He hesitated a single\\ninstant, and bending a cautious glance toward his companion, he\\ncontinued, in a manner that was divided between interrogation and\\nassertion, \"Does not this stream at our feet run towards the summer,\\nuntil its waters grow salt, and the current flows upward?\"\\n\\n\"It can\\'t be denied that your traditions tell you true in both these\\nmatters,\" said the white man; \"for I have been there, and have seen\\nthem; though, why water, which is so sweet in the shade, should become\\nbitter in the sun, is an alteration for which I have never been able to\\naccount.\"\\n\\n\"And the current!\" demanded the Indian, who expected his reply with that\\nsort of interest that a man feels in the confirmation of testimony, at\\nwhich he marvels even while he respects it; \"the fathers of Chingachgook\\nhave not lied!\"\\n\\n\"The Holy Bible is not more true, and that is the truest thing in\\nnature. They call this up-stream current the tide, which is a thing soon\\nexplained, and clear enough. Six hours the waters run in, and six hours\\nthey run out, and the reason is this: when there is higher water in the\\nsea than in the river, they run in, until the river gets to be highest,\\nand then it runs out again.\"\\n\\n\"The waters in the woods, and on the great lakes, run downward until\\nthey lie like my hand,\" said the Indian, stretching the limb\\nhorizontally before him, \"and then they run no more.\"\\n\\n\"No honest man will deny it,\" said the scout, a little nettled at the\\nimplied distrust of his explanation of the mystery of the tides; \"and I\\ngrant that it is true on the small scale, and where the land is level.\\nBut everything depends on what scale you look at things. Now, on the\\nsmall scale, the \\'arth is level; but on the large scale it is round. In\\nthis manner, pools and ponds, and even the great fresh-water lake, may\\nbe stagnant, as you and I both know they are, having seen them; but when\\nyou come to spread water over a great tract, like the sea, where the\\nearth is round, how in reason can the water be quiet? You might as well\\nexpect the river to lie still on the brink of those black rocks a mile\\nabove us, though your own ears tell you that it is tumbling over them at\\nthis very moment!\"\\n\\nIf unsatisfied by the philosophy of his companion, the Indian was far\\ntoo dignified to betray his unbelief. He listened like one who was\\nconvinced, and resumed his narrative in his former solemn manner.\\n\\n\"We came from the place where the sun is hid at night, over great plains\\nwhere the buffaloes live, until we reached the big river. There we\\nfought the Alligewi, till the ground was red with their blood. From the\\nbanks of the big river to the shores of the salt lake, there was none to\\nmeet us. The Maquas followed at a distance. We said the country should\\nbe ours from the place where the water runs up no longer on this stream,\\nto a river twenty suns\\' journey toward the summer. The land we had taken\\nlike warriors, we kept like men. We drove the Maquas into the woods with\\nthe bears. They only tasted salt at the licks; they drew no fish from\\nthe great lake; we threw them the bones.\"\\n\\n\"All this I have heard and believe,\" said the white man, observing that\\nthe Indian paused: \"but it was long before the English came into the\\ncountry.\"\\n\\n\"A pine grew then where this chestnut now stands. The first pale-faces\\nwho came among us spoke no English. They came in a large canoe, when my\\nfathers had buried the tomahawk with the redmen around them. Then,\\nHawkeye,\" he continued, betraying his deep emotion only by permitting\\nhis voice to fall to those low, guttural tones, which rendered his\\nlanguage, as spoken at times, so very musical; \"then, Hawkeye, we were\\none people, and we were happy. The salt lake gave us its fish, the wood\\nits deer, and the air its birds. We took wives who bore us children; we\\nworshipped the Great Spirit; and we kept the Maquas beyond the sound of\\nour songs of triumph!\"\\n\\n\"Know you anything of your own family at that time?\" demanded the white.\\n\"But you are a just man, for an Indian! and, as I suppose you hold their\\ngifts, your fathers must have been brave warriors, and wise men at the\\ncouncil fire.\"\\n\\n\"My tribe is the grandfather of nations, but I am an unmixed man. The\\nblood of chiefs is in my veins, where it must stay forever. The Dutch\\nlanded, and gave my people the fire-water; they drank until the heavens\\nand the earth seemed to meet, and they foolishly thought they had found\\nthe Great Spirit. Then they parted with their land. Foot by foot, they\\nwere driven back from the shores, until I, that am a chief and a\\nsagamore, have never seen the sun shine but through the trees, and have\\nnever visited the graves of, my fathers!\"\\n\\n\"Graves bring solemn feelings over the mind,\" returned the scout, a good\\ndeal touched at the calm suffering of his companion; \"and they often aid\\na man in his good intentions; though, for myself, I expect to leave my\\nown bones unburied, to bleach in the woods, or to be torn asunder by the\\nwolves. But where are to be found those of your race who came to their\\nkin in the Delaware country, so many summers since?\"\\n\\n\"Where are the blossoms of those summers!--fallen, one by one: so all of\\nmy family departed, each in his turn, to the land of spirits. I am on\\nthe hill-top, and must go down into the valley; and when Uncas follows\\nin my footsteps, there will no longer be any of the blood of the\\nsagamores, for my boy is the last of the Mohicans.\"\\n\\n\"Uncas is here!\" said another voice, in the same soft, guttural tones,\\nnear his elbow; \"who speaks to Uncas?\"\\n\\nThe white man loosened his knife in his leathern sheath, and made an\\ninvoluntary movement of the hand towards his rifle, at this sudden\\ninterruption; but the Indian sat composed, and without turning his head\\nat the unexpected sounds.\\n\\nAt the next instant, a youthful warrior passed between them, with a\\nnoiseless step, and seated himself on the bank of the rapid stream. No\\nexclamation of surprise escaped the father, nor was any question asked,\\nor reply given, for several minutes; each appearing to await the moment\\nwhen he might speak, without betraying womanish curiosity or childish\\nimpatience. The white man seemed to take counsel from their customs,\\nand, relinquishing his grasp of the rifle, he also remained silent and\\nreserved. At length Chingachgook turned his eyes slowly towards his son,\\nand demanded,--\\n\\n\"Do the Maquas dare to leave the print of their moccasins in these\\nwoods?\"\\n\\n\"I have been on their trail,\" replied the young Indian, \"and know that\\nthey number as many as the fingers of my two hands; but they lie hid,\\nlike cowards.\"\\n\\n\"The thieves are outlying for scalps and plunder!\" said the white man,\\nwhom we shall call Hawkeye, after the manner of his companions. \"That\\nbushy Frenchman, Montcalm, will send his spies into our very camp, but\\nhe will know what road we travel!\"\\n\\n\"Tis enough!\" returned the father, glancing his eye towards the setting\\nsun; \"they shall be driven like deer from their bushes. Hawkeye, let us\\neat to-night, and show the Maquas that we are men to-morrow.\"\\n\\n\"I am as ready to do the one as the other; but to fight the Iroquois\\n\\'tis necessary to find the skulkers; and to eat, \\'tis necessary to get\\nthe game--talk of the devil and he will come; there is a pair of the\\nbiggest antlers I have seen this season, moving the bushes below the\\nhill! Now, Uncas,\" he continued in a half whisper, and laughing with a\\nkind of inward sound, like one who had learnt to be watchful, \"I will\\nbet my charger three times full of powder, against a foot of wampum,\\nthat I take him atwixt the eyes, and nearer to the right than to the\\nleft.\"\\n\\n\"It cannot be!\" said the young Indian, springing to his feet with\\nyouthful eagerness; \"all but the tips of his horns are hid!\"\\n\\n\"He\\'s a boy!\" said the white man, shaking his head while he spoke, and\\naddressing the father. \"Does he think when a hunter sees a part of the\\ncreatur\\', he can\\'t tell where the rest of him should be!\"\\n\\n[Illustration: _Copyright by Charles Scribner\\'s Sons_\\n\\nUNCAS SLAYS A DEER\\n\\n_Avoiding the horns of the infuriated animal, Uncas darted to his side,\\nand passed his knife across the throat_]\\n\\nAdjusting his rifle, he was about to make an exhibition of that skill,\\non which he so much valued himself, when the warrior struck up the piece\\nwith his hand, saying--\\n\\n\"Hawkeye! will you fight the Maquas?\"\\n\\n\"These Indians know the nature of the woods, as it might be by\\ninstinct!\" returned the scout, dropping his rifle, and turning away like\\na man who was convinced of his error. \"I must leave the buck to your\\narrow, Uncas, or we may kill a deer for them thieves, the Iroquois, to\\neat.\"\\n\\nThe instant the father seconded this intimation by an expressive gesture\\nof the hand, Uncas threw himself on the ground, and approached the\\nanimal with wary movements. When within a few yards of the cover, he\\nfitted an arrow to his bow with the utmost care, while the antlers\\nmoved, as if their owner snuffed an enemy in the tainted air. In another\\nmoment the twang of the cord was heard, a white streak was seen glancing\\ninto the bushes, and the wounded buck plunged from the cover, to the\\nvery feet of his hidden enemy. Avoiding the horns of the infuriated\\nanimal, Uncas darted to his side, and passed his knife across the\\nthroat, when bounding to the edge of the river it fell, dyeing the\\nwaters with its blood.\\n\\n\"\\'Twas done with Indian skill,\" said the scout, laughing inwardly, but\\nwith vast satisfaction; \"and \\'twas a pretty sight to behold! Though an\\narrow is a near shot, and needs a knife to finish the work.\"\\n\\n\"Hugh!\" ejaculated his companion, turning quickly, like a hound who\\nscented game.\\n\\n\"By the Lord, there is a drove of them!\" exclaimed the scout, whose eyes\\nbegan to glisten with the ardor of his usual occupation; \"if they come\\nwithin range of a bullet I will drop one, though the whole Six Nations\\nshould be lurking within sound! What do you hear, Chingachgook? for to\\nmy ears the woods are dumb.\"\\n\\n\"There is but one deer, and he is dead,\" said the Indian, bending his\\nbody till his ear nearly touched the earth. \"I hear the sounds of feet!\"\\n\\n\"Perhaps the wolves have driven the buck to shelter, and are following\\non his trail.\"\\n\\n\"No. The horses of white men are coming!\" returned the other, raising\\nhimself with dignity, and resuming his seat on the log with his former\\ncomposure. \"Hawkeye, they are your brothers; speak to them.\"\\n\\n\"That will I, and in English that the king needn\\'t be ashamed to\\nanswer,\" returned the hunter, speaking in the language of which he\\nboasted; \"but I see nothing, nor do I hear the sounds of man or beast;\\n\\'tis strange that an Indian should understand white sounds better than a\\nman who, his very enemies will own, has no cross in his blood, although\\nhe may have lived with the redskins long enough to be suspected! Ha!\\nthere goes something like the cracking of a dry stick, too--now I hear\\nthe bushes move--yes, yes, there is a trampling that I mistook for the\\nfalls--and--but here they come themselves; God keep them from the\\nIroquois!\"\\n\\n\\n\\n'"
     },
     "execution_count": 8,
     "metadata": {},
     "output_type": "execute_result"
    }
   ],
   "source": [
    "train_data['chapter'][0]"
   ],
   "metadata": {
    "collapsed": false
   }
  },
  {
   "cell_type": "code",
   "execution_count": 10,
   "outputs": [
    {
     "data": {
      "text/plain": "(5912, 2)"
     },
     "execution_count": 10,
     "metadata": {},
     "output_type": "execute_result"
    }
   ],
   "source": [
    "df.shape"
   ],
   "metadata": {
    "collapsed": false
   }
  },
  {
   "cell_type": "code",
   "execution_count": 9,
   "outputs": [
    {
     "data": {
      "text/plain": "'In another part of the forest by the river a few miles to the west, Hawkeye and Chingachgook appear to be waiting for someone as they talk with low voices. It is now afternoon. The Indian and the scout are attired according to their forest habits: Chingachgook with his semi-nude, war-painted body and scalping tuft of hair, his tomahawk, scalping knife, and short rifle; Hawkeye with his hunting shirt, skin cap, buckskin leggings, knife, pouch and horn, and long rifle. They discuss their respective forefathers, and Chingachgook relates the slow demise of his tribe of Mohicans so that only he and his son Uncas now remain. At the mention of his name, Uncas, a youthful warrior dressed much like Hawkeye, appears and says that he has been on the trail of the Maquas, another name for the Mengwe or Iroquois, their natural enemies. The antlers of a deer are seen in the distance, and Hawkeye is about to shoot the animal for food when the warrior warns him that a shot will warn the enemy. Just as Uncas kills it with an arrow, they hear the sounds of feet which Chingachgook recognizes as the horses of white men.'"
     },
     "execution_count": 9,
     "metadata": {},
     "output_type": "execute_result"
    }
   ],
   "source": [
    "train_data['summary_text'][0]"
   ],
   "metadata": {
    "collapsed": false
   }
  },
  {
   "cell_type": "code",
   "execution_count": 11,
   "outputs": [
    {
     "name": "stderr",
     "output_type": "stream",
     "text": [
      "C:\\Users\\devar\\Desktop\\ESGI\\master\\M1\\S2\\PA-4A\\venv\\Lib\\site-packages\\huggingface_hub\\utils\\_deprecation.py:100: FutureWarning: Deprecated argument(s) used in '__init__': dataset_text_field. Will not be supported from version '1.0.0'.\n",
      "\n",
      "Deprecated positional argument(s) used in SFTTrainer, please use the SFTConfig to set these arguments instead.\n",
      "  warnings.warn(message, FutureWarning)\n",
      "C:\\Users\\devar\\Desktop\\ESGI\\master\\M1\\S2\\PA-4A\\venv\\Lib\\site-packages\\transformers\\training_args.py:1847: FutureWarning: `--push_to_hub_token` is deprecated and will be removed in version 5 of 🤗 Transformers. Use `--hub_token` instead.\n",
      "  warnings.warn(\n",
      "C:\\Users\\devar\\Desktop\\ESGI\\master\\M1\\S2\\PA-4A\\venv\\Lib\\site-packages\\trl\\trainer\\sft_trainer.py:278: UserWarning: You didn't pass a `max_seq_length` argument to the SFTTrainer, this will default to 1024\n",
      "  warnings.warn(\n",
      "C:\\Users\\devar\\Desktop\\ESGI\\master\\M1\\S2\\PA-4A\\venv\\Lib\\site-packages\\trl\\trainer\\sft_trainer.py:307: UserWarning: You passed a `dataset_text_field` argument to the SFTTrainer, the value you passed will override the one in the `SFTConfig`.\n",
      "  warnings.warn(\n",
      "C:\\Users\\devar\\Desktop\\ESGI\\master\\M1\\S2\\PA-4A\\venv\\Lib\\site-packages\\trl\\trainer\\sft_trainer.py:397: UserWarning: You passed a tokenizer with `padding_side` not equal to `right` to the SFTTrainer. This might lead to some unexpected behaviour due to overflow issues when training a model in half-precision. You might consider adding `tokenizer.padding_side = 'right'` to your code.\n",
      "  warnings.warn(\n",
      "C:\\Users\\devar\\Desktop\\ESGI\\master\\M1\\S2\\PA-4A\\venv\\Lib\\site-packages\\accelerate\\accelerator.py:436: FutureWarning: Passing the following arguments to `Accelerator` is deprecated and will be removed in version 1.0 of Accelerate: dict_keys(['dispatch_batches', 'split_batches', 'even_batches', 'use_seedable_sampler']). Please pass an `accelerate.DataLoaderConfiguration` instead: \n",
      "dataloader_config = DataLoaderConfiguration(dispatch_batches=None, split_batches=False, even_batches=True, use_seedable_sampler=True)\n",
      "  warnings.warn(\n"
     ]
    }
   ],
   "source": [
    "trainer = SFTTrainer(\n",
    "        model=model,\n",
    "        train_dataset=dataset['train'],\n",
    "        eval_dataset=dataset['test'],\n",
    "        peft_config=peft_config,\n",
    "        dataset_text_field=\"summary\",\n",
    "        #packing = True\n",
    "        #max_seq_length=512,\n",
    "        tokenizer=tokenizer,\n",
    "        args=training_arguments,\n",
    ")"
   ],
   "metadata": {
    "collapsed": false
   }
  },
  {
   "cell_type": "code",
   "execution_count": 12,
   "outputs": [
    {
     "name": "stderr",
     "output_type": "stream",
     "text": [
      "Currently training with a batch size of: 4\n",
      "***** Running training *****\n",
      "  Num examples = 5,912\n",
      "  Num Epochs = 1\n",
      "  Instantaneous batch size per device = 4\n",
      "  Total train batch size (w. parallel, distributed & accumulation) = 4\n",
      "  Gradient Accumulation steps = 1\n",
      "  Total optimization steps = 1,478\n",
      "  Number of trainable parameters = 42,520,576\n",
      "C:\\Users\\devar\\Desktop\\ESGI\\master\\M1\\S2\\PA-4A\\venv\\Lib\\site-packages\\torch\\utils\\checkpoint.py:464: UserWarning: torch.utils.checkpoint: the use_reentrant parameter should be passed explicitly. In version 2.4 we will raise an exception if use_reentrant is not passed. use_reentrant=False is recommended, but if you need to preserve the current default behavior, you can pass use_reentrant=True. Refer to docs for more details on the differences between the two variants.\n",
      "  warnings.warn(\n",
      "C:\\Users\\devar\\Desktop\\ESGI\\master\\M1\\S2\\PA-4A\\venv\\Lib\\site-packages\\transformers\\models\\mistral\\modeling_mistral.py:688: UserWarning: 1Torch was not compiled with flash attention. (Triggered internally at ..\\aten\\src\\ATen\\native\\transformers\\cuda\\sdp_utils.cpp:455.)\n",
      "  attn_output = torch.nn.functional.scaled_dot_product_attention(\n"
     ]
    },
    {
     "data": {
      "text/plain": "<IPython.core.display.HTML object>",
      "text/html": "\n    <div>\n      \n      <progress value='2' max='1478' style='width:300px; height:20px; vertical-align: middle;'></progress>\n      [   2/1478 : < :, Epoch 0.00/1]\n    </div>\n    <table border=\"1\" class=\"dataframe\">\n  <thead>\n <tr style=\"text-align: left;\">\n      <th>Epoch</th>\n      <th>Training Loss</th>\n      <th>Validation Loss</th>\n    </tr>\n  </thead>\n  <tbody>\n  </tbody>\n</table><p>"
     },
     "metadata": {},
     "output_type": "display_data"
    },
    {
     "ename": "RuntimeError",
     "evalue": "CUDA error: unknown error\nCUDA kernel errors might be asynchronously reported at some other API call, so the stacktrace below might be incorrect.\nFor debugging consider passing CUDA_LAUNCH_BLOCKING=1.\nCompile with `TORCH_USE_CUDA_DSA` to enable device-side assertions.\n",
     "output_type": "error",
     "traceback": [
      "\u001B[1;31m---------------------------------------------------------------------------\u001B[0m",
      "\u001B[1;31mRuntimeError\u001B[0m                              Traceback (most recent call last)",
      "Cell \u001B[1;32mIn[12], line 2\u001B[0m\n\u001B[0;32m      1\u001B[0m \u001B[38;5;66;03m# Launch the training\u001B[39;00m\n\u001B[1;32m----> 2\u001B[0m \u001B[43mtrainer\u001B[49m\u001B[38;5;241;43m.\u001B[39;49m\u001B[43mtrain\u001B[49m\u001B[43m(\u001B[49m\u001B[43m)\u001B[49m\n",
      "File \u001B[1;32m~\\Desktop\\ESGI\\master\\M1\\S2\\PA-4A\\venv\\Lib\\site-packages\\trl\\trainer\\sft_trainer.py:440\u001B[0m, in \u001B[0;36mSFTTrainer.train\u001B[1;34m(self, *args, **kwargs)\u001B[0m\n\u001B[0;32m    437\u001B[0m \u001B[38;5;28;01mif\u001B[39;00m \u001B[38;5;28mself\u001B[39m\u001B[38;5;241m.\u001B[39mneftune_noise_alpha \u001B[38;5;129;01mis\u001B[39;00m \u001B[38;5;129;01mnot\u001B[39;00m \u001B[38;5;28;01mNone\u001B[39;00m \u001B[38;5;129;01mand\u001B[39;00m \u001B[38;5;129;01mnot\u001B[39;00m \u001B[38;5;28mself\u001B[39m\u001B[38;5;241m.\u001B[39m_trainer_supports_neftune:\n\u001B[0;32m    438\u001B[0m     \u001B[38;5;28mself\u001B[39m\u001B[38;5;241m.\u001B[39mmodel \u001B[38;5;241m=\u001B[39m \u001B[38;5;28mself\u001B[39m\u001B[38;5;241m.\u001B[39m_trl_activate_neftune(\u001B[38;5;28mself\u001B[39m\u001B[38;5;241m.\u001B[39mmodel)\n\u001B[1;32m--> 440\u001B[0m output \u001B[38;5;241m=\u001B[39m \u001B[38;5;28;43msuper\u001B[39;49m\u001B[43m(\u001B[49m\u001B[43m)\u001B[49m\u001B[38;5;241;43m.\u001B[39;49m\u001B[43mtrain\u001B[49m\u001B[43m(\u001B[49m\u001B[38;5;241;43m*\u001B[39;49m\u001B[43margs\u001B[49m\u001B[43m,\u001B[49m\u001B[43m \u001B[49m\u001B[38;5;241;43m*\u001B[39;49m\u001B[38;5;241;43m*\u001B[39;49m\u001B[43mkwargs\u001B[49m\u001B[43m)\u001B[49m\n\u001B[0;32m    442\u001B[0m \u001B[38;5;66;03m# After training we make sure to retrieve back the original forward pass method\u001B[39;00m\n\u001B[0;32m    443\u001B[0m \u001B[38;5;66;03m# for the embedding layer by removing the forward post hook.\u001B[39;00m\n\u001B[0;32m    444\u001B[0m \u001B[38;5;28;01mif\u001B[39;00m \u001B[38;5;28mself\u001B[39m\u001B[38;5;241m.\u001B[39mneftune_noise_alpha \u001B[38;5;129;01mis\u001B[39;00m \u001B[38;5;129;01mnot\u001B[39;00m \u001B[38;5;28;01mNone\u001B[39;00m \u001B[38;5;129;01mand\u001B[39;00m \u001B[38;5;129;01mnot\u001B[39;00m \u001B[38;5;28mself\u001B[39m\u001B[38;5;241m.\u001B[39m_trainer_supports_neftune:\n",
      "File \u001B[1;32m~\\Desktop\\ESGI\\master\\M1\\S2\\PA-4A\\venv\\Lib\\site-packages\\transformers\\trainer.py:1780\u001B[0m, in \u001B[0;36mTrainer.train\u001B[1;34m(self, resume_from_checkpoint, trial, ignore_keys_for_eval, **kwargs)\u001B[0m\n\u001B[0;32m   1778\u001B[0m         hf_hub_utils\u001B[38;5;241m.\u001B[39menable_progress_bars()\n\u001B[0;32m   1779\u001B[0m \u001B[38;5;28;01melse\u001B[39;00m:\n\u001B[1;32m-> 1780\u001B[0m     \u001B[38;5;28;01mreturn\u001B[39;00m \u001B[43minner_training_loop\u001B[49m\u001B[43m(\u001B[49m\n\u001B[0;32m   1781\u001B[0m \u001B[43m        \u001B[49m\u001B[43margs\u001B[49m\u001B[38;5;241;43m=\u001B[39;49m\u001B[43margs\u001B[49m\u001B[43m,\u001B[49m\n\u001B[0;32m   1782\u001B[0m \u001B[43m        \u001B[49m\u001B[43mresume_from_checkpoint\u001B[49m\u001B[38;5;241;43m=\u001B[39;49m\u001B[43mresume_from_checkpoint\u001B[49m\u001B[43m,\u001B[49m\n\u001B[0;32m   1783\u001B[0m \u001B[43m        \u001B[49m\u001B[43mtrial\u001B[49m\u001B[38;5;241;43m=\u001B[39;49m\u001B[43mtrial\u001B[49m\u001B[43m,\u001B[49m\n\u001B[0;32m   1784\u001B[0m \u001B[43m        \u001B[49m\u001B[43mignore_keys_for_eval\u001B[49m\u001B[38;5;241;43m=\u001B[39;49m\u001B[43mignore_keys_for_eval\u001B[49m\u001B[43m,\u001B[49m\n\u001B[0;32m   1785\u001B[0m \u001B[43m    \u001B[49m\u001B[43m)\u001B[49m\n",
      "File \u001B[1;32m~\\Desktop\\ESGI\\master\\M1\\S2\\PA-4A\\venv\\Lib\\site-packages\\transformers\\trainer.py:2120\u001B[0m, in \u001B[0;36mTrainer._inner_training_loop\u001B[1;34m(self, batch_size, args, resume_from_checkpoint, trial, ignore_keys_for_eval)\u001B[0m\n\u001B[0;32m   2117\u001B[0m \u001B[38;5;28;01mwith\u001B[39;00m \u001B[38;5;28mself\u001B[39m\u001B[38;5;241m.\u001B[39maccelerator\u001B[38;5;241m.\u001B[39maccumulate(model):\n\u001B[0;32m   2118\u001B[0m     tr_loss_step \u001B[38;5;241m=\u001B[39m \u001B[38;5;28mself\u001B[39m\u001B[38;5;241m.\u001B[39mtraining_step(model, inputs)\n\u001B[1;32m-> 2120\u001B[0m \u001B[38;5;28;01mif\u001B[39;00m (\n\u001B[0;32m   2121\u001B[0m     args\u001B[38;5;241m.\u001B[39mlogging_nan_inf_filter\n\u001B[0;32m   2122\u001B[0m     \u001B[38;5;129;01mand\u001B[39;00m \u001B[38;5;129;01mnot\u001B[39;00m is_torch_xla_available()\n\u001B[0;32m   2123\u001B[0m     \u001B[38;5;129;01mand\u001B[39;00m (torch\u001B[38;5;241m.\u001B[39misnan(tr_loss_step) \u001B[38;5;129;01mor\u001B[39;00m torch\u001B[38;5;241m.\u001B[39misinf(tr_loss_step))\n\u001B[0;32m   2124\u001B[0m ):\n\u001B[0;32m   2125\u001B[0m     \u001B[38;5;66;03m# if loss is nan or inf simply add the average of previous logged losses\u001B[39;00m\n\u001B[0;32m   2126\u001B[0m     tr_loss \u001B[38;5;241m+\u001B[39m\u001B[38;5;241m=\u001B[39m tr_loss \u001B[38;5;241m/\u001B[39m (\u001B[38;5;241m1\u001B[39m \u001B[38;5;241m+\u001B[39m \u001B[38;5;28mself\u001B[39m\u001B[38;5;241m.\u001B[39mstate\u001B[38;5;241m.\u001B[39mglobal_step \u001B[38;5;241m-\u001B[39m \u001B[38;5;28mself\u001B[39m\u001B[38;5;241m.\u001B[39m_globalstep_last_logged)\n\u001B[0;32m   2127\u001B[0m \u001B[38;5;28;01melse\u001B[39;00m:\n",
      "\u001B[1;31mRuntimeError\u001B[0m: CUDA error: unknown error\nCUDA kernel errors might be asynchronously reported at some other API call, so the stacktrace below might be incorrect.\nFor debugging consider passing CUDA_LAUNCH_BLOCKING=1.\nCompile with `TORCH_USE_CUDA_DSA` to enable device-side assertions.\n"
     ]
    }
   ],
   "source": [
    "# Launch the training\n",
    "trainer.train()"
   ],
   "metadata": {
    "collapsed": false
   }
  },
  {
   "cell_type": "code",
   "execution_count": null,
   "outputs": [],
   "source": [],
   "metadata": {
    "collapsed": false
   }
  }
 ],
 "metadata": {
  "kernelspec": {
   "display_name": "Python 3",
   "language": "python",
   "name": "python3"
  },
  "language_info": {
   "codemirror_mode": {
    "name": "ipython",
    "version": 2
   },
   "file_extension": ".py",
   "mimetype": "text/x-python",
   "name": "python",
   "nbconvert_exporter": "python",
   "pygments_lexer": "ipython2",
   "version": "2.7.6"
  }
 },
 "nbformat": 4,
 "nbformat_minor": 0
}
