{
 "cells": [
  {
   "cell_type": "code",
   "id": "initial_id",
   "metadata": {
    "collapsed": true,
    "ExecuteTime": {
     "end_time": "2024-04-29T21:11:34.991997Z",
     "start_time": "2024-04-29T21:11:29.356209Z"
    }
   },
   "source": [
    "import torch\n",
    "from transformers import AutoModelForCausalLM, AutoTokenizer, BitsAndBytesConfig, AutoConfig, TrainingArguments, Trainer,AutoModelForSeq2SeqLM\n",
    "from datasets import load_dataset\n",
    "from peft import LoraConfig"
   ],
   "outputs": [],
   "execution_count": 1
  },
  {
   "metadata": {
    "ExecuteTime": {
     "end_time": "2024-04-29T21:11:35.946234Z",
     "start_time": "2024-04-29T21:11:35.943350Z"
    }
   },
   "cell_type": "code",
   "source": [
    "peft_config = LoraConfig(\n",
    "    r=8,\n",
    "    target_modules=[\"q_proj\", \"o_proj\", \"k_proj\", \"v_proj\", \"gate_proj\", \"up_proj\", \"down_proj\"],\n",
    "    task_type=\"CAUSAL_LM\",)"
   ],
   "id": "4af046f986193ae3",
   "outputs": [],
   "execution_count": 2
  },
  {
   "metadata": {
    "ExecuteTime": {
     "end_time": "2024-04-29T21:11:43.330685Z",
     "start_time": "2024-04-29T21:11:36.935006Z"
    }
   },
   "cell_type": "code",
   "source": [
    "dataset = load_dataset(\"pszemraj/booksum-short\")"
   ],
   "id": "c62ccfb2062db651",
   "outputs": [],
   "execution_count": 3
  },
  {
   "metadata": {
    "ExecuteTime": {
     "end_time": "2024-04-29T21:11:43.926015Z",
     "start_time": "2024-04-29T21:11:43.921230Z"
    }
   },
   "cell_type": "code",
   "source": [
    "quantization_config = BitsAndBytesConfig(\n",
    "        #load_in_8bit= False,\n",
    "        load_in_4bit=True,\n",
    "        # llm_int8_enable_fp32_cpu_offload=True,\n",
    "        # llm_int8_has_fp16_weight=True,\n",
    "        bnb_4bit_quant_type=\"nf4\",\n",
    "        bnb_4bit_compute_dtype=\"float16\"\n",
    ")"
   ],
   "id": "ade4b16fe2c3c780",
   "outputs": [],
   "execution_count": 4
  },
  {
   "metadata": {
    "ExecuteTime": {
     "end_time": "2024-04-29T21:11:44.760652Z",
     "start_time": "2024-04-29T21:11:44.757687Z"
    }
   },
   "cell_type": "code",
   "source": [
    "device = 'cuda'"
   ],
   "id": "7882812b75164eca",
   "outputs": [],
   "execution_count": 5
  },
  {
   "metadata": {
    "ExecuteTime": {
     "end_time": "2024-04-29T21:11:48.329898Z",
     "start_time": "2024-04-29T21:11:45.595063Z"
    }
   },
   "cell_type": "code",
   "source": [
    "model = AutoModelForSeq2SeqLM.from_pretrained(\"facebook/bart-large-cnn\")"
   ],
   "id": "2628d21f7ce1463a",
   "outputs": [],
   "execution_count": 6
  },
  {
   "metadata": {
    "ExecuteTime": {
     "end_time": "2024-04-29T21:11:49.671400Z",
     "start_time": "2024-04-29T21:11:49.390288Z"
    }
   },
   "cell_type": "code",
   "source": [
    "model.add_adapter(peft_config, adapter_name=\"chapter_adapter\")"
   ],
   "id": "74c7f37d0d30ee9d",
   "outputs": [],
   "execution_count": 7
  },
  {
   "metadata": {
    "ExecuteTime": {
     "end_time": "2024-04-29T21:11:51.082375Z",
     "start_time": "2024-04-29T21:11:50.493336Z"
    }
   },
   "cell_type": "code",
   "source": [
    "tokenizer = AutoTokenizer.from_pretrained(\"facebook/bart-large-cnn\")"
   ],
   "id": "4ea75ead5852c622",
   "outputs": [],
   "execution_count": 8
  },
  {
   "metadata": {
    "ExecuteTime": {
     "end_time": "2024-04-29T21:11:57.174444Z",
     "start_time": "2024-04-29T21:11:55.264753Z"
    }
   },
   "cell_type": "code",
   "source": [
    "\n",
    "chapter_len = [len(x['chapter'].split()) for x in dataset['train']]\n",
    "summary_len = [len(x['summary_text'].split()) for x in dataset['train']]"
   ],
   "id": "4fccf69168fbd676",
   "outputs": [],
   "execution_count": 9
  },
  {
   "metadata": {
    "ExecuteTime": {
     "end_time": "2024-04-29T21:11:58.545986Z",
     "start_time": "2024-04-29T21:11:57.958071Z"
    }
   },
   "cell_type": "code",
   "source": [
    "\n",
    "import pandas as pd\n",
    "\n",
    "data = pd.DataFrame([chapter_len, summary_len]).T\n",
    "data.columns = ['Chapter Length', 'Summary Length']\n",
    "\n",
    "data.hist(figsize=(15,5))"
   ],
   "id": "473278b55098d576",
   "outputs": [
    {
     "data": {
      "text/plain": [
       "array([[<Axes: title={'center': 'Chapter Length'}>,\n",
       "        <Axes: title={'center': 'Summary Length'}>]], dtype=object)"
      ]
     },
     "execution_count": 10,
     "metadata": {},
     "output_type": "execute_result"
    },
    {
     "data": {
      "text/plain": [
       "<Figure size 1500x500 with 2 Axes>"
      ],
      "image/png": "[encoded data removed]"
     },
     "metadata": {},
     "output_type": "display_data"
    }
   ],
   "execution_count": 10
  },
  {
   "metadata": {
    "ExecuteTime": {
     "end_time": "2024-04-29T21:11:59.360578Z",
     "start_time": "2024-04-29T21:11:59.355758Z"
    }
   },
   "cell_type": "code",
   "source": [
    "\n",
    "# lets build Data Collator\n",
    "\n",
    "def get_feature(batch):\n",
    "  encodings = tokenizer(batch['chapter'], text_target=batch['summary_text'],\n",
    "                        max_length=1024, truncation=True)\n",
    "\n",
    "  encodings = {'input_ids': encodings['input_ids'],\n",
    "               'attention_mask': encodings['attention_mask'],\n",
    "               'labels': encodings['labels']}\n",
    "\n",
    "  return encodings"
   ],
   "id": "43b462cd7001c488",
   "outputs": [],
   "execution_count": 11
  },
  {
   "metadata": {
    "ExecuteTime": {
     "end_time": "2024-04-29T21:12:02.312180Z",
     "start_time": "2024-04-29T21:12:00.499352Z"
    }
   },
   "cell_type": "code",
   "source": [
    "dataset_pt = dataset.map(get_feature, batched=True)"
   ],
   "id": "d8b4da9868ec1df4",
   "outputs": [
    {
     "data": {
      "text/plain": [
       "Map:   0%|          | 0/1012 [00:00<?, ? examples/s]"
      ],
      "application/vnd.jupyter.widget-view+json": {
       "version_major": 2,
       "version_minor": 0,
       "model_id": "ff83eb48b5eb4838a199e4a3bbe7cd48"
      }
     },
     "metadata": {},
     "output_type": "display_data"
    }
   ],
   "execution_count": 12
  },
  {
   "metadata": {
    "ExecuteTime": {
     "end_time": "2024-04-29T21:12:08.640711Z",
     "start_time": "2024-04-29T21:12:08.636711Z"
    }
   },
   "cell_type": "code",
   "source": [
    "dataset_pt"
   ],
   "id": "8a3b97c169895d60",
   "outputs": [
    {
     "data": {
      "text/plain": [
       "DatasetDict({\n",
       "    train: Dataset({\n",
       "        features: ['bid', 'is_aggregate', 'source', 'chapter_path', 'summary_path', 'book_id', 'summary_id', 'content', 'summary', 'chapter', 'chapter_length', 'summary_name', 'summary_url', 'summary_text', 'summary_analysis', 'summary_length', 'analysis_length', 'input_ids', 'attention_mask', 'labels'],\n",
       "        num_rows: 5912\n",
       "    })\n",
       "    validation: Dataset({\n",
       "        features: ['bid', 'is_aggregate', 'source', 'chapter_path', 'summary_path', 'book_id', 'summary_id', 'content', 'summary', 'chapter', 'chapter_length', 'summary_name', 'summary_url', 'summary_text', 'summary_analysis', 'summary_length', 'analysis_length', 'input_ids', 'attention_mask', 'labels'],\n",
       "        num_rows: 1012\n",
       "    })\n",
       "    test: Dataset({\n",
       "        features: ['bid', 'is_aggregate', 'source', 'chapter_path', 'summary_path', 'book_id', 'summary_id', 'content', 'summary', 'chapter', 'chapter_length', 'summary_name', 'summary_url', 'summary_text', 'summary_analysis', 'summary_length', 'analysis_length', 'input_ids', 'attention_mask', 'labels'],\n",
       "        num_rows: 988\n",
       "    })\n",
       "})"
      ]
     },
     "execution_count": 13,
     "metadata": {},
     "output_type": "execute_result"
    }
   ],
   "execution_count": 13
  },
  {
   "metadata": {
    "ExecuteTime": {
     "end_time": "2024-04-29T21:12:09.387624Z",
     "start_time": "2024-04-29T21:12:09.383284Z"
    }
   },
   "cell_type": "code",
   "source": [
    "columns = ['input_ids', 'labels', 'attention_mask']\n",
    "dataset_pt.set_format(type='torch', columns=columns)"
   ],
   "id": "995e86c9e1e66f99",
   "outputs": [],
   "execution_count": 14
  },
  {
   "metadata": {
    "ExecuteTime": {
     "end_time": "2024-04-29T21:12:10.127698Z",
     "start_time": "2024-04-29T21:12:10.124303Z"
    }
   },
   "cell_type": "code",
   "source": [
    "\n",
    "from transformers import DataCollatorForSeq2Seq\n",
    "data_collator = DataCollatorForSeq2Seq(tokenizer, model=model)"
   ],
   "id": "d624ad219d94cf1c",
   "outputs": [],
   "execution_count": 15
  },
  {
   "metadata": {
    "ExecuteTime": {
     "end_time": "2024-04-29T21:12:11.510500Z",
     "start_time": "2024-04-29T21:12:11.022574Z"
    }
   },
   "cell_type": "code",
   "source": [
    "from transformers import TrainingArguments, Trainer\n",
    "\n",
    "training_args = TrainingArguments(\n",
    "    output_dir = 'mistral_dataset',\n",
    "    num_train_epochs=1,\n",
    "    warmup_steps = 500,\n",
    "    per_device_train_batch_size=4,\n",
    "    per_device_eval_batch_size=4,\n",
    "    weight_decay = 0.01,\n",
    "    logging_steps = 10,\n",
    "    evaluation_strategy = 'steps',\n",
    "    eval_steps=500,\n",
    "    save_steps=1e6,\n",
    "    gradient_accumulation_steps=16\n",
    ")\n",
    "\n",
    "trainer = Trainer(model=model, args=training_args, tokenizer=tokenizer, data_collator=data_collator,\n",
    "                  train_dataset = dataset_pt['train'], eval_dataset = dataset_pt['validation'])"
   ],
   "id": "3389146f2b67a9e6",
   "outputs": [],
   "execution_count": 16
  },
  {
   "metadata": {
    "ExecuteTime": {
     "end_time": "2024-04-29T21:36:39.666129Z",
     "start_time": "2024-04-29T21:12:13.025648Z"
    }
   },
   "cell_type": "code",
   "source": [
    "\n",
    "trainer.train()"
   ],
   "id": "c690dc8eef691433",
   "outputs": [
    {
     "name": "stderr",
     "output_type": "stream",
     "text": [
      "C:\\Users\\yferc\\anaconda3\\envs\\projet-annuel\\Lib\\site-packages\\transformers\\models\\bart\\modeling_bart.py:587: UserWarning: 1Torch was not compiled with flash attention. (Triggered internally at ..\\aten\\src\\ATen\\native\\transformers\\cuda\\sdp_utils.cpp:455.)\n",
      "  attn_output = torch.nn.functional.scaled_dot_product_attention(\n"
     ]
    },
    {
     "data": {
      "text/plain": [
       "<IPython.core.display.HTML object>"
      ],
      "text/html": [
       "\n",
       "    <div>\n",
       "      \n",
       "      <progress value='92' max='92' style='width:300px; height:20px; vertical-align: middle;'></progress>\n",
       "      [92/92 24:10, Epoch 0/1]\n",
       "    </div>\n",
       "    <table border=\"1\" class=\"dataframe\">\n",
       "  <thead>\n",
       " <tr style=\"text-align: left;\">\n",
       "      <th>Step</th>\n",
       "      <th>Training Loss</th>\n",
       "      <th>Validation Loss</th>\n",
       "    </tr>\n",
       "  </thead>\n",
       "  <tbody>\n",
       "  </tbody>\n",
       "</table><p>"
      ]
     },
     "metadata": {},
     "output_type": "display_data"
    },
    {
     "data": {
      "text/plain": [
       "TrainOutput(global_step=92, training_loss=3.440512797106867, metrics={'train_runtime': 1466.5048, 'train_samples_per_second': 4.031, 'train_steps_per_second': 0.063, 'total_flos': 1.282392408981504e+16, 'train_loss': 3.440512797106867, 'epoch': 0.9959404600811907})"
      ]
     },
     "execution_count": 17,
     "metadata": {},
     "output_type": "execute_result"
    }
   ],
   "execution_count": 17
  },
  {
   "metadata": {
    "ExecuteTime": {
     "end_time": "2024-04-29T21:42:00.614297Z",
     "start_time": "2024-04-29T21:42:00.280781Z"
    }
   },
   "cell_type": "code",
   "source": [
    "trainer.save_model('models/bart_model_v1')"
   ],
   "id": "c52393b11474729c",
   "outputs": [
    {
     "name": "stderr",
     "output_type": "stream",
     "text": [
      "C:\\Users\\yferc\\anaconda3\\envs\\projet-annuel\\Lib\\site-packages\\transformers\\integrations\\peft.py:391: FutureWarning: The `active_adapter` method is deprecated and will be removed in a future version.\n",
      "  warnings.warn(\n"
     ]
    }
   ],
   "execution_count": 19
  },
  {
   "metadata": {},
   "cell_type": "code",
   "outputs": [],
   "execution_count": null,
   "source": [],
   "id": "a87891c5ccb6402a"
  }
 ],
 "metadata": {
  "kernelspec": {
   "display_name": "myJupyterKernel",
   "language": "python",
   "name": "myjupyterkernel"
  },
  "language_info": {
   "codemirror_mode": {
    "name": "ipython",
    "version": 2
   },
   "file_extension": ".py",
   "mimetype": "text/x-python",
   "name": "python",
   "nbconvert_exporter": "python",
   "pygments_lexer": "ipython2",
   "version": "2.7.6"
  }
 },
 "nbformat": 4,
 "nbformat_minor": 5
}
