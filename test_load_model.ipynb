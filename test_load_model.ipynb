{
 "cells": [
  {
   "cell_type": "code",
   "id": "initial_id",
   "metadata": {
    "collapsed": true,
    "ExecuteTime": {
     "end_time": "2024-05-05T10:30:59.904795Z",
     "start_time": "2024-05-05T10:30:56.212305Z"
    }
   },
   "source": [
    "from transformers import pipeline\n"
   ],
   "outputs": [],
   "execution_count": 1
  },
  {
   "metadata": {
    "ExecuteTime": {
     "start_time": "2024-05-05T10:31:11.400096Z"
    }
   },
   "cell_type": "code",
   "source": [
    "'''pipe = pipeline('summarization', model='mistral_model_v1')\n",
    "gen_kwargs = {'length_penalty': 0.8, 'num_beams': 8, \"max_length\": 200}\n",
    "\n",
    "custom_dialogue=\"\"\"\n",
    "Charles Bukowski was an alcoholic, a womanizer, a chronic\n",
    "gambler, a lout, a cheapskate, a deadbeat, and on his worst\n",
    "days, a poet. He’s probably the last person on earth you\n",
    "would ever look to for life advice or expect to see in any sort\n",
    "of self-help book.\n",
    "Which is why he’s the perfect place to start.\n",
    "Bukowski wanted to be a writer. But for decades his work\n",
    "was rejected by almost every magazine, newspaper, journal,\n",
    "agent, and publisher he submitted to. His work was horrible,\n",
    "they said. Crude. Disgusting. Depraved. And as the stacks of\n",
    "rejection slips piled up, the weight of his failures pushed him\n",
    "deep into an alcohol-fueled depression that would follow\n",
    "him for most of his life.\n",
    "Bukowski had a day job as a letter-filer at a post office.\n",
    "He got paid shit money and spent most of it on booze. He\n",
    "gambled away the rest at the racetrack. At night, he would\n",
    "drink alone and sometimes hammer out poetry on his beatup\n",
    "old typewriter. Often, he’d wake up on the floor, having\n",
    "passed out the night before.\n",
    "Thirty years went by like this, most of it a meaningless\n",
    "blur of alcohol, drugs, gambling, and prostitutes. Then,\n",
    "when Bukowski was fifty, after a lifetime of failure and selfloathing,\n",
    "an editor at a small independent publishing house\n",
    "took a strange interest in him. The editor couldn’t offer\n",
    "Bukowski much money or much promise of sales. But he\n",
    "had a weird affection for the drunk loser, so he decided to\n",
    "take a chance on him. It was the first real shot Bukowski had\n",
    "ever gotten, and, he realized, probably the only one he\n",
    "would ever get. Bukowski wrote back to the editor: “I have\n",
    "one of two choices—stay in the post office and go crazy . . .\n",
    "or stay out here and play at writer and starve. I have\n",
    "decided to starve.”\n",
    "Upon signing the contract, Bukowski wrote his first novel\n",
    "in three weeks. It was called simply Post Office. In the\n",
    "dedication, he wrote, “Dedicated to nobody.”\n",
    "Bukowski would make it as a novelist and poet. He would\n",
    "go on and publish six novels and hundreds of poems, selling\n",
    "over two million copies of his books. His popularity defied\n",
    "everyone’s expectations, particularly his own.\n",
    "Stories like Bukowski’s are the bread and butter of our\n",
    "cultural narrative. Bukowski’s life embodies the American\n",
    "Dream: a man fights for what he wants, never gives up, and\n",
    "eventually achieves his wildest dreams. It’s practically a\n",
    "movie waiting to happen. We all look at stories like\n",
    "Bukowski’s and say, “See? He never gave up. He never\n",
    "stopped trying. He always believed in himself. He persisted\n",
    "against all the odds and made something of himself!”\n",
    "It is then strange that on Bukowski’s tombstone, the\n",
    "epitaph reads: “Don’t try.”\n",
    "See, despite the book sales and the fame, Bukowski was\n",
    "a loser. He knew it. And his success stemmed not from some\n",
    "determination to be a winner, but from the fact that he\n",
    "knew he was a loser, accepted it, and then wrote honestly\n",
    "about it. He never tried to be anything other than what he\n",
    "was. The genius in Bukowski’s work was not in overcoming\n",
    "unbelievable odds or developing himself into a shining\n",
    "literary light. It was the opposite. It was his simple ability to\n",
    "be completely, unflinchingly honest with himself—especially\n",
    "the worst parts of himself—and to share his failings without\n",
    "hesitation or doubt.\n",
    "\n",
    "\"\"\"\n",
    "print(pipe(custom_dialogue, **gen_kwargs))'''"
   ],
   "id": "bea9c842d60fc107",
   "outputs": [],
   "execution_count": null
  },
  {
   "metadata": {
    "jupyter": {
     "is_executing": true
    },
    "ExecuteTime": {
     "start_time": "2024-05-05T10:38:41.486328Z"
    }
   },
   "cell_type": "code",
   "source": [
    "from transformers import AutoTokenizer, AutoModelForCausalLM\n",
    "\n",
    "model = AutoModelForCausalLM.from_pretrained(\"mistral_model_v1\")\n",
    "tokenizer = AutoTokenizer.from_pretrained(\"test_load_mistral_model\")\n",
    "\n",
    "\n",
    "\n",
    "input_text = \"\"\"Charles Bukowski was an alcoholic, a womanizer, a chronic\n",
    "gambler, a lout, a cheapskate, a deadbeat, and on his worst\n",
    "days, a poet. He’s probably the last person on earth you\n",
    "would ever look to for life advice or expect to see in any sort\n",
    "of self-help book.\n",
    "Which is why he’s the perfect place to start.\n",
    "Bukowski wanted to be a writer. But for decades his work\n",
    "was rejected by almost every magazine, newspaper, journal,\n",
    "agent, and publisher he submitted to. His work was horrible,\n",
    "they said. Crude. Disgusting. Depraved. And as the stacks of\n",
    "rejection slips piled up, the weight of his failures pushed him\n",
    "deep into an alcohol-fueled depression that would follow\n",
    "him for most of his life.\n",
    "Bukowski had a day job as a letter-filer at a post office.\n",
    "He got paid shit money and spent most of it on booze. He\n",
    "gambled away the rest at the racetrack. At night, he would\n",
    "drink alone and sometimes hammer out poetry on his beatup\n",
    "old typewriter. Often, he’d wake up on the floor, having\n",
    "passed out the night before.\n",
    "Thirty years went by like this, most of it a meaningless\n",
    "blur of alcohol, drugs, gambling, and prostitutes. Then,\n",
    "when Bukowski was fifty, after a lifetime of failure and selfloathing,\n",
    "an editor at a small independent publishing house\n",
    "took a strange interest in him. The editor couldn’t offer\n",
    "Bukowski much money or much promise of sales. But he\n",
    "had a weird affection for the drunk loser, so he decided to\n",
    "take a chance on him. It was the first real shot Bukowski had\n",
    "ever gotten, and, he realized, probably the only one he\n",
    "would ever get. Bukowski wrote back to the editor: “I have\n",
    "one of two choices—stay in the post office and go crazy . . .\n",
    "or stay out here and play at writer and starve. I have\n",
    "decided to starve.”\n",
    "Upon signing the contract, Bukowski wrote his first novel\n",
    "in three weeks. It was called simply Post Office. In the\n",
    "dedication, he wrote, “Dedicated to nobody.”\n",
    "Bukowski would make it as a novelist and poet. He would\n",
    "go on and publish six novels and hundreds of poems, selling\n",
    "over two million copies of his books. His popularity defied\n",
    "everyone’s expectations, particularly his own.\n",
    "Stories like Bukowski’s are the bread and butter of our\n",
    "cultural narrative. Bukowski’s life embodies the American\n",
    "Dream: a man fights for what he wants, never gives up, and\n",
    "eventually achieves his wildest dreams. It’s practically a\n",
    "movie waiting to happen. We all look at stories like\n",
    "Bukowski’s and say, “See? He never gave up. He never\n",
    "stopped trying. He always believed in himself. He persisted\n",
    "against all the odds and made something of himself!”\n",
    "It is then strange that on Bukowski’s tombstone, the\n",
    "epitaph reads: “Don’t try.”\n",
    "See, despite the book sales and the fame, Bukowski was\n",
    "a loser. He knew it. And his success stemmed not from some\n",
    "determination to be a winner, but from the fact that he\n",
    "knew he was a loser, accepted it, and then wrote honestly\n",
    "about it. He never tried to be anything other than what he\n",
    "was. The genius in Bukowski’s work was not in overcoming\n",
    "unbelievable odds or developing himself into a shining\n",
    "literary light. It was the opposite. It was his simple ability to\n",
    "be completely, unflinchingly honest with himself—especially\n",
    "the worst parts of himself—and to share his failings without\n",
    "hesitation or doubt.\"\"\"\n",
    "inputs = tokenizer(input_text, return_tensors=\"pt\", max_length=1000, truncation=True)\n"
   ],
   "id": "e3ee6a121c03f6ed",
   "outputs": [],
   "execution_count": null
  },
  {
   "metadata": {},
   "cell_type": "code",
   "outputs": [],
   "execution_count": null,
   "source": [
    "outputs = model.generate(**inputs)\n",
    "decoded_output = tokenizer.decode(outputs[0], skip_special_tokens=True)\n",
    "print(decoded_output)"
   ],
   "id": "20bcfedb9f29c23a"
  }
 ],
 "metadata": {
  "kernelspec": {
   "display_name": "myJupyterKernel",
   "language": "python",
   "name": "myjupyterkernel"
  },
  "language_info": {
   "codemirror_mode": {
    "name": "ipython",
    "version": 2
   },
   "file_extension": ".py",
   "mimetype": "text/x-python",
   "name": "python",
   "nbconvert_exporter": "python",
   "pygments_lexer": "ipython2",
   "version": "2.7.6"
  }
 },
 "nbformat": 4,
 "nbformat_minor": 5
}
