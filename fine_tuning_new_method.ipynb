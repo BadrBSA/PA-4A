{
 "cells": [
  {
   "cell_type": "code",
   "execution_count": 1,
   "metadata": {
    "collapsed": true
   },
   "outputs": [
    {
     "name": "stdout",
     "output_type": "stream",
     "text": [
      "Fri Jun 14 15:45:28 2024       \n",
      "+---------------------------------------------------------------------------------------+\n",
      "| NVIDIA-SMI 536.23                 Driver Version: 536.23       CUDA Version: 12.2     |\n",
      "|-----------------------------------------+----------------------+----------------------+\n",
      "| GPU  Name                     TCC/WDDM  | Bus-Id        Disp.A | Volatile Uncorr. ECC |\n",
      "| Fan  Temp   Perf          Pwr:Usage/Cap |         Memory-Usage | GPU-Util  Compute M. |\n",
      "|                                         |                      |               MIG M. |\n",
      "|=========================================+======================+======================|\n",
      "|   0  NVIDIA GeForce GTX 1080 Ti   WDDM  | 00000000:0F:00.0  On |                  N/A |\n",
      "| 23%   36C    P5              26W / 250W |   2142MiB / 11264MiB |     37%      Default |\n",
      "|                                         |                      |                  N/A |\n",
      "+-----------------------------------------+----------------------+----------------------+\n",
      "                                                                                         \n",
      "+---------------------------------------------------------------------------------------+\n",
      "| Processes:                                                                            |\n",
      "|  GPU   GI   CI        PID   Type   Process name                            GPU Memory |\n",
      "|        ID   ID                                                             Usage      |\n",
      "|=======================================================================================|\n",
      "|    0   N/A  N/A      2552    C+G   ...CBS_cw5n1h2txyewy\\TextInputHost.exe    N/A      |\n",
      "|    0   N/A  N/A      3836    C+G   ...les\\AMD\\CNext\\CNext\\AMDRSSrcExt.exe    N/A      |\n",
      "|    0   N/A  N/A      9676    C+G   ...cal\\Microsoft\\OneDrive\\OneDrive.exe    N/A      |\n",
      "|    0   N/A  N/A     10400    C+G   ...t.LockApp_cw5n1h2txyewy\\LockApp.exe    N/A      |\n",
      "|    0   N/A  N/A     10476    C+G   C:\\Windows\\explorer.exe                   N/A      |\n",
      "|    0   N/A  N/A     11112    C+G   ...ir\\CORSAIR iCUE 4 Software\\iCUE.exe    N/A      |\n",
      "|    0   N/A  N/A     12408    C+G   ...b3d8bbwe\\Microsoft.Media.Player.exe    N/A      |\n",
      "|    0   N/A  N/A     12584    C+G   ....Search_cw5n1h2txyewy\\SearchApp.exe    N/A      |\n",
      "|    0   N/A  N/A     12640    C+G   ...2txyewy\\StartMenuExperienceHost.exe    N/A      |\n",
      "|    0   N/A  N/A     12772    C+G   ...wekyb3d8bbwe\\XboxGameBarWidgets.exe    N/A      |\n",
      "|    0   N/A  N/A     14200    C+G   ...223.8214.51\\jbr\\bin\\jcef_helper.exe    N/A      |\n",
      "|    0   N/A  N/A     14316    C+G   ...8.0_x64__cv1g1gvanyjgm\\WhatsApp.exe    N/A      |\n",
      "|    0   N/A  N/A     15508    C+G   ...\\AMD\\CNext\\CNext\\RadeonSoftware.exe    N/A      |\n",
      "|    0   N/A  N/A     15928    C+G   ...GeForce Experience\\NVIDIA Share.exe    N/A      |\n",
      "|    0   N/A  N/A     16428    C+G   ....Search_cw5n1h2txyewy\\SearchApp.exe    N/A      |\n",
      "|    0   N/A  N/A     16524    C+G   ...ekyb3d8bbwe\\PhoneExperienceHost.exe    N/A      |\n",
      "|    0   N/A  N/A     17120    C+G   ...5n1h2txyewy\\ShellExperienceHost.exe    N/A      |\n",
      "|    0   N/A  N/A     19972    C+G   ...m Files (x86)\\Overwolf\\Overwolf.exe    N/A      |\n",
      "|    0   N/A  N/A     20884    C+G   ...78.0_x64__zpdnekdrzrea0\\Spotify.exe    N/A      |\n",
      "|    0   N/A  N/A     21728    C+G   ...on\\125.0.2535.92\\msedgewebview2.exe    N/A      |\n",
      "|    0   N/A  N/A     21980    C+G   ...EA Desktop\\EA Desktop\\EADesktop.exe    N/A      |\n",
      "|    0   N/A  N/A     22136    C+G   ...rwolf\\0.251.2.1\\OverwolfBrowser.exe    N/A      |\n",
      "|    0   N/A  N/A     23252    C+G   ...al\\Discord\\app-1.0.9149\\Discord.exe    N/A      |\n",
      "|    0   N/A  N/A     24852    C+G   ....0_x64__8wekyb3d8bbwe\\HxOutlook.exe    N/A      |\n",
      "|    0   N/A  N/A     27928    C+G   ...al\\Discord\\app-1.0.9149\\Discord.exe    N/A      |\n",
      "|    0   N/A  N/A     28368    C+G   ...crosoft\\Edge\\Application\\msedge.exe    N/A      |\n",
      "|    0   N/A  N/A     28784    C+G   ...oogle\\Chrome\\Application\\chrome.exe    N/A      |\n",
      "+---------------------------------------------------------------------------------------+\n"
     ]
    },
    {
     "name": "stderr",
     "output_type": "stream",
     "text": [
      "'lscpu' n'est pas reconnu en tant que commande interne\n",
      "ou externe, un programme ex‚cutable ou un fichier de commandes.\n"
     ]
    }
   ],
   "source": [
    "!nvidia-smi\n",
    "!lscpu"
   ]
  },
  {
   "cell_type": "code",
   "execution_count": 2,
   "outputs": [],
   "source": [
    "%%capture\n",
    "!pip install -q -U torch=='2.0.0'\n",
    "!pip install -q -U accelerate=='0.25.0' peft=='0.7.1' bitsandbytes=='0.41.3.post2' transformers=='4.36.1' trl=='0.7.4'\n",
    "!pip install --upgrade pandas"
   ],
   "metadata": {
    "collapsed": false
   }
  },
  {
   "cell_type": "code",
   "execution_count": 3,
   "outputs": [],
   "source": [
    "!pip install wandb --quiet"
   ],
   "metadata": {
    "collapsed": false
   }
  },
  {
   "cell_type": "code",
   "execution_count": 4,
   "outputs": [
    {
     "name": "stdout",
     "output_type": "stream",
     "text": [
      "Requirement already satisfied: scikit-learn in c:\\users\\devar\\desktop\\esgi\\master\\m1\\s2\\pa-4a\\venv\\lib\\site-packages (1.5.0)\n",
      "Requirement already satisfied: numpy>=1.19.5 in c:\\users\\devar\\desktop\\esgi\\master\\m1\\s2\\pa-4a\\venv\\lib\\site-packages (from scikit-learn) (1.26.4)\n",
      "Requirement already satisfied: scipy>=1.6.0 in c:\\users\\devar\\desktop\\esgi\\master\\m1\\s2\\pa-4a\\venv\\lib\\site-packages (from scikit-learn) (1.13.1)\n",
      "Requirement already satisfied: joblib>=1.2.0 in c:\\users\\devar\\desktop\\esgi\\master\\m1\\s2\\pa-4a\\venv\\lib\\site-packages (from scikit-learn) (1.4.0)\n",
      "Requirement already satisfied: threadpoolctl>=3.1.0 in c:\\users\\devar\\desktop\\esgi\\master\\m1\\s2\\pa-4a\\venv\\lib\\site-packages (from scikit-learn) (3.5.0)\n"
     ]
    }
   ],
   "source": [
    "!pip install scikit-learn"
   ],
   "metadata": {
    "collapsed": false
   }
  },
  {
   "cell_type": "code",
   "execution_count": 5,
   "outputs": [],
   "source": [
    "import os\n",
    "import warnings\n",
    "import pandas as pd\n",
    "\n",
    "import wandb\n",
    "import torch\n",
    "import transformers\n",
    "import bitsandbytes\n",
    "from datasets import Dataset\n",
    "from huggingface_hub import login\n",
    "from peft import LoraConfig, PeftConfig, prepare_model_for_kbit_training, get_peft_model\n",
    "from trl import SFTTrainer\n",
    "from transformers import (AutoModelForCausalLM,\n",
    "                         AutoTokenizer,\n",
    "                         BitsAndBytesConfig,\n",
    "                         TrainingArguments,\n",
    "                         pipeline,\n",
    "                         logging,\n",
    "                         TrainerCallback)\n",
    "\n",
    "from sklearn.model_selection import train_test_split\n",
    "from sklearn.metrics import (accuracy_score,\n",
    "                            confusion_matrix,\n",
    "                            classification_report)"
   ],
   "metadata": {
    "collapsed": false
   }
  },
  {
   "cell_type": "code",
   "execution_count": 6,
   "outputs": [],
   "source": [
    "os.environ['CUDA_VISIBLE_DEVICES'] = \"0\"\n",
    "os.environ['TOKENIZERS_PARALLELISM'] = \"false\""
   ],
   "metadata": {
    "collapsed": false
   }
  },
  {
   "cell_type": "code",
   "execution_count": 7,
   "outputs": [],
   "source": [
    "warnings.filterwarnings(\"ignore\")"
   ],
   "metadata": {
    "collapsed": false
   }
  },
  {
   "cell_type": "code",
   "execution_count": 8,
   "outputs": [],
   "source": [
    "from datasets import load_dataset\n",
    "dataset = load_dataset(\"pszemraj/booksum-short\")\n",
    "\n",
    "train_data = dataset['train']\n",
    "chapters = train_data['chapter']\n",
    "summaries = train_data['summary_text']\n",
    "\n",
    "df = pd.DataFrame({'Context': chapters, 'Response': summaries})"
   ],
   "metadata": {
    "collapsed": false
   }
  },
  {
   "cell_type": "code",
   "execution_count": 9,
   "outputs": [
    {
     "data": {
      "text/plain": "                                             Context  \\\n0  \\n  \"Before these fields were shorn and tilled...   \n1  \\n  \"Well, go thy way: thou shalt not from thi...   \n2  \\n                      \"In such a night\\n  Di...   \n3  \\n  \"Those strains that once did sweet in Zion...   \n4  \\n                            \"Be gay securely...   \n\n                                            Response  \n0  In another part of the forest by the river a f...  \n1  When the mounted party from Fort Howard approa...  \n2  The pursuit of Magua is unsuccessful, but Hawk...  \n3  Heyward and the girls are uneasy and Gamut is ...  \n4  In the stillness that follows, Heyward finds i...  ",
      "text/html": "<div>\n<style scoped>\n    .dataframe tbody tr th:only-of-type {\n        vertical-align: middle;\n    }\n\n    .dataframe tbody tr th {\n        vertical-align: top;\n    }\n\n    .dataframe thead th {\n        text-align: right;\n    }\n</style>\n<table border=\"1\" class=\"dataframe\">\n  <thead>\n    <tr style=\"text-align: right;\">\n      <th></th>\n      <th>Context</th>\n      <th>Response</th>\n    </tr>\n  </thead>\n  <tbody>\n    <tr>\n      <th>0</th>\n      <td>\\n  \"Before these fields were shorn and tilled...</td>\n      <td>In another part of the forest by the river a f...</td>\n    </tr>\n    <tr>\n      <th>1</th>\n      <td>\\n  \"Well, go thy way: thou shalt not from thi...</td>\n      <td>When the mounted party from Fort Howard approa...</td>\n    </tr>\n    <tr>\n      <th>2</th>\n      <td>\\n                      \"In such a night\\n  Di...</td>\n      <td>The pursuit of Magua is unsuccessful, but Hawk...</td>\n    </tr>\n    <tr>\n      <th>3</th>\n      <td>\\n  \"Those strains that once did sweet in Zion...</td>\n      <td>Heyward and the girls are uneasy and Gamut is ...</td>\n    </tr>\n    <tr>\n      <th>4</th>\n      <td>\\n                            \"Be gay securely...</td>\n      <td>In the stillness that follows, Heyward finds i...</td>\n    </tr>\n  </tbody>\n</table>\n</div>"
     },
     "execution_count": 9,
     "metadata": {},
     "output_type": "execute_result"
    }
   ],
   "source": [
    "df.head()"
   ],
   "metadata": {
    "collapsed": false
   }
  },
  {
   "cell_type": "code",
   "execution_count": 10,
   "outputs": [
    {
     "data": {
      "text/plain": "(5912, 2)"
     },
     "execution_count": 10,
     "metadata": {},
     "output_type": "execute_result"
    }
   ],
   "source": [
    "df.shape"
   ],
   "metadata": {
    "collapsed": false
   }
  },
  {
   "cell_type": "code",
   "execution_count": 11,
   "outputs": [],
   "source": [
    "def generate_prompt(datapoint):\n",
    "    return f\"\"\"\n",
    "            The following data comes from a dataset made of chapters and their summaries\n",
    "            [INST] Your job is to summarize very long texts. Your task is to generate an appropriate summary based on the text given in square brackets.\n",
    "            [{datapoint['Context']}][/INST]\n",
    "\n",
    "            {datapoint['Response']}\"\"\".strip()\n",
    "\n",
    "def generate_test_prompt(datapoint):\n",
    "    return f\"\"\"\n",
    "            The following data comes from a dataset made of chapters and their summaries\n",
    "            [INST] Your job is to summarize very long texts. Your task is to generate an appropriate summary based on the text given in square brackets.\n",
    "            [{datapoint['Context']}][/INST]\"\"\".strip()"
   ],
   "metadata": {
    "collapsed": false
   }
  },
  {
   "cell_type": "code",
   "execution_count": 12,
   "outputs": [
    {
     "data": {
      "text/plain": "((4729, 2), (1183, 2))"
     },
     "execution_count": 12,
     "metadata": {},
     "output_type": "execute_result"
    }
   ],
   "source": [
    "X_train, X_eval = train_test_split(df, test_size=0.2, random_state=42)\n",
    "X_train.shape, X_eval.shape"
   ],
   "metadata": {
    "collapsed": false
   }
  },
  {
   "cell_type": "code",
   "execution_count": 13,
   "outputs": [
    {
     "data": {
      "text/plain": "                                                   text\n4252  The following data comes from a dataset made o...\n2592  The following data comes from a dataset made o...\n4778  The following data comes from a dataset made o...\n2775  The following data comes from a dataset made o...\n1328  The following data comes from a dataset made o...",
      "text/html": "<div>\n<style scoped>\n    .dataframe tbody tr th:only-of-type {\n        vertical-align: middle;\n    }\n\n    .dataframe tbody tr th {\n        vertical-align: top;\n    }\n\n    .dataframe thead th {\n        text-align: right;\n    }\n</style>\n<table border=\"1\" class=\"dataframe\">\n  <thead>\n    <tr style=\"text-align: right;\">\n      <th></th>\n      <th>text</th>\n    </tr>\n  </thead>\n  <tbody>\n    <tr>\n      <th>4252</th>\n      <td>The following data comes from a dataset made o...</td>\n    </tr>\n    <tr>\n      <th>2592</th>\n      <td>The following data comes from a dataset made o...</td>\n    </tr>\n    <tr>\n      <th>4778</th>\n      <td>The following data comes from a dataset made o...</td>\n    </tr>\n    <tr>\n      <th>2775</th>\n      <td>The following data comes from a dataset made o...</td>\n    </tr>\n    <tr>\n      <th>1328</th>\n      <td>The following data comes from a dataset made o...</td>\n    </tr>\n  </tbody>\n</table>\n</div>"
     },
     "execution_count": 13,
     "metadata": {},
     "output_type": "execute_result"
    }
   ],
   "source": [
    "X_train = pd.DataFrame(X_train.apply(generate_prompt, axis=1), columns=['text'])\n",
    "X_eval = pd.DataFrame(X_eval.apply(generate_test_prompt, axis=1),columns=['text'])\n",
    "X_train.head()"
   ],
   "metadata": {
    "collapsed": false
   }
  },
  {
   "cell_type": "code",
   "execution_count": 14,
   "outputs": [],
   "source": [
    "train_data = Dataset.from_pandas(X_train)\n",
    "eval_data = Dataset.from_pandas(X_eval)"
   ],
   "metadata": {
    "collapsed": false
   }
  },
  {
   "cell_type": "code",
   "execution_count": 15,
   "outputs": [
    {
     "data": {
      "text/plain": "{'text': 'The following data comes from a dataset made of chapters and their summaries\\n            [INST] Your job is to summarize very long texts. Your task is to generate an appropriate summary based on the text given in square brackets.\\n            [\\nThe youth fell back in the procession until the tattered soldier was\\nnot in sight.  Then he started to walk on with the others.\\n\\nBut he was amid wounds.  The mob of men was bleeding.  Because of the\\ntattered soldier\\'s question he now felt that his shame could be viewed.\\nHe was continually casting sidelong glances to see if the men were\\ncontemplating the letters of guilt he felt burned into his brow.\\n\\nAt times he regarded the wounded soldiers in an envious way.  He\\nconceived persons with torn bodies to be peculiarly happy.  He wished\\nthat he, too, had a wound, a red badge of courage.\\n\\nThe spectral soldier was at his side like a stalking reproach.  The\\nman\\'s eyes were still fixed in a stare into the unknown.  His gray,\\nappalling face had attracted attention in the crowd, and men, slowing\\nto his dreary pace, were walking with him.  They were discussing his\\nplight, questioning him and giving him advice.\\n\\nIn a dogged way he repelled them, signing to them to go on and leave\\nhim alone.  The shadows of his face were deepening and his tight lips\\nseemed holding in check the moan of great despair. There could be seen\\na certain stiffness in the movements of his body, as if he were taking\\ninfinite care not to arouse the passion of his wounds.  As he went on,\\nhe seemed always looking for a place, like one who goes to choose a\\ngrave.\\n\\nSomething in the gesture of the man as he waved the bloody and pitying\\nsoldiers away made the youth start as if bitten.  He yelled in horror.\\nTottering forward he laid a quivering hand upon the man\\'s arm.  As the\\nlatter slowly turned his waxlike features toward him, the youth\\nscreamed:\\n\\n\"Gawd!  Jim Conklin!\"\\n\\nThe tall soldier made a little commonplace smile.  \"Hello, Henry,\" he\\nsaid.\\n\\nThe youth swayed on his legs and glared strangely.  He stuttered and\\nstammered.  \"Oh, Jim--oh, Jim--oh, Jim--\"\\n\\nThe tall soldier held out his gory hand.  There was a curious red and\\nblack combination of new blood and old blood upon it.  \"Where yeh been,\\nHenry?\" he asked.  He continued in a monotonous voice, \"I thought mebbe\\nyeh got keeled over.  There \\'s been thunder t\\' pay t\\'-day.  I was\\nworryin\\' about it a good deal.\"\\n\\nThe youth still lamented.  \"Oh, Jim--oh, Jim--oh, Jim--\"\\n\\n\"Yeh know,\" said the tall soldier, \"I was out there.\"  He made a\\ncareful gesture.  \"An\\', Lord, what a circus!  An\\', b\\'jiminey, I got\\nshot--I got shot.  Yes, b\\'jiminey, I got shot.\"  He reiterated this\\nfact in a bewildered way, as if he did not know how it came about.\\n\\nThe youth put forth anxious arms to assist him, but the tall soldier\\nwent firmly on as if propelled.  Since the youth\\'s arrival as a\\nguardian for his friend, the other wounded men had ceased to display\\nmuch interest.  They occupied themselves again in dragging their own\\ntragedies toward the rear.\\n\\nSuddenly, as the two friends marched on, the tall soldier seemed to be\\novercome by a terror. His face turned to a semblance of gray paste. He\\nclutched the youth\\'s arm and looked all about him, as if dreading to be\\noverheard.  Then he began to speak in a shaking whisper:\\n\\n\"I tell yeh what I\\'m \\'fraid of, Henry--I \\'ll tell yeh what I \\'m \\'fraid\\nof.  I \\'m \\'fraid I \\'ll fall down--an\\' then yeh know--them damned\\nartillery wagons--they like as not \\'ll run over me.  That \\'s what I \\'m\\n\\'fraid of--\"\\n\\nThe youth cried out to him hysterically: \"I \\'ll take care of yeh, Jim!\\nI\\'ll take care of yeh!  I swear t\\' Gawd I will!\"\\n\\n\"Sure--will yeh, Henry?\" the tall soldier beseeched.\\n\\n\"Yes--yes--I tell yeh--I\\'ll take care of yeh, Jim!\" protested the\\nyouth.  He could not speak accurately because of the gulpings in his\\nthroat.\\n\\nBut the tall soldier continued to beg in a lowly way.  He now hung\\nbabelike to the youth\\'s arm.  His eyes rolled in the wildness of his\\nterror.  \"I was allus a good friend t\\' yeh, wa\\'n\\'t I, Henry?  I \\'ve\\nallus been a pretty good feller, ain\\'t I?  An\\' it ain\\'t much t\\' ask, is\\nit?  Jest t\\' pull me along outer th\\' road?  I \\'d do it fer you,\\nWouldn\\'t I, Henry?\"\\n\\nHe paused in piteous anxiety to await his friend\\'s reply.\\n\\nThe youth had reached an anguish where the sobs scorched him.  He\\nstrove to express his loyalty, but he could only make fantastic\\ngestures.\\n\\nHowever, the tall soldier seemed suddenly to forget all those fears. He\\nbecame again the grim, stalking specter of a soldier.  He went stonily\\nforward.  The youth wished his friend to lean upon him, but the other\\nalways shook his head and strangely protested. \"No--no--no--leave me\\nbe--leave me be--\"\\n\\nHis look was fixed again upon the unknown. He moved with mysterious\\npurpose, and all of the youth\\'s offers he brushed aside. \"No--no--leave\\nme be--leave me be--\"\\n\\nThe youth had to follow.\\n\\nPresently the latter heard a voice talking softly near his shoulders.\\nTurning he saw that it belonged to the tattered soldier.  \"Ye \\'d better\\ntake \\'im outa th\\' road, pardner.  There \\'s a batt\\'ry comin\\' helitywhoop\\ndown th\\' road an\\' he \\'ll git runned over.  He \\'s a goner anyhow in\\nabout five minutes--yeh kin see that.  Ye \\'d better take \\'im outa th\\'\\nroad.  Where th\\' blazes does he git his stren\\'th from?\"\\n\\n\"Lord knows!\" cried the youth.  He was shaking his hands helplessly.\\n\\nHe ran forward presently and grasped the tall soldier by the arm. \"Jim!\\nJim!\" he coaxed, \"come with me.\"\\n\\nThe tall soldier weakly tried to wrench himself free.  \"Huh,\" he said\\nvacantly.  He stared at the youth for a moment.  At last he spoke as if\\ndimly comprehending.  \"Oh!  Inteh th\\' fields?  Oh!\"\\n\\nHe started blindly through the grass.\\n\\nThe youth turned once to look at the lashing riders and jouncing guns\\nof the battery.  He was startled from this view by a shrill outcry from\\nthe tattered man.\\n\\n\"Gawd!  He\\'s runnin\\'!\"\\n\\nTurning his head swiftly, the youth saw his friend running in a\\nstaggering and stumbling way toward a little clump of bushes.  His\\nheart seemed to wrench itself almost free from his body at this sight.\\nHe made a noise of pain. He and the tattered man began a pursuit. There\\nwas a singular race.\\n\\nWhen he overtook the tall soldier he began to plead with all the words\\nhe could find. \"Jim--Jim--what are you doing--what makes you do this\\nway--you \\'ll hurt yerself.\"\\n\\nThe same purpose was in the tall soldier\\'s face. He protested in a\\ndulled way, keeping his eyes fastened on the mystic place of his\\nintentions. \"No--no--don\\'t tech me--leave me be--leave me be--\"\\n\\nThe youth, aghast and filled with wonder at the tall soldier, began\\nquaveringly to question him. \"Where yeh goin\\', Jim?  What you thinking\\nabout?  Where you going?  Tell me, won\\'t you, Jim?\"\\n\\nThe tall soldier faced about as upon relentless pursuers.  In his eyes\\nthere was a great appeal. \"Leave me be, can\\'t yeh?  Leave me be fer a\\nminnit.\"\\n\\nThe youth recoiled.  \"Why, Jim,\" he said, in a dazed way, \"what\\'s the\\nmatter with you?\"\\n\\nThe tall soldier turned and, lurching dangerously, went on.  The youth\\nand the tattered soldier followed, sneaking as if whipped, feeling\\nunable to face the stricken man if he should again confront them.  They\\nbegan to have thoughts of a solemn ceremony.  There was something\\nrite-like in these movements of the doomed soldier. And there was a\\nresemblance in him to a devotee of a mad religion, blood-sucking,\\nmuscle-wrenching, bone-crushing.  They were awed and afraid. They hung\\nback lest he have at command a dreadful weapon.\\n\\nAt last, they saw him stop and stand motionless.  Hastening up, they\\nperceived that his face wore an expression telling that he had at last\\nfound the place for which he had struggled.  His spare figure was\\nerect; his bloody hands were quietly at his side.  He was waiting with\\npatience for something that he had come to meet.  He was at the\\nrendezvous.  They paused and stood, expectant.\\n\\nThere was a silence.\\n\\nFinally, the chest of the doomed soldier began to heave with a strained\\nmotion.  It increased in violence until it was as if an animal was\\nwithin and was kicking and tumbling furiously to be free.\\n\\nThis spectacle of gradual strangulation made the youth writhe, and once\\nas his friend rolled his eyes, he saw something in them that made him\\nsink wailing to the ground.  He raised his voice in a last supreme call.\\n\\n\"Jim--Jim--Jim--\"\\n\\nThe tall soldier opened his lips and spoke. He made a gesture.  \"Leave\\nme be--don\\'t tech me--leave me be--\"\\n\\nThere was another silence while he waited.\\n\\nSuddenly, his form stiffened and straightened. Then it was shaken by a\\nprolonged ague.  He stared into space.  To the two watchers there was a\\ncurious and profound dignity in the firm lines of his awful face.\\n\\nHe was invaded by a creeping strangeness that slowly enveloped him. For\\na moment the tremor of his legs caused him to dance a sort of hideous\\nhornpipe.  His arms beat wildly about his head in expression of implike\\nenthusiasm.\\n\\nHis tall figure stretched itself to its full height. There was a slight\\nrending sound.  Then it began to swing forward, slow and straight, in\\nthe manner of a falling tree.  A swift muscular contortion made the\\nleft shoulder strike the ground first.\\n\\nThe body seemed to bounce a little way from the earth.  \"God!\" said the\\ntattered soldier.\\n\\nThe youth had watched, spellbound, this ceremony at the place of\\nmeeting.  His face had been twisted into an expression of every agony\\nhe had imagined for his friend.\\n\\nHe now sprang to his feet and, going closer, gazed upon the pastelike\\nface.  The mouth was open and the teeth showed in a laugh.\\n\\nAs the flap of the blue jacket fell away from the body, he could see\\nthat the side looked as if it had been chewed by wolves.\\n\\nThe youth turned, with sudden, livid rage, toward the battlefield.  He\\nshook his fist.  He seemed about to deliver a philippic.\\n\\n\"Hell--\"\\n\\nThe red sun was pasted in the sky like a wafer.\\n\\n\\n][/INST]\\n\\n            Henry returns to walking along with the retreating soldiers. He worries that the soldiers may recognize that he has run from the battle and that they are looking at him and \"contemplating the letters of guilt he felt burned into his brow.\" Indeed, he envies the wounded soldiers and wishes for an emblem of battle, his own \" red badge of courage,\" -- the first reference to the novel\\'s title and a symbol of bravery -- rather than having the feelings of guilt which he must keep within. Henry sees \"the spectral soldier\" stumbling along, waving others away, wanting to be alone. On closer scrutiny, Henry realizes that this dying soldier is Jim Conklin. Henry is overcome with grief at the sight of Jim\\'s condition. Jim recognizes Henry and tells him that he has only one fear -- that he may be run over by a battery coming along the road. He asks Henry to get him out of the road, to keep him safe, if a battery approaches; Henry is so overcome with emotion that he can\\'t answer his friend except with wild gestures. At that point, the tattered soldier overtakes Henry, and the two try to help Jim, but he waves them off. Suddenly, Jim begins to run through the field, followed by Henry and the tattered soldier. Jim stops, and, after several body-shaking convulsions, he stands tall and then dies.',\n '__index_level_0__': 4252}"
     },
     "execution_count": 15,
     "metadata": {},
     "output_type": "execute_result"
    }
   ],
   "source": [
    "train_data[0]"
   ],
   "metadata": {
    "collapsed": false
   }
  },
  {
   "cell_type": "code",
   "execution_count": 16,
   "outputs": [],
   "source": [
    "#from huggingface_hub import create_repo\n",
    "#create_repo(\"clementdevarieux/local_PA4A_training\")"
   ],
   "metadata": {
    "collapsed": false
   }
  },
  {
   "cell_type": "code",
   "execution_count": 17,
   "outputs": [
    {
     "data": {
      "text/plain": "Loading checkpoint shards:   0%|          | 0/3 [00:00<?, ?it/s]",
      "application/vnd.jupyter.widget-view+json": {
       "version_major": 2,
       "version_minor": 0,
       "model_id": "402662eba8c046a394d7979e870d07da"
      }
     },
     "metadata": {},
     "output_type": "display_data"
    }
   ],
   "source": [
    "model_name = \"mistralai/Mistral-7B-Instruct-v0.2\"\n",
    "model_hub_id = \"clementdevarieux/local_PA4A_training\"\n",
    "\n",
    "from dotenv import load_dotenv\n",
    "load_dotenv()\n",
    "secret_label = \"hf_token\"\n",
    "secret_value = os.getenv(secret_label)\n",
    "\n",
    "compute_dtype = getattr(torch, \"float16\")\n",
    "\n",
    "bnb_config = BitsAndBytesConfig(\n",
    "    load_in_4bit = True,\n",
    "    bnb_4bit_use_double_quant = False,\n",
    "    bnb_4bit_quant_type = 'nf4',\n",
    "    bnb_4bit_compute_dtype = compute_dtype\n",
    ")\n",
    "\n",
    "model = AutoModelForCausalLM.from_pretrained(\n",
    "    model_name,\n",
    "    device_map='auto',\n",
    "    quantization_config=bnb_config,\n",
    "    token=secret_value\n",
    ")\n",
    "\n",
    "model.config.use_cache = False\n",
    "model.config.pretraining_tp = 1\n",
    "\n",
    "tokenizer = AutoTokenizer.from_pretrained(model_name,\n",
    "                                          trust_remote_code=True,\n",
    "                                          add_eos_token=True,\n",
    "                                          token=secret_value\n",
    "                                         )\n",
    "tokenizer.pad_token = tokenizer.eos_token"
   ],
   "metadata": {
    "collapsed": false
   }
  },
  {
   "cell_type": "code",
   "execution_count": 18,
   "outputs": [],
   "source": [
    "model.gradient_checkpointing_enable()\n",
    "model = prepare_model_for_kbit_training(model)"
   ],
   "metadata": {
    "collapsed": false
   }
  },
  {
   "cell_type": "code",
   "execution_count": 19,
   "outputs": [],
   "source": [
    "class PeftSavingCallback(TrainerCallback):\n",
    "    def on_save(self, args, state, control, **kwargs):\n",
    "        checkpoint_path = os.path.join(args.output_dir, f\"checkpoint-{state.global_step}\")\n",
    "        kwargs[\"model\"].save_pretrained(checkpoint_path)\n",
    "\n",
    "        if \"pytorch_model.bin\" in os.listdir(checkpoint_path):\n",
    "            os.remove(os.path.join(checkpoint_path, \"pytorch_model.bin\"))"
   ],
   "metadata": {
    "collapsed": false
   }
  },
  {
   "cell_type": "code",
   "execution_count": 20,
   "outputs": [],
   "source": [
    "callbacks = [PeftSavingCallback]"
   ],
   "metadata": {
    "collapsed": false
   }
  },
  {
   "cell_type": "code",
   "execution_count": 21,
   "outputs": [],
   "source": [
    "run_name = \"mistral-7b-instruct-PA4A\"\n",
    "output_dir = \"./\" + run_name"
   ],
   "metadata": {
    "collapsed": false
   }
  },
  {
   "cell_type": "code",
   "execution_count": 22,
   "outputs": [],
   "source": [
    "peft_config = LoraConfig(\n",
    "    lora_alpha=16,\n",
    "    lora_dropout=0.05,\n",
    "    r=16,\n",
    "    bias=\"none\",\n",
    "    task_type=\"CAUSAL_LM\",\n",
    "    target_modules=[\"q_proj\", \"v_proj\"]\n",
    ")\n",
    "\n",
    "training_arguments = TrainingArguments(\n",
    "    output_dir=output_dir,\n",
    "    logging_dir = \"logs\",\n",
    "    per_device_train_batch_size=8,\n",
    "    num_train_epochs=3,\n",
    "    gradient_accumulation_steps=1,\n",
    "    optim=\"paged_adamw_32bit\",\n",
    "    save_strategy='epoch',\n",
    "    logging_steps=25,\n",
    "    learning_rate=2e-4,\n",
    "    weight_decay=0.001,\n",
    "    fp16=True,\n",
    "    bf16=False,\n",
    "    max_grad_norm=0.3,\n",
    "    max_steps=-1,\n",
    "    warmup_ratio = 0.05,\n",
    "    group_by_length=True,\n",
    "    lr_scheduler_type=\"cosine\",\n",
    "    report_to=\"wandb\",\n",
    "    evaluation_strategy=\"epoch\",\n",
    "    do_eval=True,\n",
    "    run_name = run_name,\n",
    "    push_to_hub = True,\n",
    "    hub_model_id = model_hub_id,\n",
    "    hub_token=secret_value,\n",
    "    hub_strategy=\"checkpoint\",\n",
    "    disable_tqdm=False\n",
    ")"
   ],
   "metadata": {
    "collapsed": false
   }
  },
  {
   "cell_type": "code",
   "execution_count": 23,
   "outputs": [
    {
     "data": {
      "text/plain": "Map:   0%|          | 0/4729 [00:00<?, ? examples/s]",
      "application/vnd.jupyter.widget-view+json": {
       "version_major": 2,
       "version_minor": 0,
       "model_id": "9082459fe60e4725892da95397195e31"
      }
     },
     "metadata": {},
     "output_type": "display_data"
    },
    {
     "data": {
      "text/plain": "Map:   0%|          | 0/1183 [00:00<?, ? examples/s]",
      "application/vnd.jupyter.widget-view+json": {
       "version_major": 2,
       "version_minor": 0,
       "model_id": "f09b3d67addb4b34a654c27aa9baf85e"
      }
     },
     "metadata": {},
     "output_type": "display_data"
    },
    {
     "ename": "HfHubHTTPError",
     "evalue": "401 Client Error: Unauthorized for url: https://huggingface.co/api/repos/create (Request ID: Root=1-666c49c0-35ea0fbb7b9b7a9f2c226100;c72775b8-c101-429d-b91f-4eb9e42831f9)\n\nInvalid username or password.",
     "output_type": "error",
     "traceback": [
      "\u001B[1;31m---------------------------------------------------------------------------\u001B[0m",
      "\u001B[1;31mHTTPError\u001B[0m                                 Traceback (most recent call last)",
      "File \u001B[1;32m~\\Desktop\\ESGI\\master\\M1\\S2\\PA-4A\\venv\\Lib\\site-packages\\huggingface_hub\\utils\\_errors.py:304\u001B[0m, in \u001B[0;36mhf_raise_for_status\u001B[1;34m(response, endpoint_name)\u001B[0m\n\u001B[0;32m    303\u001B[0m \u001B[38;5;28;01mtry\u001B[39;00m:\n\u001B[1;32m--> 304\u001B[0m     \u001B[43mresponse\u001B[49m\u001B[38;5;241;43m.\u001B[39;49m\u001B[43mraise_for_status\u001B[49m\u001B[43m(\u001B[49m\u001B[43m)\u001B[49m\n\u001B[0;32m    305\u001B[0m \u001B[38;5;28;01mexcept\u001B[39;00m HTTPError \u001B[38;5;28;01mas\u001B[39;00m e:\n",
      "File \u001B[1;32m~\\Desktop\\ESGI\\master\\M1\\S2\\PA-4A\\venv\\Lib\\site-packages\\requests\\models.py:1021\u001B[0m, in \u001B[0;36mResponse.raise_for_status\u001B[1;34m(self)\u001B[0m\n\u001B[0;32m   1020\u001B[0m \u001B[38;5;28;01mif\u001B[39;00m http_error_msg:\n\u001B[1;32m-> 1021\u001B[0m     \u001B[38;5;28;01mraise\u001B[39;00m HTTPError(http_error_msg, response\u001B[38;5;241m=\u001B[39m\u001B[38;5;28mself\u001B[39m)\n",
      "\u001B[1;31mHTTPError\u001B[0m: 401 Client Error: Unauthorized for url: https://huggingface.co/api/repos/create",
      "\nThe above exception was the direct cause of the following exception:\n",
      "\u001B[1;31mHfHubHTTPError\u001B[0m                            Traceback (most recent call last)",
      "Cell \u001B[1;32mIn[23], line 1\u001B[0m\n\u001B[1;32m----> 1\u001B[0m trainer \u001B[38;5;241m=\u001B[39m \u001B[43mSFTTrainer\u001B[49m\u001B[43m(\u001B[49m\n\u001B[0;32m      2\u001B[0m \u001B[43m    \u001B[49m\u001B[43mmodel\u001B[49m\u001B[38;5;241;43m=\u001B[39;49m\u001B[43mmodel\u001B[49m\u001B[43m,\u001B[49m\n\u001B[0;32m      3\u001B[0m \u001B[43m    \u001B[49m\u001B[43mtrain_dataset\u001B[49m\u001B[38;5;241;43m=\u001B[39;49m\u001B[43mtrain_data\u001B[49m\u001B[43m,\u001B[49m\n\u001B[0;32m      4\u001B[0m \u001B[43m    \u001B[49m\u001B[43meval_dataset\u001B[49m\u001B[38;5;241;43m=\u001B[39;49m\u001B[43meval_data\u001B[49m\u001B[43m,\u001B[49m\n\u001B[0;32m      5\u001B[0m \u001B[43m    \u001B[49m\u001B[43mpeft_config\u001B[49m\u001B[38;5;241;43m=\u001B[39;49m\u001B[43mpeft_config\u001B[49m\u001B[43m,\u001B[49m\n\u001B[0;32m      6\u001B[0m \u001B[43m    \u001B[49m\u001B[43mdataset_text_field\u001B[49m\u001B[38;5;241;43m=\u001B[39;49m\u001B[38;5;124;43m\"\u001B[39;49m\u001B[38;5;124;43mtext\u001B[39;49m\u001B[38;5;124;43m\"\u001B[39;49m\u001B[43m,\u001B[49m\n\u001B[0;32m      7\u001B[0m \u001B[43m    \u001B[49m\u001B[43mtokenizer\u001B[49m\u001B[38;5;241;43m=\u001B[39;49m\u001B[43mtokenizer\u001B[49m\u001B[43m,\u001B[49m\n\u001B[0;32m      8\u001B[0m \u001B[43m    \u001B[49m\u001B[43margs\u001B[49m\u001B[38;5;241;43m=\u001B[39;49m\u001B[43mtraining_arguments\u001B[49m\u001B[43m,\u001B[49m\n\u001B[0;32m      9\u001B[0m \u001B[43m    \u001B[49m\u001B[43mcallbacks\u001B[49m\u001B[38;5;241;43m=\u001B[39;49m\u001B[43mcallbacks\u001B[49m\u001B[43m,\u001B[49m\n\u001B[0;32m     10\u001B[0m \u001B[43m    \u001B[49m\u001B[43mpacking\u001B[49m\u001B[38;5;241;43m=\u001B[39;49m\u001B[38;5;28;43;01mFalse\u001B[39;49;00m\u001B[43m,\u001B[49m\n\u001B[0;32m     11\u001B[0m \u001B[43m    \u001B[49m\u001B[43mmax_seq_length\u001B[49m\u001B[38;5;241;43m=\u001B[39;49m\u001B[38;5;241;43m512\u001B[39;49m\u001B[43m,\u001B[49m\n\u001B[0;32m     12\u001B[0m \u001B[43m    \u001B[49m\u001B[43m)\u001B[49m\n",
      "File \u001B[1;32m~\\Desktop\\ESGI\\master\\M1\\S2\\PA-4A\\venv\\Lib\\site-packages\\huggingface_hub\\utils\\_deprecation.py:101\u001B[0m, in \u001B[0;36m_deprecate_arguments.<locals>._inner_deprecate_positional_args.<locals>.inner_f\u001B[1;34m(*args, **kwargs)\u001B[0m\n\u001B[0;32m     99\u001B[0m         message \u001B[38;5;241m+\u001B[39m\u001B[38;5;241m=\u001B[39m \u001B[38;5;124m\"\u001B[39m\u001B[38;5;130;01m\\n\u001B[39;00m\u001B[38;5;130;01m\\n\u001B[39;00m\u001B[38;5;124m\"\u001B[39m \u001B[38;5;241m+\u001B[39m custom_message\n\u001B[0;32m    100\u001B[0m     warnings\u001B[38;5;241m.\u001B[39mwarn(message, \u001B[38;5;167;01mFutureWarning\u001B[39;00m)\n\u001B[1;32m--> 101\u001B[0m \u001B[38;5;28;01mreturn\u001B[39;00m \u001B[43mf\u001B[49m\u001B[43m(\u001B[49m\u001B[38;5;241;43m*\u001B[39;49m\u001B[43margs\u001B[49m\u001B[43m,\u001B[49m\u001B[43m \u001B[49m\u001B[38;5;241;43m*\u001B[39;49m\u001B[38;5;241;43m*\u001B[39;49m\u001B[43mkwargs\u001B[49m\u001B[43m)\u001B[49m\n",
      "File \u001B[1;32m~\\Desktop\\ESGI\\master\\M1\\S2\\PA-4A\\venv\\Lib\\site-packages\\trl\\trainer\\sft_trainer.py:402\u001B[0m, in \u001B[0;36mSFTTrainer.__init__\u001B[1;34m(self, model, args, data_collator, train_dataset, eval_dataset, tokenizer, model_init, compute_metrics, callbacks, optimizers, preprocess_logits_for_metrics, peft_config, dataset_text_field, packing, formatting_func, max_seq_length, infinite, num_of_sequences, chars_per_token, dataset_num_proc, dataset_batch_size, neftune_noise_alpha, model_init_kwargs, dataset_kwargs, eval_packing)\u001B[0m\n\u001B[0;32m    396\u001B[0m \u001B[38;5;28;01mif\u001B[39;00m tokenizer\u001B[38;5;241m.\u001B[39mpadding_side \u001B[38;5;129;01mis\u001B[39;00m \u001B[38;5;129;01mnot\u001B[39;00m \u001B[38;5;28;01mNone\u001B[39;00m \u001B[38;5;129;01mand\u001B[39;00m tokenizer\u001B[38;5;241m.\u001B[39mpadding_side \u001B[38;5;241m!=\u001B[39m \u001B[38;5;124m\"\u001B[39m\u001B[38;5;124mright\u001B[39m\u001B[38;5;124m\"\u001B[39m:\n\u001B[0;32m    397\u001B[0m     warnings\u001B[38;5;241m.\u001B[39mwarn(\n\u001B[0;32m    398\u001B[0m         \u001B[38;5;124m\"\u001B[39m\u001B[38;5;124mYou passed a tokenizer with `padding_side` not equal to `right` to the SFTTrainer. This might lead to some unexpected behaviour due to \u001B[39m\u001B[38;5;124m\"\u001B[39m\n\u001B[0;32m    399\u001B[0m         \u001B[38;5;124m\"\u001B[39m\u001B[38;5;124moverflow issues when training a model in half-precision. You might consider adding `tokenizer.padding_side = \u001B[39m\u001B[38;5;124m'\u001B[39m\u001B[38;5;124mright\u001B[39m\u001B[38;5;124m'\u001B[39m\u001B[38;5;124m` to your code.\u001B[39m\u001B[38;5;124m\"\u001B[39m\n\u001B[0;32m    400\u001B[0m     )\n\u001B[1;32m--> 402\u001B[0m \u001B[38;5;28;43msuper\u001B[39;49m\u001B[43m(\u001B[49m\u001B[43m)\u001B[49m\u001B[38;5;241;43m.\u001B[39;49m\u001B[38;5;21;43m__init__\u001B[39;49m\u001B[43m(\u001B[49m\n\u001B[0;32m    403\u001B[0m \u001B[43m    \u001B[49m\u001B[43mmodel\u001B[49m\u001B[38;5;241;43m=\u001B[39;49m\u001B[43mmodel\u001B[49m\u001B[43m,\u001B[49m\n\u001B[0;32m    404\u001B[0m \u001B[43m    \u001B[49m\u001B[43margs\u001B[49m\u001B[38;5;241;43m=\u001B[39;49m\u001B[43margs\u001B[49m\u001B[43m,\u001B[49m\n\u001B[0;32m    405\u001B[0m \u001B[43m    \u001B[49m\u001B[43mdata_collator\u001B[49m\u001B[38;5;241;43m=\u001B[39;49m\u001B[43mdata_collator\u001B[49m\u001B[43m,\u001B[49m\n\u001B[0;32m    406\u001B[0m \u001B[43m    \u001B[49m\u001B[43mtrain_dataset\u001B[49m\u001B[38;5;241;43m=\u001B[39;49m\u001B[43mtrain_dataset\u001B[49m\u001B[43m,\u001B[49m\n\u001B[0;32m    407\u001B[0m \u001B[43m    \u001B[49m\u001B[43meval_dataset\u001B[49m\u001B[38;5;241;43m=\u001B[39;49m\u001B[43meval_dataset\u001B[49m\u001B[43m,\u001B[49m\n\u001B[0;32m    408\u001B[0m \u001B[43m    \u001B[49m\u001B[43mtokenizer\u001B[49m\u001B[38;5;241;43m=\u001B[39;49m\u001B[43mtokenizer\u001B[49m\u001B[43m,\u001B[49m\n\u001B[0;32m    409\u001B[0m \u001B[43m    \u001B[49m\u001B[43mmodel_init\u001B[49m\u001B[38;5;241;43m=\u001B[39;49m\u001B[43mmodel_init\u001B[49m\u001B[43m,\u001B[49m\n\u001B[0;32m    410\u001B[0m \u001B[43m    \u001B[49m\u001B[43mcompute_metrics\u001B[49m\u001B[38;5;241;43m=\u001B[39;49m\u001B[43mcompute_metrics\u001B[49m\u001B[43m,\u001B[49m\n\u001B[0;32m    411\u001B[0m \u001B[43m    \u001B[49m\u001B[43mcallbacks\u001B[49m\u001B[38;5;241;43m=\u001B[39;49m\u001B[43mcallbacks\u001B[49m\u001B[43m,\u001B[49m\n\u001B[0;32m    412\u001B[0m \u001B[43m    \u001B[49m\u001B[43moptimizers\u001B[49m\u001B[38;5;241;43m=\u001B[39;49m\u001B[43moptimizers\u001B[49m\u001B[43m,\u001B[49m\n\u001B[0;32m    413\u001B[0m \u001B[43m    \u001B[49m\u001B[43mpreprocess_logits_for_metrics\u001B[49m\u001B[38;5;241;43m=\u001B[39;49m\u001B[43mpreprocess_logits_for_metrics\u001B[49m\u001B[43m,\u001B[49m\n\u001B[0;32m    414\u001B[0m \u001B[43m\u001B[49m\u001B[43m)\u001B[49m\n\u001B[0;32m    416\u001B[0m \u001B[38;5;66;03m# Add tags for models that have been loaded with the correct transformers version\u001B[39;00m\n\u001B[0;32m    417\u001B[0m \u001B[38;5;28;01mif\u001B[39;00m \u001B[38;5;28mhasattr\u001B[39m(\u001B[38;5;28mself\u001B[39m\u001B[38;5;241m.\u001B[39mmodel, \u001B[38;5;124m\"\u001B[39m\u001B[38;5;124madd_model_tags\u001B[39m\u001B[38;5;124m\"\u001B[39m):\n",
      "File \u001B[1;32m~\\Desktop\\ESGI\\master\\M1\\S2\\PA-4A\\venv\\Lib\\site-packages\\transformers\\trainer.py:550\u001B[0m, in \u001B[0;36mTrainer.__init__\u001B[1;34m(self, model, args, data_collator, train_dataset, eval_dataset, tokenizer, model_init, compute_metrics, callbacks, optimizers, preprocess_logits_for_metrics)\u001B[0m\n\u001B[0;32m    548\u001B[0m \u001B[38;5;28mself\u001B[39m\u001B[38;5;241m.\u001B[39mhub_model_id \u001B[38;5;241m=\u001B[39m \u001B[38;5;28;01mNone\u001B[39;00m\n\u001B[0;32m    549\u001B[0m \u001B[38;5;28;01mif\u001B[39;00m \u001B[38;5;28mself\u001B[39m\u001B[38;5;241m.\u001B[39margs\u001B[38;5;241m.\u001B[39mpush_to_hub:\n\u001B[1;32m--> 550\u001B[0m     \u001B[38;5;28;43mself\u001B[39;49m\u001B[38;5;241;43m.\u001B[39;49m\u001B[43minit_hf_repo\u001B[49m\u001B[43m(\u001B[49m\u001B[43m)\u001B[49m\n\u001B[0;32m    551\u001B[0m \u001B[38;5;28;01mif\u001B[39;00m \u001B[38;5;28mself\u001B[39m\u001B[38;5;241m.\u001B[39margs\u001B[38;5;241m.\u001B[39mshould_save:\n\u001B[0;32m    552\u001B[0m     os\u001B[38;5;241m.\u001B[39mmakedirs(\u001B[38;5;28mself\u001B[39m\u001B[38;5;241m.\u001B[39margs\u001B[38;5;241m.\u001B[39moutput_dir, exist_ok\u001B[38;5;241m=\u001B[39m\u001B[38;5;28;01mTrue\u001B[39;00m)\n",
      "File \u001B[1;32m~\\Desktop\\ESGI\\master\\M1\\S2\\PA-4A\\venv\\Lib\\site-packages\\transformers\\trainer.py:3830\u001B[0m, in \u001B[0;36mTrainer.init_hf_repo\u001B[1;34m(self)\u001B[0m\n\u001B[0;32m   3827\u001B[0m \u001B[38;5;28;01melse\u001B[39;00m:\n\u001B[0;32m   3828\u001B[0m     repo_name \u001B[38;5;241m=\u001B[39m \u001B[38;5;28mself\u001B[39m\u001B[38;5;241m.\u001B[39margs\u001B[38;5;241m.\u001B[39mhub_model_id\n\u001B[1;32m-> 3830\u001B[0m repo_url \u001B[38;5;241m=\u001B[39m \u001B[43mcreate_repo\u001B[49m\u001B[43m(\u001B[49m\u001B[43mrepo_name\u001B[49m\u001B[43m,\u001B[49m\u001B[43m \u001B[49m\u001B[43mtoken\u001B[49m\u001B[38;5;241;43m=\u001B[39;49m\u001B[38;5;28;43mself\u001B[39;49m\u001B[38;5;241;43m.\u001B[39;49m\u001B[43margs\u001B[49m\u001B[38;5;241;43m.\u001B[39;49m\u001B[43mhub_token\u001B[49m\u001B[43m,\u001B[49m\u001B[43m \u001B[49m\u001B[43mprivate\u001B[49m\u001B[38;5;241;43m=\u001B[39;49m\u001B[38;5;28;43mself\u001B[39;49m\u001B[38;5;241;43m.\u001B[39;49m\u001B[43margs\u001B[49m\u001B[38;5;241;43m.\u001B[39;49m\u001B[43mhub_private_repo\u001B[49m\u001B[43m,\u001B[49m\u001B[43m \u001B[49m\u001B[43mexist_ok\u001B[49m\u001B[38;5;241;43m=\u001B[39;49m\u001B[38;5;28;43;01mTrue\u001B[39;49;00m\u001B[43m)\u001B[49m\n\u001B[0;32m   3831\u001B[0m \u001B[38;5;28mself\u001B[39m\u001B[38;5;241m.\u001B[39mhub_model_id \u001B[38;5;241m=\u001B[39m repo_url\u001B[38;5;241m.\u001B[39mrepo_id\n\u001B[0;32m   3832\u001B[0m \u001B[38;5;28mself\u001B[39m\u001B[38;5;241m.\u001B[39mpush_in_progress \u001B[38;5;241m=\u001B[39m \u001B[38;5;28;01mNone\u001B[39;00m\n",
      "File \u001B[1;32m~\\Desktop\\ESGI\\master\\M1\\S2\\PA-4A\\venv\\Lib\\site-packages\\huggingface_hub\\utils\\_validators.py:119\u001B[0m, in \u001B[0;36mvalidate_hf_hub_args.<locals>._inner_fn\u001B[1;34m(*args, **kwargs)\u001B[0m\n\u001B[0;32m    116\u001B[0m \u001B[38;5;28;01mif\u001B[39;00m check_use_auth_token:\n\u001B[0;32m    117\u001B[0m     kwargs \u001B[38;5;241m=\u001B[39m smoothly_deprecate_use_auth_token(fn_name\u001B[38;5;241m=\u001B[39mfn\u001B[38;5;241m.\u001B[39m\u001B[38;5;18m__name__\u001B[39m, has_token\u001B[38;5;241m=\u001B[39mhas_token, kwargs\u001B[38;5;241m=\u001B[39mkwargs)\n\u001B[1;32m--> 119\u001B[0m \u001B[38;5;28;01mreturn\u001B[39;00m \u001B[43mfn\u001B[49m\u001B[43m(\u001B[49m\u001B[38;5;241;43m*\u001B[39;49m\u001B[43margs\u001B[49m\u001B[43m,\u001B[49m\u001B[43m \u001B[49m\u001B[38;5;241;43m*\u001B[39;49m\u001B[38;5;241;43m*\u001B[39;49m\u001B[43mkwargs\u001B[49m\u001B[43m)\u001B[49m\n",
      "File \u001B[1;32m~\\Desktop\\ESGI\\master\\M1\\S2\\PA-4A\\venv\\Lib\\site-packages\\huggingface_hub\\hf_api.py:3360\u001B[0m, in \u001B[0;36mHfApi.create_repo\u001B[1;34m(self, repo_id, token, private, repo_type, exist_ok, space_sdk, space_hardware, space_storage, space_sleep_time, space_secrets, space_variables)\u001B[0m\n\u001B[0;32m   3357\u001B[0m     \u001B[38;5;28;01mbreak\u001B[39;00m\n\u001B[0;32m   3359\u001B[0m \u001B[38;5;28;01mtry\u001B[39;00m:\n\u001B[1;32m-> 3360\u001B[0m     \u001B[43mhf_raise_for_status\u001B[49m\u001B[43m(\u001B[49m\u001B[43mr\u001B[49m\u001B[43m)\u001B[49m\n\u001B[0;32m   3361\u001B[0m \u001B[38;5;28;01mexcept\u001B[39;00m HTTPError \u001B[38;5;28;01mas\u001B[39;00m err:\n\u001B[0;32m   3362\u001B[0m     \u001B[38;5;28;01mif\u001B[39;00m exist_ok \u001B[38;5;129;01mand\u001B[39;00m err\u001B[38;5;241m.\u001B[39mresponse\u001B[38;5;241m.\u001B[39mstatus_code \u001B[38;5;241m==\u001B[39m \u001B[38;5;241m409\u001B[39m:\n\u001B[0;32m   3363\u001B[0m         \u001B[38;5;66;03m# Repo already exists and `exist_ok=True`\u001B[39;00m\n",
      "File \u001B[1;32m~\\Desktop\\ESGI\\master\\M1\\S2\\PA-4A\\venv\\Lib\\site-packages\\huggingface_hub\\utils\\_errors.py:371\u001B[0m, in \u001B[0;36mhf_raise_for_status\u001B[1;34m(response, endpoint_name)\u001B[0m\n\u001B[0;32m    367\u001B[0m     \u001B[38;5;28;01mraise\u001B[39;00m HfHubHTTPError(message, response\u001B[38;5;241m=\u001B[39mresponse) \u001B[38;5;28;01mfrom\u001B[39;00m \u001B[38;5;21;01me\u001B[39;00m\n\u001B[0;32m    369\u001B[0m \u001B[38;5;66;03m# Convert `HTTPError` into a `HfHubHTTPError` to display request information\u001B[39;00m\n\u001B[0;32m    370\u001B[0m \u001B[38;5;66;03m# as well (request id and/or server error message)\u001B[39;00m\n\u001B[1;32m--> 371\u001B[0m \u001B[38;5;28;01mraise\u001B[39;00m HfHubHTTPError(\u001B[38;5;28mstr\u001B[39m(e), response\u001B[38;5;241m=\u001B[39mresponse) \u001B[38;5;28;01mfrom\u001B[39;00m \u001B[38;5;21;01me\u001B[39;00m\n",
      "\u001B[1;31mHfHubHTTPError\u001B[0m: 401 Client Error: Unauthorized for url: https://huggingface.co/api/repos/create (Request ID: Root=1-666c49c0-35ea0fbb7b9b7a9f2c226100;c72775b8-c101-429d-b91f-4eb9e42831f9)\n\nInvalid username or password."
     ]
    }
   ],
   "source": [
    "trainer = SFTTrainer(\n",
    "    model=model,\n",
    "    train_dataset=train_data,\n",
    "    eval_dataset=eval_data,\n",
    "    peft_config=peft_config,\n",
    "    dataset_text_field=\"text\",\n",
    "    tokenizer=tokenizer,\n",
    "    args=training_arguments,\n",
    "    callbacks=callbacks,\n",
    "    packing=False,\n",
    "    max_seq_length=512,\n",
    "    )"
   ],
   "metadata": {
    "collapsed": false
   }
  },
  {
   "cell_type": "code",
   "execution_count": null,
   "outputs": [],
   "source": [],
   "metadata": {
    "collapsed": false
   }
  }
 ],
 "metadata": {
  "kernelspec": {
   "display_name": "Python 3",
   "language": "python",
   "name": "python3"
  },
  "language_info": {
   "codemirror_mode": {
    "name": "ipython",
    "version": 2
   },
   "file_extension": ".py",
   "mimetype": "text/x-python",
   "name": "python",
   "nbconvert_exporter": "python",
   "pygments_lexer": "ipython2",
   "version": "2.7.6"
  }
 },
 "nbformat": 4,
 "nbformat_minor": 0
}
