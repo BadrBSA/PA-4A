{
 "cells": [
  {
   "cell_type": "markdown",
   "source": [
    "# Notebook destiné à faire du résumé en découpant plusieurs fois un long texte"
   ],
   "metadata": {
    "collapsed": false
   },
   "id": "8539d5e7fb70f0ac"
  },
  {
   "cell_type": "markdown",
   "source": [
    "## Import du modèle déjà fine tuned"
   ],
   "metadata": {
    "collapsed": false
   },
   "id": "67caf9aa88e8c222"
  },
  {
   "cell_type": "code",
   "execution_count": 1,
   "outputs": [],
   "source": [
    "from transformers import AutoModelForCausalLM, AutoTokenizer, BitsAndBytesConfig, AutoConfig, TrainingArguments, Trainer\n",
    "from datasets import load_dataset\n",
    "from peft import LoraConfig\n",
    "import torch\n",
    "from torch.cuda.amp import autocast, GradScaler"
   ],
   "metadata": {
    "collapsed": false,
    "ExecuteTime": {
     "end_time": "2024-05-13T20:29:28.203791300Z",
     "start_time": "2024-05-13T20:29:22.954828100Z"
    }
   },
   "id": "684750f8f751189c"
  },
  {
   "cell_type": "code",
   "execution_count": 2,
   "outputs": [],
   "source": [
    "peft_config = LoraConfig(\n",
    "    r=8,\n",
    "    target_modules=[\"q_proj\", \"o_proj\", \"k_proj\", \"v_proj\", \"gate_proj\", \"up_proj\", \"down_proj\"],\n",
    "    lora_alpha=16,\n",
    "    lora_dropout=0,\n",
    "    bias=\"none\",\n",
    "    use_rslora=False)"
   ],
   "metadata": {
    "collapsed": false,
    "ExecuteTime": {
     "end_time": "2024-05-13T20:29:28.211049900Z",
     "start_time": "2024-05-13T20:29:28.204790600Z"
    }
   },
   "id": "a66328932db8b690"
  },
  {
   "cell_type": "code",
   "execution_count": 3,
   "outputs": [],
   "source": [
    "quantization_config = BitsAndBytesConfig(\n",
    "        # load_in_8bit=True,\n",
    "        # load_in_4bit=True,\n",
    "        llm_int8_enable_fp32_cpu_offload=True,\n",
    "        # llm_int8_has_fp16_weight=True,\n",
    "        bnb_4bit_quant_type=\"nf4\",\n",
    "        bnb_4bit_compute_dtype=\"float16\"\n",
    ")"
   ],
   "metadata": {
    "collapsed": false,
    "ExecuteTime": {
     "end_time": "2024-05-13T20:29:36.319147100Z",
     "start_time": "2024-05-13T20:29:36.310710100Z"
    }
   },
   "id": "e7e43898086ef602"
  },
  {
   "cell_type": "code",
   "execution_count": 4,
   "outputs": [],
   "source": [
    "device = 'cuda'"
   ],
   "metadata": {
    "collapsed": false,
    "ExecuteTime": {
     "end_time": "2024-05-13T20:29:48.876490100Z",
     "start_time": "2024-05-13T20:29:48.859865900Z"
    }
   },
   "id": "c37ec121c4d8592"
  },
  {
   "cell_type": "code",
   "execution_count": 5,
   "outputs": [
    {
     "data": {
      "text/plain": "Loading checkpoint shards:   0%|          | 0/3 [00:00<?, ?it/s]",
      "application/vnd.jupyter.widget-view+json": {
       "version_major": 2,
       "version_minor": 0,
       "model_id": "02a9331a0b014cd4afcf264fdfa08831"
      }
     },
     "metadata": {},
     "output_type": "display_data"
    }
   ],
   "source": [
    "model = AutoModelForCausalLM.from_pretrained(\"mistralai/Mistral-7B-Instruct-v0.2\", quantization_config=quantization_config, device_map=\"auto\")"
   ],
   "metadata": {
    "collapsed": false,
    "ExecuteTime": {
     "end_time": "2024-05-13T20:30:20.225251200Z",
     "start_time": "2024-05-13T20:29:59.858711200Z"
    }
   },
   "id": "9721b9e9b87fc5b6"
  },
  {
   "cell_type": "code",
   "execution_count": 6,
   "outputs": [],
   "source": [
    "tokenizer = AutoTokenizer.from_pretrained(\"mistralai/Mistral-7B-Instruct-v0.2\")"
   ],
   "metadata": {
    "collapsed": false,
    "ExecuteTime": {
     "end_time": "2024-05-13T20:31:34.168959800Z",
     "start_time": "2024-05-13T20:31:33.961629400Z"
    }
   },
   "id": "fead344e1ef05387"
  },
  {
   "cell_type": "code",
   "execution_count": 7,
   "outputs": [],
   "source": [],
   "metadata": {
    "collapsed": false,
    "ExecuteTime": {
     "end_time": "2024-05-13T20:31:48.966019500Z",
     "start_time": "2024-05-13T20:31:48.935762500Z"
    }
   },
   "id": "206d90f85a529644"
  },
  {
   "cell_type": "markdown",
   "source": [
    "### Définition de l'output attendu"
   ],
   "metadata": {
    "collapsed": false
   },
   "id": "a7b88e4c5c76173c"
  },
  {
   "cell_type": "code",
   "execution_count": 25,
   "outputs": [],
   "source": [
    "messages = [\n",
    "        {\n",
    "            \"role\": \"user\",\n",
    "            \"content\": \"summarize harry potter 1\"\n",
    "        }\n",
    "]"
   ],
   "metadata": {
    "collapsed": false,
    "ExecuteTime": {
     "end_time": "2024-05-13T20:56:53.516020700Z",
     "start_time": "2024-05-13T20:56:53.496502600Z"
    }
   },
   "id": "3430f266ad5ac3f2"
  },
  {
   "cell_type": "code",
   "execution_count": 26,
   "outputs": [
    {
     "name": "stderr",
     "output_type": "stream",
     "text": [
      "The attention mask and the pad token id were not set. As a consequence, you may observe unexpected behavior. Please pass your input's `attention_mask` to obtain reliable results.\n",
      "Setting `pad_token_id` to `eos_token_id`:2 for open-end generation.\n"
     ]
    },
    {
     "name": "stdout",
     "output_type": "stream",
     "text": [
      "<s> [INST] summarize harry potter 1 [/INST] \"Harry Potter and the Philosopher's Stone\" is the first book in J.K. Rowling's popular Harry Potter series. The story follows Harry Potter, an eleven-year-old orphan who discovers that he is a wizard and is invited to attend Hogwarts School of Witchcraft and Wizardry.\n",
      "\n",
      "At Hogwarts, Harry learns that a mysterious entity called the \"Philosopher's Stone\" is capable of turning any substance into gold and creating an Elixir of Life, which can extend a person's lifetime indefinitely. Harry also makes new friends like Hermione Granger and Ron Weasley, and they form a close bond as they navigate their magical studies and face various challenges, including attacks from a three-headed dog named Fluffy and a troll in the school.\n",
      "\n",
      "However, Harry also attracts unwanted attention, as the villainous Lord Voldemort has returned and is seeking to obtain the Philosopher's Stone for himself, believing it will make him immortal once again. In the climax of the story, Harry, Hermione, and Ron infiltrate the castle's inner sanctum to protect the stone. They use their wit and teamwork to outsmart Voldemort and his henchmen, ultimately defeating the enemy and saving Hogwarts.\n",
      "\n",
      "At the end of the book, Harry is hailed as a hero and gains respect within the wizarding community. Under the guidance of his new headmaster Albus Dumbledore and with the support of his friends, Harry continues his magical education, looking forward to the future at Hogwarts.</s>\n"
     ]
    }
   ],
   "source": [
    "encodeds = tokenizer.apply_chat_template(messages, return_tensors=\"pt\")\n",
    "\n",
    "model_inputs = encodeds.to(device)\n",
    "# model.to(device)\n",
    "\n",
    "generated_ids = model.generate(encodeds, do_sample=True, max_new_tokens=10000)\n",
    "decoded = tokenizer.batch_decode(generated_ids)\n",
    "print(decoded[0])"
   ],
   "metadata": {
    "collapsed": false,
    "ExecuteTime": {
     "end_time": "2024-05-13T20:57:19.237626Z",
     "start_time": "2024-05-13T20:56:53.742038200Z"
    }
   },
   "id": "dd73be05dcc9b650"
  },
  {
   "cell_type": "markdown",
   "source": [
    "### Test sur une requete"
   ],
   "metadata": {
    "collapsed": false
   },
   "id": "5aef27e5045698e3"
  },
  {
   "cell_type": "code",
   "execution_count": 28,
   "outputs": [
    {
     "name": "stderr",
     "output_type": "stream",
     "text": [
      "llama_model_loader: loaded meta data with 24 key-value pairs and 291 tensors from ./mistral-7b-instruct-v0.2.Q4_K_M.gguf (version GGUF V3 (latest))\n",
      "llama_model_loader: Dumping metadata keys/values. Note: KV overrides do not apply in this output.\n",
      "llama_model_loader: - kv   0:                       general.architecture str              = llama\n",
      "llama_model_loader: - kv   1:                               general.name str              = mistralai_mistral-7b-instruct-v0.2\n",
      "llama_model_loader: - kv   2:                       llama.context_length u32              = 32768\n",
      "llama_model_loader: - kv   3:                     llama.embedding_length u32              = 4096\n",
      "llama_model_loader: - kv   4:                          llama.block_count u32              = 32\n",
      "llama_model_loader: - kv   5:                  llama.feed_forward_length u32              = 14336\n",
      "llama_model_loader: - kv   6:                 llama.rope.dimension_count u32              = 128\n",
      "llama_model_loader: - kv   7:                 llama.attention.head_count u32              = 32\n",
      "llama_model_loader: - kv   8:              llama.attention.head_count_kv u32              = 8\n",
      "llama_model_loader: - kv   9:     llama.attention.layer_norm_rms_epsilon f32              = 0.000010\n",
      "llama_model_loader: - kv  10:                       llama.rope.freq_base f32              = 1000000.000000\n",
      "llama_model_loader: - kv  11:                          general.file_type u32              = 15\n",
      "llama_model_loader: - kv  12:                       tokenizer.ggml.model str              = llama\n",
      "llama_model_loader: - kv  13:                      tokenizer.ggml.tokens arr[str,32000]   = [\"<unk>\", \"<s>\", \"</s>\", \"<0x00>\", \"<...\n",
      "llama_model_loader: - kv  14:                      tokenizer.ggml.scores arr[f32,32000]   = [0.000000, 0.000000, 0.000000, 0.0000...\n",
      "llama_model_loader: - kv  15:                  tokenizer.ggml.token_type arr[i32,32000]   = [2, 3, 3, 6, 6, 6, 6, 6, 6, 6, 6, 6, ...\n",
      "llama_model_loader: - kv  16:                tokenizer.ggml.bos_token_id u32              = 1\n",
      "llama_model_loader: - kv  17:                tokenizer.ggml.eos_token_id u32              = 2\n",
      "llama_model_loader: - kv  18:            tokenizer.ggml.unknown_token_id u32              = 0\n",
      "llama_model_loader: - kv  19:            tokenizer.ggml.padding_token_id u32              = 0\n",
      "llama_model_loader: - kv  20:               tokenizer.ggml.add_bos_token bool             = true\n",
      "llama_model_loader: - kv  21:               tokenizer.ggml.add_eos_token bool             = false\n",
      "llama_model_loader: - kv  22:                    tokenizer.chat_template str              = {{ bos_token }}{% for message in mess...\n",
      "llama_model_loader: - kv  23:               general.quantization_version u32              = 2\n",
      "llama_model_loader: - type  f32:   65 tensors\n",
      "llama_model_loader: - type q4_K:  193 tensors\n",
      "llama_model_loader: - type q6_K:   33 tensors\n",
      "llm_load_vocab: special tokens definition check successful ( 259/32000 ).\n",
      "llm_load_print_meta: format           = GGUF V3 (latest)\n",
      "llm_load_print_meta: arch             = llama\n",
      "llm_load_print_meta: vocab type       = SPM\n",
      "llm_load_print_meta: n_vocab          = 32000\n",
      "llm_load_print_meta: n_merges         = 0\n",
      "llm_load_print_meta: n_ctx_train      = 32768\n",
      "llm_load_print_meta: n_embd           = 4096\n",
      "llm_load_print_meta: n_head           = 32\n",
      "llm_load_print_meta: n_head_kv        = 8\n",
      "llm_load_print_meta: n_layer          = 32\n",
      "llm_load_print_meta: n_rot            = 128\n",
      "llm_load_print_meta: n_embd_head_k    = 128\n",
      "llm_load_print_meta: n_embd_head_v    = 128\n",
      "llm_load_print_meta: n_gqa            = 4\n",
      "llm_load_print_meta: n_embd_k_gqa     = 1024\n",
      "llm_load_print_meta: n_embd_v_gqa     = 1024\n",
      "llm_load_print_meta: f_norm_eps       = 0.0e+00\n",
      "llm_load_print_meta: f_norm_rms_eps   = 1.0e-05\n",
      "llm_load_print_meta: f_clamp_kqv      = 0.0e+00\n",
      "llm_load_print_meta: f_max_alibi_bias = 0.0e+00\n",
      "llm_load_print_meta: f_logit_scale    = 0.0e+00\n",
      "llm_load_print_meta: n_ff             = 14336\n",
      "llm_load_print_meta: n_expert         = 0\n",
      "llm_load_print_meta: n_expert_used    = 0\n",
      "llm_load_print_meta: causal attn      = 1\n",
      "llm_load_print_meta: pooling type     = 0\n",
      "llm_load_print_meta: rope type        = 0\n",
      "llm_load_print_meta: rope scaling     = linear\n",
      "llm_load_print_meta: freq_base_train  = 1000000.0\n",
      "llm_load_print_meta: freq_scale_train = 1\n",
      "llm_load_print_meta: n_yarn_orig_ctx  = 32768\n",
      "llm_load_print_meta: rope_finetuned   = unknown\n",
      "llm_load_print_meta: ssm_d_conv       = 0\n",
      "llm_load_print_meta: ssm_d_inner      = 0\n",
      "llm_load_print_meta: ssm_d_state      = 0\n",
      "llm_load_print_meta: ssm_dt_rank      = 0\n",
      "llm_load_print_meta: model type       = 8B\n",
      "llm_load_print_meta: model ftype      = Q4_K - Medium\n",
      "llm_load_print_meta: model params     = 7.24 B\n",
      "llm_load_print_meta: model size       = 4.07 GiB (4.83 BPW) \n",
      "llm_load_print_meta: general.name     = mistralai_mistral-7b-instruct-v0.2\n",
      "llm_load_print_meta: BOS token        = 1 '<s>'\n",
      "llm_load_print_meta: EOS token        = 2 '</s>'\n",
      "llm_load_print_meta: UNK token        = 0 '<unk>'\n",
      "llm_load_print_meta: PAD token        = 0 '<unk>'\n",
      "llm_load_print_meta: LF token         = 13 '<0x0A>'\n",
      "llm_load_tensors: ggml ctx size =    0.15 MiB\n",
      "llm_load_tensors: offloading 0 repeating layers to GPU\n",
      "llm_load_tensors: offloaded 0/33 layers to GPU\n",
      "llm_load_tensors:        CPU buffer size =  4165.37 MiB\n",
      ".................................................................................................\n",
      "llama_new_context_with_model: n_ctx      = 512\n",
      "llama_new_context_with_model: n_batch    = 512\n",
      "llama_new_context_with_model: n_ubatch   = 512\n",
      "llama_new_context_with_model: flash_attn = 0\n",
      "llama_new_context_with_model: freq_base  = 1000000.0\n",
      "llama_new_context_with_model: freq_scale = 1\n",
      "llama_kv_cache_init:        CPU KV buffer size =    64.00 MiB\n",
      "llama_new_context_with_model: KV self size  =   64.00 MiB, K (f16):   32.00 MiB, V (f16):   32.00 MiB\n",
      "llama_new_context_with_model:        CPU  output buffer size =     0.12 MiB\n",
      "llama_new_context_with_model:        CPU compute buffer size =    81.01 MiB\n",
      "llama_new_context_with_model: graph nodes  = 1030\n",
      "llama_new_context_with_model: graph splits = 1\n",
      "AVX = 1 | AVX_VNNI = 0 | AVX2 = 1 | AVX512 = 0 | AVX512_VBMI = 0 | AVX512_VNNI = 0 | FMA = 1 | NEON = 0 | ARM_FMA = 0 | F16C = 1 | FP16_VA = 0 | WASM_SIMD = 0 | BLAS = 1 | SSE3 = 1 | SSSE3 = 1 | VSX = 0 | MATMUL_INT8 = 0 | LLAMAFILE = 1 | \n",
      "Model metadata: {'general.quantization_version': '2', 'tokenizer.chat_template': \"{{ bos_token }}{% for message in messages %}{% if (message['role'] == 'user') != (loop.index0 % 2 == 0) %}{{ raise_exception('Conversation roles must alternate user/assistant/user/assistant/...') }}{% endif %}{% if message['role'] == 'user' %}{{ '[INST] ' + message['content'] + ' [/INST]' }}{% elif message['role'] == 'assistant' %}{{ message['content'] + eos_token}}{% else %}{{ raise_exception('Only user and assistant roles are supported!') }}{% endif %}{% endfor %}\", 'tokenizer.ggml.add_eos_token': 'false', 'tokenizer.ggml.add_bos_token': 'true', 'tokenizer.ggml.padding_token_id': '0', 'tokenizer.ggml.unknown_token_id': '0', 'tokenizer.ggml.eos_token_id': '2', 'tokenizer.ggml.bos_token_id': '1', 'tokenizer.ggml.model': 'llama', 'llama.attention.head_count_kv': '8', 'llama.context_length': '32768', 'llama.attention.head_count': '32', 'llama.rope.freq_base': '1000000.000000', 'llama.rope.dimension_count': '128', 'general.file_type': '15', 'llama.feed_forward_length': '14336', 'llama.embedding_length': '4096', 'llama.block_count': '32', 'general.architecture': 'llama', 'llama.attention.layer_norm_rms_epsilon': '0.000010', 'general.name': 'mistralai_mistral-7b-instruct-v0.2'}\n",
      "\n",
      "llama_print_timings:        load time =   35272.35 ms\n",
      "llama_print_timings:      sample time =     141.18 ms /   440 runs   (    0.32 ms per token,  3116.65 tokens per second)\n",
      "llama_print_timings: prompt eval time =   35272.22 ms /    37 tokens (  953.30 ms per token,     1.05 tokens per second)\n",
      "llama_print_timings:        eval time =  160457.63 ms /   439 runs   (  365.51 ms per token,     2.74 tokens per second)\n",
      "llama_print_timings:       total time =  197795.66 ms /   476 tokens\n"
     ]
    }
   ],
   "source": [
    "# # Chat Completion API\n",
    "# \n",
    "# summary = llm.create_chat_completion(\n",
    "#     messages = [\n",
    "#         {\"role\": \"system\", \"content\": \"You job is to make summaries of long texts.\"},\n",
    "#         {\n",
    "#             \"role\": \"user\",\n",
    "#             \"content\": \"summarize harry potter 1\"\n",
    "#         }\n",
    "#     ]\n",
    "# )\n",
    "# \n"
   ],
   "metadata": {
    "collapsed": false,
    "ExecuteTime": {
     "end_time": "2024-05-09T16:46:27.466506Z",
     "start_time": "2024-05-09T16:43:08.777356Z"
    }
   },
   "id": "13480021157206a8"
  },
  {
   "cell_type": "markdown",
   "source": [
    "#### Sortons uniquement l'ouput de la requete qui nous intéresse"
   ],
   "metadata": {
    "collapsed": false
   },
   "id": "c6823d8f17a8609"
  },
  {
   "cell_type": "code",
   "execution_count": 40,
   "outputs": [
    {
     "name": "stdout",
     "output_type": "stream",
     "text": [
      " Title: Harry Potter and the Philosopher's Stone (Sorcerer's Stone in some editions)\n",
      "\n",
      "Summary:\n",
      "\n",
      "Harry Potter, an orphan boy living with his abusive aunt and uncle, receives a letter on his eleventh birthday inviting him to attend Hogwarts School of Witchcraft and Wizardry. Unbeknownst to Harry, he is a famous survivor of Voldemort, a dark wizard who had tried to kill him as an infant. At Hogwarts, Harry learns about his magical abilities from his kind mentor, Professor Albus Dumbledore, and makes new friends, Hermione Granger and Ron Weasley.\n",
      "\n",
      "The trio hears rumors of a legendary Philosopher's (Sorcerer's) Stone that can turn any metal into gold and produce the Elixir of Life, granting immortality. Harry learns that Voldemort is after this stone to regain his youth and power. With Dumbledore's guidance, they embark on a quest to protect the stone from falling into Voldemort's hands.\n",
      "\n",
      "The trio faces numerous challenges, including battling trolls, cheating in exams, and dealing with a mischievous house-elf named Dobby. They eventually reach the stone's location in the Chamber of Secrets, where they encounter Tom Riddle, Voldemort's former self, who had been trapped there for centuries. Harry manages to outsmart Riddle and save the day.\n",
      "\n",
      "In the end, Harry returns the Philosopher's Stone to Dumbledore, who uses it to restore the school's damaged library. Harry also learns that Voldemort cannot kill him because a part of Voldemort's soul is connected to Harry through the protective spell cast by Lily Potter, Harry's mother, at the time of his death. This revelation leaves a significant impact on Harry and sets the stage for future events in the series.\n"
     ]
    }
   ],
   "source": [
    "# liste_dictionnaires = summary[\"choices\"][0]['message']['content']\n",
    "# \n",
    "# print(liste_dictionnaires)"
   ],
   "metadata": {
    "collapsed": false,
    "ExecuteTime": {
     "end_time": "2024-05-09T16:55:24.099443Z",
     "start_time": "2024-05-09T16:55:24.059837Z"
    }
   },
   "id": "86a29913b383840"
  },
  {
   "cell_type": "markdown",
   "source": [
    "## Fonctions"
   ],
   "metadata": {
    "collapsed": false
   },
   "id": "5a24c6305ef44959"
  },
  {
   "cell_type": "code",
   "execution_count": 34,
   "outputs": [],
   "source": [
    "# Diviser le texte en segments de 500 caractères ou moins\n",
    "def split_text_into_segments(text, segment_length=1000, instruction=\"make me a short summary of the following text:\"):\n",
    "    segments = []\n",
    "    current_segment = \"\"\n",
    "\n",
    "    words = text.split()\n",
    "    for word in words:\n",
    "        # Ajouter le mot au segment en cours\n",
    "        current_segment += word + \" \"\n",
    "\n",
    "        # Vérifier si le segment en cours dépasse la longueur maximale\n",
    "        if len(current_segment) >= segment_length:\n",
    "            # Ajouter l'instruction au début du segment\n",
    "            segment_with_instruction = [f\"{current_segment.strip()}\"]\n",
    "            # Ajouter le segment complet à la liste des segments\n",
    "            segments.append(segment_with_instruction)\n",
    "            # Réinitialiser le segment en cours\n",
    "            current_segment = \"\"\n",
    "\n",
    "    # Ajouter le segment final s'il n'a pas été ajouté\n",
    "    if current_segment:\n",
    "        # Ajouter l'instruction au début du segment final\n",
    "        segment_with_instruction = [f\"{current_segment.strip()}\"]\n",
    "        segments.append(segment_with_instruction)\n",
    "\n",
    "    return segments\n"
   ],
   "metadata": {
    "collapsed": false,
    "ExecuteTime": {
     "end_time": "2024-05-13T21:03:26.865714200Z",
     "start_time": "2024-05-13T21:03:26.852709900Z"
    }
   },
   "id": "74459ea64f54bab2"
  },
  {
   "cell_type": "code",
   "execution_count": 28,
   "outputs": [],
   "source": [
    "# Résumez chaque segment\n",
    "def summarize_text_segments(segments):\n",
    "    summaries = []\n",
    "    for segment in segments:\n",
    "        \n",
    "        message = [\n",
    "        {\n",
    "            \"role\": \"user\",\n",
    "            \"content\": f\"summarize this text : \"\n",
    "                       f\"{segment}\"\n",
    "        }\n",
    "]\n",
    "        \n",
    "        encodeds = tokenizer.apply_chat_template(message, return_tensors=\"pt\")\n",
    "\n",
    "        model_inputs = encodeds.to(device)\n",
    "\n",
    "        generated_ids = model.generate(encodeds, do_sample=True, max_new_tokens=10000)\n",
    "        decoded = tokenizer.batch_decode(generated_ids)\n",
    "        \n",
    "        summaries.append(decoded[0])\n",
    "    return summaries\n"
   ],
   "metadata": {
    "collapsed": false,
    "ExecuteTime": {
     "end_time": "2024-05-13T20:59:18.776882300Z",
     "start_time": "2024-05-13T20:59:18.763876300Z"
    }
   },
   "id": "2838f028b75c7fc4"
  },
  {
   "cell_type": "code",
   "execution_count": 13,
   "outputs": [],
   "source": [
    "# # Résumez chaque segment\n",
    "# def summarize_text_segments(segments):\n",
    "#     summaries = []\n",
    "#     for segment in segments:\n",
    "#         print(\"start of segment\")\n",
    "#         requete = llm.create_chat_completion(\n",
    "#                 messages = [\n",
    "#                     {\"role\": \"system\", \"content\": \"You job is to make summaries of long texts.\"},\n",
    "#                     {\n",
    "#                         \"role\": \"user\",\n",
    "#                         \"content\": f\"{segment}\"\n",
    "#                     }\n",
    "#                     ]\n",
    "#                 )\n",
    "#         \n",
    "#         summary = [requete[\"choices\"][0]['message']['content']]\n",
    "#         summaries.append(summary)\n",
    "#     return summaries\n"
   ],
   "metadata": {
    "collapsed": false,
    "ExecuteTime": {
     "end_time": "2024-05-13T20:40:22.871720100Z",
     "start_time": "2024-05-13T20:40:22.856207700Z"
    }
   },
   "id": "4d2cd931427c2393"
  },
  {
   "cell_type": "code",
   "execution_count": 29,
   "outputs": [],
   "source": [
    "# Rassemblez les résumés et résumez-les à nouveau\n",
    "def summarize_summaries(summaries):\n",
    "    concatenated_summaries = \"\"\n",
    "    for summary in summaries:\n",
    "        concatenated_summaries += str(summary) + \" \"\n",
    "    \n",
    "    message = [\n",
    "        {\n",
    "            \"role\": \"user\",\n",
    "            \"content\": f\"summarize this text : \"\n",
    "                       f\"{concatenated_summaries}\"\n",
    "        }\n",
    "]\n",
    "        \n",
    "    encodeds = tokenizer.apply_chat_template(message, return_tensors=\"pt\")\n",
    "\n",
    "    model_inputs = encodeds.to(device)\n",
    "\n",
    "    generated_ids = model.generate(encodeds, do_sample=True, max_new_tokens=10000)\n",
    "    decoded = tokenizer.batch_decode(generated_ids)\n",
    "        \n",
    "    return decoded[0]"
   ],
   "metadata": {
    "collapsed": false,
    "ExecuteTime": {
     "end_time": "2024-05-13T21:01:46.373924700Z",
     "start_time": "2024-05-13T21:01:46.345381900Z"
    }
   },
   "id": "4b4921ebf154d901"
  },
  {
   "cell_type": "markdown",
   "source": [
    "## Applications à un long texte extrait de livre"
   ],
   "metadata": {
    "collapsed": false
   },
   "id": "2bd958ecbc2ec35b"
  },
  {
   "cell_type": "markdown",
   "source": [
    "### Import d'un dataset contenant des chapitres de livres"
   ],
   "metadata": {
    "collapsed": false
   },
   "id": "88f3fc840bc04e0c"
  },
  {
   "cell_type": "code",
   "execution_count": 30,
   "outputs": [],
   "source": [
    "from datasets import load_dataset\n",
    "dataset = load_dataset(\"pszemraj/booksum-short\")"
   ],
   "metadata": {
    "collapsed": false,
    "ExecuteTime": {
     "end_time": "2024-05-13T21:01:55.664916200Z",
     "start_time": "2024-05-13T21:01:53.119271400Z"
    }
   },
   "id": "30cb95d3998ec5c9"
  },
  {
   "cell_type": "code",
   "execution_count": 35,
   "outputs": [],
   "source": [
    "# Votre très long texte\n",
    "long_text = dataset[\"train\"][\"chapter\"][0]"
   ],
   "metadata": {
    "collapsed": false,
    "ExecuteTime": {
     "end_time": "2024-05-13T21:03:33.247974500Z",
     "start_time": "2024-05-13T21:03:33.188857400Z"
    }
   },
   "id": "93c9a67a32a0dc99"
  },
  {
   "cell_type": "markdown",
   "source": [
    "#### division du long texte en segments"
   ],
   "metadata": {
    "collapsed": false
   },
   "id": "fdfdb768754b8414"
  },
  {
   "cell_type": "code",
   "execution_count": 36,
   "outputs": [],
   "source": [
    "# Divisez le texte en segments\n",
    "text_segments = split_text_into_segments(long_text)"
   ],
   "metadata": {
    "collapsed": false,
    "ExecuteTime": {
     "end_time": "2024-05-13T21:03:35.135687100Z",
     "start_time": "2024-05-13T21:03:35.131906400Z"
    }
   },
   "id": "e5d9eec73c37fa32"
  },
  {
   "cell_type": "code",
   "execution_count": 37,
   "outputs": [
    {
     "name": "stdout",
     "output_type": "stream",
     "text": [
      "['\"Before these fields were shorn and tilled, Full to the brim our rivers flowed; The melody of waters filled The fresh and boundless wood; And torrents dashed, and rivulets played, And fountains spouted in the shade.\" BRYANT. Leaving the unsuspecting Heyward and his confiding companions to penetrate still deeper into a forest that contained such treacherous inmates, we must use an author\\'s privilege, and shift the scene a few miles to the westward of the place where we have last seen them. On that day, two men were lingering on the banks of a small but rapid stream, within an hour\\'s journey of the encampment of Webb, like those who awaited the appearance of an absent person, or the approach of some expected event. The vast canopy of woods spread itself to the margin of the river overhanging the water, and shadowing its dark current with a deeper hue. The rays of the sun were beginning to grow less fierce, and the intense heat of the day was lessened, as the cooler vapors of the springs']\n"
     ]
    }
   ],
   "source": [
    "print(text_segments[0])"
   ],
   "metadata": {
    "collapsed": false,
    "ExecuteTime": {
     "end_time": "2024-05-13T21:03:36.046347600Z",
     "start_time": "2024-05-13T21:03:36.040341100Z"
    }
   },
   "id": "31c25c8e1b6508df"
  },
  {
   "cell_type": "markdown",
   "source": [
    "### Résumons les différentes parties de ce chapitre"
   ],
   "metadata": {
    "collapsed": false
   },
   "id": "f22cad3dadf086f3"
  },
  {
   "cell_type": "code",
   "execution_count": 38,
   "outputs": [
    {
     "name": "stderr",
     "output_type": "stream",
     "text": [
      "The attention mask and the pad token id were not set. As a consequence, you may observe unexpected behavior. Please pass your input's `attention_mask` to obtain reliable results.\n",
      "Setting `pad_token_id` to `eos_token_id`:2 for open-end generation.\n",
      "The attention mask and the pad token id were not set. As a consequence, you may observe unexpected behavior. Please pass your input's `attention_mask` to obtain reliable results.\n",
      "Setting `pad_token_id` to `eos_token_id`:2 for open-end generation.\n",
      "The attention mask and the pad token id were not set. As a consequence, you may observe unexpected behavior. Please pass your input's `attention_mask` to obtain reliable results.\n",
      "Setting `pad_token_id` to `eos_token_id`:2 for open-end generation.\n",
      "The attention mask and the pad token id were not set. As a consequence, you may observe unexpected behavior. Please pass your input's `attention_mask` to obtain reliable results.\n",
      "Setting `pad_token_id` to `eos_token_id`:2 for open-end generation.\n",
      "The attention mask and the pad token id were not set. As a consequence, you may observe unexpected behavior. Please pass your input's `attention_mask` to obtain reliable results.\n",
      "Setting `pad_token_id` to `eos_token_id`:2 for open-end generation.\n",
      "The attention mask and the pad token id were not set. As a consequence, you may observe unexpected behavior. Please pass your input's `attention_mask` to obtain reliable results.\n",
      "Setting `pad_token_id` to `eos_token_id`:2 for open-end generation.\n",
      "The attention mask and the pad token id were not set. As a consequence, you may observe unexpected behavior. Please pass your input's `attention_mask` to obtain reliable results.\n",
      "Setting `pad_token_id` to `eos_token_id`:2 for open-end generation.\n",
      "The attention mask and the pad token id were not set. As a consequence, you may observe unexpected behavior. Please pass your input's `attention_mask` to obtain reliable results.\n",
      "Setting `pad_token_id` to `eos_token_id`:2 for open-end generation.\n",
      "The attention mask and the pad token id were not set. As a consequence, you may observe unexpected behavior. Please pass your input's `attention_mask` to obtain reliable results.\n",
      "Setting `pad_token_id` to `eos_token_id`:2 for open-end generation.\n",
      "The attention mask and the pad token id were not set. As a consequence, you may observe unexpected behavior. Please pass your input's `attention_mask` to obtain reliable results.\n",
      "Setting `pad_token_id` to `eos_token_id`:2 for open-end generation.\n",
      "The attention mask and the pad token id were not set. As a consequence, you may observe unexpected behavior. Please pass your input's `attention_mask` to obtain reliable results.\n",
      "Setting `pad_token_id` to `eos_token_id`:2 for open-end generation.\n",
      "The attention mask and the pad token id were not set. As a consequence, you may observe unexpected behavior. Please pass your input's `attention_mask` to obtain reliable results.\n",
      "Setting `pad_token_id` to `eos_token_id`:2 for open-end generation.\n",
      "The attention mask and the pad token id were not set. As a consequence, you may observe unexpected behavior. Please pass your input's `attention_mask` to obtain reliable results.\n",
      "Setting `pad_token_id` to `eos_token_id`:2 for open-end generation.\n",
      "The attention mask and the pad token id were not set. As a consequence, you may observe unexpected behavior. Please pass your input's `attention_mask` to obtain reliable results.\n",
      "Setting `pad_token_id` to `eos_token_id`:2 for open-end generation.\n",
      "The attention mask and the pad token id were not set. As a consequence, you may observe unexpected behavior. Please pass your input's `attention_mask` to obtain reliable results.\n",
      "Setting `pad_token_id` to `eos_token_id`:2 for open-end generation.\n",
      "The attention mask and the pad token id were not set. As a consequence, you may observe unexpected behavior. Please pass your input's `attention_mask` to obtain reliable results.\n",
      "Setting `pad_token_id` to `eos_token_id`:2 for open-end generation.\n",
      "The attention mask and the pad token id were not set. As a consequence, you may observe unexpected behavior. Please pass your input's `attention_mask` to obtain reliable results.\n",
      "Setting `pad_token_id` to `eos_token_id`:2 for open-end generation.\n",
      "The attention mask and the pad token id were not set. As a consequence, you may observe unexpected behavior. Please pass your input's `attention_mask` to obtain reliable results.\n",
      "Setting `pad_token_id` to `eos_token_id`:2 for open-end generation.\n",
      "The attention mask and the pad token id were not set. As a consequence, you may observe unexpected behavior. Please pass your input's `attention_mask` to obtain reliable results.\n",
      "Setting `pad_token_id` to `eos_token_id`:2 for open-end generation.\n"
     ]
    }
   ],
   "source": [
    "# Résumez chaque segment\n",
    "segment_summaries = summarize_text_segments(text_segments)"
   ],
   "metadata": {
    "collapsed": false,
    "ExecuteTime": {
     "end_time": "2024-05-13T21:06:56.820191700Z",
     "start_time": "2024-05-13T21:03:48.378627700Z"
    }
   },
   "id": "9afcb76248f4ad7a"
  },
  {
   "cell_type": "code",
   "execution_count": 39,
   "outputs": [
    {
     "name": "stdout",
     "output_type": "stream",
     "text": [
      "[['<s> [INST] summarize this text : [\\'\"Before these fields were shorn and tilled, Full to the brim our rivers flowed; The melody of waters filled The fresh and boundless wood; And torrents dashed, and rivulets played, And fountains spouted in the shade.\" BRYANT. Leaving the unsuspecting Heyward and his confiding companions to penetrate still deeper into a forest that contained such treacherous inmates, we must use an author\\\\\\'s privilege, and shift the scene a few miles to the westward of the place where we have last seen them. On that day, two men were lingering on the banks of a small but rapid stream, within an hour\\\\\\'s journey of the encampment of Webb, like those who awaited the appearance of an absent person, or the approach of some expected event. The vast canopy of woods spread itself to the margin of the river overhanging the water, and shadowing its dark current with a deeper hue. The rays of the sun were beginning to grow less fierce, and the intense heat of the day was lessened, as the cooler vapors of the springs\\'] [/INST] The text describes a scene where two men are waiting by a rapid stream, nearby Webb\\'s encampment. The forest around them is described as containing treacherous inmates, and the men are anticipating the arrival of someone or something. The sun is starting to grow less fierce, and the heat of the day is lessening, with the cooler vapors of the springs making the area more pleasant. Prior to this scene, Heyward and his companions were exploring deeper into the forest. The author, Bryant, feels the need to switch the focus to these two men and the scene by the river as a poetic interlude. The passage also mentions how the river once flowed more freely before it was \"shorn and tilled\" for farming.</s>'], [\"<s> [INST] summarize this text : ['and fountains rose above their leafy beds, and rested in the atmosphere. Still that breathing silence, which marks the drowsy sultriness of an American landscape in July, pervaded the secluded spot, interrupted only by the low voices of the men, the occasional and lazy tap of a woodpecker, the discordant cry of some gaudy jay, or a swelling on the ear, from the dull roar of a distant waterfall. These feeble and broken sounds were, however, too familiar to the foresters, to draw their attention from the more interesting matter of their dialogue. While one of these loiterers showed the red skin and wild accoutrements of a native of the woods, the other exhibited, through the mask of his rude and nearly savage equipments, the brighter, though sunburnt and long-faded complexion of one who might claim descent from a European parentage. The former was seated on the end of a mossy log, in a posture that permitted him to heighten the effect of his earnest language, by the calm but expressive gestures'] [/INST] The text describes a secluded scene in an American forest in July. Fountains rise from the trees and birds like a woodpecker and a gaudy jay can be heard. Two men are present, one with native American features and the other with European descent. They sit on a mossy log and engage in a deep conversation, with the native man using expressive gestures to emphasize his words. The overall atmosphere is peaceful and sultry, with the sounds of nature occasionally interrupting their dialogue.</s>\"], ['<s> [INST] summarize this text : [\"of an Indian engaged in debate. His body, which was nearly naked, presented a terrific emblem of death, drawn in intermingled colors of white and black. His closely shaved head, on which no other hair than the well known and chivalrous scalping tuft[5] was preserved, was without ornament of any kind, with the exception of a solitary eagle\\'s plume, that crossed his crown, and depended over the left shoulder. A tomahawk and scalping-knife, of English manufacture, were in his girdle; while a short military rifle, of that sort with which the policy of the whites armed their savage allies, lay carelessly across his bare and sinewy knee. The expanded chest, full formed limbs, and grave countenance of this warrior, would denote that he had reached the vigor of his days, though no symptoms of decay appeared to have yet weakened his manhood. The frame of the white man, judging by such parts as were not concealed by his clothes, was like that of one who had known hardships and exertion from his\"] [/INST] The text describes an Indian man involved in a debate, with his nearly naked body showcasing a mix of white and black intermingled, symbolizing death. His shaved head had a solitary eagle plume and bore no other adornments, with a tomahawk, scalping-knife, and short military rifle in his girdle. The man\\'s expanded chest, full-formed limbs, and grave countenance suggested he was in the prime of his life, with no signs of decay, while his frame appeared similar to that of a white man who had experienced hardships and exertion.</s>'], [\"<s> [INST] summarize this text : ['earliest youth. His person, though muscular, was rather attenuated than full; but every nerve and muscle appeared strung and indurated by unremitted exposure and toil. He wore a hunting-shirt of forest green, fringed with faded yellow[6], and a summer cap of skins which had been shorn of their fur. He also bore a knife in a girdle of wampum, like that which confined the scanty garments of the Indian, but no tomahawk. His moccasins were ornamented after the gay fashion of the natives, while the only part of his under-dress which appeared below the hunting-frock, was a pair of buckskin leggings, that laced at the sides, and which were gartered above the knees with the sinews of a deer. A pouch and horn completed his personal accoutrements, though a rifle of great length[7], which the theory of the more ingenious whites had taught them was the most dangerous of all fire-arms, leaned against a neighboring sapling. The eye of the hunter, or scout, whichever he might be, was small, quick, keen,'] [/INST] The text describes a man from his earliest youth, with a slender but muscular build, wearing a hunting shirt and cap made of forest green and skins, and adorned with Native American ornaments. He wears moccasins with sinew garters above the knees, and carries a pouch, horn, and a long rifle. His eyes are small, quick, and keen. He wears a hunting-shirt of forest green, a summer cap made of skins, a knife in a wampum girdle, ornamented moccasins with buckskin leggings, a pouch and horn, and a long rifle. His appearance suggests that of a hunter or scout, with quick and keen eyes.</s>\"], ['<s> [INST] summarize this text : [\\'and restless, roving while he spoke, on every side of him, as if in quest of game, or distrusting the sudden approach of some lurking enemy. Notwithstanding the symptoms of habitual suspicion, his countenance was not only without guile, but at the moment at which he is introduced, it was charged with an expression of sturdy honesty. \"Even your traditions make the case in my favor, Chingachgook,\" he said, speaking in the tongue which was known to all the natives who formerly inhabited the country between the Hudson and the Potomac, and of which we shall give a free translation for the benefit of the reader; endeavoring, at the same time, to preserve some of the peculiarities, both of the individual and of the language. \"Your fathers came from the setting sun, crossed the big river,[8] fought the people of the country, and took the land; and mine came from the red sky of the morning, over the salt lake, and did their work much after the fashion that had been set them by yours; then let God\\'] [/INST] The text describes a man named Natty Bumppo, also known as Hawkeye, speaking to Chief Chingachgook in a native language. Hawkeye\\'s demeanor was restless and suspicious, but his face held an honest expression. He referenced the history of their peoples, explaining that both the native tribes and his European ancestors had taken land through conflict. Hawkeye concluded by invoking God\\'s role in the outcome. The text also mentions that the translation of the conversation will be provided for the reader.</s>'], ['<s> [INST] summarize this text : [\\'judge the matter between us, and friends spare their words!\" \"My fathers fought with the naked redmen!\" returned the Indian sternly, in the same language. \"Is there no difference, Hawkeye, between the stone-headed arrow of the warrior, and the leaden bullet with which you kill?\" \"There is reason in an Indian, though nature has made him with a red skin!\" said the white man, shaking his head like one on whom such an appeal to his justice was not thrown away. For a moment he appeared to be conscious of having the worst of the argument, then, rallying again, he answered the objection of his antagonist in the best manner his limited information would allow: \"I am no scholar, and I care not who knows it; but judging from what I have seen, at deer chases and squirrel hunts, of the sparks below, I should think a rifle in the hands of their grandfathers was not so dangerous as a hickory bow and a good flint-head might be, if drawn with Indian judgment, and sent by an Indian eye.\" \"You have the\\'] [/INST] The text is a dialogue between a white man named Hawkeye and an Native American. The Native American expresses his concern over the use of guns by white men, stating that their forefathers fought with nothing but their bare hands and weapons made of natural materials. Hawkeye acknowledges the intelligence of Native Americans and defends his use of guns by comparing them to the bows and arrows used by Native Americans, implying that guns are more effective in terms of range and stopping power. Despite admitting that he is no scholar, Hawkeye asserts that based on his observations of Native American hunting techniques, guns are safer and more effective than traditional weapons. The Native American does not seem convinced by Hawkeye\\'s argument and the exchange ends without a resolution.</s>'], ['<s> [INST] summarize this text : [\\'story told by your fathers,\" returned the other, coldly waving his hand. \"What say your old men? do they tell the young warriors, that the pale-faces met the redmen, painted for war and armed with the stone hatchet and wooden gun?\" \"I am not a prejudiced man, nor one who vaunts himself on his natural privileges, though the worst enemy I have on earth, and he is an Iroquois, daren\\\\\\'t deny that I am genuine white,\" the scout replied, surveying, with secret satisfaction, the faded color of his bony and sinewy hand; \"and I am willing to own that my people have many ways, of which, as an honest man, I can\\\\\\'t approve. It is one of their customs to write in books what they have done and seen, instead of telling them in their villages, where the lie can be given to the face of a cowardly boaster, and the brave soldier can call on his comrades to witness for the truth of his words. In consequence of this bad fashion, a man who is too conscientious to misspend his days among the women, in learning\\'] [/INST] The text is a conversation between two men, with the first man dismissing a story as an old tale told by ancestors. The second man defends his people, acknowledging their shortcomings but also praising their honesty, as they have a custom of recording their deeds in books instead of boasting in person. The second man himself is a conscientious white man who finds value in this tradition despite some disapproval of other customs.</s>'], ['<s> [INST] summarize this text : [\\'the names of black marks, may never hear of the deeds of his fathers, nor feel a pride in striving to outdo them. For myself, I conclude the Bumppos could shoot, for I have a natural turn with a rifle, which must have been handed down from generation to generation, as, our holy commandments tell us, all good and evil gifts are bestowed; though I should be loth to answer for other people in such a matter. But every story has its two sides; so I ask you, Chingachgook, what passed, according to the traditions of the redmen, when our fathers first met?\" A silence of a minute succeeded, during which the Indian sat mute; then, full of the dignity of his office, he commenced his brief tale, with a solemnity that served to heighten its appearance of truth. \"Listen, Hawkeye, and your ear shall drink no lie. \\\\\\'Tis what my fathers have said, and what the Mohicans have done.\" He hesitated a single instant, and bending a cautious glance toward his companion, he continued, in a manner that was divided\\'] [/INST] The text is a conversation between Natty Bumppo, also known as Hawkeye, and Chingachgook, an Native American. Hawkeye expresses his pride in his shooting skills, believing it to be a inherited talent from his ancestors. He then asks Chingachgook about the first encounter between their peoples. After a moment of silence, Chingachgook begins to recount the traditional Native American version of the encounter with solemnity and dignity.</s>'], ['<s> [INST] summarize this text : [\\'between interrogation and assertion, \"Does not this stream at our feet run towards the summer, until its waters grow salt, and the current flows upward?\" \"It can\\\\\\'t be denied that your traditions tell you true in both these matters,\" said the white man; \"for I have been there, and have seen them; though, why water, which is so sweet in the shade, should become bitter in the sun, is an alteration for which I have never been able to account.\" \"And the current!\" demanded the Indian, who expected his reply with that sort of interest that a man feels in the confirmation of testimony, at which he marvels even while he respects it; \"the fathers of Chingachgook have not lied!\" \"The Holy Bible is not more true, and that is the truest thing in nature. They call this up-stream current the tide, which is a thing soon explained, and clear enough. Six hours the waters run in, and six hours they run out, and the reason is this: when there is higher water in the sea than in the river, they run in, until\\'] [/INST] The text is a conversation between a white man and an Indian, discussing the direction of a stream and the concept of tidal waters. The white man wonders why a sweet-tasting stream turns salty and seems to flow upward during summer. The Indian, whose traditions state that the water\\'s source is in the summer, confirms that this is true according to their beliefs. The white man, who has seen this phenomenon firsthand, can\\'t explain the reason for it. The Indian then asks about the upstream current, noting that it is described in their traditions as the \"tide,\" and the white man explains that this is the way tidal waters work – six hours coming in and six hours going out due to differences in water levels between the sea and the river.</s>'], ['<s> [INST] summarize this text : [\\'the river gets to be highest, and then it runs out again.\" \"The waters in the woods, and on the great lakes, run downward until they lie like my hand,\" said the Indian, stretching the limb horizontally before him, \"and then they run no more.\" \"No honest man will deny it,\" said the scout, a little nettled at the implied distrust of his explanation of the mystery of the tides; \"and I grant that it is true on the small scale, and where the land is level. But everything depends on what scale you look at things. Now, on the small scale, the \\\\\\'arth is level; but on the large scale it is round. In this manner, pools and ponds, and even the great fresh-water lake, may be stagnant, as you and I both know they are, having seen them; but when you come to spread water over a great tract, like the sea, where the earth is round, how in reason can the water be quiet? You might as well expect the river to lie still on the brink of those black rocks a mile above us, though your own ears tell you that it\\'] [/INST] An Indian described the river\\'s change between being full and running out, comparing it to the way water in woods and lakes eventually comes to rest. A scout agreed but pointed out that while water may appear stagnant on a small scale, the Earth is round on a larger scale, causing water to move and be in constant motion, as evidenced by the river\\'s flow.</s>'], ['<s> [INST] summarize this text : [\\'is tumbling over them at this very moment!\" If unsatisfied by the philosophy of his companion, the Indian was far too dignified to betray his unbelief. He listened like one who was convinced, and resumed his narrative in his former solemn manner. \"We came from the place where the sun is hid at night, over great plains where the buffaloes live, until we reached the big river. There we fought the Alligewi, till the ground was red with their blood. From the banks of the big river to the shores of the salt lake, there was none to meet us. The Maquas followed at a distance. We said the country should be ours from the place where the water runs up no longer on this stream, to a river twenty suns\\\\\\' journey toward the summer. The land we had taken like warriors, we kept like men. We drove the Maquas into the woods with the bears. They only tasted salt at the licks; they drew no fish from the great lake; we threw them the bones.\" \"All this I have heard and believe,\" said the white man, observing\\'] [/INST] The text describes a conversation between a white man and an Indian, with the Indian recounting their past victories and conquests. They had traveled from a hidden sun place over buffalo plains to reach a big river, where they fought the Alligewi until the ground was covered in their blood. They then claimed the land from the end of the river to a river twenty suns\\' journeys towards the summer as their own. They drove the Maquas, who only tasted salt from the licks and drew no fish from the lake, into the woods. The white man listened and believed in the Indian\\'s story.</s>'], ['<s> [INST] summarize this text : [\\'that the Indian paused: \"but it was long before the English came into the country.\" \"A pine grew then where this chestnut now stands. The first pale-faces who came among us spoke no English. They came in a large canoe, when my fathers had buried the tomahawk with the redmen around them. Then, Hawkeye,\" he continued, betraying his deep emotion only by permitting his voice to fall to those low, guttural tones, which rendered his language, as spoken at times, so very musical; \"then, Hawkeye, we were one people, and we were happy. The salt lake gave us its fish, the wood its deer, and the air its birds. We took wives who bore us children; we worshipped the Great Spirit; and we kept the Maquas beyond the sound of our songs of triumph!\" \"Know you anything of your own family at that time?\" demanded the white. \"But you are a just man, for an Indian! and, as I suppose you hold their gifts, your fathers must have been brave warriors, and wise men at the council fire.\" \"My tribe is the grandfather\\'] [/INST] The text describes a conversation between an unnamed Indian and an Englishman, with the Indian sharing memories of a time before the English arrived in the country. He recalls that a pine tree once stood where a chestnut now stands, and the first European settlers who arrived spoke no English. The Indians and Europeans lived harmoniously, with the land providing fish, deer, and birds for food. The Indians took wives and had children, worshipped the Great Spirit, and kept other tribes at bay. The Indian does not know if any of his family were alive during that time but acknowledges that their fathers must have been brave warriors and wise leaders. The Indian\\'s tribe is called his grandfather\\'s tribe, and he is recognized as a just man by the Englishman.</s>'], ['<s> [INST] summarize this text : [\\'of nations, but I am an unmixed man. The blood of chiefs is in my veins, where it must stay forever. The Dutch landed, and gave my people the fire-water; they drank until the heavens and the earth seemed to meet, and they foolishly thought they had found the Great Spirit. Then they parted with their land. Foot by foot, they were driven back from the shores, until I, that am a chief and a sagamore, have never seen the sun shine but through the trees, and have never visited the graves of, my fathers!\" \"Graves bring solemn feelings over the mind,\" returned the scout, a good deal touched at the calm suffering of his companion; \"and they often aid a man in his good intentions; though, for myself, I expect to leave my own bones unburied, to bleach in the woods, or to be torn asunder by the wolves. But where are to be found those of your race who came to their kin in the Delaware country, so many summers since?\" \"Where are the blossoms of those summers!--fallen, one by one: so all of my family\\'] [/INST]The text is a conversation between a Native American chief and a scout. The chief expresses his sadness over the loss of his land to the Dutch settlers, who gave his people alcohol. He considers himself an \"unmixed man\" with chief\\'s blood in his veins. The chief laments the fact that he has never seen the sun without the trees, as he has never visited his father\\'s graves. The scout expresses his own intention to not be buried and instead have his bones bleach in the woods or be torn apart by wolves. The chief then asks the scout about the whereabouts of the Native Americans who came to their kin in the Delaware country many summers ago. The chief then mourns the loss of those summer\\'s blossoms, meaning that all of his family is gone.</s>'], ['<s> [INST] summarize this text : [\\'departed, each in his turn, to the land of spirits. I am on the hill-top, and must go down into the valley; and when Uncas follows in my footsteps, there will no longer be any of the blood of the sagamores, for my boy is the last of the Mohicans.\" \"Uncas is here!\" said another voice, in the same soft, guttural tones, near his elbow; \"who speaks to Uncas?\" The white man loosened his knife in his leathern sheath, and made an involuntary movement of the hand towards his rifle, at this sudden interruption; but the Indian sat composed, and without turning his head at the unexpected sounds. At the next instant, a youthful warrior passed between them, with a noiseless step, and seated himself on the bank of the rapid stream. No exclamation of surprise escaped the father, nor was any question asked, or reply given, for several minutes; each appearing to await the moment when he might speak, without betraying womanish curiosity or childish impatience. The white man seemed to take counsel from their\\'] [/INST] The text describes a white man, believed to be the last Mohican, on a hilltop lamenting that all members of the Mohican tribe, including himself and his son Uncas, will soon be deceased. Uncas appears, and they remain quiet and composed, each awaiting the right moment to speak without showing curiosity or impatience. The white man seems to be contemplating their situation. An earlier voice had suggested that Uncas was there and asked who spoke to him, but there is no further mention of this voice or person.</s>'], ['<s> [INST] summarize this text : [\\'customs, and, relinquishing his grasp of the rifle, he also remained silent and reserved. At length Chingachgook turned his eyes slowly towards his son, and demanded,-- \"Do the Maquas dare to leave the print of their moccasins in these woods?\" \"I have been on their trail,\" replied the young Indian, \"and know that they number as many as the fingers of my two hands; but they lie hid, like cowards.\" \"The thieves are outlying for scalps and plunder!\" said the white man, whom we shall call Hawkeye, after the manner of his companions. \"That bushy Frenchman, Montcalm, will send his spies into our very camp, but he will know what road we travel!\" \"Tis enough!\" returned the father, glancing his eye towards the setting sun; \"they shall be driven like deer from their bushes. Hawkeye, let us eat to-night, and show the Maquas that we are men to-morrow.\" \"I am as ready to do the one as the other; but to fight the Iroquois \\\\\\'tis necessary to find the skulkers; and to eat, \\\\\\'tis necessary to get the game--talk\\'] [/INST] The text describes a conversation between Native American father Chingachgook, his son, and a white man named Hawkeye. The Native Americans are discussing the presence of their Iroquois (Maquas) enemies in the woods. The son has been tracking the Maquas and reports that they are hiding and number around ten. Hawkeye agrees that the Maquas are lying in wait and warns that their French commander, Montcalm, will send spies to their camp. Chingachgook decides to confront the Maquas that night and assures that they will be driven out of their hiding places. The group then plans to eat and rest before the upcoming battle.</s>'], ['<s> [INST] summarize this text : [\\'of the devil and he will come; there is a pair of the biggest antlers I have seen this season, moving the bushes below the hill! Now, Uncas,\" he continued in a half whisper, and laughing with a kind of inward sound, like one who had learnt to be watchful, \"I will bet my charger three times full of powder, against a foot of wampum, that I take him atwixt the eyes, and nearer to the right than to the left.\" \"It cannot be!\" said the young Indian, springing to his feet with youthful eagerness; \"all but the tips of his horns are hid!\" \"He\\\\\\'s a boy!\" said the white man, shaking his head while he spoke, and addressing the father. \"Does he think when a hunter sees a part of the creatur\\\\\\', he can\\\\\\'t tell where the rest of him should be!\" [Illustration: _Copyright by Charles Scribner\\\\\\'s Sons_ UNCAS SLAYS A DEER _Avoiding the horns of the infuriated animal, Uncas darted to his side, and passed his knife across the throat_] Adjusting his rifle, he was about to make an exhibition of that skill, on which\\'] [/INST] The text describes a scene where a white man and an Indian named Uncas are hunting. The white man has spotted a deer with large antlers and makes a bet with Uncas that he can shoot it between the eyes, closer to the right side. Uncas is skeptical because only the tips of the deer\\'s antlers are visible. The white man then mockingly suggests that Uncas is inexperienced for not being able to determine the deer\\'s full location based on the visible part. Uncas then swiftly approaches the deer and successfully slaughters it, avoiding its horns. The text ends with the white man preparing to show off his shooting skills.</s>'], ['<s> [INST] summarize this text : [\\'he so much valued himself, when the warrior struck up the piece with his hand, saying-- \"Hawkeye! will you fight the Maquas?\" \"These Indians know the nature of the woods, as it might be by instinct!\" returned the scout, dropping his rifle, and turning away like a man who was convinced of his error. \"I must leave the buck to your arrow, Uncas, or we may kill a deer for them thieves, the Iroquois, to eat.\" The instant the father seconded this intimation by an expressive gesture of the hand, Uncas threw himself on the ground, and approached the animal with wary movements. When within a few yards of the cover, he fitted an arrow to his bow with the utmost care, while the antlers moved, as if their owner snuffed an enemy in the tainted air. In another moment the twang of the cord was heard, a white streak was seen glancing into the bushes, and the wounded buck plunged from the cover, to the very feet of his hidden enemy. Avoiding the horns of the infuriated animal, Uncas darted to his side,\\'] [/INST] The text describes a scene where Hawkeye, also known as the scout, values his own skills and decides not to fight the Maquas (Iroquois) Indians, despite the warrior calling him out. Uncas, Hawkeye\\'s adopted Native American son, takes his place and successfully wounds a deer with his arrow, preventing the Iroquois from eating it. Uncas cautiously approaches the deer, carefully fitting an arrow to his bow and avoiding the animal\\'s horns once it\\'s wounded.</s>'], ['<s> [INST] summarize this text : [\\'and passed his knife across the throat, when bounding to the edge of the river it fell, dyeing the waters with its blood. \"\\\\\\'Twas done with Indian skill,\" said the scout, laughing inwardly, but with vast satisfaction; \"and \\\\\\'twas a pretty sight to behold! Though an arrow is a near shot, and needs a knife to finish the work.\" \"Hugh!\" ejaculated his companion, turning quickly, like a hound who scented game. \"By the Lord, there is a drove of them!\" exclaimed the scout, whose eyes began to glisten with the ardor of his usual occupation; \"if they come within range of a bullet I will drop one, though the whole Six Nations should be lurking within sound! What do you hear, Chingachgook? for to my ears the woods are dumb.\" \"There is but one deer, and he is dead,\" said the Indian, bending his body till his ear nearly touched the earth. \"I hear the sounds of feet!\" \"Perhaps the wolves have driven the buck to shelter, and are following on his trail.\" \"No. The horses of white men are coming!\" returned\\'] [/INST] The text describes a scene where a native American scout named Hugh kills an enemy with his knife by the river, resulting in the water turning red with his blood.His companion, surprised, hears the sounds of approaching horses and realizes that white men are near. The Indian, Chingachgook, identifies the sound and confirms that it is indeed horses belonging to white men.</s>'], ['<s> [INST] summarize this text : [\\'the other, raising himself with dignity, and resuming his seat on the log with his former composure. \"Hawkeye, they are your brothers; speak to them.\" \"That will I, and in English that the king needn\\\\\\'t be ashamed to answer,\" returned the hunter, speaking in the language of which he boasted; \"but I see nothing, nor do I hear the sounds of man or beast; \\\\\\'tis strange that an Indian should understand white sounds better than a man who, his very enemies will own, has no cross in his blood, although he may have lived with the redskins long enough to be suspected! Ha! there goes something like the cracking of a dry stick, too--now I hear the bushes move--yes, yes, there is a trampling that I mistook for the falls--and--but here they come themselves; God keep them from the Iroquois!\"\\'] [/INST] The text describes a situation where Hawkeye, a white man who has lived among the Native Americans for a long time, encounters a group of Native Americans. The Native Americans, who speak in their own language, approach Hawkeye, and he recognizes them as his \"brothers.\" Hawkeye advises them to speak in English so that the King, presumably a white leader, won\\'t be ashamed. Hawkeye is puzzled that he can understand Native American sounds better than the Native Americans can understand white sounds. He hears signs of their approach and warns them of potential danger from their enemies, the Iroquois.</s>']]\n"
     ]
    }
   ],
   "source": [
    "print(segment_summaries)"
   ],
   "metadata": {
    "collapsed": false,
    "ExecuteTime": {
     "end_time": "2024-05-13T21:08:04.163185200Z",
     "start_time": "2024-05-13T21:08:04.153557800Z"
    }
   },
   "id": "5ec96f2c69f1e628"
  },
  {
   "cell_type": "markdown",
   "source": [
    "## Rajoutons une fonction pour regroupe les résumés entre eux, et refaire du résumé de résumé"
   ],
   "metadata": {
    "collapsed": false
   },
   "id": "da0fabf0594d17"
  },
  {
   "cell_type": "code",
   "execution_count": 40,
   "outputs": [],
   "source": [
    "def group_summaries(summaries, group_size=3):\n",
    "    grouped_summaries = []\n",
    "    current_group = []\n",
    "\n",
    "    for summary_list in summaries:\n",
    "        # Convertir la liste de résumés en une seule chaîne de caractères\n",
    "        summary_string = ' '.join(summary_list)\n",
    "        current_group.append(summary_string)\n",
    "        \n",
    "        if len(current_group) == group_size:\n",
    "            grouped_summaries.append(current_group)\n",
    "            current_group = []\n",
    "\n",
    "    # Ajouter le dernier groupe s'il est incomplet\n",
    "    if current_group:\n",
    "        grouped_summaries.append(current_group)\n",
    "\n",
    "    return grouped_summaries"
   ],
   "metadata": {
    "collapsed": false,
    "ExecuteTime": {
     "end_time": "2024-05-13T21:08:39.555660Z",
     "start_time": "2024-05-13T21:08:39.553147900Z"
    }
   },
   "id": "938818b423125bf6"
  },
  {
   "cell_type": "code",
   "execution_count": 41,
   "outputs": [],
   "source": [
    "summary_step_2 = group_summaries(segment_summaries)"
   ],
   "metadata": {
    "collapsed": false,
    "ExecuteTime": {
     "end_time": "2024-05-13T21:08:44.988555Z",
     "start_time": "2024-05-13T21:08:44.976527200Z"
    }
   },
   "id": "dd19dacc2f1738e"
  },
  {
   "cell_type": "code",
   "execution_count": 42,
   "outputs": [
    {
     "name": "stdout",
     "output_type": "stream",
     "text": [
      "['<s> [INST] summarize this text : [\\'the other, raising himself with dignity, and resuming his seat on the log with his former composure. \"Hawkeye, they are your brothers; speak to them.\" \"That will I, and in English that the king needn\\\\\\'t be ashamed to answer,\" returned the hunter, speaking in the language of which he boasted; \"but I see nothing, nor do I hear the sounds of man or beast; \\\\\\'tis strange that an Indian should understand white sounds better than a man who, his very enemies will own, has no cross in his blood, although he may have lived with the redskins long enough to be suspected! Ha! there goes something like the cracking of a dry stick, too--now I hear the bushes move--yes, yes, there is a trampling that I mistook for the falls--and--but here they come themselves; God keep them from the Iroquois!\"\\'] [/INST] The text describes a situation where Hawkeye, a white man who has lived among the Native Americans for a long time, encounters a group of Native Americans. The Native Americans, who speak in their own language, approach Hawkeye, and he recognizes them as his \"brothers.\" Hawkeye advises them to speak in English so that the King, presumably a white leader, won\\'t be ashamed. Hawkeye is puzzled that he can understand Native American sounds better than the Native Americans can understand white sounds. He hears signs of their approach and warns them of potential danger from their enemies, the Iroquois.</s>']\n"
     ]
    }
   ],
   "source": [
    "print(summary_step_2[6])"
   ],
   "metadata": {
    "collapsed": false,
    "ExecuteTime": {
     "end_time": "2024-05-13T21:08:55.444288Z",
     "start_time": "2024-05-13T21:08:55.440774700Z"
    }
   },
   "id": "447b9e5c79b6289a"
  },
  {
   "cell_type": "code",
   "execution_count": 43,
   "outputs": [
    {
     "name": "stderr",
     "output_type": "stream",
     "text": [
      "The attention mask and the pad token id were not set. As a consequence, you may observe unexpected behavior. Please pass your input's `attention_mask` to obtain reliable results.\n",
      "Setting `pad_token_id` to `eos_token_id`:2 for open-end generation.\n",
      "The attention mask and the pad token id were not set. As a consequence, you may observe unexpected behavior. Please pass your input's `attention_mask` to obtain reliable results.\n",
      "Setting `pad_token_id` to `eos_token_id`:2 for open-end generation.\n",
      "The attention mask and the pad token id were not set. As a consequence, you may observe unexpected behavior. Please pass your input's `attention_mask` to obtain reliable results.\n",
      "Setting `pad_token_id` to `eos_token_id`:2 for open-end generation.\n",
      "The attention mask and the pad token id were not set. As a consequence, you may observe unexpected behavior. Please pass your input's `attention_mask` to obtain reliable results.\n",
      "Setting `pad_token_id` to `eos_token_id`:2 for open-end generation.\n",
      "The attention mask and the pad token id were not set. As a consequence, you may observe unexpected behavior. Please pass your input's `attention_mask` to obtain reliable results.\n",
      "Setting `pad_token_id` to `eos_token_id`:2 for open-end generation.\n",
      "The attention mask and the pad token id were not set. As a consequence, you may observe unexpected behavior. Please pass your input's `attention_mask` to obtain reliable results.\n",
      "Setting `pad_token_id` to `eos_token_id`:2 for open-end generation.\n",
      "The attention mask and the pad token id were not set. As a consequence, you may observe unexpected behavior. Please pass your input's `attention_mask` to obtain reliable results.\n",
      "Setting `pad_token_id` to `eos_token_id`:2 for open-end generation.\n"
     ]
    }
   ],
   "source": [
    "# Résumez chaque segment\n",
    "segment_summaries_2 = summarize_text_segments(summary_step_2)"
   ],
   "metadata": {
    "collapsed": false,
    "ExecuteTime": {
     "end_time": "2024-05-13T21:10:09.791410600Z",
     "start_time": "2024-05-13T21:09:03.450667800Z"
    }
   },
   "id": "d3045e78ba8bd53c"
  },
  {
   "cell_type": "code",
   "execution_count": 44,
   "outputs": [
    {
     "name": "stdout",
     "output_type": "stream",
     "text": [
      "[['<s> [INST] summarize this text : [\\'<s>  [INST] summarize this text : [\\\\\\'\"Before these fields were shorn and tilled, Full to the brim our rivers flowed; The melody of waters filled The fresh and boundless wood; And torrents dashed, and rivulets played, And fountains spouted in the shade.\" BRYANT. Leaving the unsuspecting Heyward and his confiding companions to penetrate still deeper into a forest that contained such treacherous inmates, we must use an author\\\\\\\\\\\\\\'s privilege, and shift the scene a few miles to the westward of the place where we have last seen them. On that day, two men were lingering on the banks of a small but rapid stream, within an hour\\\\\\\\\\\\\\'s journey of the encampment of Webb, like those who awaited the appearance of an absent person, or the approach of some expected event. The vast canopy of woods spread itself to the margin of the river overhanging the water, and shadowing its dark current with a deeper hue. The rays of the sun were beginning to grow less fierce, and the intense heat of the day was lessened, as the cooler vapors of the springs\\\\\\'] [/INST] The text describes a scene where two men are waiting by a rapid stream, nearby Webb\\\\\\'s encampment. The forest around them is described as containing treacherous inmates, and the men are anticipating the arrival of someone or something. The sun is starting to grow less fierce, and the heat of the day is lessening, with the cooler vapors of the springs making the area more pleasant. Prior to this scene, Heyward and his companions were exploring deeper into the forest. The author, Bryant, feels the need to switch the focus to these two men and the scene by the river as a poetic interlude. The passage also mentions how the river once flowed more freely before it was \"shorn and tilled\" for farming.</s> \\', \"<s>  [INST] summarize this text : [\\'and fountains rose above their leafy beds, and rested in the atmosphere. Still that breathing silence, which marks the drowsy sultriness of an American landscape in July, pervaded the secluded spot, interrupted only by the low voices of the men, the occasional and lazy tap of a woodpecker, the discordant cry of some gaudy jay, or a swelling on the ear, from the dull roar of a distant waterfall. These feeble and broken sounds were, however, too familiar to the foresters, to draw their attention from the more interesting matter of their dialogue. While one of these loiterers showed the red skin and wild accoutrements of a native of the woods, the other exhibited, through the mask of his rude and nearly savage equipments, the brighter, though sunburnt and long-faded complexion of one who might claim descent from a European parentage. The former was seated on the end of a mossy log, in a posture that permitted him to heighten the effect of his earnest language, by the calm but expressive gestures\\'] [/INST] The text describes a secluded scene in an American forest in July. Fountains rise from the trees and birds like a woodpecker and a gaudy jay can be heard. Two men are present, one with native American features and the other with European descent. They sit on a mossy log and engage in a deep conversation, with the native man using expressive gestures to emphasize his words. The overall atmosphere is peaceful and sultry, with the sounds of nature occasionally interrupting their dialogue.</s> \", \\'<s>  [INST] summarize this text : [\"of an Indian engaged in debate. His body, which was nearly naked, presented a terrific emblem of death, drawn in intermingled colors of white and black. His closely shaved head, on which no other hair than the well known and chivalrous scalping tuft[5] was preserved, was without ornament of any kind, with the exception of a solitary eagle\\\\\\'s plume, that crossed his crown, and depended over the left shoulder. A tomahawk and scalping-knife, of English manufacture, were in his girdle; while a short military rifle, of that sort with which the policy of the whites armed their savage allies, lay carelessly across his bare and sinewy knee. The expanded chest, full formed limbs, and grave countenance of this warrior, would denote that he had reached the vigor of his days, though no symptoms of decay appeared to have yet weakened his manhood. The frame of the white man, judging by such parts as were not concealed by his clothes, was like that of one who had known hardships and exertion from his\"] [/INST] The text describes an Indian man involved in a debate, with his nearly naked body showcasing a mix of white and black intermingled, symbolizing death. His shaved head had a solitary eagle plume and bore no other adornments, with a tomahawk, scalping-knife, and short military rifle in his girdle. The man\\\\\\'s expanded chest, full-formed limbs, and grave countenance suggested he was in the prime of his life, with no signs of decay, while his frame appeared similar to that of a white man who had experienced hardships and exertion.</s> \\'] [/INST] The text describes an Indian warrior with a terrific emblem of death on his body, which was nearly naked and wore only a solitary eagle plume on his shaved head, weapons like a tomahawk, scalping-knife, and a short military rifle, and his chest, full-formed limbs, and grave countenance suggested he was strong and in the prime of his life. There is no indication of decay.</s>'], ['<s> [INST] summarize this text : [\"<s>  [INST] summarize this text : [\\'earliest youth. His person, though muscular, was rather attenuated than full; but every nerve and muscle appeared strung and indurated by unremitted exposure and toil. He wore a hunting-shirt of forest green, fringed with faded yellow[6], and a summer cap of skins which had been shorn of their fur. He also bore a knife in a girdle of wampum, like that which confined the scanty garments of the Indian, but no tomahawk. His moccasins were ornamented after the gay fashion of the natives, while the only part of his under-dress which appeared below the hunting-frock, was a pair of buckskin leggings, that laced at the sides, and which were gartered above the knees with the sinews of a deer. A pouch and horn completed his personal accoutrements, though a rifle of great length[7], which the theory of the more ingenious whites had taught them was the most dangerous of all fire-arms, leaned against a neighboring sapling. The eye of the hunter, or scout, whichever he might be, was small, quick, keen,\\'] [/INST] The text describes a man from his earliest youth, with a slender but muscular build, wearing a hunting shirt and cap made of forest green and skins, and adorned with Native American ornaments. He wears moccasins with sinew garters above the knees, and carries a pouch, horn, and a long rifle. His eyes are small, quick, and keen. He wears a hunting-shirt of forest green, a summer cap made of skins, a knife in a wampum girdle, ornamented moccasins with buckskin leggings, a pouch and horn, and a long rifle. His appearance suggests that of a hunter or scout, with quick and keen eyes.</s> \", \\'<s>  [INST] summarize this text : [\\\\\\'and restless, roving while he spoke, on every side of him, as if in quest of game, or distrusting the sudden approach of some lurking enemy. Notwithstanding the symptoms of habitual suspicion, his countenance was not only without guile, but at the moment at which he is introduced, it was charged with an expression of sturdy honesty. \"Even your traditions make the case in my favor, Chingachgook,\" he said, speaking in the tongue which was known to all the natives who formerly inhabited the country between the Hudson and the Potomac, and of which we shall give a free translation for the benefit of the reader; endeavoring, at the same time, to preserve some of the peculiarities, both of the individual and of the language. \"Your fathers came from the setting sun, crossed the big river,[8] fought the people of the country, and took the land; and mine came from the red sky of the morning, over the salt lake, and did their work much after the fashion that had been set them by yours; then let God\\\\\\'] [/INST] The text describes a man named Natty Bumppo, also known as Hawkeye, speaking to Chief Chingachgook in a native language. Hawkeye\\\\\\'s demeanor was restless and suspicious, but his face held an honest expression. He referenced the history of their peoples, explaining that both the native tribes and his European ancestors had taken land through conflict. Hawkeye concluded by invoking God\\\\\\'s role in the outcome. The text also mentions that the translation of the conversation will be provided for the reader.</s> \\', \\'<s>  [INST] summarize this text : [\\\\\\'judge the matter between us, and friends spare their words!\" \"My fathers fought with the naked redmen!\" returned the Indian sternly, in the same language. \"Is there no difference, Hawkeye, between the stone-headed arrow of the warrior, and the leaden bullet with which you kill?\" \"There is reason in an Indian, though nature has made him with a red skin!\" said the white man, shaking his head like one on whom such an appeal to his justice was not thrown away. For a moment he appeared to be conscious of having the worst of the argument, then, rallying again, he answered the objection of his antagonist in the best manner his limited information would allow: \"I am no scholar, and I care not who knows it; but judging from what I have seen, at deer chases and squirrel hunts, of the sparks below, I should think a rifle in the hands of their grandfathers was not so dangerous as a hickory bow and a good flint-head might be, if drawn with Indian judgment, and sent by an Indian eye.\" \"You have the\\\\\\'] [/INST] The text is a dialogue between a white man named Hawkeye and an Native American. The Native American expresses his concern over the use of guns by white men, stating that their forefathers fought with nothing but their bare hands and weapons made of natural materials. Hawkeye acknowledges the intelligence of Native Americans and defends his use of guns by comparing them to the bows and arrows used by Native Americans, implying that guns are more effective in terms of range and stopping power. Despite admitting that he is no scholar, Hawkeye asserts that based on his observations of Native American hunting techniques, guns are safer and more effective than traditional weapons. The Native American does not seem convinced by Hawkeye\\\\\\'s argument and the exchange ends without a resolution.</s> \\'] [/INST] In this text, Hawkeye engages in a conversation with a Native American named \"Chingachgook\" (or the Indian) about the use of firearms. The Indian expressed his concern that whites\\' use of guns had changed the nature of warfare, as it was more dangerous than their traditional weapons. Hawkeye acknowledged the Native American\\'s intelligence and defended his use of guns by stating that, based on his observations of deer hunts and squirrel hunts, rifles were more effective than traditional weapons. While he admitted to being unscholarly, Hawkeye argued that rifles were safer and more powerful. The Native American, however, remained unconvinced. Overall, the text highlights the differences in perspectives and experiences between white settlers and Native Americans.</s>'], ['<s> [INST] summarize this text : [\\'<s>  [INST] summarize this text : [\\\\\\'story told by your fathers,\" returned the other, coldly waving his hand. \"What say your old men? do they tell the young warriors, that the pale-faces met the redmen, painted for war and armed with the stone hatchet and wooden gun?\" \"I am not a prejudiced man, nor one who vaunts himself on his natural privileges, though the worst enemy I have on earth, and he is an Iroquois, daren\\\\\\\\\\\\\\'t deny that I am genuine white,\" the scout replied, surveying, with secret satisfaction, the faded color of his bony and sinewy hand; \"and I am willing to own that my people have many ways, of which, as an honest man, I can\\\\\\\\\\\\\\'t approve. It is one of their customs to write in books what they have done and seen, instead of telling them in their villages, where the lie can be given to the face of a cowardly boaster, and the brave soldier can call on his comrades to witness for the truth of his words. In consequence of this bad fashion, a man who is too conscientious to misspend his days among the women, in learning\\\\\\'] [/INST] The text is a conversation between two men, with the first man dismissing a story as an old tale told by ancestors. The second man defends his people, acknowledging their shortcomings but also praising their honesty, as they have a custom of recording their deeds in books instead of boasting in person. The second man himself is a conscientious white man who finds value in this tradition despite some disapproval of other customs.</s> \\', \\'<s>  [INST] summarize this text : [\\\\\\'the names of black marks, may never hear of the deeds of his fathers, nor feel a pride in striving to outdo them. For myself, I conclude the Bumppos could shoot, for I have a natural turn with a rifle, which must have been handed down from generation to generation, as, our holy commandments tell us, all good and evil gifts are bestowed; though I should be loth to answer for other people in such a matter. But every story has its two sides; so I ask you, Chingachgook, what passed, according to the traditions of the redmen, when our fathers first met?\" A silence of a minute succeeded, during which the Indian sat mute; then, full of the dignity of his office, he commenced his brief tale, with a solemnity that served to heighten its appearance of truth. \"Listen, Hawkeye, and your ear shall drink no lie. \\\\\\\\\\\\\\'Tis what my fathers have said, and what the Mohicans have done.\" He hesitated a single instant, and bending a cautious glance toward his companion, he continued, in a manner that was divided\\\\\\'] [/INST] The text is a conversation between Natty Bumppo, also known as Hawkeye, and Chingachgook, an Native American. Hawkeye expresses his pride in his shooting skills, believing it to be a inherited talent from his ancestors. He then asks Chingachgook about the first encounter between their peoples. After a moment of silence, Chingachgook begins to recount the traditional Native American version of the encounter with solemnity and dignity.</s> \\', \\'<s>  [INST] summarize this text : [\\\\\\'between interrogation and assertion, \"Does not this stream at our feet run towards the summer, until its waters grow salt, and the current flows upward?\" \"It can\\\\\\\\\\\\\\'t be denied that your traditions tell you true in both these matters,\" said the white man; \"for I have been there, and have seen them; though, why water, which is so sweet in the shade, should become bitter in the sun, is an alteration for which I have never been able to account.\" \"And the current!\" demanded the Indian, who expected his reply with that sort of interest that a man feels in the confirmation of testimony, at which he marvels even while he respects it; \"the fathers of Chingachgook have not lied!\" \"The Holy Bible is not more true, and that is the truest thing in nature. They call this up-stream current the tide, which is a thing soon explained, and clear enough. Six hours the waters run in, and six hours they run out, and the reason is this: when there is higher water in the sea than in the river, they run in, until\\\\\\'] [/INST] The text is a conversation between a white man and an Indian, discussing the direction of a stream and the concept of tidal waters. The white man wonders why a sweet-tasting stream turns salty and seems to flow upward during summer. The Indian, whose traditions state that the water\\\\\\'s source is in the summer, confirms that this is true according to their beliefs. The white man, who has seen this phenomenon firsthand, can\\\\\\'t explain the reason for it. The Indian then asks about the upstream current, noting that it is described in their traditions as the \"tide,\" and the white man explains that this is the way tidal waters work – six hours coming in and six hours going out due to differences in water levels between the sea and the river.</s> \\'] [/INST] In the text, a white man and an Indian engage in a conversation about the natural phenomena of a salty stream and an upstream current. The white man expresses his confusion about why the sweet-tasting stream turns salty during summer and seems to flow upward, while the Indian confirms that, according to their traditions, the water comes from the summer. The white man explains the occurrence as a tidal phenomenon, where seawater flows into the river for six hours and recedes for another six hours due to differences in water levels between the sea and the river. The Indian confirms that their traditions also tell of this \"tide\" and holds it as true.</s>'], ['<s> [INST] summarize this text : [\\'<s>  [INST] summarize this text : [\\\\\\'the river gets to be highest, and then it runs out again.\" \"The waters in the woods, and on the great lakes, run downward until they lie like my hand,\" said the Indian, stretching the limb horizontally before him, \"and then they run no more.\" \"No honest man will deny it,\" said the scout, a little nettled at the implied distrust of his explanation of the mystery of the tides; \"and I grant that it is true on the small scale, and where the land is level. But everything depends on what scale you look at things. Now, on the small scale, the \\\\\\\\\\\\\\'arth is level; but on the large scale it is round. In this manner, pools and ponds, and even the great fresh-water lake, may be stagnant, as you and I both know they are, having seen them; but when you come to spread water over a great tract, like the sea, where the earth is round, how in reason can the water be quiet? You might as well expect the river to lie still on the brink of those black rocks a mile above us, though your own ears tell you that it\\\\\\'] [/INST] An Indian described the river\\\\\\'s change between being full and running out, comparing it to the way water in woods and lakes eventually comes to rest. A scout agreed but pointed out that while water may appear stagnant on a small scale, the Earth is round on a larger scale, causing water to move and be in constant motion, as evidenced by the river\\\\\\'s flow.</s> \\', \\'<s>  [INST] summarize this text : [\\\\\\'is tumbling over them at this very moment!\" If unsatisfied by the philosophy of his companion, the Indian was far too dignified to betray his unbelief. He listened like one who was convinced, and resumed his narrative in his former solemn manner. \"We came from the place where the sun is hid at night, over great plains where the buffaloes live, until we reached the big river. There we fought the Alligewi, till the ground was red with their blood. From the banks of the big river to the shores of the salt lake, there was none to meet us. The Maquas followed at a distance. We said the country should be ours from the place where the water runs up no longer on this stream, to a river twenty suns\\\\\\\\\\\\\\' journey toward the summer. The land we had taken like warriors, we kept like men. We drove the Maquas into the woods with the bears. They only tasted salt at the licks; they drew no fish from the great lake; we threw them the bones.\" \"All this I have heard and believe,\" said the white man, observing\\\\\\'] [/INST] The text describes a conversation between a white man and an Indian, with the Indian recounting their past victories and conquests. They had traveled from a hidden sun place over buffalo plains to reach a big river, where they fought the Alligewi until the ground was covered in their blood. They then claimed the land from the end of the river to a river twenty suns\\\\\\' journeys towards the summer as their own. They drove the Maquas, who only tasted salt from the licks and drew no fish from the lake, into the woods. The white man listened and believed in the Indian\\\\\\'s story.</s> \\', \\'<s>  [INST] summarize this text : [\\\\\\'that the Indian paused: \"but it was long before the English came into the country.\" \"A pine grew then where this chestnut now stands. The first pale-faces who came among us spoke no English. They came in a large canoe, when my fathers had buried the tomahawk with the redmen around them. Then, Hawkeye,\" he continued, betraying his deep emotion only by permitting his voice to fall to those low, guttural tones, which rendered his language, as spoken at times, so very musical; \"then, Hawkeye, we were one people, and we were happy. The salt lake gave us its fish, the wood its deer, and the air its birds. We took wives who bore us children; we worshipped the Great Spirit; and we kept the Maquas beyond the sound of our songs of triumph!\" \"Know you anything of your own family at that time?\" demanded the white. \"But you are a just man, for an Indian! and, as I suppose you hold their gifts, your fathers must have been brave warriors, and wise men at the council fire.\" \"My tribe is the grandfather\\\\\\'] [/INST] The text describes a conversation between an unnamed Indian and an Englishman, with the Indian sharing memories of a time before the English arrived in the country. He recalls that a pine tree once stood where a chestnut now stands, and the first European settlers who arrived spoke no English. The Indians and Europeans lived harmoniously, with the land providing fish, deer, and birds for food. The Indians took wives and had children, worshipped the Great Spirit, and kept other tribes at bay. The Indian does not know if any of his family were alive during that time but acknowledges that their fathers must have been brave warriors and wise leaders. The Indian\\\\\\'s tribe is called his grandfather\\\\\\'s tribe, and he is recognized as a just man by the Englishman.</s> \\'] [/INST] An Indian reminisced about a time before the English arrived in the country when they lived in harmony with nature, the land provided them with food and resources, and they had peaceful relationships with other tribes. The Indian didn\\'t remember any specific details about his family during that time but acknowledged his ancestors as brave and wise leaders. The Europeans arrived later and spoke no English. The Indian viewed them as just men and respected their bravery.</s>'], ['<s> [INST] summarize this text : [\\'<s>  [INST] summarize this text : [\\\\\\'of nations, but I am an unmixed man. The blood of chiefs is in my veins, where it must stay forever. The Dutch landed, and gave my people the fire-water; they drank until the heavens and the earth seemed to meet, and they foolishly thought they had found the Great Spirit. Then they parted with their land. Foot by foot, they were driven back from the shores, until I, that am a chief and a sagamore, have never seen the sun shine but through the trees, and have never visited the graves of, my fathers!\" \"Graves bring solemn feelings over the mind,\" returned the scout, a good deal touched at the calm suffering of his companion; \"and they often aid a man in his good intentions; though, for myself, I expect to leave my own bones unburied, to bleach in the woods, or to be torn asunder by the wolves. But where are to be found those of your race who came to their kin in the Delaware country, so many summers since?\" \"Where are the blossoms of those summers!--fallen, one by one: so all of my family\\\\\\'] [/INST]The text is a conversation between a Native American chief and a scout. The chief expresses his sadness over the loss of his land to the Dutch settlers, who gave his people alcohol. He considers himself an \"unmixed man\" with chief\\\\\\'s blood in his veins. The chief laments the fact that he has never seen the sun without the trees, as he has never visited his father\\\\\\'s graves. The scout expresses his own intention to not be buried and instead have his bones bleach in the woods or be torn apart by wolves. The chief then asks the scout about the whereabouts of the Native Americans who came to their kin in the Delaware country many summers ago. The chief then mourns the loss of those summer\\\\\\'s blossoms, meaning that all of his family is gone.</s> \\', \\'<s>  [INST] summarize this text : [\\\\\\'departed, each in his turn, to the land of spirits. I am on the hill-top, and must go down into the valley; and when Uncas follows in my footsteps, there will no longer be any of the blood of the sagamores, for my boy is the last of the Mohicans.\" \"Uncas is here!\" said another voice, in the same soft, guttural tones, near his elbow; \"who speaks to Uncas?\" The white man loosened his knife in his leathern sheath, and made an involuntary movement of the hand towards his rifle, at this sudden interruption; but the Indian sat composed, and without turning his head at the unexpected sounds. At the next instant, a youthful warrior passed between them, with a noiseless step, and seated himself on the bank of the rapid stream. No exclamation of surprise escaped the father, nor was any question asked, or reply given, for several minutes; each appearing to await the moment when he might speak, without betraying womanish curiosity or childish impatience. The white man seemed to take counsel from their\\\\\\'] [/INST] The text describes a white man, believed to be the last Mohican, on a hilltop lamenting that all members of the Mohican tribe, including himself and his son Uncas, will soon be deceased. Uncas appears, and they remain quiet and composed, each awaiting the right moment to speak without showing curiosity or impatience. The white man seems to be contemplating their situation. An earlier voice had suggested that Uncas was there and asked who spoke to him, but there is no further mention of this voice or person.</s> \\', \\'<s>  [INST] summarize this text : [\\\\\\'customs, and, relinquishing his grasp of the rifle, he also remained silent and reserved. At length Chingachgook turned his eyes slowly towards his son, and demanded,-- \"Do the Maquas dare to leave the print of their moccasins in these woods?\" \"I have been on their trail,\" replied the young Indian, \"and know that they number as many as the fingers of my two hands; but they lie hid, like cowards.\" \"The thieves are outlying for scalps and plunder!\" said the white man, whom we shall call Hawkeye, after the manner of his companions. \"That bushy Frenchman, Montcalm, will send his spies into our very camp, but he will know what road we travel!\" \"Tis enough!\" returned the father, glancing his eye towards the setting sun; \"they shall be driven like deer from their bushes. Hawkeye, let us eat to-night, and show the Maquas that we are men to-morrow.\" \"I am as ready to do the one as the other; but to fight the Iroquois \\\\\\\\\\\\\\'tis necessary to find the skulkers; and to eat, \\\\\\\\\\\\\\'tis necessary to get the game--talk\\\\\\'] [/INST] The text describes a conversation between Native American father Chingachgook, his son, and a white man named Hawkeye. The Native Americans are discussing the presence of their Iroquois (Maquas) enemies in the woods. The son has been tracking the Maquas and reports that they are hiding and number around ten. Hawkeye agrees that the Maquas are lying in wait and warns that their French commander, Montcalm, will send spies to their camp. Chingachgook decides to confront the Maquas that night and assures that they will be driven out of their hiding places. The group then plans to eat and rest before the upcoming battle.</s> \\'] [/INST] The text is about a conversation between Native American father Chingachgook, his son, and a white man named Hawkeye. They are discussing their plans to deal with their Iroquois (Maquas) enemies. The son reports that the Maquas are hiding and number around ten. Hawkeye warns that the Maquas have a French commander, Montcalm, who will send spies to their camp. Chingachgook plans to confront the Maquas that night and assures that they will be driven out of their hiding places. They make plans to eat and rest before the upcoming battle. Hawkeye points out that finding the Maquas and getting food are necessary for both fighting and survival.</s>'], ['<s> [INST] summarize this text : [\\'<s>  [INST] summarize this text : [\\\\\\'of the devil and he will come; there is a pair of the biggest antlers I have seen this season, moving the bushes below the hill! Now, Uncas,\" he continued in a half whisper, and laughing with a kind of inward sound, like one who had learnt to be watchful, \"I will bet my charger three times full of powder, against a foot of wampum, that I take him atwixt the eyes, and nearer to the right than to the left.\" \"It cannot be!\" said the young Indian, springing to his feet with youthful eagerness; \"all but the tips of his horns are hid!\" \"He\\\\\\\\\\\\\\'s a boy!\" said the white man, shaking his head while he spoke, and addressing the father. \"Does he think when a hunter sees a part of the creatur\\\\\\\\\\\\\\', he can\\\\\\\\\\\\\\'t tell where the rest of him should be!\" [Illustration: _Copyright by Charles Scribner\\\\\\\\\\\\\\'s Sons_ UNCAS SLAYS A DEER _Avoiding the horns of the infuriated animal, Uncas darted to his side, and passed his knife across the throat_] Adjusting his rifle, he was about to make an exhibition of that skill, on which\\\\\\'] [/INST] The text describes a scene where a white man and an Indian named Uncas are hunting. The white man has spotted a deer with large antlers and makes a bet with Uncas that he can shoot it between the eyes, closer to the right side. Uncas is skeptical because only the tips of the deer\\\\\\'s antlers are visible. The white man then mockingly suggests that Uncas is inexperienced for not being able to determine the deer\\\\\\'s full location based on the visible part. Uncas then swiftly approaches the deer and successfully slaughters it, avoiding its horns. The text ends with the white man preparing to show off his shooting skills.</s> \\', \\'<s>  [INST] summarize this text : [\\\\\\'he so much valued himself, when the warrior struck up the piece with his hand, saying-- \"Hawkeye! will you fight the Maquas?\" \"These Indians know the nature of the woods, as it might be by instinct!\" returned the scout, dropping his rifle, and turning away like a man who was convinced of his error. \"I must leave the buck to your arrow, Uncas, or we may kill a deer for them thieves, the Iroquois, to eat.\" The instant the father seconded this intimation by an expressive gesture of the hand, Uncas threw himself on the ground, and approached the animal with wary movements. When within a few yards of the cover, he fitted an arrow to his bow with the utmost care, while the antlers moved, as if their owner snuffed an enemy in the tainted air. In another moment the twang of the cord was heard, a white streak was seen glancing into the bushes, and the wounded buck plunged from the cover, to the very feet of his hidden enemy. Avoiding the horns of the infuriated animal, Uncas darted to his side,\\\\\\'] [/INST] The text describes a scene where Hawkeye, also known as the scout, values his own skills and decides not to fight the Maquas (Iroquois) Indians, despite the warrior calling him out. Uncas, Hawkeye\\\\\\'s adopted Native American son, takes his place and successfully wounds a deer with his arrow, preventing the Iroquois from eating it. Uncas cautiously approaches the deer, carefully fitting an arrow to his bow and avoiding the animal\\\\\\'s horns once it\\\\\\'s wounded.</s> \\', \\'<s>  [INST] summarize this text : [\\\\\\'and passed his knife across the throat, when bounding to the edge of the river it fell, dyeing the waters with its blood. \"\\\\\\\\\\\\\\'Twas done with Indian skill,\" said the scout, laughing inwardly, but with vast satisfaction; \"and \\\\\\\\\\\\\\'twas a pretty sight to behold! Though an arrow is a near shot, and needs a knife to finish the work.\" \"Hugh!\" ejaculated his companion, turning quickly, like a hound who scented game. \"By the Lord, there is a drove of them!\" exclaimed the scout, whose eyes began to glisten with the ardor of his usual occupation; \"if they come within range of a bullet I will drop one, though the whole Six Nations should be lurking within sound! What do you hear, Chingachgook? for to my ears the woods are dumb.\" \"There is but one deer, and he is dead,\" said the Indian, bending his body till his ear nearly touched the earth. \"I hear the sounds of feet!\" \"Perhaps the wolves have driven the buck to shelter, and are following on his trail.\" \"No. The horses of white men are coming!\" returned\\\\\\'] [/INST] The text describes a scene where a native American scout named Hugh kills an enemy with his knife by the river, resulting in the water turning red with his blood.His companion, surprised, hears the sounds of approaching horses and realizes that white men are near. The Indian, Chingachgook, identifies the sound and confirms that it is indeed horses belonging to white men.</s> \\'] [/INST] The text summarizes a moment during a hunting trip where a native American scout, named Hugh, kills a deer and finishes it off with his knife. Suddenly, they hear the sounds of approaching horses and realize white men are near. Chingachgook, the Indian companion, confirms this identification.</s>'], ['<s> [INST] summarize this text : [\\'<s>  [INST] summarize this text : [\\\\\\'the other, raising himself with dignity, and resuming his seat on the log with his former composure. \"Hawkeye, they are your brothers; speak to them.\" \"That will I, and in English that the king needn\\\\\\\\\\\\\\'t be ashamed to answer,\" returned the hunter, speaking in the language of which he boasted; \"but I see nothing, nor do I hear the sounds of man or beast; \\\\\\\\\\\\\\'tis strange that an Indian should understand white sounds better than a man who, his very enemies will own, has no cross in his blood, although he may have lived with the redskins long enough to be suspected! Ha! there goes something like the cracking of a dry stick, too--now I hear the bushes move--yes, yes, there is a trampling that I mistook for the falls--and--but here they come themselves; God keep them from the Iroquois!\"\\\\\\'] [/INST] The text describes a situation where Hawkeye, a white man who has lived among the Native Americans for a long time, encounters a group of Native Americans. The Native Americans, who speak in their own language, approach Hawkeye, and he recognizes them as his \"brothers.\" Hawkeye advises them to speak in English so that the King, presumably a white leader, won\\\\\\'t be ashamed. Hawkeye is puzzled that he can understand Native American sounds better than the Native Americans can understand white sounds. He hears signs of their approach and warns them of potential danger from their enemies, the Iroquois.</s> \\'] [/INST] This text is about Hawkeye, a white man who has lived among the Native Americans, interacting with a group of Native Americans. Hawkeye recognizes them as his brothers and advises them to speak in English to the white leader. He finds it strange that he can understand Native American sounds better than they can understand white sounds and hearing them approach, warns them of possible danger from their enemies, the Iroquois.</s>']]\n"
     ]
    }
   ],
   "source": [
    "print(segment_summaries_2)"
   ],
   "metadata": {
    "collapsed": false,
    "ExecuteTime": {
     "end_time": "2024-05-13T21:11:45.299776Z",
     "start_time": "2024-05-13T21:11:45.288467300Z"
    }
   },
   "id": "be8883ed9bcdc0fa"
  },
  {
   "cell_type": "markdown",
   "source": [
    "#### notre résumé est toujours trop long par rapport à nos max tokens du débuts, réduisons encore"
   ],
   "metadata": {
    "collapsed": false
   },
   "id": "3cc471c6053fbf51"
  },
  {
   "cell_type": "code",
   "execution_count": 45,
   "outputs": [],
   "source": [
    "# Résumez chaque segment\n",
    "summaries_step_3 = group_summaries(segment_summaries_2)"
   ],
   "metadata": {
    "collapsed": false,
    "ExecuteTime": {
     "end_time": "2024-05-13T21:12:20.345873200Z",
     "start_time": "2024-05-13T21:12:20.341364500Z"
    }
   },
   "id": "8a83a99dca0f9624"
  },
  {
   "cell_type": "code",
   "execution_count": 46,
   "outputs": [
    {
     "name": "stdout",
     "output_type": "stream",
     "text": [
      "['<s> [INST] summarize this text : [\\'<s>  [INST] summarize this text : [\\\\\\'the other, raising himself with dignity, and resuming his seat on the log with his former composure. \"Hawkeye, they are your brothers; speak to them.\" \"That will I, and in English that the king needn\\\\\\\\\\\\\\'t be ashamed to answer,\" returned the hunter, speaking in the language of which he boasted; \"but I see nothing, nor do I hear the sounds of man or beast; \\\\\\\\\\\\\\'tis strange that an Indian should understand white sounds better than a man who, his very enemies will own, has no cross in his blood, although he may have lived with the redskins long enough to be suspected! Ha! there goes something like the cracking of a dry stick, too--now I hear the bushes move--yes, yes, there is a trampling that I mistook for the falls--and--but here they come themselves; God keep them from the Iroquois!\"\\\\\\'] [/INST] The text describes a situation where Hawkeye, a white man who has lived among the Native Americans for a long time, encounters a group of Native Americans. The Native Americans, who speak in their own language, approach Hawkeye, and he recognizes them as his \"brothers.\" Hawkeye advises them to speak in English so that the King, presumably a white leader, won\\\\\\'t be ashamed. Hawkeye is puzzled that he can understand Native American sounds better than the Native Americans can understand white sounds. He hears signs of their approach and warns them of potential danger from their enemies, the Iroquois.</s> \\'] [/INST] This text is about Hawkeye, a white man who has lived among the Native Americans, interacting with a group of Native Americans. Hawkeye recognizes them as his brothers and advises them to speak in English to the white leader. He finds it strange that he can understand Native American sounds better than they can understand white sounds and hearing them approach, warns them of possible danger from their enemies, the Iroquois.</s>']\n"
     ]
    }
   ],
   "source": [
    "print(summaries_step_3[2])"
   ],
   "metadata": {
    "collapsed": false,
    "ExecuteTime": {
     "end_time": "2024-05-13T21:12:20.922636300Z",
     "start_time": "2024-05-13T21:12:20.909097900Z"
    }
   },
   "id": "438b46c43b2f78e8"
  },
  {
   "cell_type": "code",
   "execution_count": 47,
   "outputs": [
    {
     "name": "stderr",
     "output_type": "stream",
     "text": [
      "The attention mask and the pad token id were not set. As a consequence, you may observe unexpected behavior. Please pass your input's `attention_mask` to obtain reliable results.\n",
      "Setting `pad_token_id` to `eos_token_id`:2 for open-end generation.\n",
      "The attention mask and the pad token id were not set. As a consequence, you may observe unexpected behavior. Please pass your input's `attention_mask` to obtain reliable results.\n",
      "Setting `pad_token_id` to `eos_token_id`:2 for open-end generation.\n",
      "The attention mask and the pad token id were not set. As a consequence, you may observe unexpected behavior. Please pass your input's `attention_mask` to obtain reliable results.\n",
      "Setting `pad_token_id` to `eos_token_id`:2 for open-end generation.\n"
     ]
    }
   ],
   "source": [
    "# Résumez chaque segment\n",
    "segment_summaries_3 = summarize_text_segments(summaries_step_3)"
   ],
   "metadata": {
    "collapsed": false,
    "ExecuteTime": {
     "end_time": "2024-05-13T21:12:55.716766500Z",
     "start_time": "2024-05-13T21:12:22.319436900Z"
    }
   },
   "id": "c7233266d5e179a8"
  },
  {
   "cell_type": "code",
   "execution_count": 48,
   "outputs": [
    {
     "name": "stderr",
     "output_type": "stream",
     "text": [
      "The attention mask and the pad token id were not set. As a consequence, you may observe unexpected behavior. Please pass your input's `attention_mask` to obtain reliable results.\n",
      "Setting `pad_token_id` to `eos_token_id`:2 for open-end generation.\n"
     ]
    },
    {
     "name": "stdout",
     "output_type": "stream",
     "text": [
      "<s> [INST] summarize this text : ['<s>  [INST] summarize this text : [\\'<s>   [INST] summarize this text : [\\\\\\'<s>    [INST] summarize this text : [\\\\\\\\\\\\\\'\"Before these fields were shorn and tilled, Full to the brim our rivers flowed; The melody of waters filled The fresh and boundless wood; And torrents dashed, and rivulets played, And fountains spouted in the shade.\" BRYANT. Leaving the unsuspecting Heyward and his confiding companions to penetrate still deeper into a forest that contained such treacherous inmates, we must use an author\\\\\\\\\\\\\\\\\\\\\\\\\\\\\\'s privilege, and shift the scene a few miles to the westward of the place where we have last seen them. On that day, two men were lingering on the banks of a small but rapid stream, within an hour\\\\\\\\\\\\\\\\\\\\\\\\\\\\\\'s journey of the encampment of Webb, like those who awaited the appearance of an absent person, or the approach of some expected event. The vast canopy of woods spread itself to the margin of the river overhanging the water, and shadowing its dark current with a deeper hue. The rays of the sun were beginning to grow less fierce, and the intense heat of the day was lessened, as the cooler vapors of the springs\\\\\\\\\\\\\\'] [/INST] The text describes a scene where two men are waiting by a rapid stream, nearby Webb\\\\\\\\\\\\\\'s encampment. The forest around them is described as containing treacherous inmates, and the men are anticipating the arrival of someone or something. The sun is starting to grow less fierce, and the heat of the day is lessening, with the cooler vapors of the springs making the area more pleasant. Prior to this scene, Heyward and his companions were exploring deeper into the forest. The author, Bryant, feels the need to switch the focus to these two men and the scene by the river as a poetic interlude. The passage also mentions how the river once flowed more freely before it was \"shorn and tilled\" for farming.</s>   \\\\\\', \"<s>    [INST] summarize this text : [\\\\\\'and fountains rose above their leafy beds, and rested in the atmosphere. Still that breathing silence, which marks the drowsy sultriness of an American landscape in July, pervaded the secluded spot, interrupted only by the low voices of the men, the occasional and lazy tap of a woodpecker, the discordant cry of some gaudy jay, or a swelling on the ear, from the dull roar of a distant waterfall. These feeble and broken sounds were, however, too familiar to the foresters, to draw their attention from the more interesting matter of their dialogue. While one of these loiterers showed the red skin and wild accoutrements of a native of the woods, the other exhibited, through the mask of his rude and nearly savage equipments, the brighter, though sunburnt and long-faded complexion of one who might claim descent from a European parentage. The former was seated on the end of a mossy log, in a posture that permitted him to heighten the effect of his earnest language, by the calm but expressive gestures\\\\\\'] [/INST] The text describes a secluded scene in an American forest in July. Fountains rise from the trees and birds like a woodpecker and a gaudy jay can be heard. Two men are present, one with native American features and the other with European descent. They sit on a mossy log and engage in a deep conversation, with the native man using expressive gestures to emphasize his words. The overall atmosphere is peaceful and sultry, with the sounds of nature occasionally interrupting their dialogue.</s>   \", \\\\\\'<s>    [INST] summarize this text : [\"of an Indian engaged in debate. His body, which was nearly naked, presented a terrific emblem of death, drawn in intermingled colors of white and black. His closely shaved head, on which no other hair than the well known and chivalrous scalping tuft[5] was preserved, was without ornament of any kind, with the exception of a solitary eagle\\\\\\\\\\\\\\'s plume, that crossed his crown, and depended over the left shoulder. A tomahawk and scalping-knife, of English manufacture, were in his girdle; while a short military rifle, of that sort with which the policy of the whites armed their savage allies, lay carelessly across his bare and sinewy knee. The expanded chest, full formed limbs, and grave countenance of this warrior, would denote that he had reached the vigor of his days, though no symptoms of decay appeared to have yet weakened his manhood. The frame of the white man, judging by such parts as were not concealed by his clothes, was like that of one who had known hardships and exertion from his\"] [/INST] The text describes an Indian man involved in a debate, with his nearly naked body showcasing a mix of white and black intermingled, symbolizing death. His shaved head had a solitary eagle plume and bore no other adornments, with a tomahawk, scalping-knife, and short military rifle in his girdle. The man\\\\\\\\\\\\\\'s expanded chest, full-formed limbs, and grave countenance suggested he was in the prime of his life, with no signs of decay, while his frame appeared similar to that of a white man who had experienced hardships and exertion.</s>   \\\\\\'] [/INST] The text describes an Indian warrior with a terrific emblem of death on his body, which was nearly naked and wore only a solitary eagle plume on his shaved head, weapons like a tomahawk, scalping-knife, and a short military rifle, and his chest, full-formed limbs, and grave countenance suggested he was strong and in the prime of his life. There is no indication of decay.</s>  \\', \\'<s>   [INST] summarize this text : [\"<s>    [INST] summarize this text : [\\\\\\'earliest youth. His person, though muscular, was rather attenuated than full; but every nerve and muscle appeared strung and indurated by unremitted exposure and toil. He wore a hunting-shirt of forest green, fringed with faded yellow[6], and a summer cap of skins which had been shorn of their fur. He also bore a knife in a girdle of wampum, like that which confined the scanty garments of the Indian, but no tomahawk. His moccasins were ornamented after the gay fashion of the natives, while the only part of his under-dress which appeared below the hunting-frock, was a pair of buckskin leggings, that laced at the sides, and which were gartered above the knees with the sinews of a deer. A pouch and horn completed his personal accoutrements, though a rifle of great length[7], which the theory of the more ingenious whites had taught them was the most dangerous of all fire-arms, leaned against a neighboring sapling. The eye of the hunter, or scout, whichever he might be, was small, quick, keen,\\\\\\'] [/INST] The text describes a man from his earliest youth, with a slender but muscular build, wearing a hunting shirt and cap made of forest green and skins, and adorned with Native American ornaments. He wears moccasins with sinew garters above the knees, and carries a pouch, horn, and a long rifle. His eyes are small, quick, and keen. He wears a hunting-shirt of forest green, a summer cap made of skins, a knife in a wampum girdle, ornamented moccasins with buckskin leggings, a pouch and horn, and a long rifle. His appearance suggests that of a hunter or scout, with quick and keen eyes.</s>   \", \\\\\\'<s>    [INST] summarize this text : [\\\\\\\\\\\\\\'and restless, roving while he spoke, on every side of him, as if in quest of game, or distrusting the sudden approach of some lurking enemy. Notwithstanding the symptoms of habitual suspicion, his countenance was not only without guile, but at the moment at which he is introduced, it was charged with an expression of sturdy honesty. \"Even your traditions make the case in my favor, Chingachgook,\" he said, speaking in the tongue which was known to all the natives who formerly inhabited the country between the Hudson and the Potomac, and of which we shall give a free translation for the benefit of the reader; endeavoring, at the same time, to preserve some of the peculiarities, both of the individual and of the language. \"Your fathers came from the setting sun, crossed the big river,[8] fought the people of the country, and took the land; and mine came from the red sky of the morning, over the salt lake, and did their work much after the fashion that had been set them by yours; then let God\\\\\\\\\\\\\\'] [/INST] The text describes a man named Natty Bumppo, also known as Hawkeye, speaking to Chief Chingachgook in a native language. Hawkeye\\\\\\\\\\\\\\'s demeanor was restless and suspicious, but his face held an honest expression. He referenced the history of their peoples, explaining that both the native tribes and his European ancestors had taken land through conflict. Hawkeye concluded by invoking God\\\\\\\\\\\\\\'s role in the outcome. The text also mentions that the translation of the conversation will be provided for the reader.</s>   \\\\\\', \\\\\\'<s>    [INST] summarize this text : [\\\\\\\\\\\\\\'judge the matter between us, and friends spare their words!\" \"My fathers fought with the naked redmen!\" returned the Indian sternly, in the same language. \"Is there no difference, Hawkeye, between the stone-headed arrow of the warrior, and the leaden bullet with which you kill?\" \"There is reason in an Indian, though nature has made him with a red skin!\" said the white man, shaking his head like one on whom such an appeal to his justice was not thrown away. For a moment he appeared to be conscious of having the worst of the argument, then, rallying again, he answered the objection of his antagonist in the best manner his limited information would allow: \"I am no scholar, and I care not who knows it; but judging from what I have seen, at deer chases and squirrel hunts, of the sparks below, I should think a rifle in the hands of their grandfathers was not so dangerous as a hickory bow and a good flint-head might be, if drawn with Indian judgment, and sent by an Indian eye.\" \"You have the\\\\\\\\\\\\\\'] [/INST] The text is a dialogue between a white man named Hawkeye and an Native American. The Native American expresses his concern over the use of guns by white men, stating that their forefathers fought with nothing but their bare hands and weapons made of natural materials. Hawkeye acknowledges the intelligence of Native Americans and defends his use of guns by comparing them to the bows and arrows used by Native Americans, implying that guns are more effective in terms of range and stopping power. Despite admitting that he is no scholar, Hawkeye asserts that based on his observations of Native American hunting techniques, guns are safer and more effective than traditional weapons. The Native American does not seem convinced by Hawkeye\\\\\\\\\\\\\\'s argument and the exchange ends without a resolution.</s>   \\\\\\'] [/INST] In this text, Hawkeye engages in a conversation with a Native American named \"Chingachgook\" (or the Indian) about the use of firearms. The Indian expressed his concern that whites\\\\\\' use of guns had changed the nature of warfare, as it was more dangerous than their traditional weapons. Hawkeye acknowledged the Native American\\\\\\'s intelligence and defended his use of guns by stating that, based on his observations of deer hunts and squirrel hunts, rifles were more effective than traditional weapons. While he admitted to being unscholarly, Hawkeye argued that rifles were safer and more powerful. The Native American, however, remained unconvinced. Overall, the text highlights the differences in perspectives and experiences between white settlers and Native Americans.</s>  \\', \\'<s>   [INST] summarize this text : [\\\\\\'<s>    [INST] summarize this text : [\\\\\\\\\\\\\\'story told by your fathers,\" returned the other, coldly waving his hand. \"What say your old men? do they tell the young warriors, that the pale-faces met the redmen, painted for war and armed with the stone hatchet and wooden gun?\" \"I am not a prejudiced man, nor one who vaunts himself on his natural privileges, though the worst enemy I have on earth, and he is an Iroquois, daren\\\\\\\\\\\\\\\\\\\\\\\\\\\\\\'t deny that I am genuine white,\" the scout replied, surveying, with secret satisfaction, the faded color of his bony and sinewy hand; \"and I am willing to own that my people have many ways, of which, as an honest man, I can\\\\\\\\\\\\\\\\\\\\\\\\\\\\\\'t approve. It is one of their customs to write in books what they have done and seen, instead of telling them in their villages, where the lie can be given to the face of a cowardly boaster, and the brave soldier can call on his comrades to witness for the truth of his words. In consequence of this bad fashion, a man who is too conscientious to misspend his days among the women, in learning\\\\\\\\\\\\\\'] [/INST] The text is a conversation between two men, with the first man dismissing a story as an old tale told by ancestors. The second man defends his people, acknowledging their shortcomings but also praising their honesty, as they have a custom of recording their deeds in books instead of boasting in person. The second man himself is a conscientious white man who finds value in this tradition despite some disapproval of other customs.</s>   \\\\\\', \\\\\\'<s>    [INST] summarize this text : [\\\\\\\\\\\\\\'the names of black marks, may never hear of the deeds of his fathers, nor feel a pride in striving to outdo them. For myself, I conclude the Bumppos could shoot, for I have a natural turn with a rifle, which must have been handed down from generation to generation, as, our holy commandments tell us, all good and evil gifts are bestowed; though I should be loth to answer for other people in such a matter. But every story has its two sides; so I ask you, Chingachgook, what passed, according to the traditions of the redmen, when our fathers first met?\" A silence of a minute succeeded, during which the Indian sat mute; then, full of the dignity of his office, he commenced his brief tale, with a solemnity that served to heighten its appearance of truth. \"Listen, Hawkeye, and your ear shall drink no lie. \\\\\\\\\\\\\\\\\\\\\\\\\\\\\\'Tis what my fathers have said, and what the Mohicans have done.\" He hesitated a single instant, and bending a cautious glance toward his companion, he continued, in a manner that was divided\\\\\\\\\\\\\\'] [/INST] The text is a conversation between Natty Bumppo, also known as Hawkeye, and Chingachgook, an Native American. Hawkeye expresses his pride in his shooting skills, believing it to be a inherited talent from his ancestors. He then asks Chingachgook about the first encounter between their peoples. After a moment of silence, Chingachgook begins to recount the traditional Native American version of the encounter with solemnity and dignity.</s>   \\\\\\', \\\\\\'<s>    [INST] summarize this text : [\\\\\\\\\\\\\\'between interrogation and assertion, \"Does not this stream at our feet run towards the summer, until its waters grow salt, and the current flows upward?\" \"It can\\\\\\\\\\\\\\\\\\\\\\\\\\\\\\'t be denied that your traditions tell you true in both these matters,\" said the white man; \"for I have been there, and have seen them; though, why water, which is so sweet in the shade, should become bitter in the sun, is an alteration for which I have never been able to account.\" \"And the current!\" demanded the Indian, who expected his reply with that sort of interest that a man feels in the confirmation of testimony, at which he marvels even while he respects it; \"the fathers of Chingachgook have not lied!\" \"The Holy Bible is not more true, and that is the truest thing in nature. They call this up-stream current the tide, which is a thing soon explained, and clear enough. Six hours the waters run in, and six hours they run out, and the reason is this: when there is higher water in the sea than in the river, they run in, until\\\\\\\\\\\\\\'] [/INST] The text is a conversation between a white man and an Indian, discussing the direction of a stream and the concept of tidal waters. The white man wonders why a sweet-tasting stream turns salty and seems to flow upward during summer. The Indian, whose traditions state that the water\\\\\\\\\\\\\\'s source is in the summer, confirms that this is true according to their beliefs. The white man, who has seen this phenomenon firsthand, can\\\\\\\\\\\\\\'t explain the reason for it. The Indian then asks about the upstream current, noting that it is described in their traditions as the \"tide,\" and the white man explains that this is the way tidal waters work – six hours coming in and six hours going out due to differences in water levels between the sea and the river.</s>   \\\\\\'] [/INST] In the text, a white man and an Indian engage in a conversation about the natural phenomena of a salty stream and an upstream current. The white man expresses his confusion about why the sweet-tasting stream turns salty during summer and seems to flow upward, while the Indian confirms that, according to their traditions, the water comes from the summer. The white man explains the occurrence as a tidal phenomenon, where seawater flows into the river for six hours and recedes for another six hours due to differences in water levels between the sea and the river. The Indian confirms that their traditions also tell of this \"tide\" and holds it as true.</s>  \\'] [/INST] The text describes a conversation between a white man and an Indian regarding the phenomenon of a stream that appears to flow upward during the summer, bringing up the topic of traditions and their accuracy. The white man expresses his confusion about the salty water and the Indian confirms that, according to their traditions, the water comes from the summer. The white man explains the phenomenon as tides, where water flows in and out in a 12-hour cycle due to differences in water levels between the sea and the river, and the Indian agrees that their traditions speak of this \"tide.\" The conversation confirms the differing perspectives and traditions of the white and Native American communities.</s> '] ['<s>  [INST] summarize this text : [\\'<s>   [INST] summarize this text : [\\\\\\'<s>    [INST] summarize this text : [\\\\\\\\\\\\\\'the river gets to be highest, and then it runs out again.\" \"The waters in the woods, and on the great lakes, run downward until they lie like my hand,\" said the Indian, stretching the limb horizontally before him, \"and then they run no more.\" \"No honest man will deny it,\" said the scout, a little nettled at the implied distrust of his explanation of the mystery of the tides; \"and I grant that it is true on the small scale, and where the land is level. But everything depends on what scale you look at things. Now, on the small scale, the \\\\\\\\\\\\\\\\\\\\\\\\\\\\\\'arth is level; but on the large scale it is round. In this manner, pools and ponds, and even the great fresh-water lake, may be stagnant, as you and I both know they are, having seen them; but when you come to spread water over a great tract, like the sea, where the earth is round, how in reason can the water be quiet? You might as well expect the river to lie still on the brink of those black rocks a mile above us, though your own ears tell you that it\\\\\\\\\\\\\\'] [/INST] An Indian described the river\\\\\\\\\\\\\\'s change between being full and running out, comparing it to the way water in woods and lakes eventually comes to rest. A scout agreed but pointed out that while water may appear stagnant on a small scale, the Earth is round on a larger scale, causing water to move and be in constant motion, as evidenced by the river\\\\\\\\\\\\\\'s flow.</s>   \\\\\\', \\\\\\'<s>    [INST] summarize this text : [\\\\\\\\\\\\\\'is tumbling over them at this very moment!\" If unsatisfied by the philosophy of his companion, the Indian was far too dignified to betray his unbelief. He listened like one who was convinced, and resumed his narrative in his former solemn manner. \"We came from the place where the sun is hid at night, over great plains where the buffaloes live, until we reached the big river. There we fought the Alligewi, till the ground was red with their blood. From the banks of the big river to the shores of the salt lake, there was none to meet us. The Maquas followed at a distance. We said the country should be ours from the place where the water runs up no longer on this stream, to a river twenty suns\\\\\\\\\\\\\\\\\\\\\\\\\\\\\\' journey toward the summer. The land we had taken like warriors, we kept like men. We drove the Maquas into the woods with the bears. They only tasted salt at the licks; they drew no fish from the great lake; we threw them the bones.\" \"All this I have heard and believe,\" said the white man, observing\\\\\\\\\\\\\\'] [/INST] The text describes a conversation between a white man and an Indian, with the Indian recounting their past victories and conquests. They had traveled from a hidden sun place over buffalo plains to reach a big river, where they fought the Alligewi until the ground was covered in their blood. They then claimed the land from the end of the river to a river twenty suns\\\\\\\\\\\\\\' journeys towards the summer as their own. They drove the Maquas, who only tasted salt from the licks and drew no fish from the lake, into the woods. The white man listened and believed in the Indian\\\\\\\\\\\\\\'s story.</s>   \\\\\\', \\\\\\'<s>    [INST] summarize this text : [\\\\\\\\\\\\\\'that the Indian paused: \"but it was long before the English came into the country.\" \"A pine grew then where this chestnut now stands. The first pale-faces who came among us spoke no English. They came in a large canoe, when my fathers had buried the tomahawk with the redmen around them. Then, Hawkeye,\" he continued, betraying his deep emotion only by permitting his voice to fall to those low, guttural tones, which rendered his language, as spoken at times, so very musical; \"then, Hawkeye, we were one people, and we were happy. The salt lake gave us its fish, the wood its deer, and the air its birds. We took wives who bore us children; we worshipped the Great Spirit; and we kept the Maquas beyond the sound of our songs of triumph!\" \"Know you anything of your own family at that time?\" demanded the white. \"But you are a just man, for an Indian! and, as I suppose you hold their gifts, your fathers must have been brave warriors, and wise men at the council fire.\" \"My tribe is the grandfather\\\\\\\\\\\\\\'] [/INST] The text describes a conversation between an unnamed Indian and an Englishman, with the Indian sharing memories of a time before the English arrived in the country. He recalls that a pine tree once stood where a chestnut now stands, and the first European settlers who arrived spoke no English. The Indians and Europeans lived harmoniously, with the land providing fish, deer, and birds for food. The Indians took wives and had children, worshipped the Great Spirit, and kept other tribes at bay. The Indian does not know if any of his family were alive during that time but acknowledges that their fathers must have been brave warriors and wise leaders. The Indian\\\\\\\\\\\\\\'s tribe is called his grandfather\\\\\\\\\\\\\\'s tribe, and he is recognized as a just man by the Englishman.</s>   \\\\\\'] [/INST] An Indian reminisced about a time before the English arrived in the country when they lived in harmony with nature, the land provided them with food and resources, and they had peaceful relationships with other tribes. The Indian didn\\\\\\'t remember any specific details about his family during that time but acknowledged his ancestors as brave and wise leaders. The Europeans arrived later and spoke no English. The Indian viewed them as just men and respected their bravery.</s>  \\', \\'<s>   [INST] summarize this text : [\\\\\\'<s>    [INST] summarize this text : [\\\\\\\\\\\\\\'of nations, but I am an unmixed man. The blood of chiefs is in my veins, where it must stay forever. The Dutch landed, and gave my people the fire-water; they drank until the heavens and the earth seemed to meet, and they foolishly thought they had found the Great Spirit. Then they parted with their land. Foot by foot, they were driven back from the shores, until I, that am a chief and a sagamore, have never seen the sun shine but through the trees, and have never visited the graves of, my fathers!\" \"Graves bring solemn feelings over the mind,\" returned the scout, a good deal touched at the calm suffering of his companion; \"and they often aid a man in his good intentions; though, for myself, I expect to leave my own bones unburied, to bleach in the woods, or to be torn asunder by the wolves. But where are to be found those of your race who came to their kin in the Delaware country, so many summers since?\" \"Where are the blossoms of those summers!--fallen, one by one: so all of my family\\\\\\\\\\\\\\'] [/INST]The text is a conversation between a Native American chief and a scout. The chief expresses his sadness over the loss of his land to the Dutch settlers, who gave his people alcohol. He considers himself an \"unmixed man\" with chief\\\\\\\\\\\\\\'s blood in his veins. The chief laments the fact that he has never seen the sun without the trees, as he has never visited his father\\\\\\\\\\\\\\'s graves. The scout expresses his own intention to not be buried and instead have his bones bleach in the woods or be torn apart by wolves. The chief then asks the scout about the whereabouts of the Native Americans who came to their kin in the Delaware country many summers ago. The chief then mourns the loss of those summer\\\\\\\\\\\\\\'s blossoms, meaning that all of his family is gone.</s>   \\\\\\', \\\\\\'<s>    [INST] summarize this text : [\\\\\\\\\\\\\\'departed, each in his turn, to the land of spirits. I am on the hill-top, and must go down into the valley; and when Uncas follows in my footsteps, there will no longer be any of the blood of the sagamores, for my boy is the last of the Mohicans.\" \"Uncas is here!\" said another voice, in the same soft, guttural tones, near his elbow; \"who speaks to Uncas?\" The white man loosened his knife in his leathern sheath, and made an involuntary movement of the hand towards his rifle, at this sudden interruption; but the Indian sat composed, and without turning his head at the unexpected sounds. At the next instant, a youthful warrior passed between them, with a noiseless step, and seated himself on the bank of the rapid stream. No exclamation of surprise escaped the father, nor was any question asked, or reply given, for several minutes; each appearing to await the moment when he might speak, without betraying womanish curiosity or childish impatience. The white man seemed to take counsel from their\\\\\\\\\\\\\\'] [/INST] The text describes a white man, believed to be the last Mohican, on a hilltop lamenting that all members of the Mohican tribe, including himself and his son Uncas, will soon be deceased. Uncas appears, and they remain quiet and composed, each awaiting the right moment to speak without showing curiosity or impatience. The white man seems to be contemplating their situation. An earlier voice had suggested that Uncas was there and asked who spoke to him, but there is no further mention of this voice or person.</s>   \\\\\\', \\\\\\'<s>    [INST] summarize this text : [\\\\\\\\\\\\\\'customs, and, relinquishing his grasp of the rifle, he also remained silent and reserved. At length Chingachgook turned his eyes slowly towards his son, and demanded,-- \"Do the Maquas dare to leave the print of their moccasins in these woods?\" \"I have been on their trail,\" replied the young Indian, \"and know that they number as many as the fingers of my two hands; but they lie hid, like cowards.\" \"The thieves are outlying for scalps and plunder!\" said the white man, whom we shall call Hawkeye, after the manner of his companions. \"That bushy Frenchman, Montcalm, will send his spies into our very camp, but he will know what road we travel!\" \"Tis enough!\" returned the father, glancing his eye towards the setting sun; \"they shall be driven like deer from their bushes. Hawkeye, let us eat to-night, and show the Maquas that we are men to-morrow.\" \"I am as ready to do the one as the other; but to fight the Iroquois \\\\\\\\\\\\\\\\\\\\\\\\\\\\\\'tis necessary to find the skulkers; and to eat, \\\\\\\\\\\\\\\\\\\\\\\\\\\\\\'tis necessary to get the game--talk\\\\\\\\\\\\\\'] [/INST] The text describes a conversation between Native American father Chingachgook, his son, and a white man named Hawkeye. The Native Americans are discussing the presence of their Iroquois (Maquas) enemies in the woods. The son has been tracking the Maquas and reports that they are hiding and number around ten. Hawkeye agrees that the Maquas are lying in wait and warns that their French commander, Montcalm, will send spies to their camp. Chingachgook decides to confront the Maquas that night and assures that they will be driven out of their hiding places. The group then plans to eat and rest before the upcoming battle.</s>   \\\\\\'] [/INST] The text is about a conversation between Native American father Chingachgook, his son, and a white man named Hawkeye. They are discussing their plans to deal with their Iroquois (Maquas) enemies. The son reports that the Maquas are hiding and number around ten. Hawkeye warns that the Maquas have a French commander, Montcalm, who will send spies to their camp. Chingachgook plans to confront the Maquas that night and assures that they will be driven out of their hiding places. They make plans to eat and rest before the upcoming battle. Hawkeye points out that finding the Maquas and getting food are necessary for both fighting and survival.</s>  \\', \\'<s>   [INST] summarize this text : [\\\\\\'<s>    [INST] summarize this text : [\\\\\\\\\\\\\\'of the devil and he will come; there is a pair of the biggest antlers I have seen this season, moving the bushes below the hill! Now, Uncas,\" he continued in a half whisper, and laughing with a kind of inward sound, like one who had learnt to be watchful, \"I will bet my charger three times full of powder, against a foot of wampum, that I take him atwixt the eyes, and nearer to the right than to the left.\" \"It cannot be!\" said the young Indian, springing to his feet with youthful eagerness; \"all but the tips of his horns are hid!\" \"He\\\\\\\\\\\\\\\\\\\\\\\\\\\\\\'s a boy!\" said the white man, shaking his head while he spoke, and addressing the father. \"Does he think when a hunter sees a part of the creatur\\\\\\\\\\\\\\\\\\\\\\\\\\\\\\', he can\\\\\\\\\\\\\\\\\\\\\\\\\\\\\\'t tell where the rest of him should be!\" [Illustration: _Copyright by Charles Scribner\\\\\\\\\\\\\\\\\\\\\\\\\\\\\\'s Sons_ UNCAS SLAYS A DEER _Avoiding the horns of the infuriated animal, Uncas darted to his side, and passed his knife across the throat_] Adjusting his rifle, he was about to make an exhibition of that skill, on which\\\\\\\\\\\\\\'] [/INST] The text describes a scene where a white man and an Indian named Uncas are hunting. The white man has spotted a deer with large antlers and makes a bet with Uncas that he can shoot it between the eyes, closer to the right side. Uncas is skeptical because only the tips of the deer\\\\\\\\\\\\\\'s antlers are visible. The white man then mockingly suggests that Uncas is inexperienced for not being able to determine the deer\\\\\\\\\\\\\\'s full location based on the visible part. Uncas then swiftly approaches the deer and successfully slaughters it, avoiding its horns. The text ends with the white man preparing to show off his shooting skills.</s>   \\\\\\', \\\\\\'<s>    [INST] summarize this text : [\\\\\\\\\\\\\\'he so much valued himself, when the warrior struck up the piece with his hand, saying-- \"Hawkeye! will you fight the Maquas?\" \"These Indians know the nature of the woods, as it might be by instinct!\" returned the scout, dropping his rifle, and turning away like a man who was convinced of his error. \"I must leave the buck to your arrow, Uncas, or we may kill a deer for them thieves, the Iroquois, to eat.\" The instant the father seconded this intimation by an expressive gesture of the hand, Uncas threw himself on the ground, and approached the animal with wary movements. When within a few yards of the cover, he fitted an arrow to his bow with the utmost care, while the antlers moved, as if their owner snuffed an enemy in the tainted air. In another moment the twang of the cord was heard, a white streak was seen glancing into the bushes, and the wounded buck plunged from the cover, to the very feet of his hidden enemy. Avoiding the horns of the infuriated animal, Uncas darted to his side,\\\\\\\\\\\\\\'] [/INST] The text describes a scene where Hawkeye, also known as the scout, values his own skills and decides not to fight the Maquas (Iroquois) Indians, despite the warrior calling him out. Uncas, Hawkeye\\\\\\\\\\\\\\'s adopted Native American son, takes his place and successfully wounds a deer with his arrow, preventing the Iroquois from eating it. Uncas cautiously approaches the deer, carefully fitting an arrow to his bow and avoiding the animal\\\\\\\\\\\\\\'s horns once it\\\\\\\\\\\\\\'s wounded.</s>   \\\\\\', \\\\\\'<s>    [INST] summarize this text : [\\\\\\\\\\\\\\'and passed his knife across the throat, when bounding to the edge of the river it fell, dyeing the waters with its blood. \"\\\\\\\\\\\\\\\\\\\\\\\\\\\\\\'Twas done with Indian skill,\" said the scout, laughing inwardly, but with vast satisfaction; \"and \\\\\\\\\\\\\\\\\\\\\\\\\\\\\\'twas a pretty sight to behold! Though an arrow is a near shot, and needs a knife to finish the work.\" \"Hugh!\" ejaculated his companion, turning quickly, like a hound who scented game. \"By the Lord, there is a drove of them!\" exclaimed the scout, whose eyes began to glisten with the ardor of his usual occupation; \"if they come within range of a bullet I will drop one, though the whole Six Nations should be lurking within sound! What do you hear, Chingachgook? for to my ears the woods are dumb.\" \"There is but one deer, and he is dead,\" said the Indian, bending his body till his ear nearly touched the earth. \"I hear the sounds of feet!\" \"Perhaps the wolves have driven the buck to shelter, and are following on his trail.\" \"No. The horses of white men are coming!\" returned\\\\\\\\\\\\\\'] [/INST] The text describes a scene where a native American scout named Hugh kills an enemy with his knife by the river, resulting in the water turning red with his blood.His companion, surprised, hears the sounds of approaching horses and realizes that white men are near. The Indian, Chingachgook, identifies the sound and confirms that it is indeed horses belonging to white men.</s>   \\\\\\'] [/INST] The text summarizes a moment during a hunting trip where a native American scout, named Hugh, kills a deer and finishes it off with his knife. Suddenly, they hear the sounds of approaching horses and realize white men are near. Chingachgook, the Indian companion, confirms this identification.</s>  \\'] [/INST] The text describes a hunting trip where a native American scout named Hugh kills a deer and finishes it off with his knife. They hear horses approaching, realizing that white men are near. Chingachgook, their native American companion, confirms this identification.</s> '] ['<s>  [INST] summarize this text : [\\'<s>   [INST] summarize this text : [\\\\\\'<s>    [INST] summarize this text : [\\\\\\\\\\\\\\'the other, raising himself with dignity, and resuming his seat on the log with his former composure. \"Hawkeye, they are your brothers; speak to them.\" \"That will I, and in English that the king needn\\\\\\\\\\\\\\\\\\\\\\\\\\\\\\'t be ashamed to answer,\" returned the hunter, speaking in the language of which he boasted; \"but I see nothing, nor do I hear the sounds of man or beast; \\\\\\\\\\\\\\\\\\\\\\\\\\\\\\'tis strange that an Indian should understand white sounds better than a man who, his very enemies will own, has no cross in his blood, although he may have lived with the redskins long enough to be suspected! Ha! there goes something like the cracking of a dry stick, too--now I hear the bushes move--yes, yes, there is a trampling that I mistook for the falls--and--but here they come themselves; God keep them from the Iroquois!\"\\\\\\\\\\\\\\'] [/INST] The text describes a situation where Hawkeye, a white man who has lived among the Native Americans for a long time, encounters a group of Native Americans. The Native Americans, who speak in their own language, approach Hawkeye, and he recognizes them as his \"brothers.\" Hawkeye advises them to speak in English so that the King, presumably a white leader, won\\\\\\\\\\\\\\'t be ashamed. Hawkeye is puzzled that he can understand Native American sounds better than the Native Americans can understand white sounds. He hears signs of their approach and warns them of potential danger from their enemies, the Iroquois.</s>   \\\\\\'] [/INST] This text is about Hawkeye, a white man who has lived among the Native Americans, interacting with a group of Native Americans. Hawkeye recognizes them as his brothers and advises them to speak in English to the white leader. He finds it strange that he can understand Native American sounds better than they can understand white sounds and hearing them approach, warns them of possible danger from their enemies, the Iroquois.</s>  \\'] [/INST] The text depicts a scene where Hawkeye, a white man, encounters a group of Native Americans. Hawkeye addresses the Native Americans as his brothers and suggests they speak English to communicate with the white leader. Hawkeye is surprised that he can discern Native American sounds more easily than the Native Americans can understand white sounds. He listens for signs of their approach and believes he hears them coming, warning them of potential danger from the Iroquois.</s> ']  [/INST] The text describes Hawkeye, a white man, recognizing a group of Native Americans as his \"brothers\" due to his long time living among them. He advises them to communicate in English to their leader, explaining that this would prevent any embarrassment. Hawkeye ponders over how he can understand Native American sounds better than they understand white sounds. He hears signs of their approach and warns them of potential danger from their enemies, the Iroquois. The text ends with Hawkeye expressing uncertainty, suggesting that the sounds he heard could have also been caused by something other than people or animals.</s>\n"
     ]
    }
   ],
   "source": [
    "# Résumez les résumés\n",
    "final_summary = summarize_summaries(segment_summaries_3)\n",
    "\n",
    "print(final_summary)"
   ],
   "metadata": {
    "collapsed": false,
    "ExecuteTime": {
     "end_time": "2024-05-13T21:16:10.334418800Z",
     "start_time": "2024-05-13T21:12:55.716766500Z"
    }
   },
   "id": "a69753b25d8164fc"
  },
  {
   "cell_type": "code",
   "execution_count": 49,
   "outputs": [
    {
     "name": "stdout",
     "output_type": "stream",
     "text": [
      "\n",
      "  \"Before these fields were shorn and tilled,\n",
      "    Full to the brim our rivers flowed;\n",
      "  The melody of waters filled\n",
      "    The fresh and boundless wood;\n",
      "  And torrents dashed, and rivulets played,\n",
      "    And fountains spouted in the shade.\"\n",
      "\n",
      "  BRYANT.\n",
      "\n",
      "\n",
      "Leaving the unsuspecting Heyward and his confiding companions to\n",
      "penetrate still deeper into a forest that contained such treacherous\n",
      "inmates, we must use an author's privilege, and shift the scene a few\n",
      "miles to the westward of the place where we have last seen them.\n",
      "\n",
      "On that day, two men were lingering on the banks of a small but rapid\n",
      "stream, within an hour's journey of the encampment of Webb, like those\n",
      "who awaited the appearance of an absent person, or the approach of some\n",
      "expected event. The vast canopy of woods spread itself to the margin of\n",
      "the river overhanging the water, and shadowing its dark current with a\n",
      "deeper hue. The rays of the sun were beginning to grow less fierce, and\n",
      "the intense heat of the day was lessened, as the cooler vapors of the\n",
      "springs and fountains rose above their leafy beds, and rested in the\n",
      "atmosphere. Still that breathing silence, which marks the drowsy\n",
      "sultriness of an American landscape in July, pervaded the secluded spot,\n",
      "interrupted only by the low voices of the men, the occasional and lazy\n",
      "tap of a woodpecker, the discordant cry of some gaudy jay, or a swelling\n",
      "on the ear, from the dull roar of a distant waterfall.\n",
      "\n",
      "These feeble and broken sounds were, however, too familiar to the\n",
      "foresters, to draw their attention from the more interesting matter of\n",
      "their dialogue. While one of these loiterers showed the red skin and\n",
      "wild accoutrements of a native of the woods, the other exhibited,\n",
      "through the mask of his rude and nearly savage equipments, the brighter,\n",
      "though sunburnt and long-faded complexion of one who might claim descent\n",
      "from a European parentage. The former was seated on the end of a mossy\n",
      "log, in a posture that permitted him to heighten the effect of his\n",
      "earnest language, by the calm but expressive gestures of an Indian\n",
      "engaged in debate. His body, which was nearly naked, presented a\n",
      "terrific emblem of death, drawn in intermingled colors of white and\n",
      "black. His closely shaved head, on which no other hair than the well\n",
      "known and chivalrous scalping tuft[5] was preserved, was without\n",
      "ornament of any kind, with the exception of a solitary eagle's plume,\n",
      "that crossed his crown, and depended over the left shoulder. A tomahawk\n",
      "and scalping-knife, of English manufacture, were in his girdle; while a\n",
      "short military rifle, of that sort with which the policy of the whites\n",
      "armed their savage allies, lay carelessly across his bare and sinewy\n",
      "knee. The expanded chest, full formed limbs, and grave countenance of\n",
      "this warrior, would denote that he had reached the vigor of his days,\n",
      "though no symptoms of decay appeared to have yet weakened his manhood.\n",
      "\n",
      "The frame of the white man, judging by such parts as were not concealed\n",
      "by his clothes, was like that of one who had known hardships and\n",
      "exertion from his earliest youth. His person, though muscular, was\n",
      "rather attenuated than full; but every nerve and muscle appeared strung\n",
      "and indurated by unremitted exposure and toil. He wore a hunting-shirt\n",
      "of forest green, fringed with faded yellow[6], and a summer cap of skins\n",
      "which had been shorn of their fur. He also bore a knife in a girdle of\n",
      "wampum, like that which confined the scanty garments of the Indian, but\n",
      "no tomahawk. His moccasins were ornamented after the gay fashion of the\n",
      "natives, while the only part of his under-dress which appeared below the\n",
      "hunting-frock, was a pair of buckskin leggings, that laced at the sides,\n",
      "and which were gartered above the knees with the sinews of a deer. A\n",
      "pouch and horn completed his personal accoutrements, though a rifle of\n",
      "great length[7], which the theory of the more ingenious whites had\n",
      "taught them was the most dangerous of all fire-arms, leaned against a\n",
      "neighboring sapling. The eye of the hunter, or scout, whichever he might\n",
      "be, was small, quick, keen, and restless, roving while he spoke, on\n",
      "every side of him, as if in quest of game, or distrusting the sudden\n",
      "approach of some lurking enemy. Notwithstanding the symptoms of habitual\n",
      "suspicion, his countenance was not only without guile, but at the moment\n",
      "at which he is introduced, it was charged with an expression of sturdy\n",
      "honesty.\n",
      "\n",
      "\"Even your traditions make the case in my favor, Chingachgook,\" he said,\n",
      "speaking in the tongue which was known to all the natives who formerly\n",
      "inhabited the country between the Hudson and the Potomac, and of which\n",
      "we shall give a free translation for the benefit of the reader;\n",
      "endeavoring, at the same time, to preserve some of the peculiarities,\n",
      "both of the individual and of the language. \"Your fathers came from the\n",
      "setting sun, crossed the big river,[8] fought the people of the country,\n",
      "and took the land; and mine came from the red sky of the morning, over\n",
      "the salt lake, and did their work much after the fashion that had been\n",
      "set them by yours; then let God judge the matter between us, and friends\n",
      "spare their words!\"\n",
      "\n",
      "\"My fathers fought with the naked redmen!\" returned the Indian sternly,\n",
      "in the same language. \"Is there no difference, Hawkeye, between the\n",
      "stone-headed arrow of the warrior, and the leaden bullet with which you\n",
      "kill?\"\n",
      "\n",
      "\"There is reason in an Indian, though nature has made him with a red\n",
      "skin!\" said the white man, shaking his head like one on whom such an\n",
      "appeal to his justice was not thrown away. For a moment he appeared to\n",
      "be conscious of having the worst of the argument, then, rallying again,\n",
      "he answered the objection of his antagonist in the best manner his\n",
      "limited information would allow: \"I am no scholar, and I care not who\n",
      "knows it; but judging from what I have seen, at deer chases and squirrel\n",
      "hunts, of the sparks below, I should think a rifle in the hands of their\n",
      "grandfathers was not so dangerous as a hickory bow and a good flint-head\n",
      "might be, if drawn with Indian judgment, and sent by an Indian eye.\"\n",
      "\n",
      "\"You have the story told by your fathers,\" returned the other, coldly\n",
      "waving his hand. \"What say your old men? do they tell the young\n",
      "warriors, that the pale-faces met the redmen, painted for war and armed\n",
      "with the stone hatchet and wooden gun?\"\n",
      "\n",
      "\"I am not a prejudiced man, nor one who vaunts himself on his natural\n",
      "privileges, though the worst enemy I have on earth, and he is an\n",
      "Iroquois, daren't deny that I am genuine white,\" the scout replied,\n",
      "surveying, with secret satisfaction, the faded color of his bony and\n",
      "sinewy hand; \"and I am willing to own that my people have many ways, of\n",
      "which, as an honest man, I can't approve. It is one of their customs to\n",
      "write in books what they have done and seen, instead of telling them in\n",
      "their villages, where the lie can be given to the face of a cowardly\n",
      "boaster, and the brave soldier can call on his comrades to witness for\n",
      "the truth of his words. In consequence of this bad fashion, a man who is\n",
      "too conscientious to misspend his days among the women, in learning the\n",
      "names of black marks, may never hear of the deeds of his fathers, nor\n",
      "feel a pride in striving to outdo them. For myself, I conclude the\n",
      "Bumppos could shoot, for I have a natural turn with a rifle, which must\n",
      "have been handed down from generation to generation, as, our holy\n",
      "commandments tell us, all good and evil gifts are bestowed; though I\n",
      "should be loth to answer for other people in such a matter. But every\n",
      "story has its two sides; so I ask you, Chingachgook, what passed,\n",
      "according to the traditions of the redmen, when our fathers first met?\"\n",
      "\n",
      "A silence of a minute succeeded, during which the Indian sat mute; then,\n",
      "full of the dignity of his office, he commenced his brief tale, with a\n",
      "solemnity that served to heighten its appearance of truth.\n",
      "\n",
      "\"Listen, Hawkeye, and your ear shall drink no lie. 'Tis what my fathers\n",
      "have said, and what the Mohicans have done.\" He hesitated a single\n",
      "instant, and bending a cautious glance toward his companion, he\n",
      "continued, in a manner that was divided between interrogation and\n",
      "assertion, \"Does not this stream at our feet run towards the summer,\n",
      "until its waters grow salt, and the current flows upward?\"\n",
      "\n",
      "\"It can't be denied that your traditions tell you true in both these\n",
      "matters,\" said the white man; \"for I have been there, and have seen\n",
      "them; though, why water, which is so sweet in the shade, should become\n",
      "bitter in the sun, is an alteration for which I have never been able to\n",
      "account.\"\n",
      "\n",
      "\"And the current!\" demanded the Indian, who expected his reply with that\n",
      "sort of interest that a man feels in the confirmation of testimony, at\n",
      "which he marvels even while he respects it; \"the fathers of Chingachgook\n",
      "have not lied!\"\n",
      "\n",
      "\"The Holy Bible is not more true, and that is the truest thing in\n",
      "nature. They call this up-stream current the tide, which is a thing soon\n",
      "explained, and clear enough. Six hours the waters run in, and six hours\n",
      "they run out, and the reason is this: when there is higher water in the\n",
      "sea than in the river, they run in, until the river gets to be highest,\n",
      "and then it runs out again.\"\n",
      "\n",
      "\"The waters in the woods, and on the great lakes, run downward until\n",
      "they lie like my hand,\" said the Indian, stretching the limb\n",
      "horizontally before him, \"and then they run no more.\"\n",
      "\n",
      "\"No honest man will deny it,\" said the scout, a little nettled at the\n",
      "implied distrust of his explanation of the mystery of the tides; \"and I\n",
      "grant that it is true on the small scale, and where the land is level.\n",
      "But everything depends on what scale you look at things. Now, on the\n",
      "small scale, the 'arth is level; but on the large scale it is round. In\n",
      "this manner, pools and ponds, and even the great fresh-water lake, may\n",
      "be stagnant, as you and I both know they are, having seen them; but when\n",
      "you come to spread water over a great tract, like the sea, where the\n",
      "earth is round, how in reason can the water be quiet? You might as well\n",
      "expect the river to lie still on the brink of those black rocks a mile\n",
      "above us, though your own ears tell you that it is tumbling over them at\n",
      "this very moment!\"\n",
      "\n",
      "If unsatisfied by the philosophy of his companion, the Indian was far\n",
      "too dignified to betray his unbelief. He listened like one who was\n",
      "convinced, and resumed his narrative in his former solemn manner.\n",
      "\n",
      "\"We came from the place where the sun is hid at night, over great plains\n",
      "where the buffaloes live, until we reached the big river. There we\n",
      "fought the Alligewi, till the ground was red with their blood. From the\n",
      "banks of the big river to the shores of the salt lake, there was none to\n",
      "meet us. The Maquas followed at a distance. We said the country should\n",
      "be ours from the place where the water runs up no longer on this stream,\n",
      "to a river twenty suns' journey toward the summer. The land we had taken\n",
      "like warriors, we kept like men. We drove the Maquas into the woods with\n",
      "the bears. They only tasted salt at the licks; they drew no fish from\n",
      "the great lake; we threw them the bones.\"\n",
      "\n",
      "\"All this I have heard and believe,\" said the white man, observing that\n",
      "the Indian paused: \"but it was long before the English came into the\n",
      "country.\"\n",
      "\n",
      "\"A pine grew then where this chestnut now stands. The first pale-faces\n",
      "who came among us spoke no English. They came in a large canoe, when my\n",
      "fathers had buried the tomahawk with the redmen around them. Then,\n",
      "Hawkeye,\" he continued, betraying his deep emotion only by permitting\n",
      "his voice to fall to those low, guttural tones, which rendered his\n",
      "language, as spoken at times, so very musical; \"then, Hawkeye, we were\n",
      "one people, and we were happy. The salt lake gave us its fish, the wood\n",
      "its deer, and the air its birds. We took wives who bore us children; we\n",
      "worshipped the Great Spirit; and we kept the Maquas beyond the sound of\n",
      "our songs of triumph!\"\n",
      "\n",
      "\"Know you anything of your own family at that time?\" demanded the white.\n",
      "\"But you are a just man, for an Indian! and, as I suppose you hold their\n",
      "gifts, your fathers must have been brave warriors, and wise men at the\n",
      "council fire.\"\n",
      "\n",
      "\"My tribe is the grandfather of nations, but I am an unmixed man. The\n",
      "blood of chiefs is in my veins, where it must stay forever. The Dutch\n",
      "landed, and gave my people the fire-water; they drank until the heavens\n",
      "and the earth seemed to meet, and they foolishly thought they had found\n",
      "the Great Spirit. Then they parted with their land. Foot by foot, they\n",
      "were driven back from the shores, until I, that am a chief and a\n",
      "sagamore, have never seen the sun shine but through the trees, and have\n",
      "never visited the graves of, my fathers!\"\n",
      "\n",
      "\"Graves bring solemn feelings over the mind,\" returned the scout, a good\n",
      "deal touched at the calm suffering of his companion; \"and they often aid\n",
      "a man in his good intentions; though, for myself, I expect to leave my\n",
      "own bones unburied, to bleach in the woods, or to be torn asunder by the\n",
      "wolves. But where are to be found those of your race who came to their\n",
      "kin in the Delaware country, so many summers since?\"\n",
      "\n",
      "\"Where are the blossoms of those summers!--fallen, one by one: so all of\n",
      "my family departed, each in his turn, to the land of spirits. I am on\n",
      "the hill-top, and must go down into the valley; and when Uncas follows\n",
      "in my footsteps, there will no longer be any of the blood of the\n",
      "sagamores, for my boy is the last of the Mohicans.\"\n",
      "\n",
      "\"Uncas is here!\" said another voice, in the same soft, guttural tones,\n",
      "near his elbow; \"who speaks to Uncas?\"\n",
      "\n",
      "The white man loosened his knife in his leathern sheath, and made an\n",
      "involuntary movement of the hand towards his rifle, at this sudden\n",
      "interruption; but the Indian sat composed, and without turning his head\n",
      "at the unexpected sounds.\n",
      "\n",
      "At the next instant, a youthful warrior passed between them, with a\n",
      "noiseless step, and seated himself on the bank of the rapid stream. No\n",
      "exclamation of surprise escaped the father, nor was any question asked,\n",
      "or reply given, for several minutes; each appearing to await the moment\n",
      "when he might speak, without betraying womanish curiosity or childish\n",
      "impatience. The white man seemed to take counsel from their customs,\n",
      "and, relinquishing his grasp of the rifle, he also remained silent and\n",
      "reserved. At length Chingachgook turned his eyes slowly towards his son,\n",
      "and demanded,--\n",
      "\n",
      "\"Do the Maquas dare to leave the print of their moccasins in these\n",
      "woods?\"\n",
      "\n",
      "\"I have been on their trail,\" replied the young Indian, \"and know that\n",
      "they number as many as the fingers of my two hands; but they lie hid,\n",
      "like cowards.\"\n",
      "\n",
      "\"The thieves are outlying for scalps and plunder!\" said the white man,\n",
      "whom we shall call Hawkeye, after the manner of his companions. \"That\n",
      "bushy Frenchman, Montcalm, will send his spies into our very camp, but\n",
      "he will know what road we travel!\"\n",
      "\n",
      "\"Tis enough!\" returned the father, glancing his eye towards the setting\n",
      "sun; \"they shall be driven like deer from their bushes. Hawkeye, let us\n",
      "eat to-night, and show the Maquas that we are men to-morrow.\"\n",
      "\n",
      "\"I am as ready to do the one as the other; but to fight the Iroquois\n",
      "'tis necessary to find the skulkers; and to eat, 'tis necessary to get\n",
      "the game--talk of the devil and he will come; there is a pair of the\n",
      "biggest antlers I have seen this season, moving the bushes below the\n",
      "hill! Now, Uncas,\" he continued in a half whisper, and laughing with a\n",
      "kind of inward sound, like one who had learnt to be watchful, \"I will\n",
      "bet my charger three times full of powder, against a foot of wampum,\n",
      "that I take him atwixt the eyes, and nearer to the right than to the\n",
      "left.\"\n",
      "\n",
      "\"It cannot be!\" said the young Indian, springing to his feet with\n",
      "youthful eagerness; \"all but the tips of his horns are hid!\"\n",
      "\n",
      "\"He's a boy!\" said the white man, shaking his head while he spoke, and\n",
      "addressing the father. \"Does he think when a hunter sees a part of the\n",
      "creatur', he can't tell where the rest of him should be!\"\n",
      "\n",
      "[Illustration: _Copyright by Charles Scribner's Sons_\n",
      "\n",
      "UNCAS SLAYS A DEER\n",
      "\n",
      "_Avoiding the horns of the infuriated animal, Uncas darted to his side,\n",
      "and passed his knife across the throat_]\n",
      "\n",
      "Adjusting his rifle, he was about to make an exhibition of that skill,\n",
      "on which he so much valued himself, when the warrior struck up the piece\n",
      "with his hand, saying--\n",
      "\n",
      "\"Hawkeye! will you fight the Maquas?\"\n",
      "\n",
      "\"These Indians know the nature of the woods, as it might be by\n",
      "instinct!\" returned the scout, dropping his rifle, and turning away like\n",
      "a man who was convinced of his error. \"I must leave the buck to your\n",
      "arrow, Uncas, or we may kill a deer for them thieves, the Iroquois, to\n",
      "eat.\"\n",
      "\n",
      "The instant the father seconded this intimation by an expressive gesture\n",
      "of the hand, Uncas threw himself on the ground, and approached the\n",
      "animal with wary movements. When within a few yards of the cover, he\n",
      "fitted an arrow to his bow with the utmost care, while the antlers\n",
      "moved, as if their owner snuffed an enemy in the tainted air. In another\n",
      "moment the twang of the cord was heard, a white streak was seen glancing\n",
      "into the bushes, and the wounded buck plunged from the cover, to the\n",
      "very feet of his hidden enemy. Avoiding the horns of the infuriated\n",
      "animal, Uncas darted to his side, and passed his knife across the\n",
      "throat, when bounding to the edge of the river it fell, dyeing the\n",
      "waters with its blood.\n",
      "\n",
      "\"'Twas done with Indian skill,\" said the scout, laughing inwardly, but\n",
      "with vast satisfaction; \"and 'twas a pretty sight to behold! Though an\n",
      "arrow is a near shot, and needs a knife to finish the work.\"\n",
      "\n",
      "\"Hugh!\" ejaculated his companion, turning quickly, like a hound who\n",
      "scented game.\n",
      "\n",
      "\"By the Lord, there is a drove of them!\" exclaimed the scout, whose eyes\n",
      "began to glisten with the ardor of his usual occupation; \"if they come\n",
      "within range of a bullet I will drop one, though the whole Six Nations\n",
      "should be lurking within sound! What do you hear, Chingachgook? for to\n",
      "my ears the woods are dumb.\"\n",
      "\n",
      "\"There is but one deer, and he is dead,\" said the Indian, bending his\n",
      "body till his ear nearly touched the earth. \"I hear the sounds of feet!\"\n",
      "\n",
      "\"Perhaps the wolves have driven the buck to shelter, and are following\n",
      "on his trail.\"\n",
      "\n",
      "\"No. The horses of white men are coming!\" returned the other, raising\n",
      "himself with dignity, and resuming his seat on the log with his former\n",
      "composure. \"Hawkeye, they are your brothers; speak to them.\"\n",
      "\n",
      "\"That will I, and in English that the king needn't be ashamed to\n",
      "answer,\" returned the hunter, speaking in the language of which he\n",
      "boasted; \"but I see nothing, nor do I hear the sounds of man or beast;\n",
      "'tis strange that an Indian should understand white sounds better than a\n",
      "man who, his very enemies will own, has no cross in his blood, although\n",
      "he may have lived with the redskins long enough to be suspected! Ha!\n",
      "there goes something like the cracking of a dry stick, too--now I hear\n",
      "the bushes move--yes, yes, there is a trampling that I mistook for the\n",
      "falls--and--but here they come themselves; God keep them from the\n",
      "Iroquois!\"\n",
      "\n",
      "\n",
      "\n"
     ]
    }
   ],
   "source": [
    "print(long_text)"
   ],
   "metadata": {
    "collapsed": false,
    "ExecuteTime": {
     "end_time": "2024-05-13T21:16:10.337567500Z",
     "start_time": "2024-05-13T21:16:10.334418800Z"
    }
   },
   "id": "d2a4e7e5aff1a41"
  },
  {
   "cell_type": "code",
   "execution_count": null,
   "outputs": [],
   "source": [],
   "metadata": {
    "collapsed": false
   },
   "id": "e99b344ec8f67013"
  }
 ],
 "metadata": {
  "kernelspec": {
   "display_name": "Python 3",
   "language": "python",
   "name": "python3"
  },
  "language_info": {
   "codemirror_mode": {
    "name": "ipython",
    "version": 2
   },
   "file_extension": ".py",
   "mimetype": "text/x-python",
   "name": "python",
   "nbconvert_exporter": "python",
   "pygments_lexer": "ipython2",
   "version": "2.7.6"
  }
 },
 "nbformat": 4,
 "nbformat_minor": 5
}
